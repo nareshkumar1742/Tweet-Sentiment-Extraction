{
  "nbformat": 4,
  "nbformat_minor": 0,
  "metadata": {
    "colab": {
      "provenance": [],
      "collapsed_sections": []
    },
    "kernelspec": {
      "name": "python3",
      "display_name": "Python 3"
    },
    "language_info": {
      "name": "python"
    },
    "accelerator": "GPU",
    "gpuClass": "standard",
    "widgets": {
      "application/vnd.jupyter.widget-state+json": {
        "7e72d9e68dbb456d9a061c82ab82c0a5": {
          "model_module": "@jupyter-widgets/controls",
          "model_name": "HBoxModel",
          "model_module_version": "1.5.0",
          "state": {
            "_dom_classes": [],
            "_model_module": "@jupyter-widgets/controls",
            "_model_module_version": "1.5.0",
            "_model_name": "HBoxModel",
            "_view_count": null,
            "_view_module": "@jupyter-widgets/controls",
            "_view_module_version": "1.5.0",
            "_view_name": "HBoxView",
            "box_style": "",
            "children": [
              "IPY_MODEL_408da984797b408f96804ebb40d8098f",
              "IPY_MODEL_a6335652394347f5b5efaaeb7f7566e0",
              "IPY_MODEL_f427e702d21b41dfa32a8245d60fe874"
            ],
            "layout": "IPY_MODEL_470450b56a764c4d8a5f57d00ff103f9"
          }
        },
        "408da984797b408f96804ebb40d8098f": {
          "model_module": "@jupyter-widgets/controls",
          "model_name": "HTMLModel",
          "model_module_version": "1.5.0",
          "state": {
            "_dom_classes": [],
            "_model_module": "@jupyter-widgets/controls",
            "_model_module_version": "1.5.0",
            "_model_name": "HTMLModel",
            "_view_count": null,
            "_view_module": "@jupyter-widgets/controls",
            "_view_module_version": "1.5.0",
            "_view_name": "HTMLView",
            "description": "",
            "description_tooltip": null,
            "layout": "IPY_MODEL_46c1da070423454e96238f4b15ab89ff",
            "placeholder": "​",
            "style": "IPY_MODEL_dae71eda8ae842359a890402a3c054d2",
            "value": "Downloading: 100%"
          }
        },
        "a6335652394347f5b5efaaeb7f7566e0": {
          "model_module": "@jupyter-widgets/controls",
          "model_name": "FloatProgressModel",
          "model_module_version": "1.5.0",
          "state": {
            "_dom_classes": [],
            "_model_module": "@jupyter-widgets/controls",
            "_model_module_version": "1.5.0",
            "_model_name": "FloatProgressModel",
            "_view_count": null,
            "_view_module": "@jupyter-widgets/controls",
            "_view_module_version": "1.5.0",
            "_view_name": "ProgressView",
            "bar_style": "success",
            "description": "",
            "description_tooltip": null,
            "layout": "IPY_MODEL_00ec16c1736e4cdcb1fc54e97a3135ed",
            "max": 798293,
            "min": 0,
            "orientation": "horizontal",
            "style": "IPY_MODEL_eebd130a9ace47aa940b7e5e9a9fd095",
            "value": 798293
          }
        },
        "f427e702d21b41dfa32a8245d60fe874": {
          "model_module": "@jupyter-widgets/controls",
          "model_name": "HTMLModel",
          "model_module_version": "1.5.0",
          "state": {
            "_dom_classes": [],
            "_model_module": "@jupyter-widgets/controls",
            "_model_module_version": "1.5.0",
            "_model_name": "HTMLModel",
            "_view_count": null,
            "_view_module": "@jupyter-widgets/controls",
            "_view_module_version": "1.5.0",
            "_view_name": "HTMLView",
            "description": "",
            "description_tooltip": null,
            "layout": "IPY_MODEL_d73ca90e546c4a86821523247e15cbf7",
            "placeholder": "​",
            "style": "IPY_MODEL_8d1cf92421154298b152a30bbaef4cdf",
            "value": " 798k/798k [00:01&lt;00:00, 494kB/s]"
          }
        },
        "470450b56a764c4d8a5f57d00ff103f9": {
          "model_module": "@jupyter-widgets/base",
          "model_name": "LayoutModel",
          "model_module_version": "1.2.0",
          "state": {
            "_model_module": "@jupyter-widgets/base",
            "_model_module_version": "1.2.0",
            "_model_name": "LayoutModel",
            "_view_count": null,
            "_view_module": "@jupyter-widgets/base",
            "_view_module_version": "1.2.0",
            "_view_name": "LayoutView",
            "align_content": null,
            "align_items": null,
            "align_self": null,
            "border": null,
            "bottom": null,
            "display": null,
            "flex": null,
            "flex_flow": null,
            "grid_area": null,
            "grid_auto_columns": null,
            "grid_auto_flow": null,
            "grid_auto_rows": null,
            "grid_column": null,
            "grid_gap": null,
            "grid_row": null,
            "grid_template_areas": null,
            "grid_template_columns": null,
            "grid_template_rows": null,
            "height": null,
            "justify_content": null,
            "justify_items": null,
            "left": null,
            "margin": null,
            "max_height": null,
            "max_width": null,
            "min_height": null,
            "min_width": null,
            "object_fit": null,
            "object_position": null,
            "order": null,
            "overflow": null,
            "overflow_x": null,
            "overflow_y": null,
            "padding": null,
            "right": null,
            "top": null,
            "visibility": null,
            "width": null
          }
        },
        "46c1da070423454e96238f4b15ab89ff": {
          "model_module": "@jupyter-widgets/base",
          "model_name": "LayoutModel",
          "model_module_version": "1.2.0",
          "state": {
            "_model_module": "@jupyter-widgets/base",
            "_model_module_version": "1.2.0",
            "_model_name": "LayoutModel",
            "_view_count": null,
            "_view_module": "@jupyter-widgets/base",
            "_view_module_version": "1.2.0",
            "_view_name": "LayoutView",
            "align_content": null,
            "align_items": null,
            "align_self": null,
            "border": null,
            "bottom": null,
            "display": null,
            "flex": null,
            "flex_flow": null,
            "grid_area": null,
            "grid_auto_columns": null,
            "grid_auto_flow": null,
            "grid_auto_rows": null,
            "grid_column": null,
            "grid_gap": null,
            "grid_row": null,
            "grid_template_areas": null,
            "grid_template_columns": null,
            "grid_template_rows": null,
            "height": null,
            "justify_content": null,
            "justify_items": null,
            "left": null,
            "margin": null,
            "max_height": null,
            "max_width": null,
            "min_height": null,
            "min_width": null,
            "object_fit": null,
            "object_position": null,
            "order": null,
            "overflow": null,
            "overflow_x": null,
            "overflow_y": null,
            "padding": null,
            "right": null,
            "top": null,
            "visibility": null,
            "width": null
          }
        },
        "dae71eda8ae842359a890402a3c054d2": {
          "model_module": "@jupyter-widgets/controls",
          "model_name": "DescriptionStyleModel",
          "model_module_version": "1.5.0",
          "state": {
            "_model_module": "@jupyter-widgets/controls",
            "_model_module_version": "1.5.0",
            "_model_name": "DescriptionStyleModel",
            "_view_count": null,
            "_view_module": "@jupyter-widgets/base",
            "_view_module_version": "1.2.0",
            "_view_name": "StyleView",
            "description_width": ""
          }
        },
        "00ec16c1736e4cdcb1fc54e97a3135ed": {
          "model_module": "@jupyter-widgets/base",
          "model_name": "LayoutModel",
          "model_module_version": "1.2.0",
          "state": {
            "_model_module": "@jupyter-widgets/base",
            "_model_module_version": "1.2.0",
            "_model_name": "LayoutModel",
            "_view_count": null,
            "_view_module": "@jupyter-widgets/base",
            "_view_module_version": "1.2.0",
            "_view_name": "LayoutView",
            "align_content": null,
            "align_items": null,
            "align_self": null,
            "border": null,
            "bottom": null,
            "display": null,
            "flex": null,
            "flex_flow": null,
            "grid_area": null,
            "grid_auto_columns": null,
            "grid_auto_flow": null,
            "grid_auto_rows": null,
            "grid_column": null,
            "grid_gap": null,
            "grid_row": null,
            "grid_template_areas": null,
            "grid_template_columns": null,
            "grid_template_rows": null,
            "height": null,
            "justify_content": null,
            "justify_items": null,
            "left": null,
            "margin": null,
            "max_height": null,
            "max_width": null,
            "min_height": null,
            "min_width": null,
            "object_fit": null,
            "object_position": null,
            "order": null,
            "overflow": null,
            "overflow_x": null,
            "overflow_y": null,
            "padding": null,
            "right": null,
            "top": null,
            "visibility": null,
            "width": null
          }
        },
        "eebd130a9ace47aa940b7e5e9a9fd095": {
          "model_module": "@jupyter-widgets/controls",
          "model_name": "ProgressStyleModel",
          "model_module_version": "1.5.0",
          "state": {
            "_model_module": "@jupyter-widgets/controls",
            "_model_module_version": "1.5.0",
            "_model_name": "ProgressStyleModel",
            "_view_count": null,
            "_view_module": "@jupyter-widgets/base",
            "_view_module_version": "1.2.0",
            "_view_name": "StyleView",
            "bar_color": null,
            "description_width": ""
          }
        },
        "d73ca90e546c4a86821523247e15cbf7": {
          "model_module": "@jupyter-widgets/base",
          "model_name": "LayoutModel",
          "model_module_version": "1.2.0",
          "state": {
            "_model_module": "@jupyter-widgets/base",
            "_model_module_version": "1.2.0",
            "_model_name": "LayoutModel",
            "_view_count": null,
            "_view_module": "@jupyter-widgets/base",
            "_view_module_version": "1.2.0",
            "_view_name": "LayoutView",
            "align_content": null,
            "align_items": null,
            "align_self": null,
            "border": null,
            "bottom": null,
            "display": null,
            "flex": null,
            "flex_flow": null,
            "grid_area": null,
            "grid_auto_columns": null,
            "grid_auto_flow": null,
            "grid_auto_rows": null,
            "grid_column": null,
            "grid_gap": null,
            "grid_row": null,
            "grid_template_areas": null,
            "grid_template_columns": null,
            "grid_template_rows": null,
            "height": null,
            "justify_content": null,
            "justify_items": null,
            "left": null,
            "margin": null,
            "max_height": null,
            "max_width": null,
            "min_height": null,
            "min_width": null,
            "object_fit": null,
            "object_position": null,
            "order": null,
            "overflow": null,
            "overflow_x": null,
            "overflow_y": null,
            "padding": null,
            "right": null,
            "top": null,
            "visibility": null,
            "width": null
          }
        },
        "8d1cf92421154298b152a30bbaef4cdf": {
          "model_module": "@jupyter-widgets/controls",
          "model_name": "DescriptionStyleModel",
          "model_module_version": "1.5.0",
          "state": {
            "_model_module": "@jupyter-widgets/controls",
            "_model_module_version": "1.5.0",
            "_model_name": "DescriptionStyleModel",
            "_view_count": null,
            "_view_module": "@jupyter-widgets/base",
            "_view_module_version": "1.2.0",
            "_view_name": "StyleView",
            "description_width": ""
          }
        },
        "2c022fb37a524c7c965f8bf6faaf2845": {
          "model_module": "@jupyter-widgets/controls",
          "model_name": "HBoxModel",
          "model_module_version": "1.5.0",
          "state": {
            "_dom_classes": [],
            "_model_module": "@jupyter-widgets/controls",
            "_model_module_version": "1.5.0",
            "_model_name": "HBoxModel",
            "_view_count": null,
            "_view_module": "@jupyter-widgets/controls",
            "_view_module_version": "1.5.0",
            "_view_name": "HBoxView",
            "box_style": "",
            "children": [
              "IPY_MODEL_c2e94b8b893342b887a2d945525ee1c6",
              "IPY_MODEL_e4d64b617d34482db8e70287c2febc5d",
              "IPY_MODEL_65a683fbfa4d4b20aa20c4d02807771c"
            ],
            "layout": "IPY_MODEL_3531b62ec350451ba0117a49045fc9fb"
          }
        },
        "c2e94b8b893342b887a2d945525ee1c6": {
          "model_module": "@jupyter-widgets/controls",
          "model_name": "HTMLModel",
          "model_module_version": "1.5.0",
          "state": {
            "_dom_classes": [],
            "_model_module": "@jupyter-widgets/controls",
            "_model_module_version": "1.5.0",
            "_model_name": "HTMLModel",
            "_view_count": null,
            "_view_module": "@jupyter-widgets/controls",
            "_view_module_version": "1.5.0",
            "_view_name": "HTMLView",
            "description": "",
            "description_tooltip": null,
            "layout": "IPY_MODEL_24f8fc1954b04cfe961631c64c058c1e",
            "placeholder": "​",
            "style": "IPY_MODEL_98c93966d77f48889b608b32164e6603",
            "value": "Downloading: 100%"
          }
        },
        "e4d64b617d34482db8e70287c2febc5d": {
          "model_module": "@jupyter-widgets/controls",
          "model_name": "FloatProgressModel",
          "model_module_version": "1.5.0",
          "state": {
            "_dom_classes": [],
            "_model_module": "@jupyter-widgets/controls",
            "_model_module_version": "1.5.0",
            "_model_name": "FloatProgressModel",
            "_view_count": null,
            "_view_module": "@jupyter-widgets/controls",
            "_view_module_version": "1.5.0",
            "_view_name": "ProgressView",
            "bar_style": "success",
            "description": "",
            "description_tooltip": null,
            "layout": "IPY_MODEL_09ae36a0b0df44b2a3566823c030960d",
            "max": 456356,
            "min": 0,
            "orientation": "horizontal",
            "style": "IPY_MODEL_1e0f0220e0d64d1da9e4e2f9565849f6",
            "value": 456356
          }
        },
        "65a683fbfa4d4b20aa20c4d02807771c": {
          "model_module": "@jupyter-widgets/controls",
          "model_name": "HTMLModel",
          "model_module_version": "1.5.0",
          "state": {
            "_dom_classes": [],
            "_model_module": "@jupyter-widgets/controls",
            "_model_module_version": "1.5.0",
            "_model_name": "HTMLModel",
            "_view_count": null,
            "_view_module": "@jupyter-widgets/controls",
            "_view_module_version": "1.5.0",
            "_view_name": "HTMLView",
            "description": "",
            "description_tooltip": null,
            "layout": "IPY_MODEL_c90cfa31cdf64be29aaf71f5f1b6568a",
            "placeholder": "​",
            "style": "IPY_MODEL_db98711634c9496db614edac909a7933",
            "value": " 456k/456k [00:01&lt;00:00, 515kB/s]"
          }
        },
        "3531b62ec350451ba0117a49045fc9fb": {
          "model_module": "@jupyter-widgets/base",
          "model_name": "LayoutModel",
          "model_module_version": "1.2.0",
          "state": {
            "_model_module": "@jupyter-widgets/base",
            "_model_module_version": "1.2.0",
            "_model_name": "LayoutModel",
            "_view_count": null,
            "_view_module": "@jupyter-widgets/base",
            "_view_module_version": "1.2.0",
            "_view_name": "LayoutView",
            "align_content": null,
            "align_items": null,
            "align_self": null,
            "border": null,
            "bottom": null,
            "display": null,
            "flex": null,
            "flex_flow": null,
            "grid_area": null,
            "grid_auto_columns": null,
            "grid_auto_flow": null,
            "grid_auto_rows": null,
            "grid_column": null,
            "grid_gap": null,
            "grid_row": null,
            "grid_template_areas": null,
            "grid_template_columns": null,
            "grid_template_rows": null,
            "height": null,
            "justify_content": null,
            "justify_items": null,
            "left": null,
            "margin": null,
            "max_height": null,
            "max_width": null,
            "min_height": null,
            "min_width": null,
            "object_fit": null,
            "object_position": null,
            "order": null,
            "overflow": null,
            "overflow_x": null,
            "overflow_y": null,
            "padding": null,
            "right": null,
            "top": null,
            "visibility": null,
            "width": null
          }
        },
        "24f8fc1954b04cfe961631c64c058c1e": {
          "model_module": "@jupyter-widgets/base",
          "model_name": "LayoutModel",
          "model_module_version": "1.2.0",
          "state": {
            "_model_module": "@jupyter-widgets/base",
            "_model_module_version": "1.2.0",
            "_model_name": "LayoutModel",
            "_view_count": null,
            "_view_module": "@jupyter-widgets/base",
            "_view_module_version": "1.2.0",
            "_view_name": "LayoutView",
            "align_content": null,
            "align_items": null,
            "align_self": null,
            "border": null,
            "bottom": null,
            "display": null,
            "flex": null,
            "flex_flow": null,
            "grid_area": null,
            "grid_auto_columns": null,
            "grid_auto_flow": null,
            "grid_auto_rows": null,
            "grid_column": null,
            "grid_gap": null,
            "grid_row": null,
            "grid_template_areas": null,
            "grid_template_columns": null,
            "grid_template_rows": null,
            "height": null,
            "justify_content": null,
            "justify_items": null,
            "left": null,
            "margin": null,
            "max_height": null,
            "max_width": null,
            "min_height": null,
            "min_width": null,
            "object_fit": null,
            "object_position": null,
            "order": null,
            "overflow": null,
            "overflow_x": null,
            "overflow_y": null,
            "padding": null,
            "right": null,
            "top": null,
            "visibility": null,
            "width": null
          }
        },
        "98c93966d77f48889b608b32164e6603": {
          "model_module": "@jupyter-widgets/controls",
          "model_name": "DescriptionStyleModel",
          "model_module_version": "1.5.0",
          "state": {
            "_model_module": "@jupyter-widgets/controls",
            "_model_module_version": "1.5.0",
            "_model_name": "DescriptionStyleModel",
            "_view_count": null,
            "_view_module": "@jupyter-widgets/base",
            "_view_module_version": "1.2.0",
            "_view_name": "StyleView",
            "description_width": ""
          }
        },
        "09ae36a0b0df44b2a3566823c030960d": {
          "model_module": "@jupyter-widgets/base",
          "model_name": "LayoutModel",
          "model_module_version": "1.2.0",
          "state": {
            "_model_module": "@jupyter-widgets/base",
            "_model_module_version": "1.2.0",
            "_model_name": "LayoutModel",
            "_view_count": null,
            "_view_module": "@jupyter-widgets/base",
            "_view_module_version": "1.2.0",
            "_view_name": "LayoutView",
            "align_content": null,
            "align_items": null,
            "align_self": null,
            "border": null,
            "bottom": null,
            "display": null,
            "flex": null,
            "flex_flow": null,
            "grid_area": null,
            "grid_auto_columns": null,
            "grid_auto_flow": null,
            "grid_auto_rows": null,
            "grid_column": null,
            "grid_gap": null,
            "grid_row": null,
            "grid_template_areas": null,
            "grid_template_columns": null,
            "grid_template_rows": null,
            "height": null,
            "justify_content": null,
            "justify_items": null,
            "left": null,
            "margin": null,
            "max_height": null,
            "max_width": null,
            "min_height": null,
            "min_width": null,
            "object_fit": null,
            "object_position": null,
            "order": null,
            "overflow": null,
            "overflow_x": null,
            "overflow_y": null,
            "padding": null,
            "right": null,
            "top": null,
            "visibility": null,
            "width": null
          }
        },
        "1e0f0220e0d64d1da9e4e2f9565849f6": {
          "model_module": "@jupyter-widgets/controls",
          "model_name": "ProgressStyleModel",
          "model_module_version": "1.5.0",
          "state": {
            "_model_module": "@jupyter-widgets/controls",
            "_model_module_version": "1.5.0",
            "_model_name": "ProgressStyleModel",
            "_view_count": null,
            "_view_module": "@jupyter-widgets/base",
            "_view_module_version": "1.2.0",
            "_view_name": "StyleView",
            "bar_color": null,
            "description_width": ""
          }
        },
        "c90cfa31cdf64be29aaf71f5f1b6568a": {
          "model_module": "@jupyter-widgets/base",
          "model_name": "LayoutModel",
          "model_module_version": "1.2.0",
          "state": {
            "_model_module": "@jupyter-widgets/base",
            "_model_module_version": "1.2.0",
            "_model_name": "LayoutModel",
            "_view_count": null,
            "_view_module": "@jupyter-widgets/base",
            "_view_module_version": "1.2.0",
            "_view_name": "LayoutView",
            "align_content": null,
            "align_items": null,
            "align_self": null,
            "border": null,
            "bottom": null,
            "display": null,
            "flex": null,
            "flex_flow": null,
            "grid_area": null,
            "grid_auto_columns": null,
            "grid_auto_flow": null,
            "grid_auto_rows": null,
            "grid_column": null,
            "grid_gap": null,
            "grid_row": null,
            "grid_template_areas": null,
            "grid_template_columns": null,
            "grid_template_rows": null,
            "height": null,
            "justify_content": null,
            "justify_items": null,
            "left": null,
            "margin": null,
            "max_height": null,
            "max_width": null,
            "min_height": null,
            "min_width": null,
            "object_fit": null,
            "object_position": null,
            "order": null,
            "overflow": null,
            "overflow_x": null,
            "overflow_y": null,
            "padding": null,
            "right": null,
            "top": null,
            "visibility": null,
            "width": null
          }
        },
        "db98711634c9496db614edac909a7933": {
          "model_module": "@jupyter-widgets/controls",
          "model_name": "DescriptionStyleModel",
          "model_module_version": "1.5.0",
          "state": {
            "_model_module": "@jupyter-widgets/controls",
            "_model_module_version": "1.5.0",
            "_model_name": "DescriptionStyleModel",
            "_view_count": null,
            "_view_module": "@jupyter-widgets/base",
            "_view_module_version": "1.2.0",
            "_view_name": "StyleView",
            "description_width": ""
          }
        },
        "ff1ae774f6f64f59a98c9b93c10e3305": {
          "model_module": "@jupyter-widgets/controls",
          "model_name": "HBoxModel",
          "model_module_version": "1.5.0",
          "state": {
            "_dom_classes": [],
            "_model_module": "@jupyter-widgets/controls",
            "_model_module_version": "1.5.0",
            "_model_name": "HBoxModel",
            "_view_count": null,
            "_view_module": "@jupyter-widgets/controls",
            "_view_module_version": "1.5.0",
            "_view_name": "HBoxView",
            "box_style": "",
            "children": [
              "IPY_MODEL_86a49b64444f428480c1d8d9fb719d4d",
              "IPY_MODEL_fb37cd9420d14f2d8c95e4c846f42d68",
              "IPY_MODEL_b61cfa044e244560bbfabf1431100235"
            ],
            "layout": "IPY_MODEL_08a3f30310f74f6fa8193da73525d7e8"
          }
        },
        "86a49b64444f428480c1d8d9fb719d4d": {
          "model_module": "@jupyter-widgets/controls",
          "model_name": "HTMLModel",
          "model_module_version": "1.5.0",
          "state": {
            "_dom_classes": [],
            "_model_module": "@jupyter-widgets/controls",
            "_model_module_version": "1.5.0",
            "_model_name": "HTMLModel",
            "_view_count": null,
            "_view_module": "@jupyter-widgets/controls",
            "_view_module_version": "1.5.0",
            "_view_name": "HTMLView",
            "description": "",
            "description_tooltip": null,
            "layout": "IPY_MODEL_ccf3037e5d76458a90f7855aabd4e702",
            "placeholder": "​",
            "style": "IPY_MODEL_7f0120598f8a47edbb24a37fae57c3c9",
            "value": "Downloading: 100%"
          }
        },
        "fb37cd9420d14f2d8c95e4c846f42d68": {
          "model_module": "@jupyter-widgets/controls",
          "model_name": "FloatProgressModel",
          "model_module_version": "1.5.0",
          "state": {
            "_dom_classes": [],
            "_model_module": "@jupyter-widgets/controls",
            "_model_module_version": "1.5.0",
            "_model_name": "FloatProgressModel",
            "_view_count": null,
            "_view_module": "@jupyter-widgets/controls",
            "_view_module_version": "1.5.0",
            "_view_name": "ProgressView",
            "bar_style": "success",
            "description": "",
            "description_tooltip": null,
            "layout": "IPY_MODEL_087d5e628ac64d09b007f09e29659bf0",
            "max": 239,
            "min": 0,
            "orientation": "horizontal",
            "style": "IPY_MODEL_be12ddc1220b48edb73772a42fb05ee3",
            "value": 239
          }
        },
        "b61cfa044e244560bbfabf1431100235": {
          "model_module": "@jupyter-widgets/controls",
          "model_name": "HTMLModel",
          "model_module_version": "1.5.0",
          "state": {
            "_dom_classes": [],
            "_model_module": "@jupyter-widgets/controls",
            "_model_module_version": "1.5.0",
            "_model_name": "HTMLModel",
            "_view_count": null,
            "_view_module": "@jupyter-widgets/controls",
            "_view_module_version": "1.5.0",
            "_view_name": "HTMLView",
            "description": "",
            "description_tooltip": null,
            "layout": "IPY_MODEL_6e195d534ece42ec97ba7ca78b537656",
            "placeholder": "​",
            "style": "IPY_MODEL_eac6d59e6d864539bbe84db9582760f8",
            "value": " 239/239 [00:00&lt;00:00, 1.68kB/s]"
          }
        },
        "08a3f30310f74f6fa8193da73525d7e8": {
          "model_module": "@jupyter-widgets/base",
          "model_name": "LayoutModel",
          "model_module_version": "1.2.0",
          "state": {
            "_model_module": "@jupyter-widgets/base",
            "_model_module_version": "1.2.0",
            "_model_name": "LayoutModel",
            "_view_count": null,
            "_view_module": "@jupyter-widgets/base",
            "_view_module_version": "1.2.0",
            "_view_name": "LayoutView",
            "align_content": null,
            "align_items": null,
            "align_self": null,
            "border": null,
            "bottom": null,
            "display": null,
            "flex": null,
            "flex_flow": null,
            "grid_area": null,
            "grid_auto_columns": null,
            "grid_auto_flow": null,
            "grid_auto_rows": null,
            "grid_column": null,
            "grid_gap": null,
            "grid_row": null,
            "grid_template_areas": null,
            "grid_template_columns": null,
            "grid_template_rows": null,
            "height": null,
            "justify_content": null,
            "justify_items": null,
            "left": null,
            "margin": null,
            "max_height": null,
            "max_width": null,
            "min_height": null,
            "min_width": null,
            "object_fit": null,
            "object_position": null,
            "order": null,
            "overflow": null,
            "overflow_x": null,
            "overflow_y": null,
            "padding": null,
            "right": null,
            "top": null,
            "visibility": null,
            "width": null
          }
        },
        "ccf3037e5d76458a90f7855aabd4e702": {
          "model_module": "@jupyter-widgets/base",
          "model_name": "LayoutModel",
          "model_module_version": "1.2.0",
          "state": {
            "_model_module": "@jupyter-widgets/base",
            "_model_module_version": "1.2.0",
            "_model_name": "LayoutModel",
            "_view_count": null,
            "_view_module": "@jupyter-widgets/base",
            "_view_module_version": "1.2.0",
            "_view_name": "LayoutView",
            "align_content": null,
            "align_items": null,
            "align_self": null,
            "border": null,
            "bottom": null,
            "display": null,
            "flex": null,
            "flex_flow": null,
            "grid_area": null,
            "grid_auto_columns": null,
            "grid_auto_flow": null,
            "grid_auto_rows": null,
            "grid_column": null,
            "grid_gap": null,
            "grid_row": null,
            "grid_template_areas": null,
            "grid_template_columns": null,
            "grid_template_rows": null,
            "height": null,
            "justify_content": null,
            "justify_items": null,
            "left": null,
            "margin": null,
            "max_height": null,
            "max_width": null,
            "min_height": null,
            "min_width": null,
            "object_fit": null,
            "object_position": null,
            "order": null,
            "overflow": null,
            "overflow_x": null,
            "overflow_y": null,
            "padding": null,
            "right": null,
            "top": null,
            "visibility": null,
            "width": null
          }
        },
        "7f0120598f8a47edbb24a37fae57c3c9": {
          "model_module": "@jupyter-widgets/controls",
          "model_name": "DescriptionStyleModel",
          "model_module_version": "1.5.0",
          "state": {
            "_model_module": "@jupyter-widgets/controls",
            "_model_module_version": "1.5.0",
            "_model_name": "DescriptionStyleModel",
            "_view_count": null,
            "_view_module": "@jupyter-widgets/base",
            "_view_module_version": "1.2.0",
            "_view_name": "StyleView",
            "description_width": ""
          }
        },
        "087d5e628ac64d09b007f09e29659bf0": {
          "model_module": "@jupyter-widgets/base",
          "model_name": "LayoutModel",
          "model_module_version": "1.2.0",
          "state": {
            "_model_module": "@jupyter-widgets/base",
            "_model_module_version": "1.2.0",
            "_model_name": "LayoutModel",
            "_view_count": null,
            "_view_module": "@jupyter-widgets/base",
            "_view_module_version": "1.2.0",
            "_view_name": "LayoutView",
            "align_content": null,
            "align_items": null,
            "align_self": null,
            "border": null,
            "bottom": null,
            "display": null,
            "flex": null,
            "flex_flow": null,
            "grid_area": null,
            "grid_auto_columns": null,
            "grid_auto_flow": null,
            "grid_auto_rows": null,
            "grid_column": null,
            "grid_gap": null,
            "grid_row": null,
            "grid_template_areas": null,
            "grid_template_columns": null,
            "grid_template_rows": null,
            "height": null,
            "justify_content": null,
            "justify_items": null,
            "left": null,
            "margin": null,
            "max_height": null,
            "max_width": null,
            "min_height": null,
            "min_width": null,
            "object_fit": null,
            "object_position": null,
            "order": null,
            "overflow": null,
            "overflow_x": null,
            "overflow_y": null,
            "padding": null,
            "right": null,
            "top": null,
            "visibility": null,
            "width": null
          }
        },
        "be12ddc1220b48edb73772a42fb05ee3": {
          "model_module": "@jupyter-widgets/controls",
          "model_name": "ProgressStyleModel",
          "model_module_version": "1.5.0",
          "state": {
            "_model_module": "@jupyter-widgets/controls",
            "_model_module_version": "1.5.0",
            "_model_name": "ProgressStyleModel",
            "_view_count": null,
            "_view_module": "@jupyter-widgets/base",
            "_view_module_version": "1.2.0",
            "_view_name": "StyleView",
            "bar_color": null,
            "description_width": ""
          }
        },
        "6e195d534ece42ec97ba7ca78b537656": {
          "model_module": "@jupyter-widgets/base",
          "model_name": "LayoutModel",
          "model_module_version": "1.2.0",
          "state": {
            "_model_module": "@jupyter-widgets/base",
            "_model_module_version": "1.2.0",
            "_model_name": "LayoutModel",
            "_view_count": null,
            "_view_module": "@jupyter-widgets/base",
            "_view_module_version": "1.2.0",
            "_view_name": "LayoutView",
            "align_content": null,
            "align_items": null,
            "align_self": null,
            "border": null,
            "bottom": null,
            "display": null,
            "flex": null,
            "flex_flow": null,
            "grid_area": null,
            "grid_auto_columns": null,
            "grid_auto_flow": null,
            "grid_auto_rows": null,
            "grid_column": null,
            "grid_gap": null,
            "grid_row": null,
            "grid_template_areas": null,
            "grid_template_columns": null,
            "grid_template_rows": null,
            "height": null,
            "justify_content": null,
            "justify_items": null,
            "left": null,
            "margin": null,
            "max_height": null,
            "max_width": null,
            "min_height": null,
            "min_width": null,
            "object_fit": null,
            "object_position": null,
            "order": null,
            "overflow": null,
            "overflow_x": null,
            "overflow_y": null,
            "padding": null,
            "right": null,
            "top": null,
            "visibility": null,
            "width": null
          }
        },
        "eac6d59e6d864539bbe84db9582760f8": {
          "model_module": "@jupyter-widgets/controls",
          "model_name": "DescriptionStyleModel",
          "model_module_version": "1.5.0",
          "state": {
            "_model_module": "@jupyter-widgets/controls",
            "_model_module_version": "1.5.0",
            "_model_name": "DescriptionStyleModel",
            "_view_count": null,
            "_view_module": "@jupyter-widgets/base",
            "_view_module_version": "1.2.0",
            "_view_name": "StyleView",
            "description_width": ""
          }
        },
        "ce04252ee14f4bc5afc8d5b572f5d934": {
          "model_module": "@jupyter-widgets/controls",
          "model_name": "HBoxModel",
          "model_module_version": "1.5.0",
          "state": {
            "_dom_classes": [],
            "_model_module": "@jupyter-widgets/controls",
            "_model_module_version": "1.5.0",
            "_model_name": "HBoxModel",
            "_view_count": null,
            "_view_module": "@jupyter-widgets/controls",
            "_view_module_version": "1.5.0",
            "_view_name": "HBoxView",
            "box_style": "",
            "children": [
              "IPY_MODEL_62ff98d78b45409a819221539aff778f",
              "IPY_MODEL_5f158249d08c461e96b511188f162c9a",
              "IPY_MODEL_60aa87936ca849ceaa87f84166d8465f"
            ],
            "layout": "IPY_MODEL_d8a5b278a02249068fa582fb890589c8"
          }
        },
        "62ff98d78b45409a819221539aff778f": {
          "model_module": "@jupyter-widgets/controls",
          "model_name": "HTMLModel",
          "model_module_version": "1.5.0",
          "state": {
            "_dom_classes": [],
            "_model_module": "@jupyter-widgets/controls",
            "_model_module_version": "1.5.0",
            "_model_name": "HTMLModel",
            "_view_count": null,
            "_view_module": "@jupyter-widgets/controls",
            "_view_module_version": "1.5.0",
            "_view_name": "HTMLView",
            "description": "",
            "description_tooltip": null,
            "layout": "IPY_MODEL_ba113a1a487548c0ba6fd0c33ccd65e0",
            "placeholder": "​",
            "style": "IPY_MODEL_bf08a02bf90b4ef5a253c19e36e8b919",
            "value": "Downloading: 100%"
          }
        },
        "5f158249d08c461e96b511188f162c9a": {
          "model_module": "@jupyter-widgets/controls",
          "model_name": "FloatProgressModel",
          "model_module_version": "1.5.0",
          "state": {
            "_dom_classes": [],
            "_model_module": "@jupyter-widgets/controls",
            "_model_module_version": "1.5.0",
            "_model_name": "FloatProgressModel",
            "_view_count": null,
            "_view_module": "@jupyter-widgets/controls",
            "_view_module_version": "1.5.0",
            "_view_name": "ProgressView",
            "bar_style": "success",
            "description": "",
            "description_tooltip": null,
            "layout": "IPY_MODEL_175455cf035c47dfac629d45c3a1f12a",
            "max": 327,
            "min": 0,
            "orientation": "horizontal",
            "style": "IPY_MODEL_9dfac95000fb4336bdc56f4df2d561df",
            "value": 327
          }
        },
        "60aa87936ca849ceaa87f84166d8465f": {
          "model_module": "@jupyter-widgets/controls",
          "model_name": "HTMLModel",
          "model_module_version": "1.5.0",
          "state": {
            "_dom_classes": [],
            "_model_module": "@jupyter-widgets/controls",
            "_model_module_version": "1.5.0",
            "_model_name": "HTMLModel",
            "_view_count": null,
            "_view_module": "@jupyter-widgets/controls",
            "_view_module_version": "1.5.0",
            "_view_name": "HTMLView",
            "description": "",
            "description_tooltip": null,
            "layout": "IPY_MODEL_e4c93150bd7b43f1873ec112aa814561",
            "placeholder": "​",
            "style": "IPY_MODEL_f1cbde58feba483587c0240d7df2f7c1",
            "value": " 327/327 [00:00&lt;00:00, 2.38kB/s]"
          }
        },
        "d8a5b278a02249068fa582fb890589c8": {
          "model_module": "@jupyter-widgets/base",
          "model_name": "LayoutModel",
          "model_module_version": "1.2.0",
          "state": {
            "_model_module": "@jupyter-widgets/base",
            "_model_module_version": "1.2.0",
            "_model_name": "LayoutModel",
            "_view_count": null,
            "_view_module": "@jupyter-widgets/base",
            "_view_module_version": "1.2.0",
            "_view_name": "LayoutView",
            "align_content": null,
            "align_items": null,
            "align_self": null,
            "border": null,
            "bottom": null,
            "display": null,
            "flex": null,
            "flex_flow": null,
            "grid_area": null,
            "grid_auto_columns": null,
            "grid_auto_flow": null,
            "grid_auto_rows": null,
            "grid_column": null,
            "grid_gap": null,
            "grid_row": null,
            "grid_template_areas": null,
            "grid_template_columns": null,
            "grid_template_rows": null,
            "height": null,
            "justify_content": null,
            "justify_items": null,
            "left": null,
            "margin": null,
            "max_height": null,
            "max_width": null,
            "min_height": null,
            "min_width": null,
            "object_fit": null,
            "object_position": null,
            "order": null,
            "overflow": null,
            "overflow_x": null,
            "overflow_y": null,
            "padding": null,
            "right": null,
            "top": null,
            "visibility": null,
            "width": null
          }
        },
        "ba113a1a487548c0ba6fd0c33ccd65e0": {
          "model_module": "@jupyter-widgets/base",
          "model_name": "LayoutModel",
          "model_module_version": "1.2.0",
          "state": {
            "_model_module": "@jupyter-widgets/base",
            "_model_module_version": "1.2.0",
            "_model_name": "LayoutModel",
            "_view_count": null,
            "_view_module": "@jupyter-widgets/base",
            "_view_module_version": "1.2.0",
            "_view_name": "LayoutView",
            "align_content": null,
            "align_items": null,
            "align_self": null,
            "border": null,
            "bottom": null,
            "display": null,
            "flex": null,
            "flex_flow": null,
            "grid_area": null,
            "grid_auto_columns": null,
            "grid_auto_flow": null,
            "grid_auto_rows": null,
            "grid_column": null,
            "grid_gap": null,
            "grid_row": null,
            "grid_template_areas": null,
            "grid_template_columns": null,
            "grid_template_rows": null,
            "height": null,
            "justify_content": null,
            "justify_items": null,
            "left": null,
            "margin": null,
            "max_height": null,
            "max_width": null,
            "min_height": null,
            "min_width": null,
            "object_fit": null,
            "object_position": null,
            "order": null,
            "overflow": null,
            "overflow_x": null,
            "overflow_y": null,
            "padding": null,
            "right": null,
            "top": null,
            "visibility": null,
            "width": null
          }
        },
        "bf08a02bf90b4ef5a253c19e36e8b919": {
          "model_module": "@jupyter-widgets/controls",
          "model_name": "DescriptionStyleModel",
          "model_module_version": "1.5.0",
          "state": {
            "_model_module": "@jupyter-widgets/controls",
            "_model_module_version": "1.5.0",
            "_model_name": "DescriptionStyleModel",
            "_view_count": null,
            "_view_module": "@jupyter-widgets/base",
            "_view_module_version": "1.2.0",
            "_view_name": "StyleView",
            "description_width": ""
          }
        },
        "175455cf035c47dfac629d45c3a1f12a": {
          "model_module": "@jupyter-widgets/base",
          "model_name": "LayoutModel",
          "model_module_version": "1.2.0",
          "state": {
            "_model_module": "@jupyter-widgets/base",
            "_model_module_version": "1.2.0",
            "_model_name": "LayoutModel",
            "_view_count": null,
            "_view_module": "@jupyter-widgets/base",
            "_view_module_version": "1.2.0",
            "_view_name": "LayoutView",
            "align_content": null,
            "align_items": null,
            "align_self": null,
            "border": null,
            "bottom": null,
            "display": null,
            "flex": null,
            "flex_flow": null,
            "grid_area": null,
            "grid_auto_columns": null,
            "grid_auto_flow": null,
            "grid_auto_rows": null,
            "grid_column": null,
            "grid_gap": null,
            "grid_row": null,
            "grid_template_areas": null,
            "grid_template_columns": null,
            "grid_template_rows": null,
            "height": null,
            "justify_content": null,
            "justify_items": null,
            "left": null,
            "margin": null,
            "max_height": null,
            "max_width": null,
            "min_height": null,
            "min_width": null,
            "object_fit": null,
            "object_position": null,
            "order": null,
            "overflow": null,
            "overflow_x": null,
            "overflow_y": null,
            "padding": null,
            "right": null,
            "top": null,
            "visibility": null,
            "width": null
          }
        },
        "9dfac95000fb4336bdc56f4df2d561df": {
          "model_module": "@jupyter-widgets/controls",
          "model_name": "ProgressStyleModel",
          "model_module_version": "1.5.0",
          "state": {
            "_model_module": "@jupyter-widgets/controls",
            "_model_module_version": "1.5.0",
            "_model_name": "ProgressStyleModel",
            "_view_count": null,
            "_view_module": "@jupyter-widgets/base",
            "_view_module_version": "1.2.0",
            "_view_name": "StyleView",
            "bar_color": null,
            "description_width": ""
          }
        },
        "e4c93150bd7b43f1873ec112aa814561": {
          "model_module": "@jupyter-widgets/base",
          "model_name": "LayoutModel",
          "model_module_version": "1.2.0",
          "state": {
            "_model_module": "@jupyter-widgets/base",
            "_model_module_version": "1.2.0",
            "_model_name": "LayoutModel",
            "_view_count": null,
            "_view_module": "@jupyter-widgets/base",
            "_view_module_version": "1.2.0",
            "_view_name": "LayoutView",
            "align_content": null,
            "align_items": null,
            "align_self": null,
            "border": null,
            "bottom": null,
            "display": null,
            "flex": null,
            "flex_flow": null,
            "grid_area": null,
            "grid_auto_columns": null,
            "grid_auto_flow": null,
            "grid_auto_rows": null,
            "grid_column": null,
            "grid_gap": null,
            "grid_row": null,
            "grid_template_areas": null,
            "grid_template_columns": null,
            "grid_template_rows": null,
            "height": null,
            "justify_content": null,
            "justify_items": null,
            "left": null,
            "margin": null,
            "max_height": null,
            "max_width": null,
            "min_height": null,
            "min_width": null,
            "object_fit": null,
            "object_position": null,
            "order": null,
            "overflow": null,
            "overflow_x": null,
            "overflow_y": null,
            "padding": null,
            "right": null,
            "top": null,
            "visibility": null,
            "width": null
          }
        },
        "f1cbde58feba483587c0240d7df2f7c1": {
          "model_module": "@jupyter-widgets/controls",
          "model_name": "DescriptionStyleModel",
          "model_module_version": "1.5.0",
          "state": {
            "_model_module": "@jupyter-widgets/controls",
            "_model_module_version": "1.5.0",
            "_model_name": "DescriptionStyleModel",
            "_view_count": null,
            "_view_module": "@jupyter-widgets/base",
            "_view_module_version": "1.2.0",
            "_view_name": "StyleView",
            "description_width": ""
          }
        },
        "0db8edcfd99847a8bf14800c0643b915": {
          "model_module": "@jupyter-widgets/controls",
          "model_name": "HBoxModel",
          "model_module_version": "1.5.0",
          "state": {
            "_dom_classes": [],
            "_model_module": "@jupyter-widgets/controls",
            "_model_module_version": "1.5.0",
            "_model_name": "HBoxModel",
            "_view_count": null,
            "_view_module": "@jupyter-widgets/controls",
            "_view_module_version": "1.5.0",
            "_view_name": "HBoxView",
            "box_style": "",
            "children": [
              "IPY_MODEL_957a3b31d70c4927b79f75c05137a032",
              "IPY_MODEL_2f2f5a23711e4a979ecf65e49771821f",
              "IPY_MODEL_9015535a98464d5c8e0e1e15f21b9468"
            ],
            "layout": "IPY_MODEL_8d72f15c1921492d9e45646f287fd784"
          }
        },
        "957a3b31d70c4927b79f75c05137a032": {
          "model_module": "@jupyter-widgets/controls",
          "model_name": "HTMLModel",
          "model_module_version": "1.5.0",
          "state": {
            "_dom_classes": [],
            "_model_module": "@jupyter-widgets/controls",
            "_model_module_version": "1.5.0",
            "_model_name": "HTMLModel",
            "_view_count": null,
            "_view_module": "@jupyter-widgets/controls",
            "_view_module_version": "1.5.0",
            "_view_name": "HTMLView",
            "description": "",
            "description_tooltip": null,
            "layout": "IPY_MODEL_9329ec1c7203491c9f044871dea855f3",
            "placeholder": "​",
            "style": "IPY_MODEL_d2448fb511f948559e38b0f33f958e86",
            "value": "Downloading: 100%"
          }
        },
        "2f2f5a23711e4a979ecf65e49771821f": {
          "model_module": "@jupyter-widgets/controls",
          "model_name": "FloatProgressModel",
          "model_module_version": "1.5.0",
          "state": {
            "_dom_classes": [],
            "_model_module": "@jupyter-widgets/controls",
            "_model_module_version": "1.5.0",
            "_model_name": "FloatProgressModel",
            "_view_count": null,
            "_view_module": "@jupyter-widgets/controls",
            "_view_module_version": "1.5.0",
            "_view_name": "ProgressView",
            "bar_style": "success",
            "description": "",
            "description_tooltip": null,
            "layout": "IPY_MODEL_0aed6b3f72f54b85ad21d5db35362bad",
            "max": 481,
            "min": 0,
            "orientation": "horizontal",
            "style": "IPY_MODEL_5f082298a4ba4840a060fc6c0bbef11e",
            "value": 481
          }
        },
        "9015535a98464d5c8e0e1e15f21b9468": {
          "model_module": "@jupyter-widgets/controls",
          "model_name": "HTMLModel",
          "model_module_version": "1.5.0",
          "state": {
            "_dom_classes": [],
            "_model_module": "@jupyter-widgets/controls",
            "_model_module_version": "1.5.0",
            "_model_name": "HTMLModel",
            "_view_count": null,
            "_view_module": "@jupyter-widgets/controls",
            "_view_module_version": "1.5.0",
            "_view_name": "HTMLView",
            "description": "",
            "description_tooltip": null,
            "layout": "IPY_MODEL_9998b636a2124cdc925c6aec7effc7fb",
            "placeholder": "​",
            "style": "IPY_MODEL_ad01c18084d64baba1418217124e04a6",
            "value": " 481/481 [00:00&lt;00:00, 4.19kB/s]"
          }
        },
        "8d72f15c1921492d9e45646f287fd784": {
          "model_module": "@jupyter-widgets/base",
          "model_name": "LayoutModel",
          "model_module_version": "1.2.0",
          "state": {
            "_model_module": "@jupyter-widgets/base",
            "_model_module_version": "1.2.0",
            "_model_name": "LayoutModel",
            "_view_count": null,
            "_view_module": "@jupyter-widgets/base",
            "_view_module_version": "1.2.0",
            "_view_name": "LayoutView",
            "align_content": null,
            "align_items": null,
            "align_self": null,
            "border": null,
            "bottom": null,
            "display": null,
            "flex": null,
            "flex_flow": null,
            "grid_area": null,
            "grid_auto_columns": null,
            "grid_auto_flow": null,
            "grid_auto_rows": null,
            "grid_column": null,
            "grid_gap": null,
            "grid_row": null,
            "grid_template_areas": null,
            "grid_template_columns": null,
            "grid_template_rows": null,
            "height": null,
            "justify_content": null,
            "justify_items": null,
            "left": null,
            "margin": null,
            "max_height": null,
            "max_width": null,
            "min_height": null,
            "min_width": null,
            "object_fit": null,
            "object_position": null,
            "order": null,
            "overflow": null,
            "overflow_x": null,
            "overflow_y": null,
            "padding": null,
            "right": null,
            "top": null,
            "visibility": null,
            "width": null
          }
        },
        "9329ec1c7203491c9f044871dea855f3": {
          "model_module": "@jupyter-widgets/base",
          "model_name": "LayoutModel",
          "model_module_version": "1.2.0",
          "state": {
            "_model_module": "@jupyter-widgets/base",
            "_model_module_version": "1.2.0",
            "_model_name": "LayoutModel",
            "_view_count": null,
            "_view_module": "@jupyter-widgets/base",
            "_view_module_version": "1.2.0",
            "_view_name": "LayoutView",
            "align_content": null,
            "align_items": null,
            "align_self": null,
            "border": null,
            "bottom": null,
            "display": null,
            "flex": null,
            "flex_flow": null,
            "grid_area": null,
            "grid_auto_columns": null,
            "grid_auto_flow": null,
            "grid_auto_rows": null,
            "grid_column": null,
            "grid_gap": null,
            "grid_row": null,
            "grid_template_areas": null,
            "grid_template_columns": null,
            "grid_template_rows": null,
            "height": null,
            "justify_content": null,
            "justify_items": null,
            "left": null,
            "margin": null,
            "max_height": null,
            "max_width": null,
            "min_height": null,
            "min_width": null,
            "object_fit": null,
            "object_position": null,
            "order": null,
            "overflow": null,
            "overflow_x": null,
            "overflow_y": null,
            "padding": null,
            "right": null,
            "top": null,
            "visibility": null,
            "width": null
          }
        },
        "d2448fb511f948559e38b0f33f958e86": {
          "model_module": "@jupyter-widgets/controls",
          "model_name": "DescriptionStyleModel",
          "model_module_version": "1.5.0",
          "state": {
            "_model_module": "@jupyter-widgets/controls",
            "_model_module_version": "1.5.0",
            "_model_name": "DescriptionStyleModel",
            "_view_count": null,
            "_view_module": "@jupyter-widgets/base",
            "_view_module_version": "1.2.0",
            "_view_name": "StyleView",
            "description_width": ""
          }
        },
        "0aed6b3f72f54b85ad21d5db35362bad": {
          "model_module": "@jupyter-widgets/base",
          "model_name": "LayoutModel",
          "model_module_version": "1.2.0",
          "state": {
            "_model_module": "@jupyter-widgets/base",
            "_model_module_version": "1.2.0",
            "_model_name": "LayoutModel",
            "_view_count": null,
            "_view_module": "@jupyter-widgets/base",
            "_view_module_version": "1.2.0",
            "_view_name": "LayoutView",
            "align_content": null,
            "align_items": null,
            "align_self": null,
            "border": null,
            "bottom": null,
            "display": null,
            "flex": null,
            "flex_flow": null,
            "grid_area": null,
            "grid_auto_columns": null,
            "grid_auto_flow": null,
            "grid_auto_rows": null,
            "grid_column": null,
            "grid_gap": null,
            "grid_row": null,
            "grid_template_areas": null,
            "grid_template_columns": null,
            "grid_template_rows": null,
            "height": null,
            "justify_content": null,
            "justify_items": null,
            "left": null,
            "margin": null,
            "max_height": null,
            "max_width": null,
            "min_height": null,
            "min_width": null,
            "object_fit": null,
            "object_position": null,
            "order": null,
            "overflow": null,
            "overflow_x": null,
            "overflow_y": null,
            "padding": null,
            "right": null,
            "top": null,
            "visibility": null,
            "width": null
          }
        },
        "5f082298a4ba4840a060fc6c0bbef11e": {
          "model_module": "@jupyter-widgets/controls",
          "model_name": "ProgressStyleModel",
          "model_module_version": "1.5.0",
          "state": {
            "_model_module": "@jupyter-widgets/controls",
            "_model_module_version": "1.5.0",
            "_model_name": "ProgressStyleModel",
            "_view_count": null,
            "_view_module": "@jupyter-widgets/base",
            "_view_module_version": "1.2.0",
            "_view_name": "StyleView",
            "bar_color": null,
            "description_width": ""
          }
        },
        "9998b636a2124cdc925c6aec7effc7fb": {
          "model_module": "@jupyter-widgets/base",
          "model_name": "LayoutModel",
          "model_module_version": "1.2.0",
          "state": {
            "_model_module": "@jupyter-widgets/base",
            "_model_module_version": "1.2.0",
            "_model_name": "LayoutModel",
            "_view_count": null,
            "_view_module": "@jupyter-widgets/base",
            "_view_module_version": "1.2.0",
            "_view_name": "LayoutView",
            "align_content": null,
            "align_items": null,
            "align_self": null,
            "border": null,
            "bottom": null,
            "display": null,
            "flex": null,
            "flex_flow": null,
            "grid_area": null,
            "grid_auto_columns": null,
            "grid_auto_flow": null,
            "grid_auto_rows": null,
            "grid_column": null,
            "grid_gap": null,
            "grid_row": null,
            "grid_template_areas": null,
            "grid_template_columns": null,
            "grid_template_rows": null,
            "height": null,
            "justify_content": null,
            "justify_items": null,
            "left": null,
            "margin": null,
            "max_height": null,
            "max_width": null,
            "min_height": null,
            "min_width": null,
            "object_fit": null,
            "object_position": null,
            "order": null,
            "overflow": null,
            "overflow_x": null,
            "overflow_y": null,
            "padding": null,
            "right": null,
            "top": null,
            "visibility": null,
            "width": null
          }
        },
        "ad01c18084d64baba1418217124e04a6": {
          "model_module": "@jupyter-widgets/controls",
          "model_name": "DescriptionStyleModel",
          "model_module_version": "1.5.0",
          "state": {
            "_model_module": "@jupyter-widgets/controls",
            "_model_module_version": "1.5.0",
            "_model_name": "DescriptionStyleModel",
            "_view_count": null,
            "_view_module": "@jupyter-widgets/base",
            "_view_module_version": "1.2.0",
            "_view_name": "StyleView",
            "description_width": ""
          }
        },
        "86ee4f331d3b4f18a20c095691640f26": {
          "model_module": "@jupyter-widgets/controls",
          "model_name": "HBoxModel",
          "model_module_version": "1.5.0",
          "state": {
            "_dom_classes": [],
            "_model_module": "@jupyter-widgets/controls",
            "_model_module_version": "1.5.0",
            "_model_name": "HBoxModel",
            "_view_count": null,
            "_view_module": "@jupyter-widgets/controls",
            "_view_module_version": "1.5.0",
            "_view_name": "HBoxView",
            "box_style": "",
            "children": [
              "IPY_MODEL_b92fb60c4f404e259d190e85aa797d0b",
              "IPY_MODEL_c27476327e2d4201a9aaa9c6bbf6da79",
              "IPY_MODEL_f2e16669b28d454d8cd7ba82b50aaccc"
            ],
            "layout": "IPY_MODEL_9a6441850a2349b5933f0de2b8f946f8"
          }
        },
        "b92fb60c4f404e259d190e85aa797d0b": {
          "model_module": "@jupyter-widgets/controls",
          "model_name": "HTMLModel",
          "model_module_version": "1.5.0",
          "state": {
            "_dom_classes": [],
            "_model_module": "@jupyter-widgets/controls",
            "_model_module_version": "1.5.0",
            "_model_name": "HTMLModel",
            "_view_count": null,
            "_view_module": "@jupyter-widgets/controls",
            "_view_module_version": "1.5.0",
            "_view_name": "HTMLView",
            "description": "",
            "description_tooltip": null,
            "layout": "IPY_MODEL_77f42e8f02914c0683e0789ebf9ae1f4",
            "placeholder": "​",
            "style": "IPY_MODEL_d3c0085593ee49daab1771da538abef5",
            "value": "Downloading: 100%"
          }
        },
        "c27476327e2d4201a9aaa9c6bbf6da79": {
          "model_module": "@jupyter-widgets/controls",
          "model_name": "FloatProgressModel",
          "model_module_version": "1.5.0",
          "state": {
            "_dom_classes": [],
            "_model_module": "@jupyter-widgets/controls",
            "_model_module_version": "1.5.0",
            "_model_name": "FloatProgressModel",
            "_view_count": null,
            "_view_module": "@jupyter-widgets/controls",
            "_view_module_version": "1.5.0",
            "_view_name": "ProgressView",
            "bar_style": "success",
            "description": "",
            "description_tooltip": null,
            "layout": "IPY_MODEL_46b99e3f3537465db06ce566d87631de",
            "max": 498669367,
            "min": 0,
            "orientation": "horizontal",
            "style": "IPY_MODEL_7fa3e9d9ddbd43369ca31cee304fec1f",
            "value": 498669367
          }
        },
        "f2e16669b28d454d8cd7ba82b50aaccc": {
          "model_module": "@jupyter-widgets/controls",
          "model_name": "HTMLModel",
          "model_module_version": "1.5.0",
          "state": {
            "_dom_classes": [],
            "_model_module": "@jupyter-widgets/controls",
            "_model_module_version": "1.5.0",
            "_model_name": "HTMLModel",
            "_view_count": null,
            "_view_module": "@jupyter-widgets/controls",
            "_view_module_version": "1.5.0",
            "_view_name": "HTMLView",
            "description": "",
            "description_tooltip": null,
            "layout": "IPY_MODEL_fecefbbc228641c9a921e727696375dc",
            "placeholder": "​",
            "style": "IPY_MODEL_383c8cb7503b471788f353f5ddf5e1d9",
            "value": " 499M/499M [00:18&lt;00:00, 33.7MB/s]"
          }
        },
        "9a6441850a2349b5933f0de2b8f946f8": {
          "model_module": "@jupyter-widgets/base",
          "model_name": "LayoutModel",
          "model_module_version": "1.2.0",
          "state": {
            "_model_module": "@jupyter-widgets/base",
            "_model_module_version": "1.2.0",
            "_model_name": "LayoutModel",
            "_view_count": null,
            "_view_module": "@jupyter-widgets/base",
            "_view_module_version": "1.2.0",
            "_view_name": "LayoutView",
            "align_content": null,
            "align_items": null,
            "align_self": null,
            "border": null,
            "bottom": null,
            "display": null,
            "flex": null,
            "flex_flow": null,
            "grid_area": null,
            "grid_auto_columns": null,
            "grid_auto_flow": null,
            "grid_auto_rows": null,
            "grid_column": null,
            "grid_gap": null,
            "grid_row": null,
            "grid_template_areas": null,
            "grid_template_columns": null,
            "grid_template_rows": null,
            "height": null,
            "justify_content": null,
            "justify_items": null,
            "left": null,
            "margin": null,
            "max_height": null,
            "max_width": null,
            "min_height": null,
            "min_width": null,
            "object_fit": null,
            "object_position": null,
            "order": null,
            "overflow": null,
            "overflow_x": null,
            "overflow_y": null,
            "padding": null,
            "right": null,
            "top": null,
            "visibility": null,
            "width": null
          }
        },
        "77f42e8f02914c0683e0789ebf9ae1f4": {
          "model_module": "@jupyter-widgets/base",
          "model_name": "LayoutModel",
          "model_module_version": "1.2.0",
          "state": {
            "_model_module": "@jupyter-widgets/base",
            "_model_module_version": "1.2.0",
            "_model_name": "LayoutModel",
            "_view_count": null,
            "_view_module": "@jupyter-widgets/base",
            "_view_module_version": "1.2.0",
            "_view_name": "LayoutView",
            "align_content": null,
            "align_items": null,
            "align_self": null,
            "border": null,
            "bottom": null,
            "display": null,
            "flex": null,
            "flex_flow": null,
            "grid_area": null,
            "grid_auto_columns": null,
            "grid_auto_flow": null,
            "grid_auto_rows": null,
            "grid_column": null,
            "grid_gap": null,
            "grid_row": null,
            "grid_template_areas": null,
            "grid_template_columns": null,
            "grid_template_rows": null,
            "height": null,
            "justify_content": null,
            "justify_items": null,
            "left": null,
            "margin": null,
            "max_height": null,
            "max_width": null,
            "min_height": null,
            "min_width": null,
            "object_fit": null,
            "object_position": null,
            "order": null,
            "overflow": null,
            "overflow_x": null,
            "overflow_y": null,
            "padding": null,
            "right": null,
            "top": null,
            "visibility": null,
            "width": null
          }
        },
        "d3c0085593ee49daab1771da538abef5": {
          "model_module": "@jupyter-widgets/controls",
          "model_name": "DescriptionStyleModel",
          "model_module_version": "1.5.0",
          "state": {
            "_model_module": "@jupyter-widgets/controls",
            "_model_module_version": "1.5.0",
            "_model_name": "DescriptionStyleModel",
            "_view_count": null,
            "_view_module": "@jupyter-widgets/base",
            "_view_module_version": "1.2.0",
            "_view_name": "StyleView",
            "description_width": ""
          }
        },
        "46b99e3f3537465db06ce566d87631de": {
          "model_module": "@jupyter-widgets/base",
          "model_name": "LayoutModel",
          "model_module_version": "1.2.0",
          "state": {
            "_model_module": "@jupyter-widgets/base",
            "_model_module_version": "1.2.0",
            "_model_name": "LayoutModel",
            "_view_count": null,
            "_view_module": "@jupyter-widgets/base",
            "_view_module_version": "1.2.0",
            "_view_name": "LayoutView",
            "align_content": null,
            "align_items": null,
            "align_self": null,
            "border": null,
            "bottom": null,
            "display": null,
            "flex": null,
            "flex_flow": null,
            "grid_area": null,
            "grid_auto_columns": null,
            "grid_auto_flow": null,
            "grid_auto_rows": null,
            "grid_column": null,
            "grid_gap": null,
            "grid_row": null,
            "grid_template_areas": null,
            "grid_template_columns": null,
            "grid_template_rows": null,
            "height": null,
            "justify_content": null,
            "justify_items": null,
            "left": null,
            "margin": null,
            "max_height": null,
            "max_width": null,
            "min_height": null,
            "min_width": null,
            "object_fit": null,
            "object_position": null,
            "order": null,
            "overflow": null,
            "overflow_x": null,
            "overflow_y": null,
            "padding": null,
            "right": null,
            "top": null,
            "visibility": null,
            "width": null
          }
        },
        "7fa3e9d9ddbd43369ca31cee304fec1f": {
          "model_module": "@jupyter-widgets/controls",
          "model_name": "ProgressStyleModel",
          "model_module_version": "1.5.0",
          "state": {
            "_model_module": "@jupyter-widgets/controls",
            "_model_module_version": "1.5.0",
            "_model_name": "ProgressStyleModel",
            "_view_count": null,
            "_view_module": "@jupyter-widgets/base",
            "_view_module_version": "1.2.0",
            "_view_name": "StyleView",
            "bar_color": null,
            "description_width": ""
          }
        },
        "fecefbbc228641c9a921e727696375dc": {
          "model_module": "@jupyter-widgets/base",
          "model_name": "LayoutModel",
          "model_module_version": "1.2.0",
          "state": {
            "_model_module": "@jupyter-widgets/base",
            "_model_module_version": "1.2.0",
            "_model_name": "LayoutModel",
            "_view_count": null,
            "_view_module": "@jupyter-widgets/base",
            "_view_module_version": "1.2.0",
            "_view_name": "LayoutView",
            "align_content": null,
            "align_items": null,
            "align_self": null,
            "border": null,
            "bottom": null,
            "display": null,
            "flex": null,
            "flex_flow": null,
            "grid_area": null,
            "grid_auto_columns": null,
            "grid_auto_flow": null,
            "grid_auto_rows": null,
            "grid_column": null,
            "grid_gap": null,
            "grid_row": null,
            "grid_template_areas": null,
            "grid_template_columns": null,
            "grid_template_rows": null,
            "height": null,
            "justify_content": null,
            "justify_items": null,
            "left": null,
            "margin": null,
            "max_height": null,
            "max_width": null,
            "min_height": null,
            "min_width": null,
            "object_fit": null,
            "object_position": null,
            "order": null,
            "overflow": null,
            "overflow_x": null,
            "overflow_y": null,
            "padding": null,
            "right": null,
            "top": null,
            "visibility": null,
            "width": null
          }
        },
        "383c8cb7503b471788f353f5ddf5e1d9": {
          "model_module": "@jupyter-widgets/controls",
          "model_name": "DescriptionStyleModel",
          "model_module_version": "1.5.0",
          "state": {
            "_model_module": "@jupyter-widgets/controls",
            "_model_module_version": "1.5.0",
            "_model_name": "DescriptionStyleModel",
            "_view_count": null,
            "_view_module": "@jupyter-widgets/base",
            "_view_module_version": "1.2.0",
            "_view_name": "StyleView",
            "description_width": ""
          }
        }
      }
    }
  },
  "cells": [
    {
      "cell_type": "markdown",
      "metadata": {
        "id": "E07sxRz_PWs0"
      },
      "source": [
        "##BERT##"
      ]
    },
    {
      "cell_type": "markdown",
      "metadata": {
        "id": "fmAoqh2HU0_Y"
      },
      "source": [
        "Now let us try using BERT model and try doing prediction. Here we will be using Reason Bert for training."
      ]
    },
    {
      "cell_type": "code",
      "execution_count": null,
      "metadata": {
        "colab": {
          "base_uri": "https://localhost:8080/"
        },
        "id": "zfXpqPiJ6O7g",
        "outputId": "5094e0b9-cf95-430c-d39f-9159dba6d32e"
      },
      "outputs": [
        {
          "output_type": "stream",
          "name": "stdout",
          "text": [
            "Mounted at /content/drive\n"
          ]
        }
      ],
      "source": [
        "from google.colab import drive\n",
        "drive.mount('/content/drive')"
      ]
    },
    {
      "cell_type": "code",
      "execution_count": null,
      "metadata": {
        "id": "7indmM_HjyZy"
      },
      "outputs": [],
      "source": [
        "import pandas as pd\n",
        "import numpy as np\n",
        "import matplotlib.pyplot as plt\n",
        "import seaborn as sns"
      ]
    },
    {
      "cell_type": "code",
      "execution_count": null,
      "metadata": {
        "id": "hyknqtKu6O-r",
        "colab": {
          "base_uri": "https://localhost:8080/"
        },
        "outputId": "c90f78b8-a51a-403e-ca2a-7d867b288424"
      },
      "outputs": [
        {
          "output_type": "stream",
          "name": "stdout",
          "text": [
            "(21984, 7)\n",
            "(5496, 7)\n"
          ]
        }
      ],
      "source": [
        "train_data=pd.read_csv('/content/drive/MyDrive/case_study_2_new/train_pos_neg_neu.csv')\n",
        "test_data=pd.read_csv('/content/drive/MyDrive/case_study_2_new/test_pos_neg_neu.csv')\n",
        "print(train_data.shape)\n",
        "print(test_data.shape)"
      ]
    },
    {
      "cell_type": "code",
      "execution_count": null,
      "metadata": {
        "id": "vo6KKTCNgncN"
      },
      "outputs": [],
      "source": [
        "combined_train=train_data[['text','selected_text','sentiment']]\n",
        "combined_test=test_data[['text','selected_text','sentiment']]"
      ]
    },
    {
      "cell_type": "code",
      "execution_count": null,
      "metadata": {
        "id": "1NqwbJqShdJd"
      },
      "outputs": [],
      "source": [
        "combined_train=combined_train.sample(frac=1)\n",
        "combined_test=combined_test.sample(frac=1)"
      ]
    },
    {
      "cell_type": "code",
      "execution_count": null,
      "metadata": {
        "colab": {
          "base_uri": "https://localhost:8080/"
        },
        "id": "XUrzWSH8hpxb",
        "outputId": "96942e36-76b8-43fe-d43f-3cd588c11816"
      },
      "outputs": [
        {
          "output_type": "stream",
          "name": "stdout",
          "text": [
            "(21984, 3)\n",
            "(5496, 3)\n"
          ]
        }
      ],
      "source": [
        "print(combined_train.shape)\n",
        "print(combined_test.shape)"
      ]
    },
    {
      "cell_type": "code",
      "source": [
        "X_train=combined_train\n",
        "X_test=combined_test"
      ],
      "metadata": {
        "id": "sf6XWseOU82u"
      },
      "execution_count": null,
      "outputs": []
    },
    {
      "cell_type": "code",
      "execution_count": null,
      "metadata": {
        "colab": {
          "base_uri": "https://localhost:8080/"
        },
        "id": "y9YZa31PPYry",
        "outputId": "505da82b-a40e-4e3e-f1c6-d36db2d75028"
      },
      "outputs": [
        {
          "output_type": "stream",
          "name": "stdout",
          "text": [
            "Looking in indexes: https://pypi.org/simple, https://us-python.pkg.dev/colab-wheels/public/simple/\n",
            "Collecting transformers\n",
            "  Downloading transformers-4.23.1-py3-none-any.whl (5.3 MB)\n",
            "\u001b[K     |████████████████████████████████| 5.3 MB 32.0 MB/s \n",
            "\u001b[?25hCollecting tokenizers!=0.11.3,<0.14,>=0.11.1\n",
            "  Downloading tokenizers-0.13.1-cp37-cp37m-manylinux_2_17_x86_64.manylinux2014_x86_64.whl (7.6 MB)\n",
            "\u001b[K     |████████████████████████████████| 7.6 MB 53.5 MB/s \n",
            "\u001b[?25hRequirement already satisfied: filelock in /usr/local/lib/python3.7/dist-packages (from transformers) (3.8.0)\n",
            "Requirement already satisfied: requests in /usr/local/lib/python3.7/dist-packages (from transformers) (2.23.0)\n",
            "Collecting huggingface-hub<1.0,>=0.10.0\n",
            "  Downloading huggingface_hub-0.10.1-py3-none-any.whl (163 kB)\n",
            "\u001b[K     |████████████████████████████████| 163 kB 66.8 MB/s \n",
            "\u001b[?25hRequirement already satisfied: numpy>=1.17 in /usr/local/lib/python3.7/dist-packages (from transformers) (1.21.6)\n",
            "Requirement already satisfied: pyyaml>=5.1 in /usr/local/lib/python3.7/dist-packages (from transformers) (6.0)\n",
            "Requirement already satisfied: regex!=2019.12.17 in /usr/local/lib/python3.7/dist-packages (from transformers) (2022.6.2)\n",
            "Requirement already satisfied: importlib-metadata in /usr/local/lib/python3.7/dist-packages (from transformers) (4.13.0)\n",
            "Requirement already satisfied: packaging>=20.0 in /usr/local/lib/python3.7/dist-packages (from transformers) (21.3)\n",
            "Requirement already satisfied: tqdm>=4.27 in /usr/local/lib/python3.7/dist-packages (from transformers) (4.64.1)\n",
            "Requirement already satisfied: typing-extensions>=3.7.4.3 in /usr/local/lib/python3.7/dist-packages (from huggingface-hub<1.0,>=0.10.0->transformers) (4.1.1)\n",
            "Requirement already satisfied: pyparsing!=3.0.5,>=2.0.2 in /usr/local/lib/python3.7/dist-packages (from packaging>=20.0->transformers) (3.0.9)\n",
            "Requirement already satisfied: zipp>=0.5 in /usr/local/lib/python3.7/dist-packages (from importlib-metadata->transformers) (3.9.0)\n",
            "Requirement already satisfied: certifi>=2017.4.17 in /usr/local/lib/python3.7/dist-packages (from requests->transformers) (2022.9.24)\n",
            "Requirement already satisfied: idna<3,>=2.5 in /usr/local/lib/python3.7/dist-packages (from requests->transformers) (2.10)\n",
            "Requirement already satisfied: chardet<4,>=3.0.2 in /usr/local/lib/python3.7/dist-packages (from requests->transformers) (3.0.4)\n",
            "Requirement already satisfied: urllib3!=1.25.0,!=1.25.1,<1.26,>=1.21.1 in /usr/local/lib/python3.7/dist-packages (from requests->transformers) (1.24.3)\n",
            "Installing collected packages: tokenizers, huggingface-hub, transformers\n",
            "Successfully installed huggingface-hub-0.10.1 tokenizers-0.13.1 transformers-4.23.1\n"
          ]
        }
      ],
      "source": [
        "!pip install transformers"
      ]
    },
    {
      "cell_type": "code",
      "execution_count": null,
      "metadata": {
        "id": "Q7XZVhSFRWhh"
      },
      "outputs": [],
      "source": [
        "import transformers"
      ]
    },
    {
      "cell_type": "code",
      "execution_count": null,
      "metadata": {
        "colab": {
          "base_uri": "https://localhost:8080/",
          "height": 340,
          "referenced_widgets": [
            "7e72d9e68dbb456d9a061c82ab82c0a5",
            "408da984797b408f96804ebb40d8098f",
            "a6335652394347f5b5efaaeb7f7566e0",
            "f427e702d21b41dfa32a8245d60fe874",
            "470450b56a764c4d8a5f57d00ff103f9",
            "46c1da070423454e96238f4b15ab89ff",
            "dae71eda8ae842359a890402a3c054d2",
            "00ec16c1736e4cdcb1fc54e97a3135ed",
            "eebd130a9ace47aa940b7e5e9a9fd095",
            "d73ca90e546c4a86821523247e15cbf7",
            "8d1cf92421154298b152a30bbaef4cdf",
            "2c022fb37a524c7c965f8bf6faaf2845",
            "c2e94b8b893342b887a2d945525ee1c6",
            "e4d64b617d34482db8e70287c2febc5d",
            "65a683fbfa4d4b20aa20c4d02807771c",
            "3531b62ec350451ba0117a49045fc9fb",
            "24f8fc1954b04cfe961631c64c058c1e",
            "98c93966d77f48889b608b32164e6603",
            "09ae36a0b0df44b2a3566823c030960d",
            "1e0f0220e0d64d1da9e4e2f9565849f6",
            "c90cfa31cdf64be29aaf71f5f1b6568a",
            "db98711634c9496db614edac909a7933",
            "ff1ae774f6f64f59a98c9b93c10e3305",
            "86a49b64444f428480c1d8d9fb719d4d",
            "fb37cd9420d14f2d8c95e4c846f42d68",
            "b61cfa044e244560bbfabf1431100235",
            "08a3f30310f74f6fa8193da73525d7e8",
            "ccf3037e5d76458a90f7855aabd4e702",
            "7f0120598f8a47edbb24a37fae57c3c9",
            "087d5e628ac64d09b007f09e29659bf0",
            "be12ddc1220b48edb73772a42fb05ee3",
            "6e195d534ece42ec97ba7ca78b537656",
            "eac6d59e6d864539bbe84db9582760f8",
            "ce04252ee14f4bc5afc8d5b572f5d934",
            "62ff98d78b45409a819221539aff778f",
            "5f158249d08c461e96b511188f162c9a",
            "60aa87936ca849ceaa87f84166d8465f",
            "d8a5b278a02249068fa582fb890589c8",
            "ba113a1a487548c0ba6fd0c33ccd65e0",
            "bf08a02bf90b4ef5a253c19e36e8b919",
            "175455cf035c47dfac629d45c3a1f12a",
            "9dfac95000fb4336bdc56f4df2d561df",
            "e4c93150bd7b43f1873ec112aa814561",
            "f1cbde58feba483587c0240d7df2f7c1",
            "0db8edcfd99847a8bf14800c0643b915",
            "957a3b31d70c4927b79f75c05137a032",
            "2f2f5a23711e4a979ecf65e49771821f",
            "9015535a98464d5c8e0e1e15f21b9468",
            "8d72f15c1921492d9e45646f287fd784",
            "9329ec1c7203491c9f044871dea855f3",
            "d2448fb511f948559e38b0f33f958e86",
            "0aed6b3f72f54b85ad21d5db35362bad",
            "5f082298a4ba4840a060fc6c0bbef11e",
            "9998b636a2124cdc925c6aec7effc7fb",
            "ad01c18084d64baba1418217124e04a6",
            "86ee4f331d3b4f18a20c095691640f26",
            "b92fb60c4f404e259d190e85aa797d0b",
            "c27476327e2d4201a9aaa9c6bbf6da79",
            "f2e16669b28d454d8cd7ba82b50aaccc",
            "9a6441850a2349b5933f0de2b8f946f8",
            "77f42e8f02914c0683e0789ebf9ae1f4",
            "d3c0085593ee49daab1771da538abef5",
            "46b99e3f3537465db06ce566d87631de",
            "7fa3e9d9ddbd43369ca31cee304fec1f",
            "fecefbbc228641c9a921e727696375dc",
            "383c8cb7503b471788f353f5ddf5e1d9"
          ]
        },
        "id": "5n8JE_rIShaU",
        "outputId": "5333a640-05dc-4f0d-bc8a-db7965a5eecb"
      },
      "outputs": [
        {
          "output_type": "display_data",
          "data": {
            "text/plain": [
              "Downloading:   0%|          | 0.00/798k [00:00<?, ?B/s]"
            ],
            "application/vnd.jupyter.widget-view+json": {
              "version_major": 2,
              "version_minor": 0,
              "model_id": "7e72d9e68dbb456d9a061c82ab82c0a5"
            }
          },
          "metadata": {}
        },
        {
          "output_type": "display_data",
          "data": {
            "text/plain": [
              "Downloading:   0%|          | 0.00/456k [00:00<?, ?B/s]"
            ],
            "application/vnd.jupyter.widget-view+json": {
              "version_major": 2,
              "version_minor": 0,
              "model_id": "2c022fb37a524c7c965f8bf6faaf2845"
            }
          },
          "metadata": {}
        },
        {
          "output_type": "display_data",
          "data": {
            "text/plain": [
              "Downloading:   0%|          | 0.00/239 [00:00<?, ?B/s]"
            ],
            "application/vnd.jupyter.widget-view+json": {
              "version_major": 2,
              "version_minor": 0,
              "model_id": "ff1ae774f6f64f59a98c9b93c10e3305"
            }
          },
          "metadata": {}
        },
        {
          "output_type": "display_data",
          "data": {
            "text/plain": [
              "Downloading:   0%|          | 0.00/327 [00:00<?, ?B/s]"
            ],
            "application/vnd.jupyter.widget-view+json": {
              "version_major": 2,
              "version_minor": 0,
              "model_id": "ce04252ee14f4bc5afc8d5b572f5d934"
            }
          },
          "metadata": {}
        },
        {
          "output_type": "display_data",
          "data": {
            "text/plain": [
              "Downloading:   0%|          | 0.00/481 [00:00<?, ?B/s]"
            ],
            "application/vnd.jupyter.widget-view+json": {
              "version_major": 2,
              "version_minor": 0,
              "model_id": "0db8edcfd99847a8bf14800c0643b915"
            }
          },
          "metadata": {}
        },
        {
          "output_type": "stream",
          "name": "stderr",
          "text": [
            "You are using a model of type roberta to instantiate a model of type bert. This is not supported for all configurations of models and can yield errors.\n"
          ]
        },
        {
          "output_type": "display_data",
          "data": {
            "text/plain": [
              "Downloading:   0%|          | 0.00/499M [00:00<?, ?B/s]"
            ],
            "application/vnd.jupyter.widget-view+json": {
              "version_major": 2,
              "version_minor": 0,
              "model_id": "86ee4f331d3b4f18a20c095691640f26"
            }
          },
          "metadata": {}
        },
        {
          "output_type": "stream",
          "name": "stderr",
          "text": [
            "Some weights of the PyTorch model were not used when initializing the TF 2.0 model TFBertForQuestionAnswering: ['embeddings.position_ids']\n",
            "- This IS expected if you are initializing TFBertForQuestionAnswering from a PyTorch model trained on another task or with another architecture (e.g. initializing a TFBertForSequenceClassification model from a BertForPreTraining model).\n",
            "- This IS NOT expected if you are initializing TFBertForQuestionAnswering from a PyTorch model that you expect to be exactly identical (e.g. initializing a TFBertForSequenceClassification model from a BertForSequenceClassification model).\n",
            "Some weights or buffers of the TF 2.0 model TFBertForQuestionAnswering were not initialized from the PyTorch model and are newly initialized: ['qa_outputs.weight', 'qa_outputs.bias']\n",
            "You should probably TRAIN this model on a down-stream task to be able to use it for predictions and inference.\n"
          ]
        }
      ],
      "source": [
        "from transformers import TFBertForQuestionAnswering\n",
        "from transformers import RobertaTokenizer\n",
        "\n",
        "tokenizer = RobertaTokenizer.from_pretrained('osunlp/ReasonBERT-RoBERTa-base')\n",
        "roberta_model=TFBertForQuestionAnswering.from_pretrained('osunlp/ReasonBERT-RoBERTa-base',from_pt=True,output_hidden_states=True)"
      ]
    },
    {
      "cell_type": "code",
      "source": [
        "tokenizer.save_pretrained('/content/drive/MyDrive/case_study_2_new/bert_initializer_model/tokenizer')\n",
        "roberta_model.save_pretrained('/content/drive/MyDrive/case_study_2_new/bert_initializer_model/roberta_model')"
      ],
      "metadata": {
        "id": "AcyEON7UZXjh"
      },
      "execution_count": null,
      "outputs": []
    },
    {
      "cell_type": "code",
      "execution_count": null,
      "metadata": {
        "colab": {
          "base_uri": "https://localhost:8080/"
        },
        "id": "CjfGakJrau2-",
        "outputId": "ddf890b7-300a-433c-9195-50b5e8d410d0"
      },
      "outputs": [
        {
          "output_type": "stream",
          "name": "stdout",
          "text": [
            "http://twitpic.com/66xlm -  hate when my PARKED car gets hit\n",
            "[0, 8166, 640, 17137, 405, 19017, 4, 175, 73, 4280, 1178, 462, 119, 111, 1437, 4157, 77, 127, 25061, 1691, 512, 1516, 478, 2]\n",
            "<s>http://twitpic.com/66xlm -  hate when my PARKED car gets hit</s>\n"
          ]
        }
      ],
      "source": [
        "print(X_train.iloc[0]['text'])\n",
        "encoding_sample=tokenizer.encode(X_train.iloc[0]['text'])\n",
        "print(encoding_sample)\n",
        "decoding_sample=tokenizer.decode(encoding_sample)\n",
        "print(decoding_sample)"
      ]
    },
    {
      "cell_type": "markdown",
      "metadata": {
        "id": "ZVpfFLM7VC5b"
      },
      "source": [
        "The above sentence is an example of how tokenization will be in BERT. As BERT is a pretrained network we need to rokenize words according to how it was tokeized when the architecture was trained initailly."
      ]
    },
    {
      "cell_type": "code",
      "execution_count": null,
      "metadata": {
        "colab": {
          "base_uri": "https://localhost:8080/"
        },
        "id": "4fbf6D8Hfe8R",
        "outputId": "335dfa10-1697-49b9-eb78-38c0c383d85b"
      },
      "outputs": [
        {
          "output_type": "stream",
          "name": "stdout",
          "text": [
            "[0, 734, 2]\n",
            "[0, 108, 2]\n",
            "[0, 90, 2]\n",
            "[0, 10859, 23, 173, 2]\n",
            "[0, 281, 4862, 179, 2]\n"
          ]
        }
      ],
      "source": [
        "print(tokenizer.encode('...'))\n",
        "print(tokenizer.encode(\"'\"))\n",
        "print(tokenizer.encode(\"t\"))\n",
        "print(tokenizer.encode(\"here at work\"))\n",
        "print(tokenizer.encode(\"asprin\"))"
      ]
    },
    {
      "cell_type": "markdown",
      "metadata": {
        "id": "J15P-t9SfrJt"
      },
      "source": [
        "Here we can see when we encode the text each word is not encoded into a single token in all the cases. There are certain places where a word is split into certain number of tokens. So now let us see the maximum length of the whole corpus."
      ]
    },
    {
      "cell_type": "code",
      "execution_count": null,
      "metadata": {
        "id": "dQ5VjDsvT_yH"
      },
      "outputs": [],
      "source": [
        "max_length_roberta=0\n",
        "length=[]\n",
        "for i in range(len(X_train)):\n",
        "  encoding_length=len(tokenizer.encode_plus(X_train.iloc[i]['text'],X_train.iloc[i]['sentiment'])['input_ids'])\n",
        "  length.append(encoding_length)\n",
        "  if encoding_length>max_length_roberta:\n",
        "    max_length_roberta=encoding_length"
      ]
    },
    {
      "cell_type": "code",
      "execution_count": null,
      "metadata": {
        "colab": {
          "base_uri": "https://localhost:8080/"
        },
        "id": "zUMD7A6HlE32",
        "outputId": "2ad1abf3-e6fb-42c0-d6e5-04cd500e6732"
      },
      "outputs": [
        {
          "output_type": "stream",
          "name": "stdout",
          "text": [
            "Max length of the text after ecoding in roberta: 105\n"
          ]
        }
      ],
      "source": [
        "print('Max length of the text after ecoding in roberta:',max_length_roberta)"
      ]
    },
    {
      "cell_type": "code",
      "source": [
        "for i in range(0,101,25):\n",
        "  print('The {}th percentile value is {}'.format(i,np.percentile(length,i)))"
      ],
      "metadata": {
        "colab": {
          "base_uri": "https://localhost:8080/"
        },
        "id": "5I9n8OTFJcr6",
        "outputId": "2ddc83af-3192-4fba-ad39-57becf71274b"
      },
      "execution_count": null,
      "outputs": [
        {
          "output_type": "stream",
          "name": "stdout",
          "text": [
            "The 0th percentile value is 6.0\n",
            "The 25th percentile value is 15.0\n",
            "The 50th percentile value is 22.0\n",
            "The 75th percentile value is 31.0\n",
            "The 100th percentile value is 105.0\n"
          ]
        }
      ]
    },
    {
      "cell_type": "code",
      "source": [
        "for i in range(90,101,1):\n",
        "  print('The {}th percentile value is {}'.format(i,np.percentile(length,i)))"
      ],
      "metadata": {
        "colab": {
          "base_uri": "https://localhost:8080/"
        },
        "id": "z84wF6BCJ_OE",
        "outputId": "66e3a4c9-4528-468f-fe21-5d549aff7c75"
      },
      "execution_count": null,
      "outputs": [
        {
          "output_type": "stream",
          "name": "stdout",
          "text": [
            "The 90th percentile value is 37.0\n",
            "The 91th percentile value is 38.0\n",
            "The 92th percentile value is 38.0\n",
            "The 93th percentile value is 39.0\n",
            "The 94th percentile value is 40.0\n",
            "The 95th percentile value is 40.0\n",
            "The 96th percentile value is 41.0\n",
            "The 97th percentile value is 42.0\n",
            "The 98th percentile value is 44.0\n",
            "The 99th percentile value is 46.0\n",
            "The 100th percentile value is 105.0\n"
          ]
        }
      ]
    },
    {
      "cell_type": "code",
      "source": [
        "for i in np.linspace(99,100,11):\n",
        "  print('The {}th percentile value is {}'.format(i,np.percentile(length,i)))"
      ],
      "metadata": {
        "colab": {
          "base_uri": "https://localhost:8080/"
        },
        "id": "u3SR_XG5KHe9",
        "outputId": "0f240243-a2fe-4258-b08c-5f78a8a8e2a0"
      },
      "execution_count": null,
      "outputs": [
        {
          "output_type": "stream",
          "name": "stdout",
          "text": [
            "The 99.0th percentile value is 46.0\n",
            "The 99.1th percentile value is 47.0\n",
            "The 99.2th percentile value is 47.0\n",
            "The 99.3th percentile value is 47.0\n",
            "The 99.4th percentile value is 48.0\n",
            "The 99.5th percentile value is 48.0\n",
            "The 99.6th percentile value is 49.0\n",
            "The 99.7th percentile value is 50.0\n",
            "The 99.8th percentile value is 52.0\n",
            "The 99.9th percentile value is 54.0\n",
            "The 100.0th percentile value is 105.0\n"
          ]
        }
      ]
    },
    {
      "cell_type": "markdown",
      "source": [
        "Here we can see that 99.9 percentage of ext have their length as 54. here we will define the maximum length to be 55."
      ],
      "metadata": {
        "id": "q1TOtK_MK3L9"
      }
    },
    {
      "cell_type": "code",
      "source": [
        "max_length_roberta=55"
      ],
      "metadata": {
        "id": "liWHxmyxK1Wy"
      },
      "execution_count": null,
      "outputs": []
    },
    {
      "cell_type": "code",
      "execution_count": null,
      "metadata": {
        "colab": {
          "base_uri": "https://localhost:8080/"
        },
        "id": "7KhAJ11zYgcG",
        "outputId": "8a4422c7-e45d-478b-c382-8fa4bc0064a6"
      },
      "outputs": [
        {
          "output_type": "stream",
          "name": "stderr",
          "text": [
            "100%|██████████| 21984/21984 [05:58<00:00, 61.36it/s]\n"
          ]
        }
      ],
      "source": [
        "X_train_bert_input_id=np.zeros((len(combined_train),max_length_roberta))#Variable to store id of the words\n",
        "X_train_bert_mask=np.zeros((len(combined_train),max_length_roberta))#Variable to store mask of the words\n",
        "y_train_start_token=np.zeros((len(combined_train),max_length_roberta))#Variable to store start index  of the tokenized word\n",
        "y_train_end_token=np.zeros((len(combined_train),max_length_roberta))#Variable to store end index  of the tokenized word\n",
        "from tqdm import tqdm\n",
        "for i in tqdm(range(len(combined_train))):\n",
        "  text=combined_train.iloc[i]['text']\n",
        "  sentiment=combined_train.iloc[i]['sentiment']\n",
        "  selec_text=combined_train.iloc[i]['selected_text']\n",
        "  encoded=tokenizer.encode_plus(sentiment,text,max_length=max_length_roberta,return_attention_mask=True,padding='max_length',add_special_tokens=True,return_tensors='tf')\n",
        "  X_train_bert_input_id[i]=encoded['input_ids'][0][:max_length_roberta]\n",
        "  X_train_bert_mask[i]=encoded['attention_mask'][0][:max_length_roberta]\n",
        "  decoded_list=[]\n",
        "  start_idx=text.find(selec_text)\n",
        "  end_idx=start_idx+(len(selec_text)-1)\n",
        "  if sentiment=='neutral':\n",
        "    start_idx+=19 #Len of <s>neutral</s>  is 18\n",
        "    end_idx+=19 #Len of <s>neutral</s>  is 18\n",
        "  else:\n",
        "    start_idx+=20 #Len of <s>positive/negative</s>  is 19\n",
        "    end_idx+=20 #Len of <s>positive/negative</s>  is 19\n",
        "  k=0\n",
        "  cummulative_len=0\n",
        "  for s in encoded['input_ids'][0]:\n",
        "    cummulative_len=cummulative_len+len(tokenizer.decode(s))\n",
        "    if start_idx<=cummulative_len:\n",
        "      start_index=k\n",
        "      break\n",
        "    k=k+1\n",
        "  k=0\n",
        "  cummulative_len=0\n",
        "  for s in encoded['input_ids'][0]:\n",
        "    cummulative_len=cummulative_len+len(tokenizer.decode(s))\n",
        "    if end_idx<=cummulative_len:\n",
        "      end_index=k\n",
        "      break\n",
        "    k=k+1\n",
        "  try:\n",
        "    text_end_ind=list(encoded['input_ids'][0]).index(1)-1#to find the index position of </s> which is encoded as 2\n",
        "  except:\n",
        "    text_end_ind=max_length_roberta-1\n",
        "  if end_index>=text_end_ind: #Some of the word index location goes beyond </s>. To such words we give end index to be the index before that of </s>\n",
        "    end_index=text_end_ind-1\n",
        "  y_train_start_token[i][start_index]=1\n",
        "  y_train_end_token[i][end_index]=1"
      ]
    },
    {
      "cell_type": "code",
      "execution_count": null,
      "metadata": {
        "colab": {
          "base_uri": "https://localhost:8080/"
        },
        "id": "JDXrzu13-ovZ",
        "outputId": "b5c536c0-66e9-449d-a113-66a0ef74b2b8"
      },
      "outputs": [
        {
          "output_type": "stream",
          "name": "stdout",
          "text": [
            "Sample of tokenization and target setting in BERT\n",
            "1\n",
            "Text:\n",
            " - for all dad is doing like this to his son/daughter love\n",
            "Selected text\n",
            "love\n",
            "Tokenization: \n",
            "['<s>', 'positive', '</s>', '</s>', ' -', ' for', ' all', ' dad', ' is', ' doing', ' like', ' this', ' to', ' his', ' son', '/', 'daughter', ' love', '</s>', '<pad>', '<pad>', '<pad>', '<pad>', '<pad>', '<pad>', '<pad>', '<pad>', '<pad>', '<pad>', '<pad>', '<pad>', '<pad>', '<pad>', '<pad>', '<pad>', '<pad>', '<pad>', '<pad>', '<pad>', '<pad>', '<pad>', '<pad>', '<pad>', '<pad>', '<pad>', '<pad>', '<pad>', '<pad>', '<pad>', '<pad>', '<pad>', '<pad>', '<pad>', '<pad>', '<pad>']\n",
            "Input id: \n",
            "[0.0000e+00 2.2173e+04 2.0000e+00 2.0000e+00 1.1100e+02 1.3000e+01\n",
            " 7.0000e+01 4.2520e+03 1.6000e+01 6.0800e+02 1.0100e+02 4.2000e+01\n",
            " 7.0000e+00 3.9000e+01 9.7900e+02 7.3000e+01 2.6243e+04 6.5700e+02\n",
            " 2.0000e+00 1.0000e+00 1.0000e+00 1.0000e+00 1.0000e+00 1.0000e+00\n",
            " 1.0000e+00 1.0000e+00 1.0000e+00 1.0000e+00 1.0000e+00 1.0000e+00\n",
            " 1.0000e+00 1.0000e+00 1.0000e+00 1.0000e+00 1.0000e+00 1.0000e+00\n",
            " 1.0000e+00 1.0000e+00 1.0000e+00 1.0000e+00 1.0000e+00 1.0000e+00\n",
            " 1.0000e+00 1.0000e+00 1.0000e+00 1.0000e+00 1.0000e+00 1.0000e+00\n",
            " 1.0000e+00 1.0000e+00 1.0000e+00 1.0000e+00 1.0000e+00 1.0000e+00\n",
            " 1.0000e+00]\n",
            "Mask: \n",
            "[1. 1. 1. 1. 1. 1. 1. 1. 1. 1. 1. 1. 1. 1. 1. 1. 1. 1. 1. 0. 0. 0. 0. 0.\n",
            " 0. 0. 0. 0. 0. 0. 0. 0. 0. 0. 0. 0. 0. 0. 0. 0. 0. 0. 0. 0. 0. 0. 0. 0.\n",
            " 0. 0. 0. 0. 0. 0. 0.]\n",
            "Start token array: \n",
            "[0. 0. 0. 0. 0. 0. 0. 0. 0. 0. 0. 0. 0. 0. 0. 0. 0. 1. 0. 0. 0. 0. 0. 0.\n",
            " 0. 0. 0. 0. 0. 0. 0. 0. 0. 0. 0. 0. 0. 0. 0. 0. 0. 0. 0. 0. 0. 0. 0. 0.\n",
            " 0. 0. 0. 0. 0. 0. 0.]\n",
            "End token array: \n",
            "[0. 0. 0. 0. 0. 0. 0. 0. 0. 0. 0. 0. 0. 0. 0. 0. 0. 1. 0. 0. 0. 0. 0. 0.\n",
            " 0. 0. 0. 0. 0. 0. 0. 0. 0. 0. 0. 0. 0. 0. 0. 0. 0. 0. 0. 0. 0. 0. 0. 0.\n",
            " 0. 0. 0. 0. 0. 0. 0.]\n",
            "****************************************************************************************************\n",
            "2\n",
            "Text:\n",
            "trying to draw some manga/anime for our new website ... very bad idea!   http://bit.ly/k6iOv\n",
            "Selected text\n",
            "very bad idea!\n",
            "Tokenization: \n",
            "['<s>', 'negative', '</s>', '</s>', 't', 'rying', ' to', ' draw', ' some', ' manga', '/', 'an', 'ime', ' for', ' our', ' new', ' website', '...', ' very', ' bad', ' idea', '!', ' ', ' ', ' http', '://', 'bit', '.', 'ly', '/', 'k', '6', 'i', 'O', 'v', '</s>', '<pad>', '<pad>', '<pad>', '<pad>', '<pad>', '<pad>', '<pad>', '<pad>', '<pad>', '<pad>', '<pad>', '<pad>', '<pad>', '<pad>', '<pad>', '<pad>', '<pad>', '<pad>', '<pad>']\n",
            "Input id: \n",
            "[0.0000e+00 3.3407e+04 2.0000e+00 2.0000e+00 9.0000e+01 1.5975e+04\n",
            " 7.0000e+00 2.4510e+03 1.0300e+02 3.8996e+04 7.3000e+01 2.6000e+02\n",
            " 4.2350e+03 1.3000e+01 8.4000e+01 9.2000e+01 9.9800e+02 1.6660e+03\n",
            " 1.8200e+02 1.0990e+03 1.1140e+03 3.2800e+02 1.4370e+03 1.4370e+03\n",
            " 2.0540e+03 6.4000e+02 5.8810e+03 4.0000e+00 3.5200e+02 7.3000e+01\n",
            " 3.3000e+02 4.0100e+02 1.1800e+02 6.7300e+02 7.0500e+02 2.0000e+00\n",
            " 1.0000e+00 1.0000e+00 1.0000e+00 1.0000e+00 1.0000e+00 1.0000e+00\n",
            " 1.0000e+00 1.0000e+00 1.0000e+00 1.0000e+00 1.0000e+00 1.0000e+00\n",
            " 1.0000e+00 1.0000e+00 1.0000e+00 1.0000e+00 1.0000e+00 1.0000e+00\n",
            " 1.0000e+00]\n",
            "Mask: \n",
            "[1. 1. 1. 1. 1. 1. 1. 1. 1. 1. 1. 1. 1. 1. 1. 1. 1. 1. 1. 1. 1. 1. 1. 1.\n",
            " 1. 1. 1. 1. 1. 1. 1. 1. 1. 1. 1. 1. 0. 0. 0. 0. 0. 0. 0. 0. 0. 0. 0. 0.\n",
            " 0. 0. 0. 0. 0. 0. 0.]\n",
            "Start token array: \n",
            "[0. 0. 0. 0. 0. 0. 0. 0. 0. 0. 0. 0. 0. 0. 0. 0. 0. 0. 1. 0. 0. 0. 0. 0.\n",
            " 0. 0. 0. 0. 0. 0. 0. 0. 0. 0. 0. 0. 0. 0. 0. 0. 0. 0. 0. 0. 0. 0. 0. 0.\n",
            " 0. 0. 0. 0. 0. 0. 0.]\n",
            "End token array: \n",
            "[0. 0. 0. 0. 0. 0. 0. 0. 0. 0. 0. 0. 0. 0. 0. 0. 0. 0. 0. 0. 0. 0. 1. 0.\n",
            " 0. 0. 0. 0. 0. 0. 0. 0. 0. 0. 0. 0. 0. 0. 0. 0. 0. 0. 0. 0. 0. 0. 0. 0.\n",
            " 0. 0. 0. 0. 0. 0. 0.]\n",
            "****************************************************************************************************\n",
            "3\n",
            "Text:\n",
            "test test from the LG enV2\n",
            "Selected text\n",
            "test test from the LG enV2\n",
            "Tokenization: \n",
            "['<s>', 'neutral', '</s>', '</s>', 'test', ' test', ' from', ' the', ' LG', ' en', 'V', '2', '</s>', '<pad>', '<pad>', '<pad>', '<pad>', '<pad>', '<pad>', '<pad>', '<pad>', '<pad>', '<pad>', '<pad>', '<pad>', '<pad>', '<pad>', '<pad>', '<pad>', '<pad>', '<pad>', '<pad>', '<pad>', '<pad>', '<pad>', '<pad>', '<pad>', '<pad>', '<pad>', '<pad>', '<pad>', '<pad>', '<pad>', '<pad>', '<pad>', '<pad>', '<pad>', '<pad>', '<pad>', '<pad>', '<pad>', '<pad>', '<pad>', '<pad>', '<pad>']\n",
            "Input id: \n",
            "[0.0000e+00 1.2516e+04 2.0000e+00 2.0000e+00 2.1959e+04 1.2960e+03\n",
            " 3.1000e+01 5.0000e+00 9.5280e+03 1.1770e+03 8.4600e+02 1.7600e+02\n",
            " 2.0000e+00 1.0000e+00 1.0000e+00 1.0000e+00 1.0000e+00 1.0000e+00\n",
            " 1.0000e+00 1.0000e+00 1.0000e+00 1.0000e+00 1.0000e+00 1.0000e+00\n",
            " 1.0000e+00 1.0000e+00 1.0000e+00 1.0000e+00 1.0000e+00 1.0000e+00\n",
            " 1.0000e+00 1.0000e+00 1.0000e+00 1.0000e+00 1.0000e+00 1.0000e+00\n",
            " 1.0000e+00 1.0000e+00 1.0000e+00 1.0000e+00 1.0000e+00 1.0000e+00\n",
            " 1.0000e+00 1.0000e+00 1.0000e+00 1.0000e+00 1.0000e+00 1.0000e+00\n",
            " 1.0000e+00 1.0000e+00 1.0000e+00 1.0000e+00 1.0000e+00 1.0000e+00\n",
            " 1.0000e+00]\n",
            "Mask: \n",
            "[1. 1. 1. 1. 1. 1. 1. 1. 1. 1. 1. 1. 1. 0. 0. 0. 0. 0. 0. 0. 0. 0. 0. 0.\n",
            " 0. 0. 0. 0. 0. 0. 0. 0. 0. 0. 0. 0. 0. 0. 0. 0. 0. 0. 0. 0. 0. 0. 0. 0.\n",
            " 0. 0. 0. 0. 0. 0. 0.]\n",
            "Start token array: \n",
            "[0. 0. 0. 0. 1. 0. 0. 0. 0. 0. 0. 0. 0. 0. 0. 0. 0. 0. 0. 0. 0. 0. 0. 0.\n",
            " 0. 0. 0. 0. 0. 0. 0. 0. 0. 0. 0. 0. 0. 0. 0. 0. 0. 0. 0. 0. 0. 0. 0. 0.\n",
            " 0. 0. 0. 0. 0. 0. 0.]\n",
            "End token array: \n",
            "[0. 0. 0. 0. 0. 0. 0. 0. 0. 0. 0. 1. 0. 0. 0. 0. 0. 0. 0. 0. 0. 0. 0. 0.\n",
            " 0. 0. 0. 0. 0. 0. 0. 0. 0. 0. 0. 0. 0. 0. 0. 0. 0. 0. 0. 0. 0. 0. 0. 0.\n",
            " 0. 0. 0. 0. 0. 0. 0.]\n",
            "****************************************************************************************************\n",
            "4\n",
            "Text:\n",
            "_kap But I think it`s cute.  Do this every night okay?\n",
            "Selected text\n",
            "cute.\n",
            "Tokenization: \n",
            "['<s>', 'positive', '</s>', '</s>', '_', 'k', 'ap', ' But', ' I', ' think', ' it', '`', 's', ' cute', '.', ' ', ' Do', ' this', ' every', ' night', ' okay', '?', '</s>', '<pad>', '<pad>', '<pad>', '<pad>', '<pad>', '<pad>', '<pad>', '<pad>', '<pad>', '<pad>', '<pad>', '<pad>', '<pad>', '<pad>', '<pad>', '<pad>', '<pad>', '<pad>', '<pad>', '<pad>', '<pad>', '<pad>', '<pad>', '<pad>', '<pad>', '<pad>', '<pad>', '<pad>', '<pad>', '<pad>', '<pad>', '<pad>']\n",
            "Input id: \n",
            "[0.0000e+00 2.2173e+04 2.0000e+00 2.0000e+00 1.2150e+03 3.3000e+02\n",
            " 1.1150e+03 1.2500e+02 3.8000e+01 2.0600e+02 2.4000e+01 1.2905e+04\n",
            " 2.9000e+01 1.1962e+04 4.0000e+00 1.4370e+03 1.8320e+03 4.2000e+01\n",
            " 3.5800e+02 3.6300e+02 8.5780e+03 1.1600e+02 2.0000e+00 1.0000e+00\n",
            " 1.0000e+00 1.0000e+00 1.0000e+00 1.0000e+00 1.0000e+00 1.0000e+00\n",
            " 1.0000e+00 1.0000e+00 1.0000e+00 1.0000e+00 1.0000e+00 1.0000e+00\n",
            " 1.0000e+00 1.0000e+00 1.0000e+00 1.0000e+00 1.0000e+00 1.0000e+00\n",
            " 1.0000e+00 1.0000e+00 1.0000e+00 1.0000e+00 1.0000e+00 1.0000e+00\n",
            " 1.0000e+00 1.0000e+00 1.0000e+00 1.0000e+00 1.0000e+00 1.0000e+00\n",
            " 1.0000e+00]\n",
            "Mask: \n",
            "[1. 1. 1. 1. 1. 1. 1. 1. 1. 1. 1. 1. 1. 1. 1. 1. 1. 1. 1. 1. 1. 1. 1. 0.\n",
            " 0. 0. 0. 0. 0. 0. 0. 0. 0. 0. 0. 0. 0. 0. 0. 0. 0. 0. 0. 0. 0. 0. 0. 0.\n",
            " 0. 0. 0. 0. 0. 0. 0.]\n",
            "Start token array: \n",
            "[0. 0. 0. 0. 0. 0. 0. 0. 0. 0. 0. 0. 0. 1. 0. 0. 0. 0. 0. 0. 0. 0. 0. 0.\n",
            " 0. 0. 0. 0. 0. 0. 0. 0. 0. 0. 0. 0. 0. 0. 0. 0. 0. 0. 0. 0. 0. 0. 0. 0.\n",
            " 0. 0. 0. 0. 0. 0. 0.]\n",
            "End token array: \n",
            "[0. 0. 0. 0. 0. 0. 0. 0. 0. 0. 0. 0. 0. 0. 1. 0. 0. 0. 0. 0. 0. 0. 0. 0.\n",
            " 0. 0. 0. 0. 0. 0. 0. 0. 0. 0. 0. 0. 0. 0. 0. 0. 0. 0. 0. 0. 0. 0. 0. 0.\n",
            " 0. 0. 0. 0. 0. 0. 0.]\n",
            "****************************************************************************************************\n",
            "5\n",
            "Text:\n",
            " it`s the little thing that links us to England\n",
            "Selected text\n",
            "it`s the little thing that links us to England\n",
            "Tokenization: \n",
            "['<s>', 'neutral', '</s>', '</s>', ' it', '`', 's', ' the', ' little', ' thing', ' that', ' links', ' us', ' to', ' England', '</s>', '<pad>', '<pad>', '<pad>', '<pad>', '<pad>', '<pad>', '<pad>', '<pad>', '<pad>', '<pad>', '<pad>', '<pad>', '<pad>', '<pad>', '<pad>', '<pad>', '<pad>', '<pad>', '<pad>', '<pad>', '<pad>', '<pad>', '<pad>', '<pad>', '<pad>', '<pad>', '<pad>', '<pad>', '<pad>', '<pad>', '<pad>', '<pad>', '<pad>', '<pad>', '<pad>', '<pad>', '<pad>', '<pad>', '<pad>']\n",
            "Input id: \n",
            "[0.0000e+00 1.2516e+04 2.0000e+00 2.0000e+00 2.4000e+01 1.2905e+04\n",
            " 2.9000e+01 5.0000e+00 4.1000e+02 6.3100e+02 1.4000e+01 5.6780e+03\n",
            " 2.0100e+02 7.0000e+00 1.1560e+03 2.0000e+00 1.0000e+00 1.0000e+00\n",
            " 1.0000e+00 1.0000e+00 1.0000e+00 1.0000e+00 1.0000e+00 1.0000e+00\n",
            " 1.0000e+00 1.0000e+00 1.0000e+00 1.0000e+00 1.0000e+00 1.0000e+00\n",
            " 1.0000e+00 1.0000e+00 1.0000e+00 1.0000e+00 1.0000e+00 1.0000e+00\n",
            " 1.0000e+00 1.0000e+00 1.0000e+00 1.0000e+00 1.0000e+00 1.0000e+00\n",
            " 1.0000e+00 1.0000e+00 1.0000e+00 1.0000e+00 1.0000e+00 1.0000e+00\n",
            " 1.0000e+00 1.0000e+00 1.0000e+00 1.0000e+00 1.0000e+00 1.0000e+00\n",
            " 1.0000e+00]\n",
            "Mask: \n",
            "[1. 1. 1. 1. 1. 1. 1. 1. 1. 1. 1. 1. 1. 1. 1. 1. 0. 0. 0. 0. 0. 0. 0. 0.\n",
            " 0. 0. 0. 0. 0. 0. 0. 0. 0. 0. 0. 0. 0. 0. 0. 0. 0. 0. 0. 0. 0. 0. 0. 0.\n",
            " 0. 0. 0. 0. 0. 0. 0.]\n",
            "Start token array: \n",
            "[0. 0. 0. 0. 1. 0. 0. 0. 0. 0. 0. 0. 0. 0. 0. 0. 0. 0. 0. 0. 0. 0. 0. 0.\n",
            " 0. 0. 0. 0. 0. 0. 0. 0. 0. 0. 0. 0. 0. 0. 0. 0. 0. 0. 0. 0. 0. 0. 0. 0.\n",
            " 0. 0. 0. 0. 0. 0. 0.]\n",
            "End token array: \n",
            "[0. 0. 0. 0. 0. 0. 0. 0. 0. 0. 0. 0. 0. 0. 1. 0. 0. 0. 0. 0. 0. 0. 0. 0.\n",
            " 0. 0. 0. 0. 0. 0. 0. 0. 0. 0. 0. 0. 0. 0. 0. 0. 0. 0. 0. 0. 0. 0. 0. 0.\n",
            " 0. 0. 0. 0. 0. 0. 0.]\n",
            "****************************************************************************************************\n"
          ]
        }
      ],
      "source": [
        "print(\"Sample of tokenization and target setting in BERT\")\n",
        "for i in range(5):\n",
        "  print(i+1)\n",
        "  d_l=[]\n",
        "  print('Text:' )\n",
        "  print(combined_train.iloc[i]['text'])\n",
        "  print('Selected text')\n",
        "  print(combined_train.iloc[i]['selected_text'])\n",
        "  encoded_tr=tokenizer.encode_plus(combined_train.iloc[i]['sentiment'],combined_train.iloc[i]['text'],max_length=max_length_roberta,return_attention_mask=True,padding='max_length',add_special_tokens=True,return_tensors='tf')\n",
        "  for s in encoded_tr['input_ids'][0]:\n",
        "    d_l.append(tokenizer.decode(s))\n",
        "  print(\"Tokenization: \")\n",
        "  print(d_l)\n",
        "  print(\"Input id: \")\n",
        "  print(X_train_bert_input_id[i])\n",
        "  print(\"Mask: \")\n",
        "  print(X_train_bert_mask[i])\n",
        "  print(\"Start token array: \")\n",
        "  print(y_train_start_token[i])\n",
        "  print('End token array: ')\n",
        "  print(y_train_end_token[i])\n",
        "  print('**********'*10)"
      ]
    },
    {
      "cell_type": "code",
      "execution_count": null,
      "metadata": {
        "colab": {
          "base_uri": "https://localhost:8080/"
        },
        "id": "1cbFPoG41td0",
        "outputId": "667f0847-5671-4541-f576-da8cb6a5d34f"
      },
      "outputs": [
        {
          "output_type": "stream",
          "name": "stderr",
          "text": [
            "100%|██████████| 5496/5496 [01:34<00:00, 58.11it/s]\n"
          ]
        }
      ],
      "source": [
        "X_test_bert_input_id=np.zeros((len(combined_test),max_length_roberta))\n",
        "X_test_bert_mask=np.zeros((len(combined_test),max_length_roberta))\n",
        "y_test_start_token=np.zeros((len(combined_test),max_length_roberta))\n",
        "y_test_end_token=np.zeros((len(combined_test),max_length_roberta))\n",
        "from tqdm import tqdm\n",
        "for i in tqdm(range(len(combined_test))):\n",
        "  text=combined_test.iloc[i]['text']\n",
        "  sentiment=combined_test.iloc[i]['sentiment']\n",
        "  selec_text=combined_test.iloc[i]['selected_text']\n",
        "  encoded=tokenizer.encode_plus(sentiment,text,max_length=max_length_roberta,return_attention_mask=True,padding='max_length',add_special_tokens=True,return_tensors='tf')\n",
        "  X_test_bert_input_id[i]=encoded['input_ids'][0][:max_length_roberta]\n",
        "  X_test_bert_mask[i]=encoded['attention_mask'][0][:max_length_roberta]\n",
        "  decoded_list=[]\n",
        "  start_idx=text.find(selec_text)\n",
        "  end_idx=start_idx+(len(selec_text)-1)\n",
        "  if sentiment=='neutral':\n",
        "    start_idx+=19 #Len of <s>neutral</s>  is 18\n",
        "    end_idx+=19 #Len of <s>neutral</s>  is 18\n",
        "  else:\n",
        "    start_idx+=20 #Len of <s>positive/negative</s>  is 19\n",
        "    end_idx+=20 #Len of <s>positive/negative</s> is 19\n",
        "  k=0\n",
        "  cummulative_len=0\n",
        "  for s in encoded['input_ids'][0]:\n",
        "    cummulative_len=cummulative_len+len(tokenizer.decode(s))\n",
        "    if start_idx<=cummulative_len:\n",
        "      start_index=k\n",
        "      break\n",
        "    k=k+1\n",
        "  k=0\n",
        "  cummulative_len=0\n",
        "  for s in encoded['input_ids'][0]:\n",
        "    cummulative_len=cummulative_len+len(tokenizer.decode(s))\n",
        "    if end_idx<=cummulative_len:\n",
        "      end_index=k\n",
        "      break\n",
        "    k=k+1\n",
        "  try:\n",
        "    text_end_ind=list(encoded['input_ids'][0]).index(1)-1#to find the index position of </s> which is encoded as 2\n",
        "  except:\n",
        "    text_end_ind=max_length_roberta-1\n",
        "  if end_index>=text_end_ind: #Some of the word index location goes beyond </s>. To such words we give end index to be the index before that of </s>\n",
        "    end_index=text_end_ind-1\n",
        "  y_test_start_token[i][start_index]=1\n",
        "  y_test_end_token[i][end_index]=1"
      ]
    },
    {
      "cell_type": "code",
      "execution_count": null,
      "metadata": {
        "colab": {
          "base_uri": "https://localhost:8080/"
        },
        "id": "TPT00nZoKUYj",
        "outputId": "e2a77a90-7150-4631-e217-0684450c37fe"
      },
      "outputs": [
        {
          "output_type": "stream",
          "name": "stdout",
          "text": [
            "_KittyKat hello new follower  haha!! how are ya? /n haha!\n",
            "['<s>', 'positive', '</s>', '</s>', '_', 'K', 'itty', 'Kat', ' hello', ' new', ' follower', ' ', ' haha', '!!', ' how', ' are', ' ya', '?', '</s>', '<pad>', '<pad>', '<pad>', '<pad>', '<pad>', '<pad>', '<pad>', '<pad>', '<pad>', '<pad>', '<pad>', '<pad>', '<pad>', '<pad>', '<pad>', '<pad>', '<pad>', '<pad>', '<pad>', '<pad>', '<pad>', '<pad>', '<pad>', '<pad>', '<pad>', '<pad>', '<pad>', '<pad>', '<pad>', '<pad>', '<pad>', '<pad>', '<pad>', '<pad>', '<pad>', '<pad>']\n"
          ]
        }
      ],
      "source": [
        "d_l=[]\n",
        "print(combined_test.iloc[i]['text'],'/n',combined_test.iloc[i]['selected_text'])\n",
        "encoded_tr=tokenizer.encode_plus(combined_test.iloc[i]['sentiment'],combined_test.iloc[i]['text'],max_length=max_length_roberta,return_attention_mask=True,padding='max_length',add_special_tokens=True,return_tensors='tf')\n",
        "for s in encoded_tr['input_ids'][0]:\n",
        "  d_l.append(tokenizer.decode(s))\n",
        "print(d_l)"
      ]
    },
    {
      "cell_type": "code",
      "execution_count": null,
      "metadata": {
        "colab": {
          "base_uri": "https://localhost:8080/"
        },
        "id": "pLw0btsyKUVj",
        "outputId": "2bb85b85-457f-42d5-e366-eb7e3fec5353"
      },
      "outputs": [
        {
          "output_type": "stream",
          "name": "stdout",
          "text": [
            "[0.0000e+00 2.2173e+04 2.0000e+00 2.0000e+00 1.2150e+03 5.3000e+02\n",
            " 1.8308e+04 2.7029e+04 2.0760e+04 9.2000e+01 3.1744e+04 1.4370e+03\n",
            " 4.6116e+04 1.2846e+04 1.4100e+02 3.2000e+01 1.3531e+04 1.1600e+02\n",
            " 2.0000e+00 1.0000e+00 1.0000e+00 1.0000e+00 1.0000e+00 1.0000e+00\n",
            " 1.0000e+00 1.0000e+00 1.0000e+00 1.0000e+00 1.0000e+00 1.0000e+00\n",
            " 1.0000e+00 1.0000e+00 1.0000e+00 1.0000e+00 1.0000e+00 1.0000e+00\n",
            " 1.0000e+00 1.0000e+00 1.0000e+00 1.0000e+00 1.0000e+00 1.0000e+00\n",
            " 1.0000e+00 1.0000e+00 1.0000e+00 1.0000e+00 1.0000e+00 1.0000e+00\n",
            " 1.0000e+00 1.0000e+00 1.0000e+00 1.0000e+00 1.0000e+00 1.0000e+00\n",
            " 1.0000e+00] [1. 1. 1. 1. 1. 1. 1. 1. 1. 1. 1. 1. 1. 1. 1. 1. 1. 1. 1. 0. 0. 0. 0. 0.\n",
            " 0. 0. 0. 0. 0. 0. 0. 0. 0. 0. 0. 0. 0. 0. 0. 0. 0. 0. 0. 0. 0. 0. 0. 0.\n",
            " 0. 0. 0. 0. 0. 0. 0.] [0. 0. 0. 0. 0. 0. 0. 0. 0. 0. 0. 0. 1. 0. 0. 0. 0. 0. 0. 0. 0. 0. 0. 0.\n",
            " 0. 0. 0. 0. 0. 0. 0. 0. 0. 0. 0. 0. 0. 0. 0. 0. 0. 0. 0. 0. 0. 0. 0. 0.\n",
            " 0. 0. 0. 0. 0. 0. 0.] [0. 0. 0. 0. 0. 0. 0. 0. 0. 0. 0. 0. 0. 1. 0. 0. 0. 0. 0. 0. 0. 0. 0. 0.\n",
            " 0. 0. 0. 0. 0. 0. 0. 0. 0. 0. 0. 0. 0. 0. 0. 0. 0. 0. 0. 0. 0. 0. 0. 0.\n",
            " 0. 0. 0. 0. 0. 0. 0.]\n"
          ]
        }
      ],
      "source": [
        "print(X_test_bert_input_id[i],X_test_bert_mask[i],y_test_start_token[i],y_test_end_token[i])"
      ]
    },
    {
      "cell_type": "code",
      "execution_count": null,
      "metadata": {
        "id": "uQTkg4XrPNhw"
      },
      "outputs": [],
      "source": [
        "np.save('/content/X_test_bert_input_id',X_test_bert_input_id)\n",
        "np.save('/content/X_test_bert_mask',X_test_bert_mask)\n",
        "np.save('/content/y_test_start_token',y_test_start_token)\n",
        "np.save('/content/y_test_end_token',y_test_end_token)"
      ]
    },
    {
      "cell_type": "code",
      "source": [
        "np.save('/content/X_train_bert_input_id',X_train_bert_input_id)\n",
        "np.save('/content/X_train_bert_mask',X_train_bert_mask)\n",
        "np.save('/content/y_train_start_token',y_train_start_token)\n",
        "np.save('/content/y_train_end_token',y_train_end_token)"
      ],
      "metadata": {
        "id": "OLTqqOdRNDE_"
      },
      "execution_count": null,
      "outputs": []
    },
    {
      "cell_type": "code",
      "source": [
        "X_train_bert_input_id=np.load('/content/X_train_bert_input_id.npy')\n",
        "X_train_bert_mask=np.load('/content/X_train_bert_mask.npy')\n",
        "y_train_start_token=np.load('/content/y_train_start_token.npy')\n",
        "y_train_end_token=np.load('/content/y_train_end_token.npy')\n",
        "\n",
        "X_test_bert_input_id=np.load('/content/X_test_bert_input_id.npy')\n",
        "X_test_bert_mask=np.load('/content/X_test_bert_mask.npy')\n",
        "y_test_start_token=np.load('/content/y_test_start_token.npy')\n",
        "y_test_end_token=np.load('/content/y_test_end_token.npy')"
      ],
      "metadata": {
        "id": "wF9ni6wbIYdE"
      },
      "execution_count": null,
      "outputs": []
    },
    {
      "cell_type": "code",
      "source": [
        "print(X_train_bert_input_id.shape)\n",
        "print(X_test_bert_input_id.shape)"
      ],
      "metadata": {
        "colab": {
          "base_uri": "https://localhost:8080/"
        },
        "id": "RQLOWx5MQABY",
        "outputId": "4aa2420a-2740-4187-83d7-87a8ee418ff7"
      },
      "execution_count": null,
      "outputs": [
        {
          "output_type": "stream",
          "name": "stdout",
          "text": [
            "(21984, 55)\n",
            "(5496, 55)\n"
          ]
        }
      ]
    },
    {
      "cell_type": "code",
      "execution_count": null,
      "metadata": {
        "id": "5rI2Q5DPPMa4"
      },
      "outputs": [],
      "source": [
        "from tensorflow.keras.models import Model\n",
        "from tensorflow.keras.layers import Input,Softmax,Dense,Activation,Dropout,Conv1D,Flatten,GRU\n",
        "import tensorflow as tf"
      ]
    },
    {
      "cell_type": "code",
      "execution_count": null,
      "metadata": {
        "id": "nOrZY-v7aljL"
      },
      "outputs": [],
      "source": [
        "from transformers import AutoTokenizer,TFAutoModel\n",
        "tf.keras.backend.clear_session()\n",
        "input1 = Input(shape=(max_length_roberta,),name='input_id',dtype=tf.int32)\n",
        "input2 = Input(shape=(max_length_roberta,),name='attention_mask',dtype=tf.int32)\n",
        "scores = roberta_model(input1,attention_mask=input2)\n",
        "dropout1=Dropout(0.2)(scores.hidden_states[-1])\n",
        "dropout2=Dropout(0.2)(scores.hidden_states[-1])\n",
        "conv1=Conv1D(8,1)(dropout1)\n",
        "conv2=Conv1D(8,1)(dropout2)\n",
        "dropout3=Dropout(0.2)(conv1)\n",
        "dropout4=Dropout(0.2)(conv2)\n",
        "conv3=Conv1D(1,1)(dropout3)\n",
        "conv4=Conv1D(1,1)(dropout4)\n",
        "\n",
        "flatten1=Flatten()(conv3)\n",
        "flatten2=Flatten()(conv4)\n",
        "softmax1 = Activation('softmax')(flatten1)\n",
        "softmax2 = Activation('softmax')(flatten2)"
      ]
    },
    {
      "cell_type": "markdown",
      "metadata": {
        "id": "BtiF_jtrWof8"
      },
      "source": [
        "Here instead of taking the start and end logits of the model we are taking the output of the final layer form the bert. by doing so we tend to get the representation of words where the vector for each word will be 768 vectors. On top of these representations we have used Conv1D which will be trained during the training."
      ]
    },
    {
      "cell_type": "code",
      "execution_count": null,
      "metadata": {
        "id": "tbjORNNOl9lM"
      },
      "outputs": [],
      "source": [
        "model = Model(inputs=[input1,input2],outputs=[softmax1,softmax2])"
      ]
    },
    {
      "cell_type": "code",
      "execution_count": null,
      "metadata": {
        "id": "JRK-rUw6DL7H"
      },
      "outputs": [],
      "source": [
        "model1= Model(inputs=[input1,input2],outputs=[softmax1,softmax2])"
      ]
    },
    {
      "cell_type": "code",
      "execution_count": null,
      "metadata": {
        "colab": {
          "base_uri": "https://localhost:8080/"
        },
        "id": "ew4CWrIiZhK-",
        "outputId": "971d337d-bb49-469a-a929-179579e0bec1"
      },
      "outputs": [
        {
          "output_type": "stream",
          "name": "stdout",
          "text": [
            "Model: \"model\"\n",
            "__________________________________________________________________________________________________\n",
            " Layer (type)                   Output Shape         Param #     Connected to                     \n",
            "==================================================================================================\n",
            " input_id (InputLayer)          [(None, 55)]         0           []                               \n",
            "                                                                                                  \n",
            " attention_mask (InputLayer)    [(None, 55)]         0           []                               \n",
            "                                                                                                  \n",
            " tf_bert_for_question_answering  TFQuestionAnswering  124057346  ['input_id[0][0]',               \n",
            "  (TFBertForQuestionAnswering)  ModelOutput(loss=No               'attention_mask[0][0]']         \n",
            "                                ne, start_logits=(N                                               \n",
            "                                one, 55),                                                         \n",
            "                                 end_logits=(None,                                                \n",
            "                                55),                                                              \n",
            "                                 hidden_states=((No                                               \n",
            "                                ne, 55, 768),                                                     \n",
            "                                 (None, 55, 768),                                                 \n",
            "                                 (None, 55, 768),                                                 \n",
            "                                 (None, 55, 768),                                                 \n",
            "                                 (None, 55, 768),                                                 \n",
            "                                 (None, 55, 768),                                                 \n",
            "                                 (None, 55, 768),                                                 \n",
            "                                 (None, 55, 768),                                                 \n",
            "                                 (None, 55, 768),                                                 \n",
            "                                 (None, 55, 768),                                                 \n",
            "                                 (None, 55, 768),                                                 \n",
            "                                 (None, 55, 768),                                                 \n",
            "                                 (None, 55, 768)),                                                \n",
            "                                 attentions=None)                                                 \n",
            "                                                                                                  \n",
            " dropout (Dropout)              (None, 55, 768)      0           ['tf_bert_for_question_answering[\n",
            "                                                                 0][13]']                         \n",
            "                                                                                                  \n",
            " dropout_1 (Dropout)            (None, 55, 768)      0           ['tf_bert_for_question_answering[\n",
            "                                                                 0][13]']                         \n",
            "                                                                                                  \n",
            " conv1d (Conv1D)                (None, 55, 8)        6152        ['dropout[0][0]']                \n",
            "                                                                                                  \n",
            " conv1d_1 (Conv1D)              (None, 55, 8)        6152        ['dropout_1[0][0]']              \n",
            "                                                                                                  \n",
            " dropout_2 (Dropout)            (None, 55, 8)        0           ['conv1d[0][0]']                 \n",
            "                                                                                                  \n",
            " dropout_3 (Dropout)            (None, 55, 8)        0           ['conv1d_1[0][0]']               \n",
            "                                                                                                  \n",
            " conv1d_2 (Conv1D)              (None, 55, 1)        9           ['dropout_2[0][0]']              \n",
            "                                                                                                  \n",
            " conv1d_3 (Conv1D)              (None, 55, 1)        9           ['dropout_3[0][0]']              \n",
            "                                                                                                  \n",
            " flatten (Flatten)              (None, 55)           0           ['conv1d_2[0][0]']               \n",
            "                                                                                                  \n",
            " flatten_1 (Flatten)            (None, 55)           0           ['conv1d_3[0][0]']               \n",
            "                                                                                                  \n",
            " activation (Activation)        (None, 55)           0           ['flatten[0][0]']                \n",
            "                                                                                                  \n",
            " activation_1 (Activation)      (None, 55)           0           ['flatten_1[0][0]']              \n",
            "                                                                                                  \n",
            "==================================================================================================\n",
            "Total params: 124,069,668\n",
            "Trainable params: 124,069,668\n",
            "Non-trainable params: 0\n",
            "__________________________________________________________________________________________________\n"
          ]
        }
      ],
      "source": [
        "model.summary()"
      ]
    },
    {
      "cell_type": "code",
      "execution_count": null,
      "metadata": {
        "colab": {
          "base_uri": "https://localhost:8080/",
          "height": 385
        },
        "id": "9gTKehQ2e5-_",
        "outputId": "518c96cd-c255-4195-b661-6a112512d12a"
      },
      "outputs": [
        {
          "output_type": "execute_result",
          "data": {
            "image/png": "[encoded data removed]",
            "text/plain": [
              "<IPython.core.display.Image object>"
            ]
          },
          "metadata": {},
          "execution_count": 22
        }
      ],
      "source": [
        "import tensorflow as tf\n",
        "tf.keras.utils.plot_model(model, 'Model.png',show_shapes=True)"
      ]
    },
    {
      "cell_type": "code",
      "execution_count": null,
      "metadata": {
        "id": "gAh9KIJwfr16"
      },
      "outputs": [],
      "source": [
        "input_data = (X_train_bert_input_id,X_train_bert_mask)\n",
        "output_data = (y_train_start_token,y_train_end_token)\n",
        "\n",
        "val = (X_test_bert_input_id,X_test_bert_mask)\n",
        "output_val = (y_test_start_token,y_test_end_token)\n",
        "val_data = (val,output_val)"
      ]
    },
    {
      "cell_type": "code",
      "source": [
        "import warnings\n",
        "warnings.filterwarnings('ignore')"
      ],
      "metadata": {
        "id": "cfl4Q4cEZ_pM"
      },
      "execution_count": null,
      "outputs": []
    },
    {
      "cell_type": "code",
      "source": [
        "opt = tf.keras.optimizers.Adam(learning_rate=0.00001)\n",
        "log_dir= \"/content/drive/MyDrive/case_study_2_new/bert_TBlog1\"\n",
        "reduce_lr=tf.keras.callbacks.ReduceLROnPlateau(monitor=\"val_loss\",factor=0.1,patience=2,verbose=1,min_delta=0.01,min_lr=0.0000001)\n",
        "model_checkpoint=tf.keras.callbacks.ModelCheckpoint('/content',monitor='val_loss',verbose=1,save_best_only=True,save_weights=True)\n",
        "\n",
        "model.compile(optimizer=opt,loss='categorical_crossentropy')\n",
        "\n",
        "model.fit(input_data,output_data,epochs=10,validation_data=val_data,batch_size=16,callbacks=[model_checkpoint,reduce_lr],validation_batch_size=16)"
      ],
      "metadata": {
        "colab": {
          "base_uri": "https://localhost:8080/"
        },
        "id": "DmkeCZ6IY1eW",
        "outputId": "084e84ae-eb40-4818-ab99-cb1a91044014"
      },
      "execution_count": null,
      "outputs": [
        {
          "output_type": "stream",
          "name": "stdout",
          "text": [
            "Epoch 1/10\n"
          ]
        },
        {
          "output_type": "stream",
          "name": "stderr",
          "text": [
            "WARNING:tensorflow:Gradients do not exist for variables ['tf_bert_for_question_answering/qa_outputs/kernel:0', 'tf_bert_for_question_answering/qa_outputs/bias:0'] when minimizing the loss. If you're using `model.compile()`, did you forget to provide a `loss`argument?\n",
            "WARNING:tensorflow:Gradients do not exist for variables ['tf_bert_for_question_answering/qa_outputs/kernel:0', 'tf_bert_for_question_answering/qa_outputs/bias:0'] when minimizing the loss. If you're using `model.compile()`, did you forget to provide a `loss`argument?\n"
          ]
        },
        {
          "output_type": "stream",
          "name": "stdout",
          "text": [
            "1374/1374 [==============================] - ETA: 0s - loss: 2.7981 - activation_loss: 1.3499 - activation_1_loss: 1.4482\n",
            "Epoch 1: val_loss improved from inf to 2.00872, saving model to /content\n"
          ]
        },
        {
          "output_type": "stream",
          "name": "stderr",
          "text": [
            "WARNING:absl:Found untraced functions such as _jit_compiled_convolution_op, _jit_compiled_convolution_op, _jit_compiled_convolution_op, _jit_compiled_convolution_op, embeddings_layer_call_fn while saving (showing 5 of 420). These functions will not be directly callable after loading.\n"
          ]
        },
        {
          "output_type": "stream",
          "name": "stdout",
          "text": [
            "\b\b\b\b\b\b\b\b\b\b\b\b\b\b\b\b\b\b\b\b\b\b\b\b\b\b\b\b\b\b\b\b\b\b\b\b\b\b\b\b\b\b\b\b\b\b\b\b\b\b\b\b\b\b\b\b\b\b\b\b\b\b\b\b\b\b\b\b\b\b\b\b\b\b\b\b\b\b\b\b\b\b\b\b\b\b\b\b\b\b\b\b\b\b\b\b\b\b\b\b\b\b\b\b\b\b\b\b\b\b\b\b\b\b\b\b\b\b\b\b\b\r1374/1374 [==============================] - 383s 266ms/step - loss: 2.7981 - activation_loss: 1.3499 - activation_1_loss: 1.4482 - val_loss: 2.0087 - val_activation_loss: 0.9828 - val_activation_1_loss: 1.0259 - lr: 1.0000e-05\n",
            "Epoch 2/10\n",
            "1374/1374 [==============================] - ETA: 0s - loss: 2.0104 - activation_loss: 0.9794 - activation_1_loss: 1.0310\n",
            "Epoch 2: val_loss improved from 2.00872 to 1.89832, saving model to /content\n"
          ]
        },
        {
          "output_type": "stream",
          "name": "stderr",
          "text": [
            "WARNING:absl:Found untraced functions such as _jit_compiled_convolution_op, _jit_compiled_convolution_op, _jit_compiled_convolution_op, _jit_compiled_convolution_op, embeddings_layer_call_fn while saving (showing 5 of 420). These functions will not be directly callable after loading.\n"
          ]
        },
        {
          "output_type": "stream",
          "name": "stdout",
          "text": [
            "\b\b\b\b\b\b\b\b\b\b\b\b\b\b\b\b\b\b\b\b\b\b\b\b\b\b\b\b\b\b\b\b\b\b\b\b\b\b\b\b\b\b\b\b\b\b\b\b\b\b\b\b\b\b\b\b\b\b\b\b\b\b\b\b\b\b\b\b\b\b\b\b\b\b\b\b\b\b\b\b\b\b\b\b\b\b\b\b\b\b\b\b\b\b\b\b\b\b\b\b\b\b\b\b\b\b\b\b\b\b\b\b\b\b\b\b\b\b\b\b\b\r1374/1374 [==============================] - 358s 261ms/step - loss: 2.0104 - activation_loss: 0.9794 - activation_1_loss: 1.0310 - val_loss: 1.8983 - val_activation_loss: 0.9133 - val_activation_1_loss: 0.9851 - lr: 1.0000e-05\n",
            "Epoch 3/10\n",
            "1374/1374 [==============================] - ETA: 0s - loss: 1.9293 - activation_loss: 0.9038 - activation_1_loss: 1.0256\n",
            "Epoch 3: val_loss improved from 1.89832 to 1.82921, saving model to /content\n"
          ]
        },
        {
          "output_type": "stream",
          "name": "stderr",
          "text": [
            "WARNING:absl:Found untraced functions such as _jit_compiled_convolution_op, _jit_compiled_convolution_op, _jit_compiled_convolution_op, _jit_compiled_convolution_op, embeddings_layer_call_fn while saving (showing 5 of 420). These functions will not be directly callable after loading.\n"
          ]
        },
        {
          "output_type": "stream",
          "name": "stdout",
          "text": [
            "\b\b\b\b\b\b\b\b\b\b\b\b\b\b\b\b\b\b\b\b\b\b\b\b\b\b\b\b\b\b\b\b\b\b\b\b\b\b\b\b\b\b\b\b\b\b\b\b\b\b\b\b\b\b\b\b\b\b\b\b\b\b\b\b\b\b\b\b\b\b\b\b\b\b\b\b\b\b\b\b\b\b\b\b\b\b\b\b\b\b\b\b\b\b\b\b\b\b\b\b\b\b\b\b\b\b\b\b\b\b\b\b\b\b\b\b\b\b\b\b\b\r1374/1374 [==============================] - 358s 260ms/step - loss: 1.9293 - activation_loss: 0.9038 - activation_1_loss: 1.0256 - val_loss: 1.8292 - val_activation_loss: 0.8943 - val_activation_1_loss: 0.9349 - lr: 1.0000e-05\n",
            "Epoch 4/10\n",
            "1374/1374 [==============================] - ETA: 0s - loss: 1.7045 - activation_loss: 0.8288 - activation_1_loss: 0.8757\n",
            "Epoch 4: val_loss improved from 1.82921 to 1.76323, saving model to /content\n"
          ]
        },
        {
          "output_type": "stream",
          "name": "stderr",
          "text": [
            "WARNING:absl:Found untraced functions such as _jit_compiled_convolution_op, _jit_compiled_convolution_op, _jit_compiled_convolution_op, _jit_compiled_convolution_op, embeddings_layer_call_fn while saving (showing 5 of 420). These functions will not be directly callable after loading.\n"
          ]
        },
        {
          "output_type": "stream",
          "name": "stdout",
          "text": [
            "\b\b\b\b\b\b\b\b\b\b\b\b\b\b\b\b\b\b\b\b\b\b\b\b\b\b\b\b\b\b\b\b\b\b\b\b\b\b\b\b\b\b\b\b\b\b\b\b\b\b\b\b\b\b\b\b\b\b\b\b\b\b\b\b\b\b\b\b\b\b\b\b\b\b\b\b\b\b\b\b\b\b\b\b\b\b\b\b\b\b\b\b\b\b\b\b\b\b\b\b\b\b\b\b\b\b\b\b\b\b\b\b\b\b\b\b\b\b\b\b\b\r1374/1374 [==============================] - 359s 261ms/step - loss: 1.7045 - activation_loss: 0.8288 - activation_1_loss: 0.8757 - val_loss: 1.7632 - val_activation_loss: 0.8676 - val_activation_1_loss: 0.8957 - lr: 1.0000e-05\n",
            "Epoch 5/10\n",
            "1374/1374 [==============================] - ETA: 0s - loss: 1.6007 - activation_loss: 0.7822 - activation_1_loss: 0.8186\n",
            "Epoch 5: val_loss improved from 1.76323 to 1.75883, saving model to /content\n"
          ]
        },
        {
          "output_type": "stream",
          "name": "stderr",
          "text": [
            "WARNING:absl:Found untraced functions such as _jit_compiled_convolution_op, _jit_compiled_convolution_op, _jit_compiled_convolution_op, _jit_compiled_convolution_op, embeddings_layer_call_fn while saving (showing 5 of 420). These functions will not be directly callable after loading.\n"
          ]
        },
        {
          "output_type": "stream",
          "name": "stdout",
          "text": [
            "\b\b\b\b\b\b\b\b\b\b\b\b\b\b\b\b\b\b\b\b\b\b\b\b\b\b\b\b\b\b\b\b\b\b\b\b\b\b\b\b\b\b\b\b\b\b\b\b\b\b\b\b\b\b\b\b\b\b\b\b\b\b\b\b\b\b\b\b\b\b\b\b\b\b\b\b\b\b\b\b\b\b\b\b\b\b\b\b\b\b\b\b\b\b\b\b\b\b\b\b\b\b\b\b\b\b\b\b\b\b\b\b\b\b\b\b\b\b\b\b\b\r1374/1374 [==============================] - 359s 261ms/step - loss: 1.6007 - activation_loss: 0.7822 - activation_1_loss: 0.8186 - val_loss: 1.7588 - val_activation_loss: 0.8623 - val_activation_1_loss: 0.8966 - lr: 1.0000e-05\n",
            "Epoch 6/10\n",
            "1374/1374 [==============================] - ETA: 0s - loss: 1.5022 - activation_loss: 0.7620 - activation_1_loss: 0.7402\n",
            "Epoch 6: val_loss improved from 1.75883 to 1.68548, saving model to /content\n"
          ]
        },
        {
          "output_type": "stream",
          "name": "stderr",
          "text": [
            "WARNING:absl:Found untraced functions such as _jit_compiled_convolution_op, _jit_compiled_convolution_op, _jit_compiled_convolution_op, _jit_compiled_convolution_op, embeddings_layer_call_fn while saving (showing 5 of 420). These functions will not be directly callable after loading.\n"
          ]
        },
        {
          "output_type": "stream",
          "name": "stdout",
          "text": [
            "\b\b\b\b\b\b\b\b\b\b\b\b\b\b\b\b\b\b\b\b\b\b\b\b\b\b\b\b\b\b\b\b\b\b\b\b\b\b\b\b\b\b\b\b\b\b\b\b\b\b\b\b\b\b\b\b\b\b\b\b\b\b\b\b\b\b\b\b\b\b\b\b\b\b\b\b\b\b\b\b\b\b\b\b\b\b\b\b\b\b\b\b\b\b\b\b\b\b\b\b\b\b\b\b\b\b\b\b\b\b\b\b\b\b\b\b\b\b\b\b\b\r1374/1374 [==============================] - 359s 261ms/step - loss: 1.5022 - activation_loss: 0.7620 - activation_1_loss: 0.7402 - val_loss: 1.6855 - val_activation_loss: 0.8461 - val_activation_1_loss: 0.8393 - lr: 1.0000e-05\n",
            "Epoch 7/10\n",
            "1374/1374 [==============================] - ETA: 0s - loss: 1.3779 - activation_loss: 0.7048 - activation_1_loss: 0.6732\n",
            "Epoch 7: val_loss did not improve from 1.68548\n",
            "1374/1374 [==============================] - 298s 217ms/step - loss: 1.3779 - activation_loss: 0.7048 - activation_1_loss: 0.6732 - val_loss: 1.7050 - val_activation_loss: 0.8762 - val_activation_1_loss: 0.8288 - lr: 1.0000e-05\n",
            "Epoch 8/10\n",
            "1374/1374 [==============================] - ETA: 0s - loss: 1.3057 - activation_loss: 0.6709 - activation_1_loss: 0.6349\n",
            "Epoch 8: val_loss improved from 1.68548 to 1.67323, saving model to /content\n"
          ]
        },
        {
          "output_type": "stream",
          "name": "stderr",
          "text": [
            "WARNING:absl:Found untraced functions such as _jit_compiled_convolution_op, _jit_compiled_convolution_op, _jit_compiled_convolution_op, _jit_compiled_convolution_op, embeddings_layer_call_fn while saving (showing 5 of 420). These functions will not be directly callable after loading.\n"
          ]
        },
        {
          "output_type": "stream",
          "name": "stdout",
          "text": [
            "\b\b\b\b\b\b\b\b\b\b\b\b\b\b\b\b\b\b\b\b\b\b\b\b\b\b\b\b\b\b\b\b\b\b\b\b\b\b\b\b\b\b\b\b\b\b\b\b\b\b\b\b\b\b\b\b\b\b\b\b\b\b\b\b\b\b\b\b\b\b\b\b\b\b\b\b\b\b\b\b\b\b\b\b\b\b\b\b\b\b\b\b\b\b\b\b\b\b\b\b\b\b\b\b\b\b\b\b\b\b\b\b\b\b\b\b\b\b\b\b\b\r1374/1374 [==============================] - 360s 262ms/step - loss: 1.3057 - activation_loss: 0.6709 - activation_1_loss: 0.6349 - val_loss: 1.6732 - val_activation_loss: 0.8563 - val_activation_1_loss: 0.8169 - lr: 1.0000e-05\n",
            "Epoch 9/10\n",
            "1374/1374 [==============================] - ETA: 0s - loss: 1.2080 - activation_loss: 0.6181 - activation_1_loss: 0.5899\n",
            "Epoch 9: val_loss did not improve from 1.67323\n",
            "1374/1374 [==============================] - 297s 216ms/step - loss: 1.2080 - activation_loss: 0.6181 - activation_1_loss: 0.5899 - val_loss: 1.8517 - val_activation_loss: 0.9470 - val_activation_1_loss: 0.9047 - lr: 1.0000e-05\n",
            "Epoch 10/10\n",
            "1374/1374 [==============================] - ETA: 0s - loss: 1.1044 - activation_loss: 0.5623 - activation_1_loss: 0.5420\n",
            "Epoch 10: val_loss did not improve from 1.67323\n",
            "\n",
            "Epoch 10: ReduceLROnPlateau reducing learning rate to 9.999999747378752e-07.\n",
            "1374/1374 [==============================] - 298s 217ms/step - loss: 1.1044 - activation_loss: 0.5623 - activation_1_loss: 0.5420 - val_loss: 2.0230 - val_activation_loss: 1.0291 - val_activation_1_loss: 0.9939 - lr: 1.0000e-05\n"
          ]
        },
        {
          "output_type": "execute_result",
          "data": {
            "text/plain": [
              "<keras.callbacks.History at 0x7fbd49066f90>"
            ]
          },
          "metadata": {},
          "execution_count": 25
        }
      ]
    },
    {
      "cell_type": "code",
      "execution_count": null,
      "metadata": {
        "colab": {
          "base_uri": "https://localhost:8080/"
        },
        "id": "jNzDbRXV4bIK",
        "outputId": "3ae621fb-66a7-4dfb-ac0b-79c082a58d69"
      },
      "outputs": [
        {
          "name": "stderr",
          "output_type": "stream",
          "text": [
            "100%|██████████| 13090/13090 [05:27<00:00, 39.91it/s]\n"
          ]
        }
      ],
      "source": [
        "X_train_selec_bert_input_id=np.zeros((len(X_train),max_length_roberta))\n",
        "X_train_selec_bert_mask=np.zeros((len(X_train),max_length_roberta))\n",
        "y_train_selec_start_token=np.zeros((len(X_train),max_length_roberta))\n",
        "y_train_selec_end_token=np.zeros((len(X_train),max_length_roberta))\n",
        "from tqdm import tqdm\n",
        "for i in tqdm(range(len(X_train))):\n",
        "  text=X_train.iloc[i]['text']\n",
        "  sentiment=X_train.iloc[i]['sentiment']\n",
        "  selec_text=X_train.iloc[i]['selected_text']\n",
        "  encoded=tokenizer.encode_plus(sentiment,text,max_length=max_length_roberta,return_attention_mask=True,padding='max_length',add_special_tokens=True,return_tensors='tf')\n",
        "  X_train_selec_bert_input_id[i]=encoded['input_ids'][0][:max_length_roberta]\n",
        "  X_train_selec_bert_mask[i]=encoded['attention_mask'][0][:max_length_roberta]\n",
        "  decoded_list=[]\n",
        "  start_idx=text.find(selec_text)\n",
        "  end_idx=start_idx+(len(selec_text)-1)\n",
        "  start_idx+=20 #Len of <s>  is 3\n",
        "  end_idx+=20 #Len of <s> is 3\n",
        "  k=0\n",
        "  cummulative_len=0\n",
        "  for s in encoded['input_ids'][0]:\n",
        "    cummulative_len=cummulative_len+len(tokenizer.decode(s))\n",
        "    if start_idx<=cummulative_len:\n",
        "      start_index=k\n",
        "      break\n",
        "    k=k+1\n",
        "  k=0\n",
        "  cummulative_len=0\n",
        "  for s in encoded['input_ids'][0]:\n",
        "    cummulative_len=cummulative_len+len(tokenizer.decode(s))\n",
        "    if end_idx<=cummulative_len:\n",
        "      end_index=k\n",
        "      break\n",
        "    k=k+1\n",
        "  try:\n",
        "    text_end_ind=list(encoded['input_ids'][0]).index(1)-1#to find the index position of </s> which is encoded as 2\n",
        "  except:\n",
        "    text_end_ind=max_length_roberta-1\n",
        "  if end_index>=text_end_ind: #Some of the word index location goes beyond </s>. To such words we give end index to be the index before that of </s>\n",
        "    end_index=text_end_ind-1\n",
        "  y_train_selec_start_token[i][start_index]=1\n",
        "  y_train_selec_end_token[i][end_index]=1"
      ]
    },
    {
      "cell_type": "code",
      "source": [],
      "metadata": {
        "id": "tw4iZ7Fxjogl"
      },
      "execution_count": null,
      "outputs": []
    },
    {
      "cell_type": "code",
      "execution_count": null,
      "metadata": {
        "colab": {
          "base_uri": "https://localhost:8080/"
        },
        "id": "go1SIeRo5A-I",
        "outputId": "566241bc-44e2-4824-aa77-ed182d6e77f1"
      },
      "outputs": [
        {
          "output_type": "stream",
          "name": "stderr",
          "text": [
            "100%|██████████| 5496/5496 [01:37<00:00, 56.65it/s]\n"
          ]
        }
      ],
      "source": [
        "X_test_selec_bert_input_id=np.zeros((len(X_test),max_length_roberta))\n",
        "X_test_selec_bert_mask=np.zeros((len(X_test),max_length_roberta))\n",
        "y_test_selec_start_token=np.zeros((len(X_test),max_length_roberta))\n",
        "y_test_selec_end_token=np.zeros((len(X_test),max_length_roberta))\n",
        "from tqdm import tqdm\n",
        "for i in tqdm(range(len(X_test))):\n",
        "  text=X_test.iloc[i]['text']\n",
        "  sentiment=X_test.iloc[i]['sentiment']\n",
        "  selec_text=X_test.iloc[i]['selected_text']\n",
        "  encoded=tokenizer.encode_plus(sentiment,text,max_length=max_length_roberta,return_attention_mask=True,padding='max_length',add_special_tokens=True,return_tensors='tf')\n",
        "  X_test_selec_bert_input_id[i]=encoded['input_ids'][0][:max_length_roberta]\n",
        "  X_test_selec_bert_mask[i]=encoded['attention_mask'][0][:max_length_roberta]\n",
        "  decoded_list=[]\n",
        "  start_idx=text.find(selec_text)\n",
        "  end_idx=start_idx+(len(selec_text)-1)\n",
        "  if sentiment!='neutral':\n",
        "    start_idx+=20 #Len of <s>  is 3\n",
        "    end_idx+=20 #Len of <s> is 3\n",
        "  else:\n",
        "    start_idx+=19\n",
        "    end_idx+=19\n",
        "  k=0\n",
        "  cummulative_len=0\n",
        "  for s in encoded['input_ids'][0]:\n",
        "    cummulative_len=cummulative_len+len(tokenizer.decode(s))\n",
        "    if start_idx<=cummulative_len:\n",
        "      start_index=k\n",
        "      break\n",
        "    k=k+1\n",
        "  k=0\n",
        "  cummulative_len=0\n",
        "  for s in encoded['input_ids'][0]:\n",
        "    cummulative_len=cummulative_len+len(tokenizer.decode(s))\n",
        "    if end_idx<=cummulative_len:\n",
        "      end_index=k\n",
        "      break\n",
        "    k=k+1\n",
        "  try:\n",
        "    text_end_ind=list(encoded['input_ids'][0]).index(1)-1#to find the index position of </s> which is encoded as 2\n",
        "  except:\n",
        "    text_end_ind=max_length_roberta-1\n",
        "  if end_index>=text_end_ind: #Some of the word index location goes beyond </s>. To such words we give end index to be the index before that of </s>\n",
        "    end_index=text_end_ind-1\n",
        "  y_test_selec_start_token[i][start_index]=1\n",
        "  y_test_selec_end_token[i][end_index]=1\n",
        "val_selec = (X_test_selec_bert_input_id,X_test_selec_bert_mask)"
      ]
    },
    {
      "cell_type": "markdown",
      "metadata": {
        "id": "8geuvRZtXff3"
      },
      "source": [
        "Let us check how does the model performs."
      ]
    },
    {
      "cell_type": "code",
      "execution_count": null,
      "metadata": {
        "colab": {
          "base_uri": "https://localhost:8080/"
        },
        "id": "2g0qUAu-f371",
        "outputId": "1229b31b-2b5c-4c14-c4e3-50eb9b2ab43d"
      },
      "outputs": [
        {
          "output_type": "stream",
          "name": "stdout",
          "text": [
            "172/172 [==============================] - 23s 132ms/step\n"
          ]
        }
      ],
      "source": [
        "start_test_pred,end_test_pred=model.predict(val_selec)#val_selec consist of tokenized data only for positive and negative sentences"
      ]
    },
    {
      "cell_type": "code",
      "execution_count": null,
      "metadata": {
        "id": "QDXtfOzJXRBX"
      },
      "outputs": [],
      "source": [
        "start_pred=np.argmax(start_test_pred,axis=-1)\n",
        "end_pred=np.argmax(end_test_pred,axis=-1)"
      ]
    },
    {
      "cell_type": "code",
      "execution_count": null,
      "metadata": {
        "id": "qXKV3PqTxZ-f"
      },
      "outputs": [],
      "source": [
        "y_test_pred_str=[]\n",
        "y_test_actual_str=[]\n",
        "for i in range(len(X_test)):\n",
        "  text=X_test.iloc[i]['text']\n",
        "  sentiment=X_test.iloc[i]['sentiment']\n",
        "  selec_text=X_test.iloc[i]['selected_text']\n",
        "  start_idx=start_pred[i]\n",
        "  end_idx=end_pred[i]\n",
        "  encoded=tokenizer.encode_plus(sentiment,text,max_length=max_length_roberta,return_attention_mask=True,padding='max_length',add_special_tokens=True,return_tensors='tf')\n",
        "  pred_text=tokenizer.decode(encoded['input_ids'][0][start_idx:end_idx+1])\n",
        "  y_test_pred_str.append(pred_text)\n",
        "  y_test_actual_str.append(selec_text)"
      ]
    },
    {
      "cell_type": "code",
      "execution_count": null,
      "metadata": {
        "colab": {
          "base_uri": "https://localhost:8080/"
        },
        "id": "jq5g89LH7Uqr",
        "outputId": "6170bc01-9c52-4532-eb71-2c8bc015d1c9"
      },
      "outputs": [
        {
          "output_type": "stream",
          "name": "stdout",
          "text": [
            "_30439 I really wish I could go!\n",
            " I really wish\n",
            "wish\n"
          ]
        }
      ],
      "source": [
        "print(X_test.iloc[1]['text'])\n",
        "print(y_test_pred_str[1])\n",
        "print(y_test_actual_str[1])"
      ]
    },
    {
      "cell_type": "code",
      "execution_count": null,
      "metadata": {
        "id": "mV1QG9Er3vgf"
      },
      "outputs": [],
      "source": [
        "def jaccard(x,y):\n",
        "    str1=x\n",
        "    str2=y \n",
        "    a = set(str1.lower().split()) \n",
        "    b = set(str2.lower().split())\n",
        "    if (len(a)==0) & (len(b)==0):\n",
        "        return 0.5\n",
        "    c = a.intersection(b)\n",
        "    \n",
        "    return float(len(c)) / (len(a) + len(b) - len(c))"
      ]
    },
    {
      "cell_type": "code",
      "execution_count": null,
      "metadata": {
        "id": "9Cna_uBO4Nn9"
      },
      "outputs": [],
      "source": [
        "jaccard_score=[]\n",
        "for i in range(len(y_test_pred_str)):\n",
        "  jaccard_score_indiv=jaccard(y_test_actual_str[i],y_test_pred_str[i])\n",
        "  jaccard_score.append(jaccard_score_indiv)"
      ]
    },
    {
      "cell_type": "code",
      "source": [
        "print('Overall Jaccard score:',np.array(jaccard_score).mean())"
      ],
      "metadata": {
        "colab": {
          "base_uri": "https://localhost:8080/"
        },
        "id": "5mNZMTk7jNmF",
        "outputId": "9e0751cb-85e3-46a1-c893-ef07a71f8e3d"
      },
      "execution_count": null,
      "outputs": [
        {
          "output_type": "stream",
          "name": "stdout",
          "text": [
            "Overall Jaccard score: 0.6919481494183787\n"
          ]
        }
      ]
    },
    {
      "cell_type": "code",
      "source": [
        "X_test=combined_test[combined_test['sentiment']!='neutral']\n",
        "X_test_selec_bert_input_id=np.zeros((len(X_test),max_length_roberta))\n",
        "X_test_selec_bert_mask=np.zeros((len(X_test),max_length_roberta))\n",
        "y_test_selec_start_token=np.zeros((len(X_test),max_length_roberta))\n",
        "y_test_selec_end_token=np.zeros((len(X_test),max_length_roberta))\n",
        "from tqdm import tqdm\n",
        "for i in tqdm(range(len(X_test))):\n",
        "  text=X_test.iloc[i]['text']\n",
        "  sentiment=X_test.iloc[i]['sentiment']\n",
        "  selec_text=X_test.iloc[i]['selected_text']\n",
        "  encoded=tokenizer.encode_plus(sentiment,text,max_length=max_length_roberta,return_attention_mask=True,padding='max_length',add_special_tokens=True,return_tensors='tf')\n",
        "  X_test_selec_bert_input_id[i]=encoded['input_ids'][0][:max_length_roberta]\n",
        "  X_test_selec_bert_mask[i]=encoded['attention_mask'][0][:max_length_roberta]\n",
        "  decoded_list=[]\n",
        "  start_idx=text.find(selec_text)\n",
        "  end_idx=start_idx+(len(selec_text)-1)\n",
        "  if sentiment!='neutral':\n",
        "    start_idx+=20 #Len of <s>  is 3\n",
        "    end_idx+=20 #Len of <s> is 3\n",
        "  else:\n",
        "    start_idx+=19\n",
        "    end_idx+=19\n",
        "  k=0\n",
        "  cummulative_len=0\n",
        "  for s in encoded['input_ids'][0]:\n",
        "    cummulative_len=cummulative_len+len(tokenizer.decode(s))\n",
        "    if start_idx<=cummulative_len:\n",
        "      start_index=k\n",
        "      break\n",
        "    k=k+1\n",
        "  k=0\n",
        "  cummulative_len=0\n",
        "  for s in encoded['input_ids'][0]:\n",
        "    cummulative_len=cummulative_len+len(tokenizer.decode(s))\n",
        "    if end_idx<=cummulative_len:\n",
        "      end_index=k\n",
        "      break\n",
        "    k=k+1\n",
        "  try:\n",
        "    text_end_ind=list(encoded['input_ids'][0]).index(1)-1#to find the index position of </s> which is encoded as 2\n",
        "  except:\n",
        "    text_end_ind=max_length_roberta-1\n",
        "  if end_index>=text_end_ind: #Some of the word index location goes beyond </s>. To such words we give end index to be the index before that of </s>\n",
        "    end_index=text_end_ind-1\n",
        "  y_test_selec_start_token[i][start_index]=1\n",
        "  y_test_selec_end_token[i][end_index]=1\n",
        "val_selec = (X_test_selec_bert_input_id,X_test_selec_bert_mask)"
      ],
      "metadata": {
        "colab": {
          "base_uri": "https://localhost:8080/"
        },
        "id": "En6UhpOwjbFE",
        "outputId": "22f2d339-1928-4366-f76e-f834346f6fe2"
      },
      "execution_count": null,
      "outputs": [
        {
          "output_type": "stream",
          "name": "stderr",
          "text": [
            "100%|██████████| 3273/3273 [01:04<00:00, 50.70it/s]\n"
          ]
        }
      ]
    },
    {
      "cell_type": "code",
      "source": [
        "start_test_pred,end_test_pred=model.predict(val_selec)#val_selec consist of tokenized data only for positive and negative sentences\n",
        "start_pred=np.argmax(start_test_pred,axis=-1)\n",
        "end_pred=np.argmax(end_test_pred,axis=-1)\n",
        "y_test_pred_str=[]\n",
        "y_test_actual_str=[]\n",
        "for i in range(len(X_test)):\n",
        "  text=X_test.iloc[i]['text']\n",
        "  sentiment=X_test.iloc[i]['sentiment']\n",
        "  selec_text=X_test.iloc[i]['selected_text']\n",
        "  start_idx=start_pred[i]\n",
        "  end_idx=end_pred[i]\n",
        "  encoded=tokenizer.encode_plus(sentiment,text,max_length=max_length_roberta,return_attention_mask=True,padding='max_length',add_special_tokens=True,return_tensors='tf')\n",
        "  pred_text=tokenizer.decode(encoded['input_ids'][0][start_idx:end_idx+1])\n",
        "  y_test_pred_str.append(pred_text)\n",
        "  y_test_actual_str.append(selec_text)\n",
        "jaccard_score=[]\n",
        "for i in range(len(y_test_pred_str)):\n",
        "  jaccard_score_indiv=jaccard(y_test_actual_str[i],y_test_pred_str[i])\n",
        "  jaccard_score.append(jaccard_score_indiv)"
      ],
      "metadata": {
        "colab": {
          "base_uri": "https://localhost:8080/"
        },
        "id": "asZSou_blTlF",
        "outputId": "909407b2-ee5a-4bc2-c56e-22b188f91612"
      },
      "execution_count": null,
      "outputs": [
        {
          "output_type": "stream",
          "name": "stdout",
          "text": [
            "103/103 [==============================] - 13s 124ms/step\n"
          ]
        }
      ]
    },
    {
      "cell_type": "code",
      "execution_count": null,
      "metadata": {
        "colab": {
          "base_uri": "https://localhost:8080/"
        },
        "id": "fIViwExg4uso",
        "outputId": "56ab9c76-9329-4149-d900-9be6b1ff8c58"
      },
      "outputs": [
        {
          "output_type": "stream",
          "name": "stdout",
          "text": [
            "Jaccard score on positive and negative sentences: 0.5089795741385807\n"
          ]
        }
      ],
      "source": [
        "print('Jaccard score on positive and negative sentences:',np.array(jaccard_score).mean())"
      ]
    },
    {
      "cell_type": "code",
      "source": [
        "len(jaccard_score)"
      ],
      "metadata": {
        "colab": {
          "base_uri": "https://localhost:8080/"
        },
        "id": "MYucYwiEnP5X",
        "outputId": "7630516b-99cf-450e-d50c-28039bb7835e"
      },
      "execution_count": null,
      "outputs": [
        {
          "output_type": "execute_result",
          "data": {
            "text/plain": [
              "3273"
            ]
          },
          "metadata": {},
          "execution_count": 66
        }
      ]
    },
    {
      "cell_type": "code",
      "source": [
        "pos_neg_jaccard_score=jaccard_score.copy()"
      ],
      "metadata": {
        "id": "jfIRrhq_l62x"
      },
      "execution_count": null,
      "outputs": []
    },
    {
      "cell_type": "code",
      "source": [
        "neutral_jaccard_score=[]\n",
        "test_neutral=combined_test[combined_test['sentiment']=='neutral']\n",
        "for i in range(len(test_neutral)):\n",
        "  actual_text=test_neutral.iloc[i]['text']\n",
        "  actual_sel_text=test_neutral.iloc[i]['selected_text']\n",
        "  jaccard_neut_indiv=jaccard(actual_sel_text,actual_text)\n",
        "  neutral_jaccard_score.append(jaccard_neut_indiv)"
      ],
      "metadata": {
        "id": "_gt91cd-mBC8"
      },
      "execution_count": null,
      "outputs": []
    },
    {
      "cell_type": "code",
      "source": [
        "pos_neg_jaccard_score.extend(neutral_jaccard_score)"
      ],
      "metadata": {
        "id": "UTOU3k3KnD4W"
      },
      "execution_count": null,
      "outputs": []
    },
    {
      "cell_type": "code",
      "source": [
        "len(pos_neg_jaccard_score)"
      ],
      "metadata": {
        "colab": {
          "base_uri": "https://localhost:8080/"
        },
        "id": "ImBPDVOknLBt",
        "outputId": "7bd9d5c9-50f2-4ad2-82b6-b73b8ed62640"
      },
      "execution_count": null,
      "outputs": [
        {
          "output_type": "execute_result",
          "data": {
            "text/plain": [
              "5496"
            ]
          },
          "metadata": {},
          "execution_count": 69
        }
      ]
    },
    {
      "cell_type": "code",
      "source": [
        "print('Overall jaccard score :',np.array(pos_neg_jaccard_score).mean())"
      ],
      "metadata": {
        "colab": {
          "base_uri": "https://localhost:8080/"
        },
        "id": "Cui1YqD-m6Yk",
        "outputId": "2ddb52a1-12bf-4adf-e581-935e0256bb96"
      },
      "execution_count": null,
      "outputs": [
        {
          "output_type": "stream",
          "name": "stdout",
          "text": [
            "Overall jaccard score : 0.6973853411793608\n"
          ]
        }
      ]
    },
    {
      "cell_type": "markdown",
      "metadata": {
        "id": "xj0FBMQV2bff"
      },
      "source": [
        "This is the overall jaccard score where positive and negative sentences alone is predicted using the model but for neutral the text sentence will be the selected text."
      ]
    },
    {
      "cell_type": "markdown",
      "metadata": {
        "id": "L0_GMJot24jS"
      },
      "source": [
        "Ftom the above we can see that the latter was giving even more better results than the former one."
      ]
    },
    {
      "cell_type": "code",
      "execution_count": null,
      "metadata": {
        "id": "p4-Otr7aNRei"
      },
      "outputs": [],
      "source": [
        "model.save_weights('/content/drive/MyDrive/case_study_2_new/bert_model/BERTmodel.hdf5')"
      ]
    },
    {
      "cell_type": "code",
      "execution_count": null,
      "metadata": {
        "id": "avpeKZgkPB-1"
      },
      "outputs": [],
      "source": [
        "model.load_weights('/content/drive/MyDrive/case_study_2_new/bert_model/BERTmodel.hdf5')"
      ]
    },
    {
      "cell_type": "markdown",
      "metadata": {
        "id": "IXAYH4OvMtp2"
      },
      "source": [
        "We can see that bert model have done wonderful in predicting the positive and the negative sentiments. The jaccard score is 0.6973 for the test data."
      ]
    },
    {
      "cell_type": "code",
      "source": [],
      "metadata": {
        "id": "0qPWe6WfoK5V"
      },
      "execution_count": null,
      "outputs": []
    }
  ]
}