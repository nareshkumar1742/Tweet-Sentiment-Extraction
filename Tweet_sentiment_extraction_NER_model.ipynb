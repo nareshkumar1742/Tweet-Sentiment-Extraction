{
  "nbformat": 4,
  "nbformat_minor": 0,
  "metadata": {
    "colab": {
      "provenance": [],
      "collapsed_sections": []
    },
    "kernelspec": {
      "name": "python3",
      "display_name": "Python 3"
    },
    "language_info": {
      "name": "python"
    }
  },
  "cells": [
    {
      "cell_type": "markdown",
      "metadata": {
        "id": "KTf7dBsuj6ab"
      },
      "source": [
        "##NER##"
      ]
    },
    {
      "cell_type": "markdown",
      "metadata": {
        "id": "vOa303_SlyhP"
      },
      "source": [
        "Named Entity Recognition"
      ]
    },
    {
      "cell_type": "markdown",
      "metadata": {
        "id": "SVdOp8gKxUzN"
      },
      "source": [
        "How training happens in NER:\n",
        "\n",
        "https://nanonets.com/blog/named-entity-recognition-with-nltk-and-spacy/#:~:text=Named%20entity%20recognition%20(NER)%20is,person%2C%20location%2C%20organisation%20etc."
      ]
    },
    {
      "cell_type": "markdown",
      "metadata": {
        "id": "0AvjNwtrkqut"
      },
      "source": [
        "Custom training using Spacy NER: \n",
        "\n",
        "https://www.machinelearningplus.com/nlp/training-custom-ner-model-in-spacy/\n",
        "\n",
        "https://towardsdatascience.com/train-ner-with-custom-training-data-using-spacy-525ce748fab7\n",
        "\n"
      ]
    },
    {
      "cell_type": "markdown",
      "metadata": {
        "id": "c5P9N0-tlWVF"
      },
      "source": [
        "Here we will be using Spacy NER to train on positive ,negative and neutral sentences with individual models. Here we will be training three models one for positive sentiment sentences other for negative sentiment sentences and another for neutral sentiment sentences. We are building it individually because the main purpose of NER is to detect the word or phrases that determine the sentiment of that sentence. If we feed in the model with neutral, negtive and positive sentences it may get confused with those contarary words. Unlike the previous model we are not feeding the sentiment of the sentence to the model nor we are labelling the as positive, negative or neutral.\n"
      ]
    },
    {
      "cell_type": "code",
      "execution_count": null,
      "metadata": {
        "colab": {
          "base_uri": "https://localhost:8080/"
        },
        "id": "1mBtFbajfPaS",
        "outputId": "a20fa417-a614-42f4-c7b6-1e0460ac93e1"
      },
      "outputs": [
        {
          "output_type": "stream",
          "name": "stdout",
          "text": [
            "Mounted at /content/drive\n"
          ]
        }
      ],
      "source": [
        "from google.colab import drive\n",
        "drive.mount('/content/drive')"
      ]
    },
    {
      "cell_type": "code",
      "source": [
        "import pandas as pd\n",
        "import numpy as np"
      ],
      "metadata": {
        "id": "Bao_nTA1eefp"
      },
      "execution_count": null,
      "outputs": []
    },
    {
      "cell_type": "code",
      "source": [
        "train_data=pd.read_csv('/content/drive/MyDrive/case_study_2_new/train_pos_neg_neu.csv')\n",
        "test_data=pd.read_csv('/content/drive/MyDrive/case_study_2_new/test_pos_neg_neu.csv')\n",
        "print(train_data.shape)\n",
        "print(test_data.shape)"
      ],
      "metadata": {
        "colab": {
          "base_uri": "https://localhost:8080/"
        },
        "id": "Bj7EP9_RfIF-",
        "outputId": "e60a891f-2e2d-419a-c723-cfcb6438cc8d"
      },
      "execution_count": null,
      "outputs": [
        {
          "output_type": "stream",
          "name": "stdout",
          "text": [
            "(21984, 7)\n",
            "(5496, 7)\n"
          ]
        }
      ]
    },
    {
      "cell_type": "code",
      "execution_count": null,
      "metadata": {
        "colab": {
          "base_uri": "https://localhost:8080/"
        },
        "id": "ayAiok_mj-CE",
        "outputId": "8d71d259-1140-4b03-cd05-8cfaa942bd6f"
      },
      "outputs": [
        {
          "output_type": "stream",
          "name": "stdout",
          "text": [
            "Looking in indexes: https://pypi.org/simple, https://us-python.pkg.dev/colab-wheels/public/simple/\n",
            "Requirement already satisfied: spacy in /usr/local/lib/python3.7/dist-packages (3.4.2)\n",
            "Requirement already satisfied: typing-extensions<4.2.0,>=3.7.4 in /usr/local/lib/python3.7/dist-packages (from spacy) (4.1.1)\n",
            "Requirement already satisfied: typer<0.5.0,>=0.3.0 in /usr/local/lib/python3.7/dist-packages (from spacy) (0.4.2)\n",
            "Requirement already satisfied: murmurhash<1.1.0,>=0.28.0 in /usr/local/lib/python3.7/dist-packages (from spacy) (1.0.9)\n",
            "Requirement already satisfied: packaging>=20.0 in /usr/local/lib/python3.7/dist-packages (from spacy) (21.3)\n",
            "Requirement already satisfied: tqdm<5.0.0,>=4.38.0 in /usr/local/lib/python3.7/dist-packages (from spacy) (4.64.1)\n",
            "Requirement already satisfied: spacy-legacy<3.1.0,>=3.0.10 in /usr/local/lib/python3.7/dist-packages (from spacy) (3.0.10)\n",
            "Requirement already satisfied: catalogue<2.1.0,>=2.0.6 in /usr/local/lib/python3.7/dist-packages (from spacy) (2.0.8)\n",
            "Requirement already satisfied: cymem<2.1.0,>=2.0.2 in /usr/local/lib/python3.7/dist-packages (from spacy) (2.0.7)\n",
            "Requirement already satisfied: srsly<3.0.0,>=2.4.3 in /usr/local/lib/python3.7/dist-packages (from spacy) (2.4.5)\n",
            "Requirement already satisfied: preshed<3.1.0,>=3.0.2 in /usr/local/lib/python3.7/dist-packages (from spacy) (3.0.8)\n",
            "Requirement already satisfied: setuptools in /usr/local/lib/python3.7/dist-packages (from spacy) (57.4.0)\n",
            "Requirement already satisfied: pathy>=0.3.5 in /usr/local/lib/python3.7/dist-packages (from spacy) (0.6.2)\n",
            "Requirement already satisfied: wasabi<1.1.0,>=0.9.1 in /usr/local/lib/python3.7/dist-packages (from spacy) (0.10.1)\n",
            "Requirement already satisfied: thinc<8.2.0,>=8.1.0 in /usr/local/lib/python3.7/dist-packages (from spacy) (8.1.5)\n",
            "Requirement already satisfied: pydantic!=1.8,!=1.8.1,<1.11.0,>=1.7.4 in /usr/local/lib/python3.7/dist-packages (from spacy) (1.10.2)\n",
            "Requirement already satisfied: spacy-loggers<2.0.0,>=1.0.0 in /usr/local/lib/python3.7/dist-packages (from spacy) (1.0.3)\n",
            "Requirement already satisfied: langcodes<4.0.0,>=3.2.0 in /usr/local/lib/python3.7/dist-packages (from spacy) (3.3.0)\n",
            "Requirement already satisfied: jinja2 in /usr/local/lib/python3.7/dist-packages (from spacy) (2.11.3)\n",
            "Requirement already satisfied: numpy>=1.15.0 in /usr/local/lib/python3.7/dist-packages (from spacy) (1.21.6)\n",
            "Requirement already satisfied: requests<3.0.0,>=2.13.0 in /usr/local/lib/python3.7/dist-packages (from spacy) (2.23.0)\n",
            "Requirement already satisfied: zipp>=0.5 in /usr/local/lib/python3.7/dist-packages (from catalogue<2.1.0,>=2.0.6->spacy) (3.9.0)\n",
            "Requirement already satisfied: pyparsing!=3.0.5,>=2.0.2 in /usr/local/lib/python3.7/dist-packages (from packaging>=20.0->spacy) (3.0.9)\n",
            "Requirement already satisfied: smart-open<6.0.0,>=5.2.1 in /usr/local/lib/python3.7/dist-packages (from pathy>=0.3.5->spacy) (5.2.1)\n",
            "Requirement already satisfied: idna<3,>=2.5 in /usr/local/lib/python3.7/dist-packages (from requests<3.0.0,>=2.13.0->spacy) (2.10)\n",
            "Requirement already satisfied: chardet<4,>=3.0.2 in /usr/local/lib/python3.7/dist-packages (from requests<3.0.0,>=2.13.0->spacy) (3.0.4)\n",
            "Requirement already satisfied: urllib3!=1.25.0,!=1.25.1,<1.26,>=1.21.1 in /usr/local/lib/python3.7/dist-packages (from requests<3.0.0,>=2.13.0->spacy) (1.24.3)\n",
            "Requirement already satisfied: certifi>=2017.4.17 in /usr/local/lib/python3.7/dist-packages (from requests<3.0.0,>=2.13.0->spacy) (2022.9.24)\n",
            "Requirement already satisfied: confection<1.0.0,>=0.0.1 in /usr/local/lib/python3.7/dist-packages (from thinc<8.2.0,>=8.1.0->spacy) (0.0.3)\n",
            "Requirement already satisfied: blis<0.8.0,>=0.7.8 in /usr/local/lib/python3.7/dist-packages (from thinc<8.2.0,>=8.1.0->spacy) (0.7.9)\n",
            "Requirement already satisfied: click<9.0.0,>=7.1.1 in /usr/local/lib/python3.7/dist-packages (from typer<0.5.0,>=0.3.0->spacy) (7.1.2)\n",
            "Requirement already satisfied: MarkupSafe>=0.23 in /usr/local/lib/python3.7/dist-packages (from jinja2->spacy) (2.0.1)\n"
          ]
        }
      ],
      "source": [
        "!pip install -U spacy"
      ]
    },
    {
      "cell_type": "code",
      "execution_count": null,
      "metadata": {
        "id": "Iv_1yOSJj-ID"
      },
      "outputs": [],
      "source": [
        "import random\n",
        "from pathlib import Path\n",
        "import spacy\n",
        "from tqdm import tqdm"
      ]
    },
    {
      "cell_type": "code",
      "execution_count": null,
      "metadata": {
        "id": "L-GKXR0jgfDU"
      },
      "outputs": [],
      "source": [
        "positive_data=train_data[train_data['sentiment']=='positive']\n",
        "positive_data=positive_data.reset_index(drop=True)\n",
        "negative_data=train_data[train_data['sentiment']=='negative']\n",
        "negative_data=negative_data.reset_index(drop=True)\n",
        "neutral_data=train_data[train_data['sentiment']=='neutral']\n",
        "neutral_data=neutral_data.reset_index(drop=True)"
      ]
    },
    {
      "cell_type": "code",
      "execution_count": null,
      "metadata": {
        "id": "7y9MwyAniHxB"
      },
      "outputs": [],
      "source": [
        "positive_data_test=test_data[test_data['sentiment']=='positive']\n",
        "positive_data_test=positive_data_test.reset_index(drop=True)\n",
        "negative_data_test=test_data[test_data['sentiment']=='negative']\n",
        "negative_data_test=negative_data_test.reset_index(drop=True)\n",
        "neutral_data_test=test_data[test_data['sentiment']=='neutral']\n",
        "neutral_data_test=neutral_data_test.reset_index(drop=True)"
      ]
    },
    {
      "cell_type": "markdown",
      "metadata": {
        "id": "B9286mm756dY"
      },
      "source": [
        "Here our dataset preparation must be done as in the image below.\n",
        "![image.png](data:image/png;base64,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)\n",
        "\n",
        "Reference: https://towardsdatascience.com/train-ner-with-custom-training-data-using-spacy-525ce748fab7"
      ]
    },
    {
      "cell_type": "markdown",
      "metadata": {
        "id": "-h0nIqt265y2"
      },
      "source": [
        "In this case out entity is the selected text which has been marked as ST."
      ]
    },
    {
      "cell_type": "markdown",
      "source": [
        "####For positive text####"
      ],
      "metadata": {
        "id": "Abg4ysZ-08Bt"
      }
    },
    {
      "cell_type": "code",
      "execution_count": null,
      "metadata": {
        "id": "24igwNHDj-PI"
      },
      "outputs": [],
      "source": [
        "train_ner_pos=[]\n",
        "for i in range(len(positive_data)):\n",
        "    start_index=positive_data.iloc[i]['text'].find(positive_data.iloc[i]['selected_text']) #start index represents the start position of the selected text in the actual text\n",
        "    end_index=start_index+len(positive_data.iloc[i]['selected_text'])# end index represents the end position of the selected text in the actual text\n",
        "    train_dt=(positive_data.iloc[i]['text'],              \n",
        "              {'entities':[[start_index,end_index,'ST']]})  \n",
        "    train_ner_pos.append(train_dt)"
      ]
    },
    {
      "cell_type": "code",
      "execution_count": null,
      "metadata": {
        "id": "XiCAHel6q-uX"
      },
      "outputs": [],
      "source": [
        "test_ner_pos=[]\n",
        "for i in range(len(positive_data_test)):\n",
        "    start_index=positive_data_test.iloc[i]['text'].find(positive_data_test.iloc[i]['selected_text'])\n",
        "    end_index=start_index+len(positive_data_test.iloc[i]['selected_text'])\n",
        "    test_dt=(positive_data_test.iloc[i]['text'],              \n",
        "              {'entities':[[start_index,end_index,'ST']]})  \n",
        "    test_ner_pos.append(test_dt)"
      ]
    },
    {
      "cell_type": "code",
      "execution_count": null,
      "metadata": {
        "colab": {
          "base_uri": "https://localhost:8080/"
        },
        "id": "wD9PeO_UrVuM",
        "outputId": "cf814132-915a-40a7-8f9b-58d534b7f964"
      },
      "outputs": [
        {
          "output_type": "stream",
          "name": "stdout",
          "text": [
            "Sample sentences:\n",
            "('my momma is comin 2night !  2morrow tennis day with p?nar yuppie !', {'entities': [[58, 64, 'ST']]})\n",
            "(' Good luck tonight! have fun', {'entities': [[1, 28, 'ST']]})\n",
            "(' good luck C have funn!', {'entities': [[1, 23, 'ST']]})\n",
            "(' ok point taken.  I`ll tell my team to stop our cynical championing of standards. Active-X is far better anyway', {'entities': [[96, 104, 'ST']]})\n",
            "('hoping i didn`t fail english. that would just be sad', {'entities': [[0, 52, 'ST']]})\n"
          ]
        }
      ],
      "source": [
        "print('Sample sentences:')\n",
        "for i in range(5):\n",
        "  print(train_ner_pos[i])"
      ]
    },
    {
      "cell_type": "code",
      "execution_count": null,
      "metadata": {
        "colab": {
          "base_uri": "https://localhost:8080/"
        },
        "id": "lc5SixL7qLzq",
        "outputId": "d3408c0d-a26b-4a12-b8f3-c2fc36f75008"
      },
      "outputs": [
        {
          "output_type": "execute_result",
          "data": {
            "text/plain": [
              "6865"
            ]
          },
          "metadata": {},
          "execution_count": 11
        }
      ],
      "source": [
        "len(train_ner_pos)"
      ]
    },
    {
      "cell_type": "code",
      "execution_count": null,
      "metadata": {
        "id": "6WU0I-Tvqoz5"
      },
      "outputs": [],
      "source": [
        "model = None"
      ]
    },
    {
      "cell_type": "code",
      "execution_count": null,
      "metadata": {
        "colab": {
          "base_uri": "https://localhost:8080/",
          "height": 36
        },
        "id": "TDXUWZgHW82e",
        "outputId": "46b5fde7-2db1-4171-8078-b65c83387051"
      },
      "outputs": [
        {
          "output_type": "execute_result",
          "data": {
            "text/plain": [
              "'3.4.2'"
            ],
            "application/vnd.google.colaboratory.intrinsic+json": {
              "type": "string"
            }
          },
          "metadata": {},
          "execution_count": 13
        }
      ],
      "source": [
        "spacy.__version__"
      ]
    },
    {
      "cell_type": "code",
      "execution_count": null,
      "metadata": {
        "colab": {
          "base_uri": "https://localhost:8080/"
        },
        "id": "Wy-ih1N6qsz3",
        "outputId": "e5eacc4f-0710-40bd-ac63-0be2047d8ea3"
      },
      "outputs": [
        {
          "output_type": "stream",
          "name": "stdout",
          "text": [
            "Created blank 'en' model\n"
          ]
        }
      ],
      "source": [
        "if model is not None:\n",
        "    nlp = spacy.load(model)  \n",
        "    print(\"Loaded model '%s'\" % model)\n",
        "else:\n",
        "    nlp = spacy.blank('en')  \n",
        "    print(\"Created blank 'en' model\")\n",
        "\n",
        "#set up the pipeline\n",
        "\n",
        "#NER model is what we need so if the model has NER then no issue else get NER into the pipeline.\n",
        "if 'ner' not in nlp.pipe_names:\n",
        "    ner = nlp.add_pipe('ner')\n",
        "else:\n",
        "    ner = nlp.get_pipe('ner')"
      ]
    },
    {
      "cell_type": "markdown",
      "metadata": {
        "id": "rngwZqqe8uCq"
      },
      "source": [
        "Pipes in NER:\n",
        "\n",
        "Pipes contains tasks like tagging, parsing ,named entity recognition and so on.\n",
        "\n",
        "Example of tagging: \n",
        "\n",
        "    I ate an apple\n",
        "    (I,PRP) (ate,VB) (an,DT) (apple,NN)\n",
        "\n",
        "example of named entity recognition:\n",
        "\n",
        "    John and Mathew went to New York.\n",
        "    (John,NAME) and (Mathew,NAME) went to (New York,PLACE).\n",
        "\n",
        "This is how each task is done in the pipe.\n"
      ]
    },
    {
      "cell_type": "markdown",
      "metadata": {
        "id": "1hwXJ6Vm_biy"
      },
      "source": [
        "An example:\n",
        "\n",
        "![image.png](data:image/png;base64,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)\n",
        "\n",
        "Here we can see that there are three tasks in the pipeline. The below image shows the output (truncated version) of all the tags that the model assigns it to the paragraph.\n",
        "\n",
        "![image.png](data:image/png;base64,iVBORw0KGgoAAAANSUhEUgAAAkAAAAGUCAYAAADd3Z2SAAAAAXNSR0IArs4c6QAAAARnQU1BAACxjwv8YQUAAAAJcEhZcwAAFxEAABcRAcom8z8AAJdmSURBVHhe7f3nex1HtqeJ9n8w9/vMcz/NdPfM7T5nTh1X1eWNfEmqKpUkUl6ilegpeu+9995bkPAAQYDwHoT33nvvPch147c2Etrc3FSqQImktn7r6ffsnZGREZG5ocq3V0Qy/4t8T/HgwUMZGh4hhBBCiAcxPDI6fqf3rKAAEUIIIeSJUIBsggJECCGEeB4UIJv4vgQIFxq42/d9gj5Gxx4o/0h/o2MiD835/hBjHDGNf5d2rbGjvrv9LwK4Tg/MdXK3jxBCyI8H3HM8MV44ARocGlbc7fs+6R8YlNa2dunq7nG73x3mFM0xdZKcfE26ezqMgDxwW+/bGDONQKDc7fuu593T26dj7+sfeCoRw/k8aSzfFes/DGcZg5yVlCZLVvYd3edcnxBCyI8LCpBNPK0A4QaKuHHTS256eU1kZpxxrv+k8ifhXHfswQMpK6+QadOmyyuvvCKxcfHy8OGj43dtG7LTP9AnFy/OkJA7u2R0FHUcN32rrnN9C+dynGNzS6vU1tXrd6scItLZ2SVvvfWW+AcEPCYlVhsAY79zJ0T++te/yqxZs7Q9SJVrXefj3YH+G5uaHxsLsNpwLbO+O9eBtJVXVKpIoh3sMz+d1NTkytGjf5Gi4lhmgggh5EcM/rfeE+OFECArK4I4cfKUHD9xYqJszPwf3FghCaPjfWAfbqoot266kBHUcQZlECkEPtEWyh31RzWTsnHTJvH28dU6KDe7NdAuvlv18T0+4aKcOf2BDA4OmP2OsaBdC9SxRMEKqxztIbxu3Zbde/bqd+yz2ujr65fjx09IVna2jI2XW2PAfny32n5gJKigsEgWLV6sImeNEZ+4Ns59otwV64/5/PkLsnv3Hv1uSZTVJz6t9lBu/R44Fp/oA2WdXd2ycOEiSU1LRzPjY3S0Hx9/wZzT36Wrq83Un/zfByGEkOeHdc/wtHjuAoSbKLIYGzdtlg8//FD+8z9/biTopLZZWlou8+YvkKlTp8q27Tuko6NTyzH9s3nLFi2fv2ChVFfXSP9At1RWZUp5RbpSUZkhff1dkpqaLkePHpPlK5Zr1iQ8Isr0aW7e45Kxc9cu8fMP0HbxI9+4eVNOnzkjM2bOlA8++FBycvPGs0NDcuHCdElP91UB0LGbNrB/7tx58t5778mhw4dNGyPS0dkl5y9ckLPnzsu7pnzz5i0qChCcX/3qV/Iv//Iz0/YH5py26zRWRUWlzJkzR/vLzMpWwcFYRkdH5eZNL3n33Xf1XMPuhevYEci6LF+xQj/NJdTrn5GZKZ99/rkZy/vi5+cvI2YsDiH55npbUnTixEn5+c9/bsbyLzqWLVu3qhAODg7KqdOntb/FX38tNbV1Ol24afNmue3to337+PrJ4cNH9NxnzZ4t/+2//Xd55dVX5QPz+4Xdu6djHDXD7O3rMf28J9nZdyYkjRBCyI8LCpBNTEaAkEWAMOzdu0/loLGxUfbu26fi0NvTK4sXf6038qamJtm3b7/WGxoaku07dsjhI0ekobFJ6hsaTVvDUluXLze9vpYrV+Yp128sMPtyxd//jpGOX6scBAUFG2FaIC2tbTrmgcEh2bFz54QA4caNrMoX06ZJXX29jgk3fuM/pq0ic9N/05QXmXqOmzmmf7JzclXIIArzjayl3E/Vdt/+y1/ky6++krKycj2PW7duS1dXl5w+fUbWb9go9fUN0tTcom2gPs7jyy+/Ev+AQB0LIjAoSFasXCnFxSWm3waVKFwvRKlp1xIgRJWRwNVr1khWTo45v1b5+uslEhERqftcrzv+mDGWgwcPyfr1G8xY6sen0h7Irdu3Zd/+/UZe+iXk7l3T/yoVo+SUFFlgrt2VK1dlydKlKj9DZuwlpWUya9ZsUzfU/B6NE2NEH5CeW7eXSUTksYlrRggh5McFBcgmJiNAuEFCYtasXSvFJSXazpWr1+TS5auSX1AoXy9ZIu3jWZ+0tHRZuWq13nhXrV5thKNey5FBQsakpjbPIUBXjQAZbtxYKHV1OXIn5J5mYBAVlVWydNkyqayq1m1XAcKYIFf3wiN0G9NREITevmGpqEiRI0feMnJRbcTNURf9JiYly/QZM1QCXnr5JYmKjlZ5QD9Z2TnaTo6RpCIjMQhMtx08dFi/W9NL1pTVunXrJfhOiO5DGUTJmp7DtbKyNwhXAUpISJSXXnpZZn/5pcyePVt+/vNfmGtwc2LaCsdZWH/Mly5dlgMHDup3xANjesuXr5Q333xL20BG6r3339e1QojQ0DD53e9+L3Hx8boNqcHanyVLlk6cqzXGbwRouRG5LeMC9Og4CCGEvPhQgGxiMgIEAUA2BlMthYVF2g6+nzp9RhoamjQjYsmKt7ePTpM1GmGaM3euREZFazkC7XR1txvBSZey8jSlvCJNBga6JDAwWNauXaf1iktKHxEgxMFDhyQiMkq/Y0wQICyKRqDP5ctXyMjIA2lrr9MMULlpGzdz3Nyx/ubjjz/W49MzMuWtt9823yM1Y4LMDaazrICIILDIG+dhBfq0YsuWrRN9o/7efftl3/4Dum3F4Hh9ZJ3Wb9gwIYgQEGSuEhOTpKq6WjNSGIfz9baw/pgvXLgoW7dt0+8I7XPvPtm4cZO5lpXaTmtbm/62be0dKou7d+/VMaFtBDI+c+bM1fO3AmPE+qsxI4rXjYjGxp0fF6DHx0IIIeTFhgJkE5MRIEeW4KF43bolU6d+oHLyt3fe0TUoiIuXLssnn34mS5Ys0WxQXkGBlkNM3nzzTS3fZm7geJIJQuIKAlNoq1ev0e/IwqAdTDchK4PMxS9/9UsVl6tXr+l4MOWFMaDtVatWy/3UND03SNaVK19JaKhjATO2kb2aO2+eLFy0yIjEdl3vAxmCHOBcLCmwzveBkQBIGNbczDPHnTx1SrNQaekZOk327//+H/LXv/7NnPclI12jOn22YOFCFUFMaSUYucG6I0yn4Qm2f/3Xf5WZM2dKSkqKkb1BuXT5sml3vhG+tTpliMyNtdbJFZwTrgfawTlg4Xn/wICUlpVpRm7Z8uU6pXY3NFS6jOQgI7Rr924dF9ZjrTH7enp6tf0zZ85q1gjXLD4hQctw/fFPBkAai4vjddvdOAghhLzYUIBsYjICBEZGR1UCwiMiJSo6RjMNyArhRov90TGx4u8fMDHVY/0QkAaUY7oKWRC049o26qItZHzwHWKCaTD0hwxJYFCw3LsXrutX8BQT6mBx9YaNm+TOnTsTfaIt3MDz8iNkz+7fSV194bhkPRxvJ0inwrCOBmPBuh7041gP4zwux7RQUXGxBAQGqtCgLtbv4PH3cHMuISF3JTnlvpYjsBYpIDBI92M8OE+IFdYzhUdESFCwY5yYMkMfyIxZ1wX9PykwVYWn4oqKSnQsEBcsyEZU19RKQECg9pmbly/dRnQSk5K0PawTQvYJ1x/XE+3guLCwe+O/U4WOBRIUELDRyOpKcw0cGaFvrgMhhJAfC9Z919PiuQsQwE3UCgiCtTbGuRzhfIxzWOtO3IG2TJP63WoPPybKXQN1MK0Uam7mVljtOB6pFwkO3i63bi2VwcFe055j7Y4V+G6JCOJJ43IObD9pLMB5D6q5Ho+wyl2vF57ewqJlPOHlzPkLF3XtzijmqJzCkjXX0Vh//NbvYo3Xqo9ztgK7sFlQGCNnznykU4cQLdQjhBDy44MCZBNPI0AvEnn5BRP/OKDrPgjP4NCQVFZlSG8fsjsvblYD40dmBpkcTG854+PrK929vTL6BEF7WnBdGhrLFEvOCCGE/DihANmEpwiQnou5aWMhr7v9w0aCsN/KfrzIfNsfLfY96Ry/D5CMQibI3T5CCCE/HihANuEpAkQIIYSQb6AA2QQFiBBCCPE8KEA2QQEihBBCPA8KkE1QgAghhBDPgwJkExQgQgghxPOgANkEBYgQQgjxPChANkEBIoQQQjwPCpBNUIAIIYQQz4MCZBMUIEIIIcTzoADZxNMKEF6Y6XibFuKhbrur9yzAu63wg7vb5wr+NWVz9jpmd/v/EdAW3puFcLf/WYHXaDzpPWaEEEJ+WlCAbOJpBAhvOIfwnDufLR9+dFu2bUuUjs4BIyLP53UTvX39+iJRd/ucwR/FgwcPxMenSA4cuC8Dg8N6Lu7qfhfQ1v3UNLl67bq+Df55SUhff7++R8zdPkIIIT8tKEA28TQChOxJTEy1zJoVImnpdVJR2WkEZFjGHri+rfyb+t9ki/DW9VEjDI+3a+EceJO5I2vzaKDc/D+N4ydOSmpammPDhLs2gfVHERpWIYcOpU4IEMTt0bC/NlaEh0fIsmXLZcAImDUeKyBE1nk6B+p923u9XJrRMte2sYlyxG1vb/H199fvCJS7/gegYzHlGI/V1ov8clhCCCGTgwJkE5MVINxAh83n1Wt5sn1HksoDbq4PHo5JW3u/KUuUufPuyKVLOTI2NqZiFB1TpcK0aFG4HDh4X3r7hsxxj998IUwPHz6U2Lh4mTt3nqxZs1Yam5pN2w8lzQhOeESE7N6zV5YtXy41tXXS2tYua9aulf/4j/+Ut95+WxYuXCghd++6nRLDNsZ97Vq+LP46RLx9CrUMY6yp7TJSVC7Xr+ebfu9K2L0KPR9303o4xgxH/Pz8ZcGCBfK26XfBgoWmnQeahdqxc5c5/3ly9Ngx6R80UjRuG3jLO87p6yVLJDMrW+u7tg3QdkFhkbYxZ+5cyc7JnSi7Fx4ue8z5z5s3XwqLinQsJ06elN/+7nfy+z/8Qc///PkLep7Yh+/zTDvr1m+Q+oZG7XPswQPJzQ0Tf//10tHZYn479+MghBDy4wT/+++J8VwFCBme1rY+c0ONlV/+8qL88/97Vt57z1tu33bIxMaN8XLQCE5kRKWsXhMjly7myqiRo88/D5LXXvMyN90Sc1MPlRs38uWhQFIebR+ik5ycouKTmppmZOW6bNm6Vfr6+uXs2XPy+muvS3DwHdm2fbts3rJFOru6JTIqWj7/YpoRj50SYQSppLRMx+LcrjNFRW3m+DhZuOie9PYP6bXIzm6SP/7hupw8lSHXzdhmzb4rJSVtRjwelwPISLgRkfnzF6iQbd++Q1auXKX79u3bL+uNbESa8s1btqoEQeggLpCfO3dCJCIyUmVkxM0YkdWqrqlRqQsMCpbQ0DBZunSpVFfXqHD94he/EG9vH9m7d58sX7HSCEyXZGVlGbFcJEuMWOH8s7JztM+bXl5G9L6WjMxMSc/I1GuFPuFjUVEnZNeuX0tzS7Xp8/muXyKEEPL9QgGyiafJAA0ODsu163lGThKku2dAb6wFBa1GCu5Ja2uftp+QWCvLl0dJS0uvrFoVbW7cRVqenFxnJKBSp55cBQi5kmPHTxipel8OHDgga9etkz+/+aZUVlbJxYuXZP/+A9pGYVGxCkV3d49u79y1W2Lj4vQ7bvDObbqCiE+okU2b46Wnd1C309IaZN68MOnV7YdGOiIlOrpavzsfiz8qZLt279kjd42cIKKjY2Tr1m1SVl6uslJZhePECFSpkb15UldXr0IXGRml5QhkqKw2TXMKviOQwfrr397RTM/u3Xvkj3/8oxGoCLl3L0JWr16jdapralVuIEuI8xcuyJWrV/U7AgIUHRMjn33+ubYRH58wMWUGRkYfqvh8mygSQgj5cUIBsomnXQPk61cse/ammG9Y9/NQikvazA0/TJqN8CDCwytUfJAx2rotQaKiq7Se6Vlx1y72njp9Rj7/4gvx9/cX/4BASUpO0SmdM2fOyuHDR0wN0SmkhQsXSVdXtxGyISNK6zUbY4W7tgGEC5GcUie7dieZb+hRJDW1QRYvDjdCNaBTdsuWRUlsLOTi0WvkWNMzLBs2bpKw8HA99sqVqyo4VdU1Or1VWlau5VlmjPPmL5CmpmZZu3adZq6scJa0ru526exq1XYRyBZN/eBDuX7jpjn/AHNekaZOtwQGBslG0y+iqLhkfBqwVrePHD0qZ86e1e8ItIuAKHn7+MicOXMl7F64ihH29fX3ar+4dtY4CCGEeAYUIJt4OgF6oFNFGzfFC9YA6dNfQyOya1eyLF0WYWQl3chAhMTEVuuNffmKKAm5CzH49j4xptzcXFm1erVcunRZvLxuSWJSso73yJGjpv3d+j0tPUNmzJgpHe0dun3q1Cn5+JNPTL9nJDUtXUXFNbuBjFNPz6D4eBcZMbkrL718zRyXYYStT9LTG2TmzBDp7HQI0FwjcpGRDmFzbgNAmYLvhOj6n8NHjsif//xnmfPVHJWLEydOyuzZX+o4sC4owEgLAhmcTz/91IjKMTl37rxmixzrlMbkwIFXjdj8kxESTLmJNDe3yKZNm2Xf/gNy6/ZtFSeM/fZtb1m+bLm2l19QqGuErGwT2v/EnP+JEyd0UTbOH5J46fJluX79hhG6ZTr15tA9kdDQvbJu3X+XpuYKToERQoiHQQGyiacRoFFzQy4pbTMi0qBZFZRhfRAehT9+Il22bI2V2DjHzRlPWiHjUlXdqeuBXNtyBZGXX6DrfLD+57a3j97QUZaZmaVtYGF0TGycPv6OxdRd3T1GZk5rfUyFoewxATKS1t09qOt8duyMlz17kmTvvhSpqunULFWskbX+/iEjbCMSH1+jC6PdjdfKAl2/cUO2btuuMpabl6/leBQdmRiMA+t9EBgLAlNgW7ZuU4nDgmZrjGnpvkbyrhjx6lMhggTV1zfqmia0c+z4cT2/isoqXR+FMWHxd3xCgq7rwTba8fXz0/q+vn7aNjJn2Eaf9+6FO7JOpt6I2VdekSYJCZeku6dDx+16joQQQn68UIBs4mkECJKARczOGRKUuT5Obu1DPTxVhTpW2bfhGjjOCkc/6NuxhsV52wq3/ZgyawrMOSBu1rgtmUOg/EnjdffHhXLIhHOgzGrDOZCJcS1Hm1rfAFlxDuyzynCc1Y9Dxh4fD8pcA21b47Ha4mPwhBDiebi7R3lCvBACRAghhJAXEwqQTVCACCGEEM+DAmQTFCBCCCHE86AA2QQFiBBCCPE8KEA2QQEihBBCPA8KkE1QgAghhBDPgwJkExQgQgghxPOgANkEBYgQQgjxPChANkEBIoQQQjwPCpBNUIAIIYQQz4MCZBM/FQHC6x7wpgz8QbjbT3484A0go2MUd0II+TYoQDbxogvQ+Cgn3pk1GfCurJHRB9LcUil9/XjZ6A8vQd9XHz/kWL9r28PDj/5HZPdbWPFdfjPX95XZj2lUWlprpKe3ixJECCHfAv731BPD4wUILyTFG+R9/Yr0bfN4s7m7es7gRat4oalzGf4AzClKbOwZ8fJaIv393SpDznW+C2OmEbTjbp878J5RvJzV3b7vCsQN7bjb932AttGHu30W2N83MCAXLl2SdevXT7xl311dgPpZ2TlyPzXtO/1mqIM216xdK5cvXzFi0/ctYxrVLF5y8k3xurXUbA+Zuk93jQkhxFOhANnEsxKgkVH8ELjlAkeg3PFmdpR98yZ3lENmEMuXR8q163ny8OFDfUO64+3z39SF8OCN7QivWwVSUNiq39Em6uOGWVp2Xw4eeFWqqrInJOaxN8e7KUOgLgI39IDAIP2OcJepcPTnOL+Lly5LSUmpfkdgn+sfI46x6ls3feeoqq6Rc+fOj285hArtOPfpjHNY43MNlFu/wNmz56SuvnF8yzFG1zYxroHBIYkzkjJ//gJZu26djgPtoL5z6K9o/s/JU6dlz959jkITKLPadg5H+6NSXFws+/btlw8+/FDP2fqN3AHh6R/ok7PnPpOQkN36+/Jt9oQQ8jiu9xxPiR+VAOEm197RL8UlbZrNOXAwWSIjK80Nc0z6+odUWsorOuT48XSJiKjEqLT+pcu5cujwfXODbJVRcyNGO6hXUtomXl4F5iaYJV3dA9LZ1S+nz2TKSy9fk1mzQ+To0XRJTqnTY3AzvX17udy9u1vPF+MZe/BAMw2QlIOHDpk20adIc0urFBYVm5t9vOn3sOQXFOrx9+7dk08+/Uze+POf5fCRI+Lr6ye9ff0qB87nif5a29rlwoWL8pvf/FbmzJljxnJUkpJTjDRgDdJDlagDBw+a65CufVZWVUtQ8B1tD5Gccl8ys7I1i7Jw4SL51a9+Jbv37JVz589LU3OL9uHcpwUCx6BtH19fHRsoKi4x16tMTp48Jddv3FR5aWhqliNHjsr/+l+/lK+XLJEjZow49kltA0TYvXDZsXOXtov/sHA+Obm52ufRo8ekobFJJejqteum7JDc9PIyv+kJqW9olDHTL/aFh0do/eiYWG3T+g+00Yxp5arV+lvgmrsbgwWitCxZDhx4RZqaylWC3NUjhJCfMhQgm3gWAoSsTWVVp7z19m1ZvjxK9uxNkilT/CQjs9H8/+aHZcpUf3nvXV/ZuTNJZswMkdTUeunpGZaLF3Pkz296yeXLOWakuH0ia5Elf/mLtxGUVJlp6h49li5t7X1y/ES6vPb6DZk1K0T27UuRhMRaeWgOae9oMDfhv0tFRbreKHHz7jXyg4zDjh075JARoDVr10l1dY0UGOH585/flK3btsuaNWtl/oIFUlffICEhIfKpEaC33n5b9u7dJ163brmdqoHktLS2yenTZ+SPf/yTfPnlV6affWYsSbrv1m1v2bhxkzmHs9p+ckqK1NbWyvQZM+SakYbMzExzTrNUgjIyMrX/3//+97Jt+3Y5YQQGkuBuWumBETociymq02fOyMZNm+TK1as6viVLl8kHH3wo+w8ckHfffU+Cg4KNNDSrhPzud7+TRYsW6xgzzPHu2rZA+Pr5TwgQ5KfVnGtAQKCcOXNWZW3z5i0qURcuXpRXXn3V9HlQvpz9pWzduk3XEUH+Vq9eo+e/bNlylaEH+JFMQNKWLV8hFZVVtgKELNDg0JCcP/+5kcVg2/qEEPJThAJkE89KgMor2mX2l3clJ7dZ+z11OtPc9POMSAzKxx8HakYH4e1TZG6UJfodgcwOpsCQFUKcOpUp69fH6ffColaZMyfUCM2gbu814pOYVKffIUy4tZaUJsqRI2/qAmhzb9ZIz8ySqVM/0ExJRGSUisGNm15SVFQs06fP0Bs7YtHixRIb6+gr5G6okayT+h2BPyzr/BxTMKO6oBc3YwREJzXVkeVBIHvz0ccfm/Gf1umk2UYMVq5cpfva2ttlyZKl8vnnn0t6eoaWIfLyC2StkTMrdApsfGGx1SdkBBIByViyZIkZb6wcO3Zc/vrXv6q8bdq8WS5dvqzHe926rZJiBWSkuKRsfOubaSqcm/P5AYSzAAHUyc3Nkxhzjc6fvyAff/KpEc5OuXzliqzfsFGP6ezsNt83SG5eviz++msjv3v1/JevWCnz5s835zOs9f4RAcK547e8dGmmRMecpgARQogbKEA28awECNNfa9bGSEtrn/Z78FCqnL+QrVNYS5ZEmBtkC0YjWM+DqS6s7UEcPZ4ut70L9TsCAnT0qEMSsrIbZeHCcOnqGtAF0xs2xhqhcUxnoR3cGKuqs+Xw4T9LQ0PJhAAhw4LprJWrVunNeceOneYGXCpZWdkqIsgQYd0LshSWAGH6aO/+A/odYZ2b9Xi9tRgXYjBojl26dNnEsQhMA7311luaKUGfGzdtlujoGN3X3z+g28gYlZaVaxk8Ki4+Qb7+esnEH7GzlOBc0C+kCNmYVUZmpkyZYsRro7kOGzUD1NnVLdt37JB74eF6PM4B54roMPsWLFgo2Tm5uo02XNu2tq3+74TcNZK5X79jfDnm2AULF8q6deuNiM7VTFNbe4cR1utydnztEiQMspNmxO6rr74yEvyljnGTOV9IpdV2TW2drFqzVqfREFbf7rAE6PLlLyUh8QoFiBBC3EABsolnmQGaMzdMAoOKJSa2WhYuCpf7qfXS3TOo01b3Uxu0HhZFQ4Ba2/ok5X6dfDXnrqxdF63rgJDpOHIkTXbtStaxp6XXy4wZIdLR0S8PHz6QXbuTZcXKKJ1Cq67BY9IPjMj0y8mT70tqmrceg/U/yMYgsxIaGmbGVaHrTrDIOsWIEaagOju7pH9gUObOnSeRUdF6XERkpHz66ae6dgVrg7Afx5SVp5gb+j8ZmTml41MhMv3u2r3HiAiyQKl6c4dQHT58RK5euyYVpk+IDsogDJCuU6fPqDB9NWeO5OXna5/ISH3++Re65igrC+uderSPxqZycx3eksjIY3o+GEfI3buyY+dOKSgs1GwKMjH441+9Zo0EBAZqexcuXpL16zeovAyb32XVylV6DMYIUcFj5QODg5pZOXToDfPbdGoZpvvy8vJ0anDa9BmSacYyNDSka51mzJgp5eXl+v3v776ra6CuXLkq8+Yv0HZxzlu2btUpq1OnT+uaIJx/cUmpng/GWFlZKbdu3ZZ3/v6u+Pr5SUtLq5a7+1sCkLPOrlYjwn81fxfxFCBCCHEDBcgmnpUA1dR2yXvv+8oHH3jLggX3JD2jQdeudPUMGCnIk4rKDnNjc6xBwWd2dpPKzbRpQYYA2bM3xdych40kVEtoWIXe+CurOuTq1TyVKLSFPpYsjZTpMwKNaCHj40j5hEcckTNnPjRtD2qmBhIBAVm2fLnpY4Zma5Chqamp1QW8VgYI02KFhUXaF6ZqcPOeNn267Nu/3yEj2meeaftjSU/303qOR7VRXicrVqzU9T1Y+4I+kZHZuXOX9jln7lydFkpLS1cpwT4EppJu3b6tbQDIzxfTpsnSZcuM1NWOS9aI7Nv3J9m9+3d6vUbNOaGut4+Pjg99YgEy/vjRNxY4Y39iUrK5LsGapcLYcW4zZs7U+lHR0VoHohJ8Z7s5/mvp7evWsgZzbZDlmTZtuo5l1erVWoZrgLHjfLBGCfKCxdzZ2bmm7jRt9+DBg+b36dVzg0gdMkKEchAbF6/tnzfyhKnHL76YJjNnzZrInEHUnIHoQDARcXHn5ezZT6W/r2si+0YIIeQbKEA28awECOt1Fn8dIc0tjikwlGGf4zF4x+PszsdYj7Y7B8oxTQawXsWaJkMb2H70GEf7yGB0dbdrtiAi4qje+PFHgZupc0AKkDFCWNkHBKaG0LbrHxK2UT4y6mgI7Vljd4zl0Q4cY3G0bwXqWPXQv9UnAm04byNwPMpq6wpkz54/iL//BhUiSJe7P3TreHSB9qwRoRw4DxFfrXIrvjnHx38LlLkrxzEup67jdtcO6jn3ZwXKIaRlRlLLyr8BT8xBgKqrc+TIkb9IeUXaI+MmhBDyDe7uC54QPyoBgpggO4OFz3X1yCo8+WmjHwLcUOvqCiUi8qh097SbG/GPM2MAkejobJKLl2bKnZBdOl0FIXBX98cKJGlgYFAOHjosU6ZMfYR58+YZgW6TnJxgSUv3mxAoQgghj0MBsolnIUDA8UM4si/u9v/QIPmABIy7fT82cC64+Xvy1A9kD+foCvbhvB2/5fP5WyKEkB8DFCCbeFYCRL5PPP/Gj/9w3eGuLiGEkMfB/2Z6YlCACCGEEPJEKEA2QQEihBBCPA8KkE1QgAghhBDPgwJkExQgQgghxPOgANkEBYgQQgjxPChANkEBIoQQQjwPCpBNUIAIIYQQz4MCZBMUIEIIIcTzoADZBAWIEEII8TwoQDYBAcJFIoQQQogn8fgLqz0hvjcBGhsbk76+funr/2709w/oSzjJ4/QPDLi9ZoQQQsgzxdzXcV/yxPjeBGh0dFQ6Ozulq6vLlu7ubuns6JDm5mbiQlNTk7S3t+s1cnftCCGEkGcF7ut9vb3jd3rPiu9VgHCxcON2paen55Htvr4+qa+vl6ioKImJiSFORERESGlpqfQb83a+ZoQQQsgPBe7TvUZ0XMtxX8c92xPjBxcgXDgYpGsZBCgyMlKio6OJE+Hh4RQgQgghzwzIT1tbm37Hvcf5Xk4B+g7hToAGBgakpqZGb+rYtjJBzAA9GWaACCGEPEtGRkb0/wO+e/duGR4efuT+QwH6DuEqQEil1dbWyrVr18THx0e3KUD2UIAIIYQ8S3D/TkhIkF/96ldy8OBBLbOmwyhA3yGcBQiig+9BQUFy7Ngx/aQAfTcoQIQQQp4luH8nJSXJn/70J/nNb36j92yUYR8F6DuEuwxQQ0OD3LhxgxmgfwAKECGEkGeJlQH69a9/LSdOnHjkfk0B+g7hKkAAa4Dq6up0sTO2KUD2UIAIIYQ8S7AGKDY2Vg4dOqT3ctyjrX0UoO8Q7gQI4MK5llsCxKfAHodPgRFCCHnWdHR06L3Z9Z5NAfoO8SQBAlbmx8ISINzwYZ3kGyCFZWVlFCBCCCHPDNynrYXPzlCAvkNAgL7rvwQNYJstLS3EDfiXoN1dM0IIIeRZgvs6xMgT43sToAcPHsjQ0NB3Bv/WAOYdyePg2ri7ZoQQQsizBvclT4zvTYAYDAaDwWAwfixBAWIwGAwGg/GTCwoQg8FgMBiMn1xQgBgMBoPBYPzkggLEYDAYDAbjJxcUIAaDwWAwGD+5oAAxGAwGg8H4yQUFiMFgMBgMxk8uKEAMBoPBYDB+ckEBYjAYDAaD8ZMLChCDwWAwGIyfXFCAGAwGg8Fg/OSCAsRgMBgMBuMnFxQgBoPBYDAYP7mgADEYDAaDwfjJBQWIwWAwGAzGTy4oQAwGg8FgMH5y8b0J0IMHD2V4ZJQQQgghHsTI6Nj4nd6z4nsVoKHhEUIIIYR4EJAgTwwKECGEEEKeCAXIJihAhBBCiOdBAbIJChAhhBDieVCAbIICRAghhHgeFCCboAARQgghngcFyCYoQIQQQojnQQGyCQoQIYQQ4nlQgGyCAkQIIYR4HhQgm6AAEUIIIZ4HBcgmKECEEEKI50EBsokfRICGRmRMHo734IgHBpS7re8Cjhx9+EAGTX2AYxHu6n5XnEdjTlkGTZlr4I8F/bnGmDkA5e7aJYQQQl5EKEA28UMI0MjYmFRlVcudnSFyd1+oBG4PkuL4Ui13V9/CISDDUpJYJs2VLfoit1FzTElSmWTfyZHhUccL3twd+20gyisqZNv27bJz5y7zvdJIzQOJio7W7S1bt4qPr5+KEfqLi4uXHePle/ftk+qaWi131zYhhBDyIkIBsokfRICMuNQXN0rIrruy7efbxX9zgFRl12g5MkPO2SGVHnMM5MaK28u9JSMgc6JW+MEIuTDtoow8GJuQKGSIrMB31zFYPDSNpKWlyYcffST79++X48dPSHh4hHR2dsrSZcvkqzlz5MyZMzJt+jS5fuOmqf9QFi5cJHPmzNXyc+cvSH1Do4yasbtrnxBCCHkRoQDZxA+1Bgjy0tczILeXeUtnS7f2hSmwpooWaa5slaSryZIXnm9+ICMz43KRFZQtEWei5NSUU1IQVahTX0WxxRJ+OkIKY4onMkCjYw+kuapV4s7HS+KVJOlo7JTRB49L0Iip198/IEuXLpMrV6/qGBDDw6PS3dMr23fskLj4BC1LSEyS+QsXSkdnl6xbt16ys3O0HIFxIDPl2j4hhBDyokIBsokfSoCQrWmtbZfr829IQ2mTZn0gMLeW3ZaL0y9J8PY7cuajM5IfXqDTUZCZGwtuiO9WPzn85hEVHhwDKTr28TG5bvap/Dx8IH3dA5LhnykRhyK1/YBNgdJvZMt1ig0SVlJaJjNmzJSKikrNQHV1datA9Q8Mjk99+UpfX5/s3bdfduzcaSRtWFauXCVvvvmWzJkzR1asWCkNDY0yZo5xbpsQQgh5kaEA2cSzFKCh0RG5tfS2JFxK1L6Tb96XOztCNCuE8v6+AS0P3Byka36sSa7i2BLx3xAggwPD2i5+1PqiBqnMqpJU3zQ5+8k5aaxodvThNAZEYWGREaBZUlNTK/EJCfLW22/L8hUrdP8KIzq//d3vZMqUKXLgwEHp7u7WBc8QoN2790h0dLTExsVJV3ePjJg+ndsmhBBCXmQoQDbxQwkQZARTXzcXeUlLTZtmY4ZGRsRnja8URBZq3yk3U+Xu7lApv18pXktvyaiRGxznu8ZPckJyJwQoNzRPszzI/qAMU2jX51+Xq4uvyYWvLsrxvx+XpsqWxwQIMtPc0irTp8+Q9PQMbSsjM1O2btsmrW3tsn3HLvH185ehoSHNDmGM+INZtWq1JCYmaX0EMkZYp+TcNiGEEPIiQwGyiR9CgHDRuzt6JT+iUI797bhkBmdLd3uvToHdXOyl01qIhEtJEmjEpr2+Q9cKYd0P1gZt/pfN+l3X+lS0yr1D9+Tc5+elOrdWhgdHJN03Q7M+OC7NO10OvHJAGssfzwBhHGjj3Pnzuqg5KztHhWfV6tUqQBs2bhL/gEAdC+pCggAWQR89ekwKCgokNy9PM0DY79w2IYQQ8iJDAbKJ71uAVDoePJCiuGI5//kFOTH1pJz65LRkGQlCedK1FKnMqDb9ok6JCsyDhw9VeM5+fFZC94RK4pVkqS9skN7ufvFb5y/HPzqh7Vz56qo0ljVLf9+gPmF26rPTEn4oQpKvp0ibkSF3C6GxwBqZoDNnz8knn3wqH3/8iT4NNjA4JN4+vpKaZvofP84SposXL8lHH30kn376mT4lhnVEWKfk2jYhhBDyokIBsokfcg2Qc1iPqmMKa8TIBKaUUIZaKHdMQJnxGPDNWtBsTYMhdIoKT4IZHLW/qY8yq29X3P0RoBxhTv+x6S3XQFbIeT8hhBDyokMBsokfSoAIIYQQ8vygANkEBYgQQgjxPChANkEBIoQQQjwPCpBNUIAIIYQQz4MCZBMUIEIIIcTzoADZBAWIEEII8TwoQDZBASKEEEI8DwqQTVCACCGEEM+DAmQTFCBCCCHE86AA2QQFiBBCCPE8KEA2QQEihBBCPA8KkE08rQCNPMR7uMYEl3l49MV8YSjGhveF4b1hGKtzufUuMoB91rvFtO6Y43zwdjCUAef6I2a/VQ7QHspRx/puXZuJY8z1xn7XcaDc2iaEEEKeFgqQTTyVAA0NS2d9vfT39EpHbZ30dXbpBdd91udzBrLRWd8ghYFBUh4RKQN9/TpGvGy1taxcGrKyVUZQhn2191OlICBQysLu6Xnh7fA4t9LQMMn3D9D6aBMvSEW7xYGmrmm36E6I1Jt96LMhO0faq2tMnVHp6+6RjppavVZ4YWt3S6vWs8aB+u1mf3dzyzfXjhBCCHlKcE/xxHjuAoTsCDIgacePS1t5hSTv2y/1GRmODIm56LjsVgbFDtTDcZoZGT8GUoKsCNrRcqeMiZVFwb5vE63Rhw+lraJCwhYskOCvvpKY9RukMiZWRs3xw0ZIYtatl9t//at0NTZpBqcxN09uvvqahCxYKMEzZkjKoUMy1N8vyXv3yY1XX5V7S5ZIyOzZUnLnjoyZA5oKi7Ttcz/7mdyeMkWKfHykr6tbbr72mkQsX6FZJAhT/LZtKjwYc+6Nm3L95VekITPLcV5m/HGbNkueKcf2iyKOhBBCftxQgGxiMgKEizo4OCT1WVkSagQg/6aXhC1aLAXe3jI8MCBV8QmSfvq0Sove1N20YQGZGRwYlLq0dKlNTZP+3j4tw+dA/4A0F5dIvZEF9Id+8XP2tndIzf1UaSktc4iWG2mAnEE6oo3kZJw5g1NVyUHWBu23lJRK6rFjkrx/v2Z7sK825b5ErVqtdQdN33dmzZJWI1D3Dx025+aj5a3muODp06UhJ1e3ITkxa9dJ4/h2V1OT3Pt6iYLMUVNevsTv2KHj7zHjzjDXJfXYccm6cMExdnON4rds1WtIASKEEPJ9QQGyickI0MiDB5rpiN20Sc7953+K91//Jhd+8QvNjmDqB/KQtHuPRCxdJj1NzU+UINz8B3p6JeXgIfF9733x/eBDSdyxUwZ7eqQ8PEKCvvjCiMRi8XrjDSMxZ2Xs4UPpamzUfgNmzpKQL7+UipgYHY+rOOBnh3yEzpsnnXX1E3JhZZWKAgIl59p1Kb17VzM0aLsxN198/v6uJOzbp9mitBMnZWhw0EjSAcm+eEnbwJon9J9/65ZKE6bJcJ6QPshQV0OjxKxbp6KDKbemgkJJ2LlTxwSRS9q7V+ozMuXewkV6DUdMv/Fbt0m+1y0KECGEkO8NCpBNTHoKbHRUsyC4uVdGx0jC9h1688flhpDgE5mOW2++Jc0FBTrt5NoGbviYTopcvkLFBAIRa8QDclJ6N1S833lHp6CQrQmdv0B62to1m5Owc5cM9fVLaViYBHzyqXQbycLxzm2jf6znCZ4xU7M+2NZ9EIyhYUk2IoI1QP3dvRK+ZKmuwWkuLFIRizACc/tvf5PW8gpzlEjSnr3fCNDYA4nZsEGyzp93CFBv32MCFLV6tW5DsHBtID3oG9NcZffC0aTEbd4iNckp2iYFiBBCyPcNBcgmJpsBwlSQ7/vvy7l//3e59qc/ydl/+zdJ2X9Ap3qQ1YAMFPkHyLU//FEKfX11Pc4jN3fzHTf89FOnJO34Cf2OY3IuX5HUI0dVFOK3bTcloqIStXqVLrjGup2rr70ugZ98Ij4ffigRy5arGLkTIIhT2MKF0l5VrW1jfRE+sX3rrbckxfSTZcTm9l/+InXpGZoxilyxUo/FdB6yPAgIUM6lyyo8mJYL+eorFTTdNiKGMVQnJuk2BChy5Uppyi+QkpC7em73TT99nd0qa9GbNkv+7dvi/9FHpu+LOh4IUMGt2xNjdD4PQgghZDJQgGxishkgCEtlbKxkG2HBVE/ygQNaDvnBmp70U6clZPaX0ja+Tsf1eIDyypgYubdosXQ1Neti5HuLFqlMQB6iVq5SKcA6oPCvTR2zP++ml67bQR9oQ8XHTdYEIoE6UUZGIFL43tvZJW1GinKv3xDvd/4ukWvXSvSaNeI3daqknzipC5ZD581XqWktK5Poteuk0wgNBCjj9BkZGxmRbCNCmFbr6+xUEcR6JBxTHhklY2Nj0lXfYMb6tbSYMXdU16iwJe7aJTUpKeL9t79JuBlP9OrVEjR9umaKBvr6NBsE8Rsx7Q+YcQ4ODT92PoQQQsg/AgXIJiYtQA+NvETHSHHwHamKjZOcK1dVOpDpwZNWiXv2qEhAYNwdr5gfZ3h4WNJOnBCvt9+Wm2++aeTkuhnTAxWKlAMHdW1OW2WVSgQkabCnVwXo9t/fldvvT5GsCxd1LRF+aNf2IUeYHsPCZi9T/+6cOfqIOrI51QmJjgtgApkirEPClBSm17A2Z9SMIfXoUSn09zfSc0mu/+kl8XrvPYlYtkyn1JDtqUvP1DVDF3/5K7n6xhuSeeasZqMw5YU2IUT3zTlguzgoWDNiViCTlLxvnz6lhvO8/PLL4m3avzN9hmaP0L/r+RBCCCHfFQqQTUxWgIBmKiycynFzh5RgwbBzuTtUXgwQB2sqC9uPtTu+bU119bS2Sbehv7vnmzpusLJPqNvb0TmRLXIWJnzHuUycj9N+nMuQkTT8G0doA1N8VpvYh3FgITTaxr/5o206t4F2zTFo27VP3TcOslNoH9fAym4RQgghkwX3GU+MF0KAVCbGcb65P7ZtA+picTGwBEXbgAhZdVy+W/Wdy5+EVX/i3xhCH87js/py7RPbFu76cyp33vdIG+a7bpu6j/TpVA+fE20YXOsRQggh/yi4d3livBgCRAghhJAXEgqQTVCACCGEEM+DAmQTFCBCCCHE86AA2QQFiBBCCPE8KEA2QQEihBBCPA8KkE1QgAghhBDPgwJkExQgQgghxPOgANkEBYgQQgjxPChANkEBIoQQQjwPCpBNUIAIIYQQz4MCZBNPK0DWax4mXvfgpo4deGcYfiag7w/7ju3gx7Veb6GY7Se9Hf5p0NddOF0n59dV4LvruK0yLXca35PKCSGEkO8bCpBNPK0A4Y3veNlnf2+f+fwHX+Jpfhwc21FTK+2Gjto6aa+qdrwM9DtIDOqh34lt0xZeSIpP53pPC152qi86xZiGhsfPdUhGjfTg/FvKyqWzoVHFBn9weJt8W3WNluO79VJYLTfn1zpejvqufRFCCCHfBxQgm5isAFkv8sw6f17azA097fgJqc/ImMhwjBlcj3EFGZFeIwJRK1fKxd/+Ti786tdyb9Ei6W5pncjkoB/njItivj8w7VfFJ0jS7t36VnZsN+Tmiu+UKdKUl/+IXFhtWGO22rAySPicKHcC9SEv9w8eEv+PPlJpgQwlHzggbZVV0t/RIVGrVsnNDz4Q77/+TcrC7smDhw8lduMmufSnl8TblN+dO0866xs04xOxbJlcf+MN8THlofPnaxsjD5gJIoQQ8v1DAbKJpxGgnrZ2iduyRWpT7pvPrVKTlCRjRgBq76dJaWioSpDz1JFbxmUm4+w5STGige8qJgb8dJAbZFysdiZEZnBQioPvSPTatVpnZGREWisqJP/WbelubjH1HLKDusjSQF6wbU09qSCZPpDZQR1tE+NxAmUQoOR9+8Xn3XelIjpG+8I5t5SUStrJk5K8f79pSaTGXIOQr76SdiM18du2S+ndUC2P3bhRMs6c1fMJW7hIrxUi7cQJiVm33pQ7+nHtmxBCCHkaKEA2MRkBQtait71TIletklP/9E9y45VX5My//Iv4f/iRtFdVSVdDo0QsXyGpx47L8PCwQzaG3LcFCcF+FaBDh/X7qJGo6vgEIxLb5N7Xi8XrjT9LcVCwCtVAX5+pd0h83p8il//wR9PPchk1AoFskLcpg4RgKg3CBDrq6uXe4q/l5pQpcnfOHJWjntY2Sdy1S+I2b5Gb7/xdEnbsVLFxFRFLgFIOHJK4jZsk8/x56e3olMTde6QmOUUiV66U5qJiHRfEDO2V3AmReCODsYbq+HjNEFVERWl7EUuXSXNBoaktknPlqoSbcWFKTTNcTv0SQgghTwsFyCYmmwHCZW0pLZPEPXukOiFRp6IgG7iZY19fV5eEL1kq9xYukp7mZhkZz8g8hiVAZ85qBgjfkQUq8PaRq7//vbSVlUllTKyEzl+g2Zr8W7eMgOyWwd4+KbkbKrEbNjgyQKb99uoauTNrttRnZGo7w6MPpK28QtfnYH/MunWSc/WadDU1y7U//klyr11XIQqdO08qY2Mfm7ZzzgBlnb8gRQGBeq4pBw+qcEF0ML2lfY0LUFFgkMSs3yDX3nxT+0jZf0DPZ9CITui8eRI0c5bEbNok0WvW6JQhp8AIIYT8EFCAbGKyGaDW0lJdF3PuP/5Dbrz6qpz993+XlAMHdXEwZABRl5YuZ//nP6loqFyYH+Ox9twIEOpCNuK3bjPfRNoqKiVq1UpdQJywc5dmWRCYdorbvFmnuHAcsjNhixZLQ2aWbo+acSJDc/fLr8T/00/l6h/+IBlnz2qGCtkXfKIeMk0ld+6oqDiPzRKgpD17Je+ml2Z9MM7kffv0e9Sq1bqgGW3gnBPN2MojIowM7pEqI22YJsN3CBraC12wQKLXrZfsK1f0ONf+CCGEkO8LCpBNTCoDZC7q8NCQFPr4SNK+/ZJz7ZpEb1j/SAaoNOSuBHz8iVRGRsmA05Naj2EkA4EpofQTJ/U7xKDQP0Ci16zV7y3FJRK5Yrl01NfrdFXBbW+tl7hrt06RQboQw6a98KXLpK20TLex7gdZF6wL6m1pkaBp03RaDuKDrA/W60ByYjdtMuMNeaIAoR+Mb9CITJoZI6bUIDAJO3caITqjfTXlFxj5WqQLmxO2bZcCH19tL2HHDs0uoa17Xy+RxuwcrY9r5NwXIYQQ8n1CAbKJyU6B4eZeHhmpN3qscUk/eUplATqDaSKszUHmxhSpFLlrA+WQlPgtW+TS73+vT4FhUXN/d7dmeWI3bHQIUEmprrfBdFVjbp74TZmqU10gZsMGlYuiwEAJ+OwzOfPP/68uWIbQDA8M6Hoh3/enSPTqNRI8fYZkX76sU2KYmrMEKH7rVl20/SQBSt67zxx3xex1TM3dePkVnW5rLSuToC+mif/s2TpFh0XSI6YOFoTjuiDKwsMl0lyLrsYmI3ErpToxifJDCCHkB4cCZBOTFSBkgTDl1NveIX2dXfpEmGaGDFhjg322N3pTd2BgUNfs1KSmSW1autSaT0wZYb1Pt2kH7WEbAoF/9weCgWxLTXKyPpLea/pGW5CtKiNe9ZmZUp2UrNNlI0Zg+vv6dboK7WJMOAZ9IgtkTU1BrCBi6OuR8QFThsfycZ7YjyfSWkpL9VjIHtYAVcTFa0bImuZDexgX6mPtjz4yb47DdUH/qPNYP4QQQsj3CO5BnhjPX4AMyOBYOD/u7rr9rZgfCOKA7AuwJELbeOgQKPyI+n1cHFAHWE96oczKPk3ss4417TiXYRvtOLc3UW6+u0P7Gd+PhdUqduPH4jvG7Sx7zu0hi2TV13KzbdUjhBBCfigoQDbxNAJECCGEkBcTCpBNUIAIIYQQz4MCZBMUIEIIIcTzoADZBAWIEEII8TwoQDZBASKEEEI8DwqQTVCACCGEEM+DAmQTFCBCCCHE86AA2QQFiBBCCPE8KEA2QQEihBBCPA8KkE1QgAghhBDPgwJkEy+8AJkf0HrtxCPbruXfxrfV/0faeRL/SLvf1t+Typ8G1zadt813/AfiWjbx3RmrnnN9d3XdlRFCCHnmUIBs4mkFyHq/1WTfczUy9lCPndg23/HuLesdWvp97IHjRm32owygzNpvHesOfY8XxjZe3/mdX+jD+b1hT8J1jI9gxqVtOI/DlGFb+3O6JjgHq9xVFNC+ljuVPTWmD+drhO8YK75b48A7zvCp13j8eljXCHWcj7Wuo+53advadr6+hBBCnh8UIJuYrACpkAwOSaGvr7RXVUvejZvSlJ8/cWMF7o5zZtTUrYyJkbzrN3QbN88CH18puxcuwwMDknPlqvi+/774Tv1AigODZOzBA0k9dkxu/PVv4m3K4jZv1re4P6mvEVO/tbxCQufPFy9TP2rVKn3DvHVjx1vs7341RzLPnZPRh+Y64Jxc2rDGmIsxDg0/IjRWG0HTppkx39M2Rk2feCu9jxk3yjvr6rUNlJfcCZFb770nEcuWSQ/eLm/KtQ9zXN5NL0nYvuOxPiYLriXefh+zbr1UxsWLcRfJunBR7i3+WseNt+uHzp0rN8x1id24SQb7+6UxN1cCPv5YGnNyZcyMqSzsnlRERet1iVm/Xm69+674aP2N0lRQIPHbtplj8iYEMPP8Bcm6eFGlyhJWQgghzwcKkE1MVoAsiUg5cEDaysolee8+I0B5eqNtKiwyN8hCR7Zh5Mk3c+zPu3lT4rds1W20l7xvv+RcvSbFAYEqEB01tdJhJKKvu8f8mCMStXKVpJ08Jb0NDZJ65IhELF8u/T295ob/aD9oC5IRtWatCtVAW5vEmRt96tFjKkzoO9/rltx87TVJOXTISAjG+vhNe2KMRk7w1neEnhf6MJ/oJ37rVqlJSlLJGTJjHOgfkLr0DAmZPVsFQQUN5X19Ro4S5O6cOdJWUTmRVUJUxcSqQKgAjY8Dx+F6AkvycAz6t8ZilbuCepCcm6++qqIyOjpqxGu5eP/979LV0KgSk33xknSb6xi9dq1knDljRC9Wrv3xjzoOc1pGZi5J7rXren0hkeURkdLb2io9rW36WySb3z567To977bKKj2vZvPbj0Am3YyJEELIs4MCZBOTESBkVpBdiN20Sc787Gdy++2/yPn/+E8J+vxz6ayp0Ztg6PwFmkHAjdrKdLiCG3mBj48k7d6j25CJ1KNHJf/2Lcm5fEX8pk6VnrZ2xzgNQ0MjErdpsxT7B2iZZnDMTbcm5f6ElFggAzLQ3y+JO3fK/cOHdVwJ27ZLuZEhtNVcVCxxm7eo3CADZE3rOLcB0G6h6S9q9Rpty+/Tz/S8kI2CxCCjEmLG0FRYqJkPHIM/ue6WVs04NeXlT0gK2kK2LHLlSj3WKs84fUb8Z87SLBCyP/ijRVaoMi5OAk1//p99JuXhEZqVacjOkQJvb83aYF9dWrpmmKzxWkCA2iqrJWbdOkk/dUqFNO3ECSMtByX3+nWJXrdeBgYGzQjMtTC/V7QRRWTfIpevkPtHjkqnkaf8W7eV/t4+zVpVxcWba96pvz3+BnD9Q778SsUocdduyTp3/olCRggh5NlCAbKJSWWAzEXFDRZZjqi1a6XIz9/cQNdI7f1UzX5AMFqMYAR88qmkHT0mQ4ODE1kNZ9wJEG6+uTduSH93j4QvXiznf/4LSdixU3rb2nQ/BKjQ3KjRx0Bfv8oEskUqSC7t46dvr6rSqZ6bf/6zZkIGurs125Oy/4BKRVV8ghGDk9q2OwFCu0WBgXL193+QkpAQyff1lZDZX0p3Q6MMDgxIQ1a2+H/4kRSZMVg3f7TVWd8gkStWPCJA+GwtK9dy5wxQe3W13D9+QkLnzJXBwSG9Lg1ZWRK2wEjkvXtSER1jvi+URtMX+rn0y19qObI24V8vURHR8Y+PWcdg2m4uLpG0kyf1mKS9+6T0bqi5vkck6/wFSTXXGeMByN5ELlsu2Zcvm3p7pST4jukz2oiotwoQslIBn3wi1157XXw++ECvY39Pn16bytg4uWUE+J75rZAZss6JEELI84UCZBOTESBMN7VX10jE0mVy7ZVXJOiLaXLt5Vc0a4MLjiwGAjf/k//Xf9XMBkpcBQNl+d63dfoM+yAmqceO69SL+arUZ2Ro+5iy6TfyEr9tuwoQ9mFqBmt4rEyTc9vI6Az29enNOv30GemqrZXQefMl59o1qU5MktgNG2Wwt0/KjARhWkzH5jI+YEla4p69+h3nhrHUpqXrNvpFW1jfY4nOPypAOJfqpGTNvkCA0Gb66dOScviw7kPgHNJPntJzRfYHgd8gfOlS/bT6sMB2bWqarpmqGW8b2aPE3bsl7fhxSTbng3GiHrJSOIc8Ly9J2rNHmgsKNSuGPnGtcZ0hmjje+XfE8f1GeO/MnCXZly499hsQQgh5flCAbGJSAjQ6Kn0dnXL/0CEJW7RY4rduk+DZs6UmOUVvjrhJNuUXSNC06ZJ55qx01NQ8MQNU6Os3cUNHYCqlOCh4fMsRyPRgqgXTOMgWVRhpQVQnJErARx/pOiHXdSf42ZHZCPj0U5UORL65wWO9Tua583Lj1VfF74MP5Orvfien/+3fNPOk008uC5AxRkzJYT8C531n1mxpNOdnyQnOvzo+Qb/jGAREBqLUVVev25i+Q/S2d2g5sjYqDON/oPWZWSohVuRcu66yZwWyYJiuKwsN0+uFY1uKS3QNFM4frTiPG9uQtOT9+3Xaqgdrd0zfECCIDqbuIGmI0pC7Wl4aGipxW7bI4NCwqXNLpzjx+yAbF7VmjXQY0bJCrxWmGc15JprfpMS0oXLkNAZCCCHPDwqQTUx2ETRu/ng6quC2ty6exdod3AABbuaYvimPjNIbtevN2QLrSCAImD6JXLlKwpct03Uzvc3NUpuaqgIQv2uXhC1cqNNUQ0aEkHXy+fBDLb8zY4aUR0Q42ncRLBUZc3OGuNz98kuJM/UDP/nU3OTDdB/WsfQaMVAp2r5D+np63WaAMH5kd27/5S/aBp6qSj91WoYHB3WBc8KOHTol5ffJJ1IUEKBtVJjzDl+1Wi7+/OcSunCREcNkGRkbU8G4t3SpXDDlyMg05uXrlCHW5AROn6HlmJrrrKuTblwXc2ykuR7I8kSZ9vo7OlRIIles1HHpWitznZHBcb3G+B0wdQbZwlQdfi+cY5wRwLqMDJ0+C/zsM0kw54Rr2pSVZX6vSO0P1wfn5vvue5J746Y5flD8P/5YQubP1/pZFy441gEZ6cQ6opj1G6TQz58CRAghLxAUIJuYrADhJompl7byCs1AtJSUOrICBqw9aS4udtwQ3UjFBEOOGzUeVU89fkJST5yQrqZmGTN3a9ykMR2WcvSY4yZsZAZPG+m0jrl5J5tyLAC2siju2seiZCzgxSPsSaY+1vvgzwGZC2v6B/0hQ6SLoN21Yc6np61Dsy/Jx47peiA91tRHRgpTTJlGCFJPn9E1NhhLVXy8pJjzwWPnqSdPqsyhHQhhqhG5TFOO6SwcDwEq8PWVNCNVKMf6nI7aOsd1MePCdcHi5e7mFr0uyMLgMXW019vZpbKpT8GZbddxox3URUYH+yEyjfn5ehzOF+t7cH2RScJ17Gxo0Po4HtcbYgu5wrF4HD7VjPm+qZ9/+7b+8wPap2kbIoe+XMdACCHk+UEBsonJChDAGhZcXuvTKsd35207nH8itDXoUoawbq4QAyu+S8YBN3orVJZc9lsi5FrujHMbZnj6R+VujFb7zmNEWOP8phVHaL+mLbTpHBiTa/vWdcGn1R6uCb4/STzQziPXyPRl1Xf+DwPftG3n+mY/xov+sO08dr0GTn3iGKseIYSQFwMKkE08jQARQggh5MWEAmQTFCBCCCHE86AA2QQFiBBCCPE8KEA2QQEihBBCPA8KkE1QgAghhBDPgwJkExQgQgghxPOgANkEBYgQQgjxPChANkEBIoQQQjwPCpBNUIAIIYQQz4MCZBMUIEIIIcTzoADZBAWIEEII8TwoQDbxtAKk75Yae+B4HxTaGnJf79vAsVbgBaZWG4+UW22bHxTvokLgE9tWO3gfFeJbx2HKsd85XN9jhfdeWe/1Qn3Xd3gh0IbzO8IQE8cQQgghzxkKkE1MWoAgHkPDUhUXJ10Njfqm87aKSpUCyMF3fTnmyJjjTeMh8+ZJ3ObN0t3SKqPmePxs1QmJWh6zdt3E29AH+vol8+xZCTTl2ZcuaX94MSfqNxUWScqBg/qGehUpN/3hLe5tlVUSvWat3Jk3Xz+xjeNxTjgu/7a35F677jgXbHt5SbCpG7Zgodydv0Aili2TlrIy6WpsktiNG80Y55v98yaOedLLSQkhhJBnBQXIJiYlQONZFGRoUo8clo6aWknet1+aCwo0K9NphKinrU33uz1+HMhCjxGezHPnpDj4jiTs2GHYqeVNpq3wJUulKDBI4rduk/ht22VkeFjqMjIl6/wFKb4bKiGzv5Ris3/s4UOpSUo2ArVFrr/0ksqYCo2bPpGlKQ+PEL+pU6XoToi25f/hh9JcVCTmlKTHiFbksuUS8uVX0lnf4BCr/AIpNP34ffCBRK1dK5VRkdLX1SVVMbHi8+67UhgQqONpyM5xiCFw0zchhBDyrKAA2cRkBGh4bEz6unsk/fRpuWqEI3TuXLnx2usStXKl9DQ1S+39VAlfukxaSssem6ZyZXBwWD8REA4VDyNQaSdOStbFS1pel54hN15+WRpycjVjZE1hFfr5Sfz27do++kR/wdOna0bp2wSoIiJS4rZunZhiSzl4SJJ27dbv5eHhmllKPXpMCn39tA6OAcn790uZkScEyiuMaMWsW6/bCE6BEUIIeVGgANnEpARo1CE0hf7+EvDFF5K0e48Ems/sy1ekp71jIsviO2WqlIWGyejDb+/D+pEKfH11eqmvq1uS9uzVbE9VTIxmgIKmTZOye+EqHiOmvVHjQFGrVqsk4Wj02dvZJUGffW4vQBCXDRt0Og3bBd7emm0aNvszTp+RciNIxUHBErtpsxmbI9s1ODCoGSpkpDAGtF+TnCJXfvtb8Tbn6ffhh3o9Rh480PNx1zchhBDyrKAA2cTkBGhMelpbJf3UaSM+n+u0VcC4eOjiYCNIiJqU+3L6//n/SUnwHZUGd20BSEhDZpZc++OfVD5QF+uB7n39tWScO6drbRJ37prYB7IvXZY7M2fp+iMIEfrtaWuflADlXL0q9xYtkvbqGknctVvXNvV1dkvUmrVahv7cCVBVbJyEzpkrjXn5mn3C+iVOfxFCCHkRoADZxGSnwDrr6iXcCMrtd97R7MzNt97SxcODRh4gCD3t7RK1eo1Erlgh9WnpOnXlri38PJ21tRL0+RdS6OPrGJMBU1vBM2boNuQjatUqaczN0+2ysHsS8uWX0lXfoNtoRyXF9H1nxkypNeJllbuiAuQ0BYbt2A0bJePMGamKi5cz/+N/qlgFmnO68utfS01ystZxJ0CVRrQ4BUYIIeRFhAJkE5NaBG3AKpyapCQpMNJSnZgkqceOqQDgcuNpMEwppZ88JSPmB1AxcPNYOp6w6jWi5P23d8RnylTN8JSGhklvR4fUp2fI3a/mSJ7XbZWV5L17ZfTBA6k1QnL2n/9Z4rZskfKoKKlOSpbBwSFpr6qWvJtecukXv5DYrdukMS/PMRXlkpHBWHR6bupUKQy+Y8Z9XMIXf63Zm+R9+yRx5049r9rkJJ16QxnGiT5i1q+XfG+fCQFCpsnn73+XAj8/XVDdkJXttk9CCCHkWUMBsonJChCkABkZLFDGU1J4ZB1TYyivTUufmK7C1JS748HEI+lr10nY0mUSunixRK5cKS3FJSoqEKu7CxdK/LZt0t/TK2OmrQojPfcWLZZ7S5eafYtUvJCdqYyJlTCzfW/JEgkx+3OvXdPxuD6SbvUZs36DhJj6mL7D1BnGiTHjcXvHEmvRp9tKjNigfUyLYT+mu3COoKO6xojYVgk17aCtvBs3+Rg8IYSQFwIKkE1MVoCQ0cGlBXiGC7LjXD6x/W3gcXojDK5hSRPasAJSMWjqO5ch9CkzU9f1Z9ask3NfFujTtO8ckBbsmxA2U0frmWrO54Hv6Gdiv0s7T+yTEEIIecZQgGxi0gJECCGEkBcWCpBNUIAIIYQQz4MCZBMUIEIIIcTzoADZBAWIEEII8TwoQDZBASKEEEI8DwqQTVCACCGEEM+DAmQTFCBCCCHE86AA2QQFiBBCCPE8KEA2QQEihBBCPA8KkE1QgAghhBDPgwJkExQgQgghxPOgANnE0woQLi/e06Wf4+/U+kfA+7ZwrLWN72Bw/LsVVh3nd4F9l3dvYUxWOPejmD8OvM3L+X1f7nB9J9gjjLeBOlaZ87idX4xqlaO+6xvjsc9uHP8wpg+cPcaG64n2te/xffiOsK6j9W4z611sGBPe84bv31xFRxuogzLn3xztf+/nQAghZFJQgGxi0gKEG/jQsDQXFUtvR6e+ER5vUscNHxf9u7wRHXXaq6r1WN02x6G91vIKvbm2V1ZL6tFjcv/IUalLT5cRU782NU3unzotyaasKi5Ob7hP6mtkbMyMrUOyLl6S1GPH9e3uo+bujX06RnPzLgsPl/qMzCe24TpGZ3HBvoH+ASkNC9M3zGMbY8Q5oL8Cbx/p6+6ZKEc/KcePS2loqB5n9YnP5sIiqUm5/1gfkwXnN9DXL9UJCdLZ0Cijpg+cQ0VklLaP/ywK/fwlUa9jvF7vrqYmLetpadXxtpnfoX38vMrNcfdPnJAUUx/nhWtZFZ8gvZ1djvMzf0dNeflSnZSsfX8f50AIIWTy4H+LPTGeuwDhLe64tKlHjuhNMmnPPmnIztIbaX9vn94AnbMi7oC85N28KfFbtuo2bqLJe/dJ9uUr0pSVJcEzZkj81m2SuGev1N5PlVEjNOGLvxafjz6S5H175e5XX0m+t7ejH5cbrgrOyIi5oftJzIYNErlqtUStWiXdjY2mnwc6zlojHOd+9jOJ27LFkblwc9O2xhhnxojvCOu8cP74vP7yy0YKvHU/pAsyE7V2ndx8/XVpLiicKK/PyJB7K1aI7/vvS7sRCKsdRNaFixI6f4FKpSVGuB6miiPjMl7Xuu4Yv5Y/4fdDOYT0+ksvqYwhwr9eIld++zt9k33ejZsSMmuWxJnrGPDxxyqTEKEz/+N/SJF/gLadef6C5F67LoMDgxLwyScSunCRJJn6udevS2ddndyd85XKJer29/RK6Lz5kn/7tuO6uLmWhBBCnh0UIJuYjAANj45qBqMs7J74mxtjyoGDEvj5F5J24oQMdHVrZiBh5069KeJG7a4NADEo8PGRpN17dBs37dSjRyX/1i3JOHPGCMF8HSMC7QyaG3fc5i1Sfi9cyyAXgZ9+Ki0lpROZHWcGjUxAAnAsImLZcikOvqPbfZ1dkrhrt8Rv2yaZFy44pnKeIEAFvr6SbM6xJjFJCowcoM1RI1E9be1SHBikotBeUzMhLjpWIw0x69ZJU27ehCghets7JHrNGs2uWGOuTU2VzKvXNHtijQH7ekzdQtN3vo+vdLe0OspMn/heGRsnRQGB0meuN+QKxzgDYUKW5o6RnMTduzWrg8+YDRulIipKwpcskY66eh0Trmfspk1SFhomIV9+KSkHD2n2KNdIUv6t29pHzPr10m8+rcA5NmTn6O/eadop8veXONMGBM26DoQQQp4fFCCbmJQAmRsusjwpBw/K1ZdekuDp0+Xayy9L1OrV0lnfoDfBzLPnJHjGTGktKlKJcNeOOwG6bwQozwhQXVq6XPvjHzXr0FpapjdcyEHcps1SaIQA25CwyJUrVcR0v0v7AGKDfvo6OiVswQKpSkg0Ww6pSTtxUqd20k+eeqIAoV1Izs3X3zASsEH8PvvM9LlKhnp79cYPIbv8q19LqZEHS3RwHrgOkStW6LSQVY7P1rJyLW+rqJwoR4bp9ocfanbLcbyRKyMsONc7s2ZLyJw5KlN9rW0qcLf/8hcjUWvF9733VMyGnbJGFhAg9HH/yBGVGExt5Xl56XQifhtcc9TBGDDFF7l8heRcvapCiKxPQ06OTnXh2MHBIQmaNk0CvvhCws3YM06f1muP65p2/IQ5n5USZmS1Pj1j4pwIIYQ8XyhANjGpKTBzUXEDrIiOkai1a6XQ18/Izxq9ueNy42Zs7q16A738y19JTXKKjD58vB+3AnT4qGRfuoyhqTxZ0zaYYsIUGIRjQoCMhN1bvFinbJ4kQMiOoG8IQ+jceTJiyjrr6yV++w4ZMjf2+swsyTH9YbxPygAhCxPy1ZyJ6amI5culMb9A+0Rgmq7EiIl18/+uAmRNayGwPggSgswR2sVUEoQL40LEb9uuMlIaclezLqjTUV0joUbqIGJWHxbYrs/K0qxcqRHE0LnzpSYpWVIOHJCMs2cl1YgQ6gCsX4o2v1/O1WuSvH+/1oOUZV+5qr8hfuu7c+eqbBX6++t02YAZJ45FNszrjT9L0p69eq2Y/SGEkBcDCpBNTEaAkKFoKy/XdSEXf/1rcwN8Qy788peaDUC2AJd8xEhHxukz4vvuezq1gikjV8HADTPvlpeu+8ExuKkjG5N7/caEXCDq0jP0BtxSViaJO3dJcUCglnfWN0rARx+pPOB457YV0x/awXSa3wcfSI+5WSPSjh+XW2//RVL27Zc7s2eL1zt/18zKEG7ebsYI+ULmBG0NIutkBAaLsbGNfiEqzlkolGGaChmxluISbcNqq91IC8o7ausmxozjMG0YtWq1ZqIgPWknT+raHezDdua58zpu9AN5Q1lrSanKGETI9fyxjXVTyNK1V1WpOGHdEaYm00+fltgNG1RiEFgcDYkrCggwbW/Xabas8xckad8+ldv+7h6JWrNGOqqqtT76xnXCWDHNGGeOLQ4Knjh/Qgghzx8KkE1MdhE0boI1ycmalahKSNC1O7jB43LjyauEHTs1o9FrROBJN0a9Safc18Wz9VnZUodFwosWSWN2jgz09mqWBNmaEnPzxvodZFVi1q3XqauuujqdIsKUzdDQkENenNs3P/yoOTeM78arr0l1YpJ0NTbqE2tYu5J+6rQKBRZSQ4DK7oU/UYDyb3tLxIqV0l5ba2QuVMIWLtIpKqyTwfQRpqkgKL3t7XoM+qgxgoRpI7Tb39Oj7fZ1duraHZTjmuF4ZJV6Wlok98YNCfpimiMzNDysWbPQefN0rBBATDE15uTqdFzUylV6TbHYGhkgSJU7AcI5x23daqTUITqYtoTgVMbEqDhBcqzriEXR5RERKmeYwqyIitZF6Hk3vfQ4CCh+Byx+RsYJmSoIECQK64owxWaJHiGEkOcPBcgmJitAkIvqxERz04zUmzVugJj+wHRTZVy8CgFukK435kcYMe2YOrjJev/9XbltRKT0bqiMmbKioCDxmTJFvKdOleDpM/TR8jHTNh6Lv/G3v8ktU568d68MGvnBlJNr25qd6B/QBcfX3/iz+H/8ibaX73VL5cEKtFseHjGR1XBtZ8y03ZiXr4ut0SekDtLzAOcZEyu+pk2vN9+Um2ZMWAyOa4Cn2Lzee1+8/vym3H73XZ1CQwYsw0jX7Xffk5um3Pf9KXo85CJ24ya59c47csOUh8ycpWIzNjZmpOSGXhdvs8/KMCFThCfGMC5kfpAp6m5qfuwa4PfBOqrsy5dVVrAffeVcv67jh2gFGxHD9c2+ckVGzTH1mZnaNo5HFgiyiWlO/EeELNctjMXUxzWFAOKckPHLuXJVZQt9Oo+BEELI84MCZBOTFSAAycCNVT+NQUyUQ4RM299pPYj5gVAXx1uLclGGY7XMtG/tR3181+3xcvT9WJtOoA4yE462Hh+T69jdgTpWn9rOeH38ceG7lfmyxmKNfaJ8vE9tZ7wc+3G8c/tajt8D5U+6LuN1rX6scmy7gro41rlM+x0fn7ZvXUdT5q5tHY/Zxndr2yqz0HJzrHMZIYSQ5wsFyCaeRoC+V8Zv+m7LnlTuXPYknNv4rse440ltOJc777Mr+y7lzvucy74v7Np23mfVtTuGEELICwEFyCZeGAEihBBCyPcGBcgmKECEEEKI50EBsgkKECGEEOJ5UIBsggJECCGEeB4UIJugABFCCCGeBwXIJihAhBBCiOdBAbIJChAhhBDieVCAbIICRAghhHgeFCCboAARQgghngcFyCYoQIQQQojnQQGyiacVILwXChfZeseUuzp2oA286BPvwkJbduV4FQN+Vud3UmEbdS2wPVHfBYwTbU607TJuHOt8vGvb1jEYk9UO+LY+CSGEkGcJBcgmnlaAultaZaCvX7qbW6S/p/cffk8UXqKJN4tXxMRKfVa2vpDTIVQPpbej01GekTlRDvGAbLWWlesby1GGN5I35uZqXby9vCopWd947m4sqI+3otdnZUl5TIzUpqZpe5ZMof2O2jrpqKmdkJyW4hJTN1Zq76fqW8/xRvae9g59y3pDjqNftIU3y/NdWYQQQl4EcP/yxHjuAqRyYEg/eVLajIykHDgo9enpmgWx3iqO/e6OtcD+ge5uSTl4UAJnzBD/Dz+U4uBgzar0d3ZJwo6dEjhtmvi8844UBQRoOWQn/9ZtufnGG5J98bIYd5GB/gFJPXJUAmfOlLtffilXXn1NQufNV7nCWJz7RKYGAnP1D3+QwFmzJOjzzyVx924jMwMy+sDUNe1HLFkqIbO/VLHD29tzr18X/+kz5OLPfy7XX3td7i1eJK3l5Spm1//0JwmcPl0CTFvZFy85RM3mvAkhhJAfGgqQTUxKgMYzHC2lpRKxfLmU3LkjkStXSWlIiIwMD0tVQqLkXL2qmRVc/seOHwei0GtEBxkWRFN+gdz9ao70dnRJgY+fxG/dpuWNOXkqR531DVKXniG5166ZfldI5plzKjRDph18WpF6+LAUGEkaM/27ZmNQrzwiUuK2btW6Q2a8IbNmm/Fe0+2GrCxJPXpM5asmOXliiguRvH+/lEdG6XeUVZh2Yjdu0m0rhoaGH+mPEEIIeR5QgGxiMgI08uCBikv0unVy5mc/E68//1nO/fu/S9AXX+jUU19Xt8Rt3iIx6zdIf2enQ4KG3LcFCcJ+iEZTQYGELVggnY1Nkrhrl043DZrjISQ3XnlFqmLjZHhwUI+J2bDRCNBZhwCNSw7aacjOkeAZ06XLyNLow8fPTcXFSEzMhg2a4UEGqcDbR6JWrVZhyr123ciXj+RcviIpBw/puEbMDkx3JezYIUWBQVqGvqrjE8T3vfcl7eQpyTx3XuozsxzZHxfpIoQQQp41FCCbmOwUGCQIa14S9+yR6oREnUbqamp2rKcx4jE8OioJO3eJ39QPpK28XOu7awfoAuqREbkza7bcP3JEhsfGJHnfPsm9fkOS9x+Q4qBglY+y0DAVGPyo0WvXPSpABvzU9w8fkawLFxzS5aYvVwHCdt7NmxI2f76u67l/5Kh01tXrGqPotWu1DG25FSAjaLf+/KZErVsvsZs2SyUEzYydAkQIIeR5QwGyiclmgFpKSsT3vffk7L/+q66nQSYoee8+XaODBcXIrJSHR8ilX/wvyfe6JWPIxrgRA6zTwdqbmLXrJfCzz6W/t1cFI2rVKvF9f4q0V1frduyGjSpalvCoAJ0dnwIblx9MpYUtWChtlVUygnKXvsAjAtQ/oONMP3HSCMxGaczJFe933pFC/wDJM2P2++ADaczL1/7dCVBlVLTEGPmxAuVPynQRQgghzxIKkE1MNgOE6aXyiAjJMBJScidEM0B4ugryg2xOzpWrEvTFNGkyUjGCrIibNiAukKmMU6fl7tx5MtDTo4ICkcj39pbQ+Qt0WqomOUUily+X7tY23Yc+olav0QwQAtNOqIeF0AnbdzgWM2Mqyk2faB9ihum7YdNOa3mFBE+brk+DYfrrxssvy71Fi3Sh8+23/yL5t4y8mWMgQHFbtqgcWQIEkcKCaaz7wbbrgmtCCCHkeUEBsonJChAkoCIqSooCAqUyJkannSAmKMdUEGSht71jIkPjtg1THwupL//qV3LlpZfF/9NPJWiakaaCAhns7taM0q13/i5+U6dKTcp9zdY05OZJ8IwZcv4Xv5DLv/+9EZ7tmsnpqKvXhdhWxsZdfwCZKDzOfuPVV+X2hx9q1glTaxg7pr8aTftWQLysrBYk5/7hw1Iadk/bgADWp2eI1xtviM+UKXL7gw9U5PgUGCGEkBcBCpBNTFaAAMTDGUt0+rp7VBpw6V2PcUX/DaGWVn3CC1NX7dU1E5kk7G+rqta1RZphGRnRf2sIdbBQusMc09nQKINGTtA/Fl9/F/lAffy7Rejvm7ZHdSyudfXfNhp/sgv7kQmy9mk7ZuxoB+C7tY8QQgh5nlCAbOJpBAgXF8JhfU6Uo+y7ZkHMsY6F09+A9rAPbWiZ0xix75H61j6MAVNQ48d+K85t4Hin/pyP1/NymtbS83Ju37kdA6fACCGEvCjgfuWJ8UIIECGEEEJeTChANkEBIoQQQjwPCpBNUIAIIYQQz4MCZBMUIEIIIcTzoADZBAWIEEII8TwoQDZBASKEEEI8DwqQTVCACCGEEM+DAmQTFCBCCCHE86AA2QQFiBBCCPE8KEA2QQEihBBCPA8KkE08rQDhAuuny2sk/hHwCgm8kgL8Q6+TMP098soN1+1JYo1noi20a5VhfNZ5OpU/Up8QQgh5zlCAbOKpM0DjLwqd+PxHMcf1tLVLb0en9HZ2SU9rm+Pt6+7qumKOxQtJncsGh77jsU8Afy54AWpXc4v0d/dMSA1etIoXqGKcI6aOJX6oi5egYh/qOLdFCCGEPC8oQDYxWQFSMTDykXPlirSVV0jGmbPSkJWlLwXFJR8zuDvOGWRPID2Ry1fIpT/+SS79/g8StmCBCgUyKpppQZZlXDYmMNtovzoxSe4fOqRvgn9gthvz8iTws8+kuaDw0TfRW224tuMCjmkyxwZ+9rncnDJF4jZvUcGpiosXrzfekNtTporv++9LcVCQjD14IA3ZOXL7L38R7/fek1umfvrJU3pOzAQRQgh53lCAbGLSAmRu9AO9fZK4c6c0GhFI2LFT6tPTVUTqM7OkKj5eJUWnjNwcP4H5gUaMTKQeOy6Ju/eY7+NvlzfH6fFGJvAdYoX62MZ39FN2L1yi16xRARp9+FA66uok+/Jl6WpolJHxfvV4CAn6+Zbx4PjW0jKVn7KwMBk1x7RVVkl3c7Pk374t8Vu36bgac3MleMYMaTF1q+ITJGLJUj3eGqtru4QQQsjzgAJkE5MRIAhLb3uHRK5aJaf+5/+UGy+/Imf+5V/E/4MPpL2qStqra+Te4q8l+9JlGTXtW/LiFvMDQR4yz56T+4cO63fISG1yitw/fFgili2VW2+/LWXhETJm2sH0WPqp0+IzZYpc/sMfJGL5cpUVyIj3lKnabycEyIwRWaSuxiYJN5Jy4/0pcu/rr7/JLrmMAWPMunBRErZvV7lyDgjQ/aPH9Pugka3gGTOlLiNTau+nSsis2VJtxlqfmSmd9Q2OTJNz24QQQshzgAJkE5PNAOGyNheXSMKOHVIZHaOfmAqzhKa7qVnuzpkrMWvWSh/WzTwpO2Lqoy1MoaUcPKTfISAFt73lyq9/I43Z2VJyJ0TCFizU6ahCPz+J37ZNuo3kFPj6ScyGDTI4MChDQ0M6fRX0xTSpN3KCdpDtaS0plbaqalNnQKLXrJbsy1eMYBkhcxYV8x0ChGxW+smTZntEcq5dN6J1Snrb2k3/d8Tnvfcl8cABidu4SVKNDI0MD0ttyn25ZiTM/7PPJGjadCkOClbxogQRQgh53lCAbGKyGaDW8nIJNjf9C7/8pa6DufC//peKAdYFYSoIgTUyp//v/0dyjUyg5BHpsDBlrgKEukUBgboGB4GpqMiVK6W9uloSd+2WkuA7Wl5jBCRu82YZ6OvXY/o6u+TeosXSkJml7YyacbZVVGoGKHj2bLn28suSdvyEZpjcCVDasWMOuTHH5RsB83nnHZW7srB74jdliiTs3y+Fvr5GrMZU0iqjoo1UrdW+EejzkXMjhBBCnhMUIJuYVAbIXNTB/n4jNlclbus2ST9zRiJWrNB1MZAfCEFVbJz4f/SxlAQGSV9HhznGTTtgXJZyr9+QjNNn9DvkotA/QGLWrtPvLSWlRoBW6Bqf+G3bpcjPX+vdP3JUIpYu1WkxBNb9RCxfIe1GehB4igtChKxPh5GowM+/0Gm2xzJABvyZlN8LlyBTp88ch8i9elUqjORAxlIPH9EyBP6oUB/7otesE9OcBsbq3CYhhBDyvKAA2cRkp8Bwsy+PjJQCbx8jAlGSdvz4RPamJjlF19s05uWrHAw/oQ9MUUE2kvbskct//KNc/M1vJH7rVunv6dHppOjVaxwCVFyiWRwsSK5LzxC/qR/olBie+IpatUqlqyQkRO7Mni1n/vmfxf/DD1VmhoykJe7aJf4ff6KLmAM+/VSf1Jp4wsx5LKaNYSNpGadPa/uhixaJ1xt/luqEBH3qK3HnronsFurjXKsTEuXaH/8kIXPnyp2FC1XicE5WHUIIIeR5QQGyickKEC5sd0uLdDU1S09rqz55hTLQUVuni48hQ+6OtUBdPMFVGRMjpUZYSsMjpDwiUvp7+3WRNRZTo05/b59Og6EunuSqSU6W0ruh+u8H4d/fQVtY/1McfEfKo6KNDN2V5qJizQjhMXvULY+I0DHhGNdxWKA+5AXZq4LAIKk0n33d3XoMzsm5LsYFeatOSpYiI2uFpn5DVraWu8oVIYQQ8qzB/cgT47kLEEAmBTg/pj5R7rT9rZgfCFkeZIqATiOZMrSJnw51ICX6fVwsUAegD6sf7LfaANaxGAu2UR9lmv1Bv08AfVnjwSe29fzM92+r69wnIYQQ8ryhANnE0wgQIYQQQl5MKEA2QQEihBBCPA8KkE1QgAghhBDPgwJkExQgQgghxPOgANkEBYgQQgjxPChANkEBIoQQQjwPCpBNUIAIIYQQz4MCZBMUIEIIIcTzoADZBAWIEEII8TwoQDZBASKEEEI8DwqQTVCACCGEEM+DAmQTTytAuLzWu7rwzix3db4N631aFmgH7/zCO7ue+DJVsx/7Hnn/mOnbagNtOtdHW1pujnMu/65Yx1voGE05ztddOcZmvUsM363xWOc0UT4+HpyH1QbKHefv2LauKdq2e48ZIYQQYkEBsonJCpDevAeHpCT4jnTU1Eqhr580FxWZm7TjxaiWDHwbqNtRVy+h8+aJz0cfie/UqVIUEChjprzmfqrkXr2m8uAsLhACvCk+YedOqU5INHXxQtYHUhWfIL6mjXuLF+ub6VGG+qNmf03KfQmdO0+6W9tk+B8831HTTl16hgR98YX4fPyx3Jk1S+ozs+TBw4fSUlIqIV9+JX4ffSzeZl/muXNaP/PcebltzgX1k/bu17fYj5r6eHN9zIaNctuUhy1YqG+Yh+TguoXMni0+H34oeTe9ZGxszIw5RSJXrtRrC/HBG+3r0tK0fXfjJIQQQpyhANnEZAUIN2Vc2vuHDkl7VbUk79svzQUFmvloLSuXtorKiWyGu+MBjq/PzpGgadOkKjFJquLi5c7MWVJrbv7FQcESuXyFqeEIS6jwOTL2UO4fPiI15hgIDn7kvq5uqTJC5G9kpCEjc6I+xtNcVCzhX3/tECBzLKTKysQgUOdJ40S9PC8vCVu4SJoKCqXAx1dCvvpSOusbdLxBn38hDVnZ0mT6QBnajjDjTj5wQNpKS+XeosWSf+u2DA2NaDnkqLmkRJoLi0zZsApO+NdLpNiIZL0Z950ZM6UyOsaIYIBcf/klFUuM4f6RI1qm19TNOAkhhBBnKEA2MRkBwnRTb2eXJO7aJed//nPxmzJVLv7q1xLy5ZfSVVcnDTm5muGoNoICuXjS1Bh+mgYjQDHr16s4IOK3bpXsq1elPDJKhSFpzx7NEDXm5mm2p83IVuSKFRK1erW0lpbJ6Jhjeglt9ff0yr3FX0tDZpaKAsZZERUtIWYsKQcP6X7U72lrl7Kwe5J747oEzZkrWRcu6h+KNVXlDNop8PY2AnIUw9N6yPogQ4XMUuSy5douBEqPN5+xmzarKEGwcG75t28bQesRv6kfSKGfn7aDwJjzbtyUhO07JmSsKDBIUoxU4viI5csd4+7u0exSSUgIBYgQQsh3ggJkE5PKAOFmb+QCGZd7S5ZIztVrEm4+IS39vX16M8c0EW74OZcumx9hfMrMpR38NI15+RI8fbrk+wdIobnph81fIG3lFVJyJ0QuG6mCfKQcOCARS5dJf1e3DPT2mn4iJfDzz1QSLCFARqqntU0zNRAgtI0+O4yQZV68KN7v/H1iyqm9ukau/PZ3Rra2SUlYmNydO1cqY2PdygXKCv39TZ15UhYVpRmc6DVrZcBISW1qmlz59a/l1jvviM977xm58VdJQ+bqnCm/9sc/ScK27TI4MKhTV5jeu/Tb34r/1KlSk5yiY8k21weChH4ApvLijATmXr9mzvugtllz/77WowARQgj5rlCAbGIyAjQ8NiadRixiN2wUr7ffltD58+XmW2/rVA+yIFY2B1mbk//Xf9Vydzdu/DRNhUVy87XXxN9IUPSaNdJaUalZoyIjRNGr16AZFRcIFrI/kAa0lbx/v0M4zHe05U6AUI79nXX1ErZo8TcCZNoJ+WqOfiJyr12XtGPH3Y4R9TEdd/3llzVbhKk+TLdhjJiqCl+yVPuF+A0ODj2SAdJszv4DOjZkozCmvp5eid+2TW68+qpUxSVI3vUbpv9r2jfAuiZMn+XdvClpx09IXVq6yk/aiZNSGhrmdoyEEEKIKxQgm5iUABnB6WltlYTt2yV45ixdrOv/ySeaAcJ+3KTbKirkrpEMZG9aS0rNMe4zQNYUGBZUI6wF1MiWxKzfoAKCxcaYDrKEBZFy+LCUR0Tqd7QFIRkx44pcsVLayysmyhFYfByOqSojKYi2yiq59/USzSghkvbslYwzZ93KBcqcp8AQyH5hjJVR0RKzbr2j0ATGYAlQcUCQnjNkR6fvxvdbkXP5iiSYfZiKw5ixH4Fx5Fy5qmt/kAEa7OtXAcK1KAsP1+vhOkZCCCHEFQqQTUx2ETRu5lVxcUYOfHQxcOrRoxPZmaa8fF0DhCwOyvATuGsD5ZgqC1uwQDr1yS3HWFCOdjHtheOxiBnrgJDBaa+slLQTJ+TG669LEBYMR0aqdNSlpknS3r1y8Rf/S6JWrdKFyRC1iugYid64SS78/OcSv32HtBYVSVdjk/i8+57E7dhpjtln6o+vJ3LzhBXOJ/fGDYndvEUXLes6n/ExIgPk9fobKmMpJ05KZUyMyhHay71+w9RwZJcgL1h3hCe87h8/IfePHjNCtkyqExOlr7NLIlaskOi1a3WhMz47Kiol79ZtiduyVfuviI6WW2+9rQulKUCEEEK+CxQgm5isACHbgqe9ICd44gtZDsgByhvzC6TeCAhu3pYwuAP7ultapTopWRcSW3XxiXVAtSn3tT089l5j6gz09euTWFgYjWmiRCMvkCwIENbwJOzcJckHD0ni7j1SnZCkU3WYvorftVsXEyfs2iUNOTnS1dQst//6N7m3cqVmf/AkFsbqOj5gnSee0NIy0xc+deymnczz5yV+506JNTJVGnJXyzFtpUJlvveYsZeG3VPBw/ohSFe8oTopSSUKj8djPCkHD6qMddbXq+S0mOMhh2ivr7tHM2LtVVU6HufxEUIIIe6gANnEZAUIj3Vb01WP/Ls/phzfnyQUj2DqImOiojQuFlY52tQ2UMfc9PW7qeP6c1oZEex3DutY7HcObEOu7syaLb2t7VqGvib6duVJ54MxmrE7h/NYcMwgxm7qoByfzuHcHvq3At8HTZlznzh/VNFxmjat4wghhJAnQQGyiUkL0I8UiAimo5BRweJlbLurRwghhPyYoQDZxE9NgAAyKpqV4XQSIYQQD4UCZBM/RQEihBBCPB0KkE1QgAghhBDPgwJkExQgQgghxPOgANkEBYgQQgjxPChANkEBIoQQQjwPCpBNUIAIIYQQz4MCZBMUIEIIIcTzoADZBAWIEEII8TwoQDZBASKEEEI8DwqQTTytAOF9Vdb7vPRt7pN8VxXedQV0e7wN6+1ZWm5+SOcy/KzY1n6/5R1ZONaKifYNj76Zy/GvQgPnsPoAODcrUAvv63IuQ6BN1LW+W+8Cs66RaziPhxBCCPk+oQDZxKQFCEIyNCy19+9Ld3OLVCckSkdNjbnRG5EwN3u8KNTtcS5oXWMChX7+kud1a7zMISMFvr4SumKl5Fy7ptt4c3pxcLCEr14t9ZmZKhaVMbHSlF8goy79Wa+5KPT10/r3TDv5t24L9ARjKw4Kksjx8oTt2/XN7n1d3ZJ69Ji+JT520yZpLS+XUXN9Rs348P4wvDke9SuiomTMtNFZ3yDJ+/ZLhCkLM6CvQXNNss5fMHWiZeyBqdPQKDXJKVo3cdduiVi1WmLWrdM+si9dksGBQb0GzmMnhBBCnhYKkE1MVoCQ/YCApB45Ih3VNZK8d5805eVp5qO7tU36enoeyaC4Y3h0VAb6+qXA20f8P/5YgqZNl4H+AW23pbhEkvcfkJxbtyRswUIp9PGVTiNYUWvWSNzOXRK7YaPUZ2QYUdks7VVVjwkXxtff2yd358yVyLVrjfzckuAZM1WCIEd3Zs6S6HXrJdeUF/r5yUBvrzRkZcvtt/8imZevSMqBgxK1apX0trWZMfZJxPLlErPequ8vva2tUhUXr/WzLl+W7Js3pS49Q3rbO+Tm62/I3bnzVMrqM7NUproam6Tszh2J3bpVbrzyiqSdOSNV8QkyODg0IWuEEELI9wUFyCYmI0C4Yff39ErOlaty8803JdLIwa2//lXizI2+z4hBTVKyRK1eLR119Y9MX7ky8uCBtFVVG3FIl7zrNyRi2XIVIsgMPlEHURZ2T6LXrDWiU63tRi5fIQk7dkri7j1Sl5auwvR42w81owNBqs/IdLRzL1zCly6Vvs4uiVq5SiXLCohbbcp9iTTlCLwpPuTLL/Uc8m97S8zadRNTXjh/ZKkqo6IlbuMmLbOiq6FRIleZMRqaC4s0O5WwY4cMGrFDtBQVS+zGjTI8fm6u4yaEEEK+DyhANjFZARocHJTsq1fF+/33VU58zOf9I0elu6VVhaTIP0D8P/xIauITvjUTZK2NQRbo3uKvJwQI0gThwN6UQ4d1+gnfMdV2/8gRU3ZIigIC9Vh3U0gqQEbSoo24FCBj09ys4pF+4oT5oxiRsPkLVN4Cpk830rNSha7ZCNGNV18Tn08/E9/3p0jJnRCVtCgjM9kXLmr/KnMGnBNE79of/iD+n32m2auy0DDpMecfvX6d5Ht5SUnwHWnMzZPEnTtloLdPj4ewIbMEwcIYXcdNCCGEfB9QgGxiUgJkLmpvZ6fk3rgpd+fOlbTjJyRkzhypvZ+q63kgSAiszzn7T/+smRd3WRrFtIV9mJpyFSAIA7I/flOmSHNBoa4BQujam737VTCwH+tuMCbndiEXWF+DKbCLf/yj+E2dKllGYoaGhnTtUrjpK/PceanLzJSG7Bwz5lGdAguZNVuKTLuhCxZo9gY9IuOUdf684xzG+8GfVVVsnE6lVScm6fQX1kJhqgtZKlyLnKvXdM0S1glRgAghhDxLKEA2MRkBgqBg3c9dIz03Xn9D/D74QK698opOiUFGcMmxbiZ+6zYJNYJUk5j42BqdCcZlCdmcCCMakAIcj1KISdDnX6hMICBXaDfl4CHJPHtWwubNl0Czvyw84hE5AZoB6u6RmA0bpSI6RvfjeEcb/Trd1piTq+0isL82NU0ilixVgSsNC5OMM2d0H/pL3rNPBQZYY8QUWMy69aiiAVnCoufIFSukuahY1whhHROOpwARQgh5llCAbGKyi6Bxs69JTpYCH1+pTkqStGPH9QaPy91ZV6fTRpi2GhoY0HK3j6mbH2dgcEiacnIkev0G8XrrbamMjdMFya2lZXL9pZd0CguLnSFD/d3dknn+gmaLykJDJX7bNp0eg3i5FaCubpUqCJKOweyH3AwMDErI7C91yq7anENNSopO6UG0kNHBdFh3c7OEL1miWaHm/EK59fZfjBCd1XMtj4g0AtOqY/U38lceGSWVCYnSVlGpAhQ2f740FRTqAmpkjyKWLdNsFMaAJ8LCFi7UqUIKECGEkB8KCpBNTFaAsDYGi4uxDgaSACmAXKAcN3lkdHDpkXFxdzzA2h1dqLxxk/hPny6B06ZL2IIFKj+QkYBPP9OFyIEzZuqj6k0FBZJ/+7YegywOnq6CTHQ1t2i/j7QN0TF18MQWZMTajz8IkH3xkgROnyEBM2ZIxNJluni5o7ZOcq/fUAEaM+MuDgyS0tAwFZeGnFwJxhhN/aKAABkdHZW2yiqVG5T5GyBiGFu+t7e29eDhQ300HuXoe9SMAZJUcNtbs1MYo/OYCSGEkO8LCpBNTFaAkNGB3FiSg0/ncteMzBMxdUz1RwJihDacAxKCjAnahTjgh7Wq6CLoJ2SYdOoL5+iyH+1ZgXa0TdOOlSlCHRxrnZfzn5GemynDtJ5zWOesY8SYxtvQNs13vTam3KqnZYQQQsgPAAXIJiYtQIQQQgh5YaEA2QQFiBBCCPE8KEA2QQEihBBCPA8KkE1QgAghhBDPgwJkExQgQgghxPOgANkEBYgQQgjxPChANkEBIoQQQjwPCpBNUIAIIYQQz4MCZBMUIEIIIcTzoADZBAWIEEII8TwoQDZBASKEEEI8DwqQTTytAOHy4j1a+jn+/qt/FOsnst7JZVeO7/puMLPDKnv0rVzfvK/LHRin9R4xbdtl3DjW+Xh8dw7rGIzDagfxbX0SQgghzxIKkE08lQANDUtbZaW+Ab21rFx62tqNFIw6XvQJ3B3jAl5UijekZ12+IiUhd7UMbeBnwxvVUV4cFDxe7nhhKT6rE5OkvaZGRkzdwYFBqYiM0rrZly9LjtctqcvIcDsOtN3b3iHFwXck09Qv8g+QQXMelkyh/cbcPH3DvaOvUX27PeriLe65N29K7o2b0tnYqG+NL70bqv1mmn4xJhW173juhBBCyA8FBcgmJitAkINRIw1pR4+qwCTv3ScNmZmaBRkcHFKx0bewuznWAm30dXRIyoEDErlmrdyZMUNyrlxV+elubJLoteskYtVqCfzkU8m+dEnbhmxlnDkr1195RTLPnNMMzIARIBwXaerHbdokXu+8I6Fz52n/6MO5T2SKKqNj5PrLL0vkuvVyb9EiiVi6THrNOEZN/YHePi0Lnj5D+8JYIGDhq9fIld/+Vrzfe18Sd+6QDiNftSn35fpLL0mkGWPE+vVS6OtHASKEEPJCQAGyickIEC4qpKMqIVGCZ86UzLNnJeTLryT78iUZ6u2VqvgESTl0SEXoW6eFTDvIonQ2NOpY2iuqJGT2l9Ld2iY5165LkpEqRHNhkXj/7W/SXlkl9RmZUhJ8R+Uo8+w5FZohl6mo5L17pfROiNu+Ub8iIlLid+zQutiOWLJUMk6d1u3alBT9DqGriI7WNqy275tzqoiJ1e8T7WzZqttWICvm2ichhBDyrKEA2cRkBGgEmZvuHknYuVMu/vrX4v/BB3L5t7+VewsX6bTV0PCwpB45KnfnzpPO6mpbCRoxNgGhqE1L0za6m1skcecuqU1Nk66aGknavUduvfWWVEQZIXnwQKerYtZvkMwzZx0CZNpAW+gHWZmQ2bOlx0jUiKnr2p+KS2SUxGzYIAN9/So3BT6+ErlipWaAkGkqCgiUvBs3td/Rh45MFqbZEow0FQUGaT/4s8KU160/vylR69ZL7KbNUhkbJ8NjzAARQgh5/lCAbGLSa4CGhqX2fqrEbdkipaFhKgAdNbUqBph2gmhkXbgo1196WRoys1Qk3LZjwDF9nV3i+/4UPQbCkbRnt6QeOyZJ+/eraCTu3i1lYfccMmV+VM0AOQkQpp4gRkm7dku+1y1t011frgKE7dwbNyRs/nwVr/uHD+tYOhuaJHrdOi1DW24FKD5BfN97X9JOnpLMc+el3pwnp8AIIYS8CFCAbGJSGaAHD6S1tFT8pkyV8//5n7oO5tx//IekHHRMe0FEIAlYLOz1+htSHBjoECA3YqDrhAYHJWzBQolYtly3cWz0mjXi/8GH0t/do7IRs2691CTfV2GBYCEDlGWkAxkctItjsHAZ7XTWNzzyhJgzlgDFbtyoY8XxmNpCNgvTa9f++EdJPXpMkvcfkFtvvy312dl6jDsBqoyK1nFZgfKhocf7JIQQQp41FCCbmGwGCFJQnZAguddvSGVMrGZOIC8QD6zrgQxBRrpqax1i4KYN/DjIJMVt2qxriHpaWnThMaaRSu7e1YXMWAxdHBSkQoRpNzyVhafN0HbKvv0y1N/vyP4YMG2WYsRlDPKDTIybPjHu8nvhcm/JEl1rhCe8gqdPl6bCQsk8d078PvhAEnftksTdu3TxddbFizp+yFLspk1S4Os3IUAQqdA5c3UNU09Hp47PXZ+EEELIs4YCZBOTFSBkdKri4nT6CyKU53VLMzMox1qY+0eP6uPlT5IfgDU3LSWl4vXGG3LjrbfE98MPJfDzz6UxP19GBgcl6/wF8frbOxL42efSXFyi8tKQkyNBX0yTqy+9JNdee03it26V/r5+XXsUt3WbPpGGn9xdf2DMjA+ZIu+//11uTZkiwTNmSl1auhm3SKbpr7W8HJdFoyEnV9JOnDDyM6iilnn+vC6C1nVBBjwu72fa8H7vPbn1/hRJP3lKr4FOg7npmxBCCHlWUIBsYtJrgIC5uLjZ4yI/8ri5kQXNBn2Xtk1dSxgG+gcUiJNmdYyU4Gkz7LOmtLAPdazpNGu/1c4j43gC1pi1HXOcCpN1Lk7Hu8rMY9uob5gY9+DQxD5CCCHkeUIBsomnFaBHcC13rvstWCJhMbHPtPFYmWt9p36cv9vh3MZEubvjncvw3aWOczv/SP+EEELIDwkFyCaeSoAIIYQQ8kJCAbIJChAhhBDieVCAbIICRAghhHgeFCCboAARQgghngcFyCYoQIQQQojnQQGyCQoQIYQQ4nlQgGyCAkQIIYR4HhQgm6AAEUIIIZ4HBcgmKECEEEKI50EBsgkKECGEEOJ5UIBs4mkFSN+dZS7yCN6TNfLoKyu+K2jDesO686sm8P4vlFvvAftWzHE4HvVd3+dllVvt448C33UbdUbHvvW9Zdjv3Aa2tdypT+dxoi3XMgtrn/Y9fq7WeTqXW31adaz3kDm3bdW3xkMIIYRYUIBs4mkFqK+zSwYHBqXXfA709Zsbtvt6TwLi1NfVJXWZWdJaVqY3ePxo+OxqbJJaU95Z3+CQATfHK+PCgDfL12dlS39Prx6PsWB8TfkF2j4+dYzmmKaCQmmrrFL5wPjRF1606tr2sGkDx6BttNFcVKxjHjH94QWoePt8fVaW7muvqtax97S2SUN+vpZ1N7eMi8yIfvZ390idqY+x4OWpGHdXU7M05OY9Msb+3j7pbGh0jAnn0dXtKKurl/rxcTTm5UtjTq6eI/p1HTshhJCfLhQgm5isAOHGjYubceaMEZdyuX/4iNSnp+tN3spoWNmLJ4E2Bo2s3D98WPw+/lj8pk6V8vAIeWCOxc0/ctUq8f7sM7kzc6be7EddsikWIw8fSnV8goR8+ZXcfv99id24SQaMaGAM6SdPyY2XXxY/007EsuXS3dIq5RERcvvtv4j/hx9KR02tFAcGS9rxE6atb95Mb4E2Su+GyrU//Unb8HnvPcm+dElGR0elLjVNrqPtjz4Wn08/lazzF2T0wQOJXrtOLr/k6PPOrNnSVl6h59RtJOvOzFniZfq9+9VXUpeeIUNDQxK+ZIlce/0NCdAxLjMC1SolISFy87XXpCE7R8eQef68lIWHS5Gfn/h/8qmc/7d/k+uvviqh8+apNI2Yfp3HTQgh5KcNBcgmJp0BMhcW2YiYdeukMjpGYtZvMJ/RKgbVySlS4OvrkCGD2+MNkI3ejk5pyMnVsTRkZsndufOkt61duowANReXaHnO1WvaPrIxroKimLE05uZJn5Ee9AkBKfIPEONLknbsmFTGxGg7CGSGkvftl7wbN1S8Ms+ek+T9+zVTo1kjl7YhH/m3b0uSOQaBcQXPmCGNRjqqExIlxvTlHIPDoypglZHRuh23eYuknzolo2MPtDxu02Ytx5RWh7l+Peb84zZv1kyOFZClAh8fI1Yf6vhGzbjST56U4uBg3Y/zwvWoiHL04TzlRwghhAAKkE1MRoCQbYC4RK1eLaf/+Z/l5quvytmf/UwCPvlEp4EwBRS9Zq0k7totg339jimgIfdtQWiwH6LRUlIiofPmq2RgG+WQgUIjM2hvaGjYcbM3PyqOc5Yh1AXD5nwSduyU/Fu3zJZIipGbiK+/lgI/P2ktr9Cy2vQMCfjoI5WRhO07pMYIG/pzHpcFygu8veX+kWN6bG97hwR9MU0zUrWpadpO7o2bKiyO6bExFbDwlaukJChYolatkpqkJGmvrdNsEDJOOk4zdrTdb65P5PLlErNlixSaMZZHRsrw8LCec8yGDZrBQjYs68IFzQrheuCPGtcDmSm05W7chBBCftpQgGxishkgTHO1lJZJ0t69Up2YJEl79ug6GmRRcMkHBwYkZt16CZ4+QzrNzR/rZty1A/SYhw8lbOFC085elQhIDgQBU1bB06ZJUUDghKRgXQzWzwDndiAHFdExEvjpZ9Jh+hwz7UI+ICEhi78Wn3ffk7r0dK0HigODJOviJe0P5+Nuyk7rBQXJzddflzAjKhFLl0qeEZ4xI4EQp5uvviahixdL+LJlmpHBFFiUkZ+b776rU1gpBw6ZFkTqjXQFT5uuWTPty7SN88Y6onvmvL2nfiDhpn1kpQb7+1XYMK1YFnZPSkNDjQBdNAJ0lwJECCHkO0EBsonJZoCQrfGbMkXO/uu/6vqYM+Yzee8+x8JeIzsITBGdN+V512845MWNYAwb+cC+hG07xPf9qZo9ghhAErDoN2zBAonftl1GzLEox4LllP0H5NZ77+naIM26mPGgR0wj+RrxKL17d0IM0LYVaAdjxBRSS2mpJO7eLWknTorve+9K3k0vGRk143MZI45HNubOrFmS5+1jpCdZ20Y5hAeSZwXGgOPjtmyVqtg4aa+ukSRkwbBYurJK7syYqQKE460MEKbtMAVWn5GJJjTQDjJY948c0cXXmWfPG5E6qDJEASKEEPJdoADZxKQzQEYWSu7ckdRjx3W9T/y2bdLT1i7DRkYgJIW+fhLwyadSa4QBC33dtQFZwMLmXCNId+fM1YXLCM2QDAxoVglTVBAWoHIyNCy9HR2abcK6HWRQkD3C9Bamo0pD7mobkAv0Yf38WOAcOn+BTleNjIxopqU4+I4kGSEqCgjQ8WPqzcrOWKAdrAFKNtLlPA60WxEZJZErVup3lGufZh/W5xQYWUJZ4q5duuh62Iw7ZPZsyTh92pQ66iFLhanE2I0bNYuGQBuQnDwvLyNoe3T9D+QsbOEiKXUSIGSZkBGiABFCCHEHBcgmJitAuFGXR0Sq6FRERenTYMjQoLwyLl6i1qzVtSsqDE5rdR5pA+JSWiYX//M/5fIf/iBB06dLyKzZ+lQZprKO/5//p9z6618l4IsvdF1Nly5UfqAZJs0SGay1QMiIHP4//g8JNHV9PvvMjOesTkflXr8u3p9+KoGffS45V67KUG+fERpvXVw8bCQLT3/deutt83ncSNfgI+uKdIxm/FhQnXzgoGMN0vh+/FnV3k/VJ8x8P/xIfD75RLLOn9exJe7cJYV+/qaGuRYxsRKxdJn0d3WZcy3Vp8BuffyJkaEvH3sKzN+ME3V7WlqlKChYUg4d0n6wSBzZtvLw8AkBwvqlsnvhFCBCCCFuoQDZxGQFCP82Df5NG0zh4N/dwb9ToxkaU45MUH9vr+3NGT9Of0+PTg81FRXrv+FjPc2FzAhECI94o7yluESzPdqHm7aQvWmtqDSykKP1Mf2E9vGkVZ3Zbi4s0uwOpAn/7s6AESHHv0HUrf8mED5d5UfBeZrzw79z5FqO6TiMHY+qW31ifKiLY/DUGupibBg7ZKqnvUPqsh3jwVom9IlMFp4qQxsot/4dIPz7PlZ/yHihzGoT1wfbGIdVhxBCCLGgANnEpAXIgJs3Mh7Wp2u5c90ngR8IPxHkAOC7Hm/Ad2sfPp8kPwByY9XDpzWVZWWltN3x4/VfrR4fHz5137eMF2Nxt4jbdezoC+VWZsqqo2Ox+nYaz0TZ+Nidyx+5huNtWG1a7ThvE0IIIc5QgGziaQSIEEIIIS8mFCCboAARQgghngcFyCYoQIQQQojnQQGyCQoQIYQQ4nlQgGyCAkQIIYR4HhQgm6AAEUIIIZ4HBcgmKECEEEKI50EBsgkKECGEEOJ5UIBsggJECCGEeB4UIJugABFCCCGeBwXIJp5agMwFfuRzMphj9dUPrq92eEI5flQtd9PnY208Aatdt/XRvnPbTuNwPeaRcjfjIYQQQp4HFCCbeFoBUhkYFwR8uqvzbVgygxeA4m3r1ju8UIb3XT1WPv5+rH5Tju/WO7q0Pt6XZbbtRMQaK9oeHBx65D1hE7KDdsfL8NJTHQe+m/p6nPVm+PF2tMzUs/oghBBCnicUIJuYrADpzd9IQN7Nm9JWUSnZly5LY06OkZCHEy8IdXfcI0A2BgfNsZfk9nvvSdDnn0tjbq4ei7ee51y5KrfffVf8pk6VhqxsMX4jnQ2NErthg9x8/32JWrVK37w+inMYGpLi4DsSPG2a1Gdm6Tjc9TlmytGW9zvvyK33p0jgp59KSchdhwRBfAyJu3aZPjbq+EZN/cyz58Trvffl+ksvy40//1mCpn0hzUVF0lJSKr5mHN5m7LfMZ/qJkw4Bw7Vx0zchhBDyrKAA2cSkBWg885K8d6+0FBVL0u49RoCy5YFpsyE3T+rSMxwi8y0ygDZ6WtukNCxMets7pDgoWMKXLJWBgUGpjI2TyOUrpG+8PGz+Aunr7JTG/AKpTkqW/q5uid24UeVk1LQDiUk5eFB83vm7lEdGOd6q7qZPjK/8XrjpZ4n0tLVLU16e+BqBqTDHQLDayiskYds2iVyxUiUH7Qz090t3c4tErV4tOdeuy0Bvr4yMjekxGBfGPtA/MJElIoQQQp43FCCbmIwAjTx4YG76nRK9dp2c/ud/Fq/XX5ez//qvEvDxx9JRVS2tZeUStmChFPj4qgRhKstdOwCChJ8I9TpqaiV07jzpqKuX5H37peROCIYoRQGBcvX3v5ea5BSVFOsnLfD2loQdO2XItNFuju0xIoIMUEVU9LcKEMQF8oTpLASkBhkftF3o5yd5169Lxukzknn+gtbXqTVzLDJDyDKhDO1XxcTqeJsKi6S1olKFypo2I4QQQp4nFCCbmGwGCJe1MS9fYjdvlrKwMIkzn035Bbo2BjLTbkQoePoMSdy5SzMm35oJMvsgH0l79jjEZGBQkg8c0CxQ1sWLknr0mESuXCVloWHaL+jv7pU7M2dKUWCQbkNKkIkJ+uzz7yRAMRs2aMYG2/m3bsm9hYvMOPsl9fhxqc/IlOqERCN4a7XOqBkcxpSwY4f2h/ND+xCyq7/9nfh88IH4G/krCghQOZxYT0QIIYQ8JyhANjGpDNDYA2mrrJS7c+fK5d/9TvymTJFLRgSQNcF+CA0CgnTyv/43yb1+Q6XBXXYEPxAkJPfadbn+8iu6rgZ1o9esEf+PPpKyiAidKovbslUqo2NUlIYGB1VOkLUZ7B9fDG3OAxmYf1SA0F7WhQsSuXy5tBSXSPjXSzQThXGELVwoLaWO8bgTIIwnatVqvR5o99syXYQQQsizhAJkE5MRIFzUgZ4eyThzRiJXr9G1N6FGFhpyco38jKog1KWlS8Cnn0nejRvS3dT8xKwI6iLbcmfmLOmornaMyZB64oSEzpuv210NjRKxbJlmlR6a8aadOCnxRoisQDsQGUxVhcyarRkcq9wVFaCISIk3MqN1zLhC5883YhOo64jO/I//IT7vvSfe774rl3/1KykLj9BjVIC2b39EgCBaMWvXoxkN1HPXJyGEEPKsoQDZxGSnwFQkoqKk4La3VERH6zQVLrUlP8ieWGt2rEfYXcHTW+3VNXLxP38u1155ReK2bpW4LVs0u9RpZAfZmLDFX0vQF1/o02boE+uBjv7v/7sEz5wpMZs3S+a58yon6AsLqE/99/9bfD76WNfy6LSbi3ihDWRurr/0kkSsXWfkZ4HcP3hI1wNhuq44KMj80YzIiCHP65bEb92m29iPab4CP/8JAaqKi3e0s3KltlXo4+u2T0IIIeRZQwGyickKEDI9nfUN0lFbJ12NjZqdwcVGOR6Lb6+uVlH4NhkYMbKAp6tK74ZKvrePZF+9qtKBdiEqyPxkX7supaFhKlGo31xUrBKUe9NLsq5clfLwCJWT5oJCybl2TQr9AyTHy0uzSpp1cukf48NaISywzjL9adtjD3UarbW0TPp7enUqC+AR++bCIm0fx2Jxd1djk7ah7XR0SlnYPTPuazqWmqRkU04BIoQQ8vyhANnEZAUIqChATMwnLvNEuSlz3v42IB7IElmB7xAS7LN+OpRZUuH6c1rTTq7lKl/jfbji3Cc+VVpMOdrAPud6zueB787rfFzH/m19EkIIIc8SCpBNPI0AEUIIIeTFhAJkExQgQgghxPOgANkEBYgQQgjxPChANkEBIoQQQjwPCpBNUIAIIYQQz4MCZBMUIEIIIcTzoADZBAWIEEII8TwoQDZBASKEEEI8DwqQTVCACCGEEM+DAmQTFCBCCCHE86AA2cSLJECjYyJjDzz3dRIjow/EXG63+wghhJDvEwqQTbwoAgQxaO9olOqaHLPteO8Xfjy8ANW17vNgMmMZNFgxPDKm51dVlT0ueXxhKiGEkB8OCpBNvAgCNGbG0NnVJOfOfiLJKTd0e9iUDw4NK+6Oedb8o2PBH97YgwcSERkl0TGx8tAIXnNLlZw585EUFsc5XvDq5jhCCCHk+4ACZBPPW4CQGYHw+PuvlxvXF8iIZlrwjneRsLB7cvXqdf2OQH3UdQ2UI7BncOibrItV7hz4g0Ad1z+M0bEHmrFxbd5qIzYuXq5e+2YsON61fWSIXNs+c/acHD12fKLd+6m35NChN6Stvc70yfVXhBBCfhgoQDbxvAUI00FNzVVy/Pg7Ov2FQPnt297y+uuvy29+81tZvmKFnDx1WgYGh0ydWiMRaeLnHyDLli+XtPQMPQdkWQqLio1UjEl2Tq4KS9/AoKTcT5Wo6BhtAzKCNsZMpxCpa9dvyLJly2Xr1q1SV9+g5aVl5bJh40ZtOyExScXlppeXvPXW2/Kb3/5WVqxYKWfOnJWe3j4da2homLaxb/9+6e3r17Hgj+769euycuVKefW11+TU6TPazsjoQ5Wk8+c/l5iY01rmej0IIYSQ7wMKkE08bwGCBKTc95Jz5z7THwvZH3xmZGTIggUL5bPPPhdvbx+JiY3VKaWExET59//4D1m/YaOcPHlKZs/+UuqNvEBafP389JwuXrpstjfplNUX06bLF19Mk9umjY8//liCgoLl4cOHcvXaNVm1erX4+vpJUHCwdHR2SXdPr0pPbFyc3LjpJQsWLpSy8nJJS0uTpcuWyWeffyHePr5mLHEyMjIisWZMK1etMp9xsnfvPjlw8JCWo/9VptzX11e+mjNHThthwnlaf4xR0SfFy2uJZoBQ5u66EEIIIU8DBcgmnlaAMIWFp7dcb+RW+ZBLuSML8k2fEIOQu7vk+o0Fmg1CO9aPduvWbTly5Jh+tyIuPl5mf/mltLW367EXL17SrNDOXbsl+M4dreNljsN2X/+ArFm7TkLDwrQcGaDTZ85IS0urzJkzV4qKirUcgczMAyNG+YVFKiyHjxyRv/zlr5KcnKL7A404YSrLCvS9dds2mTFzlpw9e1bWrFkj7/z971Jgjt+8ZYvk5uVpvctXrmq/1rmZwyQh4ZIRvk+NoA3pdXJ3XSzcl4/qtYUsPlpOCCGEOKAA2cTTCtDA4ID09HaZz8FHyvsH+rUcN3nn8r7+Xunt6zbfHQuKIRKxcWfl/PkvZMTIAITA+tHOn78ge/bs1e9WIBOEbA+moKz1QCPGLiAdEZGRun3+wkXZvmOnTklt2rxFj0FAbM5duCAtrW3y5VdzdMrMOUpKSjXrdPjIUSM7x+TNN9/SKTTE9Rs3ZbfTWLCoedv27Spjly9fVtGJT0iQKiNjS5YskfKKCq23Z+8+nQJzFqD4+Aty7do8IzCOc/3muvRMXBcLlPX1o/ybMlzT3t5uc437HiknhBBCLChANvE0AoSbeVT0CSMN/5tk5ziyLxAYeElw8HZZuPD/I5WVWbo9bG72yFgcPfpX2bLlZ9LV1apZDIhBVXWOHDz4mjQ2lWtdbdt8JiYlyxfTpsm58+dVbrBGJzomWr42gtHZ1W2Od0yXoe7Zc+dl8eLFunbovffel/UbNmgGaPmKlRJ2756O7dDhI3Lk6FH9jjVFCxctkps3b4qPr5/09PRIamqa/O1v70hAQKC28+Zbb0lCQqLWT0pOlqlTp6pcRUZF61Nq8fEJsmLFCs083Q0NlfyCQnOOo+ZcDsnqNWs0M/Sb3/xGDh46rGMcHnmg1+zGjUVy9+4ePVfHlN+YHD78pmzd+u/S1d2m1wVAFLdv/7lem77+Pi3D8dXVuabf/6/cuLlYt/lIPSGEEFcoQDbxNAKEBcdl5fclKHib1NUX6TZuxshsFBbGGAnaJm1t9bqNqTD8GEnJ14xAHNeMB278DgEYkUuXZom//waHLI1ngSA4/kZGIBNYeIwFzDW1dUaCYlRuUMcaR2NTs2aL9uzdq9NWGRmZ0j8wqIuhKyortU66KQMQKRx76fIVWb16jezctUsaGptUUrAeaM2atXL16jWJM4JTa/rDsRiLn5+/juXc+QsTi6AhZmgD+Pj4GqF7IM0trbJt23ZdE4QF2xAj9AdZKS1NluPH/iZ1dQWawXKcw6iRvSsSFXVi4roAZNeio09JQuIlzbChDGNpb28wwrVXsrJDdNv1dyGEEEJwf/HEeCEECI98Q1gQyE5g29o3XmwE59H2rbDkBaCN6ups2b//JcnLi9CskGt9BLataS/n49Hvtz0ej12oY4Xro+oICI5rfwi0a52Xc1j9u8aTxoLr0NXdIufOfmqE5rKWOWdurHA+L+y3wipD+5BGK6yxEUIIIc643uc8JV6YNUDfF1CGsrJkycm9a360b9bGeAqQFkzx3U/xMufmmPZyV48QQgj5PqAA2cSLIkAAiRPgbp8nAAmC6Hma3BFCCHnxoADZxIskQIQQQgj5fqAA2QQFiBBCCPE8KEAMBoPBYDAYHhIQoJnfB2NjMnNkZIwQQgghnsTYmNv7/o+d/8JgMBgMBoPx04r/8l/+/6YKkesCLAUoAAAAAElFTkSuQmCC)\n",
        "\n",
        "Here we can observe the model has tagged the grammer that is DT,VBD and so on and also the Name,Places,Money and so on.\n",
        "\n",
        "Reference:\n",
        "\n",
        "https://www.machinelearningplus.com/nlp/training-custom-ner-model-in-spacy/"
      ]
    },
    {
      "cell_type": "markdown",
      "metadata": {
        "id": "q3ZDlRJ7AesN"
      },
      "source": [
        "In our task we will use only NER. NER is named Entity Recognition where the model learns to recognise things like person, money, places and things like that. Here our primary task is to detect the word or phrase that determine the sentiment of the text so NER model would be suitable. Here we will be training a blank NER model using custom training."
      ]
    },
    {
      "cell_type": "code",
      "execution_count": null,
      "metadata": {
        "colab": {
          "base_uri": "https://localhost:8080/"
        },
        "id": "UzzpoWN1qtCS",
        "outputId": "6c44cca6-0c1d-4e79-effd-c3d35a7c795d"
      },
      "outputs": [
        {
          "output_type": "stream",
          "name": "stderr",
          "text": [
            "100%|██████████| 6865/6865 [00:02<00:00, 2344.29it/s]\n",
            "  1%|          | 1/100 [00:17<29:24, 17.83s/it]"
          ]
        },
        {
          "output_type": "stream",
          "name": "stdout",
          "text": [
            "{'ner': 21845.705427069945}\n"
          ]
        },
        {
          "output_type": "stream",
          "name": "stderr",
          "text": [
            "\r  2%|▏         | 2/100 [00:35<29:23, 17.99s/it]"
          ]
        },
        {
          "output_type": "stream",
          "name": "stdout",
          "text": [
            "{'ner': 10142.083514523722}\n"
          ]
        },
        {
          "output_type": "stream",
          "name": "stderr",
          "text": [
            "\r  3%|▎         | 3/100 [00:53<28:43, 17.77s/it]"
          ]
        },
        {
          "output_type": "stream",
          "name": "stdout",
          "text": [
            "{'ner': 9248.616838135378}\n"
          ]
        },
        {
          "output_type": "stream",
          "name": "stderr",
          "text": [
            "\r  4%|▍         | 4/100 [01:12<29:02, 18.15s/it]"
          ]
        },
        {
          "output_type": "stream",
          "name": "stdout",
          "text": [
            "{'ner': 8763.390969161686}\n"
          ]
        },
        {
          "output_type": "stream",
          "name": "stderr",
          "text": [
            "\r  5%|▌         | 5/100 [01:30<28:53, 18.24s/it]"
          ]
        },
        {
          "output_type": "stream",
          "name": "stdout",
          "text": [
            "{'ner': 8468.499353435998}\n"
          ]
        },
        {
          "output_type": "stream",
          "name": "stderr",
          "text": [
            "\r  6%|▌         | 6/100 [01:47<27:58, 17.86s/it]"
          ]
        },
        {
          "output_type": "stream",
          "name": "stdout",
          "text": [
            "{'ner': 8239.30412520028}\n"
          ]
        },
        {
          "output_type": "stream",
          "name": "stderr",
          "text": [
            "\r  7%|▋         | 7/100 [02:04<27:14, 17.58s/it]"
          ]
        },
        {
          "output_type": "stream",
          "name": "stdout",
          "text": [
            "{'ner': 8033.300644371519}\n"
          ]
        },
        {
          "output_type": "stream",
          "name": "stderr",
          "text": [
            "\r  8%|▊         | 8/100 [02:21<26:42, 17.42s/it]"
          ]
        },
        {
          "output_type": "stream",
          "name": "stdout",
          "text": [
            "{'ner': 7884.320544153253}\n"
          ]
        },
        {
          "output_type": "stream",
          "name": "stderr",
          "text": [
            "\r  9%|▉         | 9/100 [02:39<26:36, 17.54s/it]"
          ]
        },
        {
          "output_type": "stream",
          "name": "stdout",
          "text": [
            "{'ner': 7636.045235982103}\n"
          ]
        },
        {
          "output_type": "stream",
          "name": "stderr",
          "text": [
            "\r 10%|█         | 10/100 [02:56<26:13, 17.48s/it]"
          ]
        },
        {
          "output_type": "stream",
          "name": "stdout",
          "text": [
            "{'ner': 7398.61002631958}\n"
          ]
        },
        {
          "output_type": "stream",
          "name": "stderr",
          "text": [
            "\r 11%|█         | 11/100 [03:14<26:01, 17.55s/it]"
          ]
        },
        {
          "output_type": "stream",
          "name": "stdout",
          "text": [
            "{'ner': 7302.255474286074}\n"
          ]
        },
        {
          "output_type": "stream",
          "name": "stderr",
          "text": [
            "\r 12%|█▏        | 12/100 [03:32<25:46, 17.58s/it]"
          ]
        },
        {
          "output_type": "stream",
          "name": "stdout",
          "text": [
            "{'ner': 7125.7275999103}\n"
          ]
        },
        {
          "output_type": "stream",
          "name": "stderr",
          "text": [
            "\r 13%|█▎        | 13/100 [03:49<25:24, 17.52s/it]"
          ]
        },
        {
          "output_type": "stream",
          "name": "stdout",
          "text": [
            "{'ner': 6920.137030293168}\n"
          ]
        },
        {
          "output_type": "stream",
          "name": "stderr",
          "text": [
            "\r 14%|█▍        | 14/100 [04:06<24:50, 17.34s/it]"
          ]
        },
        {
          "output_type": "stream",
          "name": "stdout",
          "text": [
            "{'ner': 6788.029835343795}\n"
          ]
        },
        {
          "output_type": "stream",
          "name": "stderr",
          "text": [
            "\r 15%|█▌        | 15/100 [04:23<24:19, 17.17s/it]"
          ]
        },
        {
          "output_type": "stream",
          "name": "stdout",
          "text": [
            "{'ner': 6594.342558049305}\n"
          ]
        },
        {
          "output_type": "stream",
          "name": "stderr",
          "text": [
            "\r 16%|█▌        | 16/100 [04:40<23:57, 17.11s/it]"
          ]
        },
        {
          "output_type": "stream",
          "name": "stdout",
          "text": [
            "{'ner': 6495.845222806671}\n"
          ]
        },
        {
          "output_type": "stream",
          "name": "stderr",
          "text": [
            "\r 17%|█▋        | 17/100 [04:58<24:08, 17.46s/it]"
          ]
        },
        {
          "output_type": "stream",
          "name": "stdout",
          "text": [
            "{'ner': 6375.417222056595}\n"
          ]
        },
        {
          "output_type": "stream",
          "name": "stderr",
          "text": [
            "\r 18%|█▊        | 18/100 [05:15<23:40, 17.32s/it]"
          ]
        },
        {
          "output_type": "stream",
          "name": "stdout",
          "text": [
            "{'ner': 6126.734794840547}\n"
          ]
        },
        {
          "output_type": "stream",
          "name": "stderr",
          "text": [
            "\r 19%|█▉        | 19/100 [05:33<23:32, 17.44s/it]"
          ]
        },
        {
          "output_type": "stream",
          "name": "stdout",
          "text": [
            "{'ner': 6194.829689427523}\n"
          ]
        },
        {
          "output_type": "stream",
          "name": "stderr",
          "text": [
            "\r 20%|██        | 20/100 [05:51<23:32, 17.66s/it]"
          ]
        },
        {
          "output_type": "stream",
          "name": "stdout",
          "text": [
            "{'ner': 5910.057084476581}\n"
          ]
        },
        {
          "output_type": "stream",
          "name": "stderr",
          "text": [
            "\r 21%|██        | 21/100 [06:09<23:23, 17.77s/it]"
          ]
        },
        {
          "output_type": "stream",
          "name": "stdout",
          "text": [
            "{'ner': 5773.362336138958}\n"
          ]
        },
        {
          "output_type": "stream",
          "name": "stderr",
          "text": [
            "\r 22%|██▏       | 22/100 [06:28<23:28, 18.05s/it]"
          ]
        },
        {
          "output_type": "stream",
          "name": "stdout",
          "text": [
            "{'ner': 5659.363805493512}\n"
          ]
        },
        {
          "output_type": "stream",
          "name": "stderr",
          "text": [
            "\r 23%|██▎       | 23/100 [06:46<23:06, 18.00s/it]"
          ]
        },
        {
          "output_type": "stream",
          "name": "stdout",
          "text": [
            "{'ner': 5489.462793072413}\n"
          ]
        },
        {
          "output_type": "stream",
          "name": "stderr",
          "text": [
            "\r 24%|██▍       | 24/100 [07:03<22:40, 17.91s/it]"
          ]
        },
        {
          "output_type": "stream",
          "name": "stdout",
          "text": [
            "{'ner': 5408.840261387182}\n"
          ]
        },
        {
          "output_type": "stream",
          "name": "stderr",
          "text": [
            "\r 25%|██▌       | 25/100 [07:21<22:12, 17.77s/it]"
          ]
        },
        {
          "output_type": "stream",
          "name": "stdout",
          "text": [
            "{'ner': 5418.472030228825}\n"
          ]
        },
        {
          "output_type": "stream",
          "name": "stderr",
          "text": [
            "\r 26%|██▌       | 26/100 [07:39<22:15, 18.05s/it]"
          ]
        },
        {
          "output_type": "stream",
          "name": "stdout",
          "text": [
            "{'ner': 5237.33013845047}\n"
          ]
        },
        {
          "output_type": "stream",
          "name": "stderr",
          "text": [
            "\r 27%|██▋       | 27/100 [07:58<22:11, 18.25s/it]"
          ]
        },
        {
          "output_type": "stream",
          "name": "stdout",
          "text": [
            "{'ner': 5175.810819552323}\n"
          ]
        },
        {
          "output_type": "stream",
          "name": "stderr",
          "text": [
            "\r 28%|██▊       | 28/100 [08:17<22:06, 18.42s/it]"
          ]
        },
        {
          "output_type": "stream",
          "name": "stdout",
          "text": [
            "{'ner': 5002.9467848802815}\n"
          ]
        },
        {
          "output_type": "stream",
          "name": "stderr",
          "text": [
            "\r 29%|██▉       | 29/100 [08:36<22:10, 18.73s/it]"
          ]
        },
        {
          "output_type": "stream",
          "name": "stdout",
          "text": [
            "{'ner': 4996.391015173896}\n"
          ]
        },
        {
          "output_type": "stream",
          "name": "stderr",
          "text": [
            "\r 30%|███       | 30/100 [08:54<21:27, 18.39s/it]"
          ]
        },
        {
          "output_type": "stream",
          "name": "stdout",
          "text": [
            "{'ner': 4831.862834950621}\n"
          ]
        },
        {
          "output_type": "stream",
          "name": "stderr",
          "text": [
            "\r 31%|███       | 31/100 [09:11<20:41, 17.99s/it]"
          ]
        },
        {
          "output_type": "stream",
          "name": "stdout",
          "text": [
            "{'ner': 4799.316989877328}\n"
          ]
        },
        {
          "output_type": "stream",
          "name": "stderr",
          "text": [
            "\r 32%|███▏      | 32/100 [09:28<19:56, 17.59s/it]"
          ]
        },
        {
          "output_type": "stream",
          "name": "stdout",
          "text": [
            "{'ner': 4724.580642800944}\n"
          ]
        },
        {
          "output_type": "stream",
          "name": "stderr",
          "text": [
            "\r 33%|███▎      | 33/100 [09:44<19:21, 17.34s/it]"
          ]
        },
        {
          "output_type": "stream",
          "name": "stdout",
          "text": [
            "{'ner': 4553.107323887556}\n"
          ]
        },
        {
          "output_type": "stream",
          "name": "stderr",
          "text": [
            "\r 34%|███▍      | 34/100 [10:01<18:52, 17.16s/it]"
          ]
        },
        {
          "output_type": "stream",
          "name": "stdout",
          "text": [
            "{'ner': 4473.940513138601}\n"
          ]
        },
        {
          "output_type": "stream",
          "name": "stderr",
          "text": [
            "\r 35%|███▌      | 35/100 [10:18<18:23, 16.98s/it]"
          ]
        },
        {
          "output_type": "stream",
          "name": "stdout",
          "text": [
            "{'ner': 4357.030877836879}\n"
          ]
        },
        {
          "output_type": "stream",
          "name": "stderr",
          "text": [
            "\r 36%|███▌      | 36/100 [10:35<18:07, 16.99s/it]"
          ]
        },
        {
          "output_type": "stream",
          "name": "stdout",
          "text": [
            "{'ner': 4413.902987186934}\n"
          ]
        },
        {
          "output_type": "stream",
          "name": "stderr",
          "text": [
            "\r 37%|███▋      | 37/100 [10:51<17:41, 16.84s/it]"
          ]
        },
        {
          "output_type": "stream",
          "name": "stdout",
          "text": [
            "{'ner': 4345.889999071287}\n"
          ]
        },
        {
          "output_type": "stream",
          "name": "stderr",
          "text": [
            "\r 38%|███▊      | 38/100 [11:08<17:20, 16.79s/it]"
          ]
        },
        {
          "output_type": "stream",
          "name": "stdout",
          "text": [
            "{'ner': 4159.000259862956}\n"
          ]
        },
        {
          "output_type": "stream",
          "name": "stderr",
          "text": [
            "\r 39%|███▉      | 39/100 [11:25<17:01, 16.74s/it]"
          ]
        },
        {
          "output_type": "stream",
          "name": "stdout",
          "text": [
            "{'ner': 4093.0096785251963}\n"
          ]
        },
        {
          "output_type": "stream",
          "name": "stderr",
          "text": [
            "\r 40%|████      | 40/100 [11:42<16:52, 16.87s/it]"
          ]
        },
        {
          "output_type": "stream",
          "name": "stdout",
          "text": [
            "{'ner': 4116.3480341404465}\n"
          ]
        },
        {
          "output_type": "stream",
          "name": "stderr",
          "text": [
            "\r 41%|████      | 41/100 [12:00<16:55, 17.21s/it]"
          ]
        },
        {
          "output_type": "stream",
          "name": "stdout",
          "text": [
            "{'ner': 4064.1127678363}\n"
          ]
        },
        {
          "output_type": "stream",
          "name": "stderr",
          "text": [
            "\r 42%|████▏     | 42/100 [12:16<16:26, 17.01s/it]"
          ]
        },
        {
          "output_type": "stream",
          "name": "stdout",
          "text": [
            "{'ner': 3896.0973469144424}\n"
          ]
        },
        {
          "output_type": "stream",
          "name": "stderr",
          "text": [
            "\r 43%|████▎     | 43/100 [12:33<16:06, 16.95s/it]"
          ]
        },
        {
          "output_type": "stream",
          "name": "stdout",
          "text": [
            "{'ner': 3927.5185599780443}\n"
          ]
        },
        {
          "output_type": "stream",
          "name": "stderr",
          "text": [
            "\r 44%|████▍     | 44/100 [12:50<15:44, 16.86s/it]"
          ]
        },
        {
          "output_type": "stream",
          "name": "stdout",
          "text": [
            "{'ner': 3812.7441009295476}\n"
          ]
        },
        {
          "output_type": "stream",
          "name": "stderr",
          "text": [
            "\r 45%|████▌     | 45/100 [13:07<15:27, 16.87s/it]"
          ]
        },
        {
          "output_type": "stream",
          "name": "stdout",
          "text": [
            "{'ner': 3801.875706262776}\n"
          ]
        },
        {
          "output_type": "stream",
          "name": "stderr",
          "text": [
            "\r 46%|████▌     | 46/100 [13:23<15:05, 16.76s/it]"
          ]
        },
        {
          "output_type": "stream",
          "name": "stdout",
          "text": [
            "{'ner': 3676.6256114921257}\n"
          ]
        },
        {
          "output_type": "stream",
          "name": "stderr",
          "text": [
            "\r 47%|████▋     | 47/100 [13:40<14:56, 16.91s/it]"
          ]
        },
        {
          "output_type": "stream",
          "name": "stdout",
          "text": [
            "{'ner': 3632.36456593868}\n"
          ]
        },
        {
          "output_type": "stream",
          "name": "stderr",
          "text": [
            "\r 48%|████▊     | 48/100 [13:57<14:34, 16.81s/it]"
          ]
        },
        {
          "output_type": "stream",
          "name": "stdout",
          "text": [
            "{'ner': 3547.8175354071077}\n"
          ]
        },
        {
          "output_type": "stream",
          "name": "stderr",
          "text": [
            "\r 49%|████▉     | 49/100 [14:14<14:20, 16.87s/it]"
          ]
        },
        {
          "output_type": "stream",
          "name": "stdout",
          "text": [
            "{'ner': 3554.5304609950836}\n"
          ]
        },
        {
          "output_type": "stream",
          "name": "stderr",
          "text": [
            "\r 50%|█████     | 50/100 [14:30<13:56, 16.73s/it]"
          ]
        },
        {
          "output_type": "stream",
          "name": "stdout",
          "text": [
            "{'ner': 3468.4310086709584}\n"
          ]
        },
        {
          "output_type": "stream",
          "name": "stderr",
          "text": [
            "\r 51%|█████     | 51/100 [14:47<13:37, 16.68s/it]"
          ]
        },
        {
          "output_type": "stream",
          "name": "stdout",
          "text": [
            "{'ner': 3408.207435671485}\n"
          ]
        },
        {
          "output_type": "stream",
          "name": "stderr",
          "text": [
            "\r 52%|█████▏    | 52/100 [15:03<13:13, 16.53s/it]"
          ]
        },
        {
          "output_type": "stream",
          "name": "stdout",
          "text": [
            "{'ner': 3403.6330371963977}\n"
          ]
        },
        {
          "output_type": "stream",
          "name": "stderr",
          "text": [
            "\r 53%|█████▎    | 53/100 [15:21<13:10, 16.82s/it]"
          ]
        },
        {
          "output_type": "stream",
          "name": "stdout",
          "text": [
            "{'ner': 3265.257438719271}\n"
          ]
        },
        {
          "output_type": "stream",
          "name": "stderr",
          "text": [
            "\r 54%|█████▍    | 54/100 [15:38<13:06, 17.11s/it]"
          ]
        },
        {
          "output_type": "stream",
          "name": "stdout",
          "text": [
            "{'ner': 3295.7187586697}\n"
          ]
        },
        {
          "output_type": "stream",
          "name": "stderr",
          "text": [
            "\r 55%|█████▌    | 55/100 [15:55<12:43, 16.97s/it]"
          ]
        },
        {
          "output_type": "stream",
          "name": "stdout",
          "text": [
            "{'ner': 3283.772783453035}\n"
          ]
        },
        {
          "output_type": "stream",
          "name": "stderr",
          "text": [
            "\r 56%|█████▌    | 56/100 [16:12<12:21, 16.86s/it]"
          ]
        },
        {
          "output_type": "stream",
          "name": "stdout",
          "text": [
            "{'ner': 3178.504960780059}\n"
          ]
        },
        {
          "output_type": "stream",
          "name": "stderr",
          "text": [
            "\r 57%|█████▋    | 57/100 [16:29<12:04, 16.85s/it]"
          ]
        },
        {
          "output_type": "stream",
          "name": "stdout",
          "text": [
            "{'ner': 3170.7807576989685}\n"
          ]
        },
        {
          "output_type": "stream",
          "name": "stderr",
          "text": [
            "\r 58%|█████▊    | 58/100 [16:46<11:52, 16.97s/it]"
          ]
        },
        {
          "output_type": "stream",
          "name": "stdout",
          "text": [
            "{'ner': 3153.205382121119}\n"
          ]
        },
        {
          "output_type": "stream",
          "name": "stderr",
          "text": [
            "\r 59%|█████▉    | 59/100 [17:02<11:29, 16.82s/it]"
          ]
        },
        {
          "output_type": "stream",
          "name": "stdout",
          "text": [
            "{'ner': 2959.3680019700187}\n"
          ]
        },
        {
          "output_type": "stream",
          "name": "stderr",
          "text": [
            "\r 60%|██████    | 60/100 [17:19<11:07, 16.70s/it]"
          ]
        },
        {
          "output_type": "stream",
          "name": "stdout",
          "text": [
            "{'ner': 2958.431489139127}\n"
          ]
        },
        {
          "output_type": "stream",
          "name": "stderr",
          "text": [
            "\r 61%|██████    | 61/100 [17:35<10:52, 16.73s/it]"
          ]
        },
        {
          "output_type": "stream",
          "name": "stdout",
          "text": [
            "{'ner': 3006.6610724512934}\n"
          ]
        },
        {
          "output_type": "stream",
          "name": "stderr",
          "text": [
            "\r 62%|██████▏   | 62/100 [17:52<10:36, 16.75s/it]"
          ]
        },
        {
          "output_type": "stream",
          "name": "stdout",
          "text": [
            "{'ner': 2912.1242099067877}\n"
          ]
        },
        {
          "output_type": "stream",
          "name": "stderr",
          "text": [
            "\r 63%|██████▎   | 63/100 [18:09<10:19, 16.74s/it]"
          ]
        },
        {
          "output_type": "stream",
          "name": "stdout",
          "text": [
            "{'ner': 2828.1818116490904}\n"
          ]
        },
        {
          "output_type": "stream",
          "name": "stderr",
          "text": [
            "\r 64%|██████▍   | 64/100 [18:26<10:02, 16.75s/it]"
          ]
        },
        {
          "output_type": "stream",
          "name": "stdout",
          "text": [
            "{'ner': 2943.5240318404853}\n"
          ]
        },
        {
          "output_type": "stream",
          "name": "stderr",
          "text": [
            "\r 65%|██████▌   | 65/100 [18:43<09:50, 16.86s/it]"
          ]
        },
        {
          "output_type": "stream",
          "name": "stdout",
          "text": [
            "{'ner': 2832.849404622217}\n"
          ]
        },
        {
          "output_type": "stream",
          "name": "stderr",
          "text": [
            "\r 66%|██████▌   | 66/100 [19:01<09:46, 17.26s/it]"
          ]
        },
        {
          "output_type": "stream",
          "name": "stdout",
          "text": [
            "{'ner': 2796.400585859292}\n"
          ]
        },
        {
          "output_type": "stream",
          "name": "stderr",
          "text": [
            "\r 67%|██████▋   | 67/100 [19:18<09:27, 17.21s/it]"
          ]
        },
        {
          "output_type": "stream",
          "name": "stdout",
          "text": [
            "{'ner': 2687.452547046007}\n"
          ]
        },
        {
          "output_type": "stream",
          "name": "stderr",
          "text": [
            "\r 68%|██████▊   | 68/100 [19:35<09:08, 17.14s/it]"
          ]
        },
        {
          "output_type": "stream",
          "name": "stdout",
          "text": [
            "{'ner': 2729.6133982449614}\n"
          ]
        },
        {
          "output_type": "stream",
          "name": "stderr",
          "text": [
            "\r 69%|██████▉   | 69/100 [19:52<08:46, 16.97s/it]"
          ]
        },
        {
          "output_type": "stream",
          "name": "stdout",
          "text": [
            "{'ner': 2648.5343329371867}\n"
          ]
        },
        {
          "output_type": "stream",
          "name": "stderr",
          "text": [
            "\r 70%|███████   | 70/100 [20:08<08:25, 16.85s/it]"
          ]
        },
        {
          "output_type": "stream",
          "name": "stdout",
          "text": [
            "{'ner': 2639.221078196089}\n"
          ]
        },
        {
          "output_type": "stream",
          "name": "stderr",
          "text": [
            "\r 71%|███████   | 71/100 [20:25<08:09, 16.89s/it]"
          ]
        },
        {
          "output_type": "stream",
          "name": "stdout",
          "text": [
            "{'ner': 2637.6413404395325}\n"
          ]
        },
        {
          "output_type": "stream",
          "name": "stderr",
          "text": [
            "\r 72%|███████▏  | 72/100 [20:42<07:52, 16.88s/it]"
          ]
        },
        {
          "output_type": "stream",
          "name": "stdout",
          "text": [
            "{'ner': 2579.440767048134}\n"
          ]
        },
        {
          "output_type": "stream",
          "name": "stderr",
          "text": [
            "\r 73%|███████▎  | 73/100 [20:59<07:32, 16.78s/it]"
          ]
        },
        {
          "output_type": "stream",
          "name": "stdout",
          "text": [
            "{'ner': 2583.8891974996054}\n"
          ]
        },
        {
          "output_type": "stream",
          "name": "stderr",
          "text": [
            "\r 74%|███████▍  | 74/100 [21:15<07:15, 16.75s/it]"
          ]
        },
        {
          "output_type": "stream",
          "name": "stdout",
          "text": [
            "{'ner': 2557.988581934043}\n"
          ]
        },
        {
          "output_type": "stream",
          "name": "stderr",
          "text": [
            "\r 75%|███████▌  | 75/100 [21:32<06:57, 16.71s/it]"
          ]
        },
        {
          "output_type": "stream",
          "name": "stdout",
          "text": [
            "{'ner': 2528.0046369908428}\n"
          ]
        },
        {
          "output_type": "stream",
          "name": "stderr",
          "text": [
            "\r 76%|███████▌  | 76/100 [21:49<06:44, 16.87s/it]"
          ]
        },
        {
          "output_type": "stream",
          "name": "stdout",
          "text": [
            "{'ner': 2404.2002612882775}\n"
          ]
        },
        {
          "output_type": "stream",
          "name": "stderr",
          "text": [
            "\r 77%|███████▋  | 77/100 [22:06<06:26, 16.79s/it]"
          ]
        },
        {
          "output_type": "stream",
          "name": "stdout",
          "text": [
            "{'ner': 2517.1288119252918}\n"
          ]
        },
        {
          "output_type": "stream",
          "name": "stderr",
          "text": [
            "\r 78%|███████▊  | 78/100 [22:23<06:14, 17.01s/it]"
          ]
        },
        {
          "output_type": "stream",
          "name": "stdout",
          "text": [
            "{'ner': 2508.724143002335}\n"
          ]
        },
        {
          "output_type": "stream",
          "name": "stderr",
          "text": [
            "\r 79%|███████▉  | 79/100 [22:41<06:00, 17.17s/it]"
          ]
        },
        {
          "output_type": "stream",
          "name": "stdout",
          "text": [
            "{'ner': 2448.1488623823716}\n"
          ]
        },
        {
          "output_type": "stream",
          "name": "stderr",
          "text": [
            "\r 80%|████████  | 80/100 [22:58<05:43, 17.18s/it]"
          ]
        },
        {
          "output_type": "stream",
          "name": "stdout",
          "text": [
            "{'ner': 2337.9975747959884}\n"
          ]
        },
        {
          "output_type": "stream",
          "name": "stderr",
          "text": [
            "\r 81%|████████  | 81/100 [23:15<05:24, 17.07s/it]"
          ]
        },
        {
          "output_type": "stream",
          "name": "stdout",
          "text": [
            "{'ner': 2262.101397621144}\n"
          ]
        },
        {
          "output_type": "stream",
          "name": "stderr",
          "text": [
            "\r 82%|████████▏ | 82/100 [23:32<05:05, 16.97s/it]"
          ]
        },
        {
          "output_type": "stream",
          "name": "stdout",
          "text": [
            "{'ner': 2258.029918912017}\n"
          ]
        },
        {
          "output_type": "stream",
          "name": "stderr",
          "text": [
            "\r 83%|████████▎ | 83/100 [23:49<04:48, 16.95s/it]"
          ]
        },
        {
          "output_type": "stream",
          "name": "stdout",
          "text": [
            "{'ner': 2322.9929472416334}\n"
          ]
        },
        {
          "output_type": "stream",
          "name": "stderr",
          "text": [
            "\r 84%|████████▍ | 84/100 [24:05<04:31, 16.94s/it]"
          ]
        },
        {
          "output_type": "stream",
          "name": "stdout",
          "text": [
            "{'ner': 2272.382304715206}\n"
          ]
        },
        {
          "output_type": "stream",
          "name": "stderr",
          "text": [
            "\r 85%|████████▌ | 85/100 [24:22<04:13, 16.90s/it]"
          ]
        },
        {
          "output_type": "stream",
          "name": "stdout",
          "text": [
            "{'ner': 2253.156579567906}\n"
          ]
        },
        {
          "output_type": "stream",
          "name": "stderr",
          "text": [
            "\r 86%|████████▌ | 86/100 [24:39<03:56, 16.89s/it]"
          ]
        },
        {
          "output_type": "stream",
          "name": "stdout",
          "text": [
            "{'ner': 2150.2923291538036}\n"
          ]
        },
        {
          "output_type": "stream",
          "name": "stderr",
          "text": [
            "\r 87%|████████▋ | 87/100 [24:56<03:38, 16.80s/it]"
          ]
        },
        {
          "output_type": "stream",
          "name": "stdout",
          "text": [
            "{'ner': 2096.193837055248}\n"
          ]
        },
        {
          "output_type": "stream",
          "name": "stderr",
          "text": [
            "\r 88%|████████▊ | 88/100 [25:12<03:20, 16.71s/it]"
          ]
        },
        {
          "output_type": "stream",
          "name": "stdout",
          "text": [
            "{'ner': 2151.729316162423}\n"
          ]
        },
        {
          "output_type": "stream",
          "name": "stderr",
          "text": [
            "\r 89%|████████▉ | 89/100 [25:29<03:05, 16.87s/it]"
          ]
        },
        {
          "output_type": "stream",
          "name": "stdout",
          "text": [
            "{'ner': 2156.2043921283507}\n"
          ]
        },
        {
          "output_type": "stream",
          "name": "stderr",
          "text": [
            "\r 90%|█████████ | 90/100 [25:47<02:50, 17.06s/it]"
          ]
        },
        {
          "output_type": "stream",
          "name": "stdout",
          "text": [
            "{'ner': 2185.394702272191}\n"
          ]
        },
        {
          "output_type": "stream",
          "name": "stderr",
          "text": [
            "\r 91%|█████████ | 91/100 [26:06<02:37, 17.51s/it]"
          ]
        },
        {
          "output_type": "stream",
          "name": "stdout",
          "text": [
            "{'ner': 2085.304639621736}\n"
          ]
        },
        {
          "output_type": "stream",
          "name": "stderr",
          "text": [
            "\r 92%|█████████▏| 92/100 [26:22<02:18, 17.27s/it]"
          ]
        },
        {
          "output_type": "stream",
          "name": "stdout",
          "text": [
            "{'ner': 1998.1898989577737}\n"
          ]
        },
        {
          "output_type": "stream",
          "name": "stderr",
          "text": [
            "\r 93%|█████████▎| 93/100 [26:39<02:00, 17.24s/it]"
          ]
        },
        {
          "output_type": "stream",
          "name": "stdout",
          "text": [
            "{'ner': 1997.4797571181255}\n"
          ]
        },
        {
          "output_type": "stream",
          "name": "stderr",
          "text": [
            "\r 94%|█████████▍| 94/100 [26:56<01:42, 17.09s/it]"
          ]
        },
        {
          "output_type": "stream",
          "name": "stdout",
          "text": [
            "{'ner': 2113.076002073332}\n"
          ]
        },
        {
          "output_type": "stream",
          "name": "stderr",
          "text": [
            "\r 95%|█████████▌| 95/100 [27:13<01:24, 16.94s/it]"
          ]
        },
        {
          "output_type": "stream",
          "name": "stdout",
          "text": [
            "{'ner': 2076.308027548403}\n"
          ]
        },
        {
          "output_type": "stream",
          "name": "stderr",
          "text": [
            "\r 96%|█████████▌| 96/100 [27:29<01:07, 16.79s/it]"
          ]
        },
        {
          "output_type": "stream",
          "name": "stdout",
          "text": [
            "{'ner': 2007.6960521512842}\n"
          ]
        },
        {
          "output_type": "stream",
          "name": "stderr",
          "text": [
            "\r 97%|█████████▋| 97/100 [27:46<00:50, 16.82s/it]"
          ]
        },
        {
          "output_type": "stream",
          "name": "stdout",
          "text": [
            "{'ner': 2003.8610466328896}\n"
          ]
        },
        {
          "output_type": "stream",
          "name": "stderr",
          "text": [
            "\r 98%|█████████▊| 98/100 [28:03<00:33, 16.85s/it]"
          ]
        },
        {
          "output_type": "stream",
          "name": "stdout",
          "text": [
            "{'ner': 1919.7562465631208}\n"
          ]
        },
        {
          "output_type": "stream",
          "name": "stderr",
          "text": [
            "\r 99%|█████████▉| 99/100 [28:20<00:16, 16.82s/it]"
          ]
        },
        {
          "output_type": "stream",
          "name": "stdout",
          "text": [
            "{'ner': 2032.0930074439484}\n"
          ]
        },
        {
          "output_type": "stream",
          "name": "stderr",
          "text": [
            "100%|██████████| 100/100 [28:36<00:00, 17.17s/it]"
          ]
        },
        {
          "output_type": "stream",
          "name": "stdout",
          "text": [
            "{'ner': 1906.6598527637757}\n"
          ]
        },
        {
          "output_type": "stream",
          "name": "stderr",
          "text": [
            "\n"
          ]
        }
      ],
      "source": [
        "import warnings\n",
        "warnings.filterwarnings('ignore')\n",
        "from spacy.training.example import Example\n",
        "from spacy.util import minibatch\n",
        "for _, annotations in train_ner_pos:\n",
        "    for ent in annotations.get('entities'):\n",
        "        ner.add_label(ent[2])# Adding ST as the only label to the model\n",
        "\n",
        "n_iter=100 #Number of iteration\n",
        "other_pipes = [pipe for pipe in nlp.pipe_names if pipe != 'ner']\n",
        "with nlp.disable_pipes(*other_pipes):  # only train NER disabling other pipe\n",
        "    optimizer = nlp.begin_training()\n",
        "    example=[]\n",
        "    for text, annotations in tqdm(train_ner_pos):\n",
        "        doc = nlp.make_doc(text)\n",
        "        example.append(Example.from_dict(doc, annotations))\n",
        "    nlp.initialize(lambda: example)\n",
        "    for i in tqdm(range(n_iter)):\n",
        "        losses={}\n",
        "        random.shuffle(example)\n",
        "        for batch in minibatch(example, size=128):\n",
        "            nlp.update(batch,drop=0.2,  #drop is the dropout rate of the model\n",
        "                      losses=losses)\n",
        "        print(losses)"
      ]
    },
    {
      "cell_type": "code",
      "source": [
        "print('Sample of how the data will be tokenised in case of NER:')\n",
        "for i in range(5):\n",
        "  print(i+1)\n",
        "  print('Overall:',example[i])\n",
        "  print('**********'*10)"
      ],
      "metadata": {
        "colab": {
          "base_uri": "https://localhost:8080/"
        },
        "id": "IzXcAFQjo2p9",
        "outputId": "599df8dc-8237-4a94-d12c-e54bda010122"
      },
      "execution_count": null,
      "outputs": [
        {
          "output_type": "stream",
          "name": "stdout",
          "text": [
            "Sample of how the data will be tokenised in case of NER:\n",
            "1\n",
            "Overall: {'doc_annotation': {'cats': {}, 'entities': ['O', 'O', 'O', 'O', 'O', 'O', 'O', 'O', 'O', 'O', 'O', 'O', 'O', 'B-ST', 'I-ST', 'I-ST', 'I-ST', 'L-ST', 'O', 'O', 'O', 'O', 'O'], 'spans': {}, 'links': {}}, 'token_annotation': {'ORTH': [' ', '-', 'Wow', ',', 'I', 'didn`t', 'realise', 'you', 'were', 'Hami', '.', 'lol', '.', 'Thanks', 'for', 'all', 'the', 'comments', 'on', 'my', 'blog', ',', 'dude'], 'SPACY': [False, True, False, True, True, True, True, True, True, False, True, False, True, True, True, True, True, True, True, True, False, True, False], 'TAG': ['', '', '', '', '', '', '', '', '', '', '', '', '', '', '', '', '', '', '', '', '', '', ''], 'LEMMA': ['', '', '', '', '', '', '', '', '', '', '', '', '', '', '', '', '', '', '', '', '', '', ''], 'POS': ['', '', '', '', '', '', '', '', '', '', '', '', '', '', '', '', '', '', '', '', '', '', ''], 'MORPH': ['', '', '', '', '', '', '', '', '', '', '', '', '', '', '', '', '', '', '', '', '', '', ''], 'HEAD': [0, 1, 2, 3, 4, 5, 6, 7, 8, 9, 10, 11, 12, 13, 14, 15, 16, 17, 18, 19, 20, 21, 22], 'DEP': ['', '', '', '', '', '', '', '', '', '', '', '', '', '', '', '', '', '', '', '', '', '', ''], 'SENT_START': [1, 0, 0, 0, 0, 0, 0, 0, 0, 0, 0, 0, 0, 0, 0, 0, 0, 0, 0, 0, 0, 0, 0]}}\n",
            "****************************************************************************************************\n",
            "2\n",
            "Overall: {'doc_annotation': {'cats': {}, 'entities': ['O', 'O', 'O', 'O', 'O', 'O', 'O', 'O', 'O', 'O', 'O', 'O', 'O', 'B-ST', 'I-ST', 'I-ST', 'I-ST', 'I-ST', 'I-ST', 'I-ST', 'L-ST', 'O', 'O', 'O', 'O', 'O', 'O', 'O', 'O'], 'spans': {}, 'links': {}}, 'token_annotation': {'ORTH': [' ', 'Not', 'a', 'fan', 'of', 'the', 'Bulmers', ',', 'but', 'the', 'Magners', 'pear', 'is', 'AWESOME', ',', 'I', 'want', 'slush', 'puppy', 'though', '!', ' ', '#', 'Hurryup', '#', 'classy', '#', 'omgimpatient', '!'], 'SPACY': [False, True, True, True, True, True, False, True, True, True, True, True, True, False, True, True, True, True, True, False, True, False, False, True, False, True, False, False, False], 'TAG': ['', '', '', '', '', '', '', '', '', '', '', '', '', '', '', '', '', '', '', '', '', '', '', '', '', '', '', '', ''], 'LEMMA': ['', '', '', '', '', '', '', '', '', '', '', '', '', '', '', '', '', '', '', '', '', '', '', '', '', '', '', '', ''], 'POS': ['', '', '', '', '', '', '', '', '', '', '', '', '', '', '', '', '', '', '', '', '', '', '', '', '', '', '', '', ''], 'MORPH': ['', '', '', '', '', '', '', '', '', '', '', '', '', '', '', '', '', '', '', '', '', '', '', '', '', '', '', '', ''], 'HEAD': [0, 1, 2, 3, 4, 5, 6, 7, 8, 9, 10, 11, 12, 13, 14, 15, 16, 17, 18, 19, 20, 21, 22, 23, 24, 25, 26, 27, 28], 'DEP': ['', '', '', '', '', '', '', '', '', '', '', '', '', '', '', '', '', '', '', '', '', '', '', '', '', '', '', '', ''], 'SENT_START': [1, 0, 0, 0, 0, 0, 0, 0, 0, 0, 0, 0, 0, 0, 0, 0, 0, 0, 0, 0, 0, 0, 0, 0, 0, 0, 0, 0, 0]}}\n",
            "****************************************************************************************************\n",
            "3\n",
            "Overall: {'doc_annotation': {'cats': {}, 'entities': ['O', 'O', 'O', 'O', 'O', 'O', 'O', 'B-ST', 'I-ST', 'L-ST'], 'spans': {}, 'links': {}}, 'token_annotation': {'ORTH': [' ', 'why', 'yes', '...', 'a', 'bag', 'of', 'goodies', ' ', 'lol'], 'SPACY': [False, True, True, True, True, True, True, True, False, False], 'TAG': ['', '', '', '', '', '', '', '', '', ''], 'LEMMA': ['', '', '', '', '', '', '', '', '', ''], 'POS': ['', '', '', '', '', '', '', '', '', ''], 'MORPH': ['', '', '', '', '', '', '', '', '', ''], 'HEAD': [0, 1, 2, 3, 4, 5, 6, 7, 8, 9], 'DEP': ['', '', '', '', '', '', '', '', '', ''], 'SENT_START': [1, 0, 0, 0, 0, 0, 0, 0, 0, 0]}}\n",
            "****************************************************************************************************\n",
            "4\n",
            "Overall: {'doc_annotation': {'cats': {}, 'entities': ['O', 'O', 'O', 'O', 'U-ST', 'O', 'O', 'O', 'O', 'O', 'O', 'O', 'O', 'O', 'O', 'O', 'O', 'O', 'O', 'O', 'O', 'O', 'O', 'O', 'O'], 'spans': {}, 'links': {}}, 'token_annotation': {'ORTH': [' ', 'if', 'ur', 'as', 'awesome', 'as', 'i', 'think', 'u', 'are', 'u', 'would', 'sooo', 'write', 'me', 'back', ' ', 'a', 'lil', 'something', '  ', '<', '---', 'crossing', 'fingers'], 'SPACY': [False, True, True, True, True, True, True, True, True, True, True, True, True, True, True, True, False, True, True, True, False, False, True, True, False], 'TAG': ['', '', '', '', '', '', '', '', '', '', '', '', '', '', '', '', '', '', '', '', '', '', '', '', ''], 'LEMMA': ['', '', '', '', '', '', '', '', '', '', '', '', '', '', '', '', '', '', '', '', '', '', '', '', ''], 'POS': ['', '', '', '', '', '', '', '', '', '', '', '', '', '', '', '', '', '', '', '', '', '', '', '', ''], 'MORPH': ['', '', '', '', '', '', '', '', '', '', '', '', '', '', '', '', '', '', '', '', '', '', '', '', ''], 'HEAD': [0, 1, 2, 3, 4, 5, 6, 7, 8, 9, 10, 11, 12, 13, 14, 15, 16, 17, 18, 19, 20, 21, 22, 23, 24], 'DEP': ['', '', '', '', '', '', '', '', '', '', '', '', '', '', '', '', '', '', '', '', '', '', '', '', ''], 'SENT_START': [1, 0, 0, 0, 0, 0, 0, 0, 0, 0, 0, 0, 0, 0, 0, 0, 0, 0, 0, 0, 0, 0, 0, 0, 0]}}\n",
            "****************************************************************************************************\n",
            "5\n",
            "Overall: {'doc_annotation': {'cats': {}, 'entities': ['O', 'O', 'O', 'O', 'O', 'O', 'O', 'O', 'U-ST', 'O', 'O', 'O', 'O'], 'spans': {}, 'links': {}}, 'token_annotation': {'ORTH': [' ', 'Sweeny', 'Todd', 'is', 'deadset', 'one', 'of', 'the', 'best', 'movies', 'of', 'all', 'time'], 'SPACY': [False, True, True, True, True, True, True, True, True, True, True, True, False], 'TAG': ['', '', '', '', '', '', '', '', '', '', '', '', ''], 'LEMMA': ['', '', '', '', '', '', '', '', '', '', '', '', ''], 'POS': ['', '', '', '', '', '', '', '', '', '', '', '', ''], 'MORPH': ['', '', '', '', '', '', '', '', '', '', '', '', ''], 'HEAD': [0, 1, 2, 3, 4, 5, 6, 7, 8, 9, 10, 11, 12], 'DEP': ['', '', '', '', '', '', '', '', '', '', '', '', ''], 'SENT_START': [1, 0, 0, 0, 0, 0, 0, 0, 0, 0, 0, 0, 0]}}\n",
            "****************************************************************************************************\n"
          ]
        }
      ]
    },
    {
      "cell_type": "markdown",
      "metadata": {
        "id": "dpFhLkWGNugJ"
      },
      "source": [
        "As the library is updated many of the previous exsiting fuction was changed. Below documentation was helpful for defining the custom training using spacy.\n",
        "\n",
        "Reference:\n",
        "\n",
        "https://spacy.io/usage/v3#incompat:~:text=dictionary%20of%20annotations.-,TRAINING%20LOOP,-TRAIN_DATA%20%3D%20%5B"
      ]
    },
    {
      "cell_type": "code",
      "execution_count": null,
      "metadata": {
        "colab": {
          "base_uri": "https://localhost:8080/"
        },
        "id": "XTfgbpck30I_",
        "outputId": "8a8b1136-1cf3-4228-aae1-a56c57567893"
      },
      "outputs": [
        {
          "output_type": "stream",
          "name": "stdout",
          "text": [
            "Drive already mounted at /content/drive; to attempt to forcibly remount, call drive.mount(\"/content/drive\", force_remount=True).\n"
          ]
        }
      ],
      "source": [
        "from google.colab import drive\n",
        "drive.mount('/content/drive')"
      ]
    },
    {
      "cell_type": "code",
      "execution_count": null,
      "metadata": {
        "colab": {
          "base_uri": "https://localhost:8080/"
        },
        "id": "dDW-mSzQ4BUb",
        "outputId": "e96aaaa5-bd0c-4051-84c6-9411e1a9b4a7"
      },
      "outputs": [
        {
          "output_type": "stream",
          "name": "stdout",
          "text": [
            "Saved model to /content/drive/MyDrive/case_study_2_new/ner_model/positive_model_rev_new\n"
          ]
        }
      ],
      "source": [
        "output_dir='/content/drive/MyDrive/case_study_2_new/ner_model/positive_model_rev_new'\n",
        "if output_dir is not None:\n",
        "    output_dir = Path(output_dir)\n",
        "    if not output_dir.exists():\n",
        "        output_dir.mkdir()\n",
        "    nlp.to_disk(output_dir)\n",
        "    print(\"Saved model to\", output_dir)"
      ]
    },
    {
      "cell_type": "code",
      "execution_count": null,
      "metadata": {
        "id": "4j6fxAmHsLPe"
      },
      "outputs": [],
      "source": [
        "nlp_1=spacy.load('/content/drive/MyDrive/case_study_2_new/ner_model/positive_model_rev_new')"
      ]
    },
    {
      "cell_type": "markdown",
      "source": [
        "####For negative####"
      ],
      "metadata": {
        "id": "il3SYoh502fz"
      }
    },
    {
      "cell_type": "code",
      "execution_count": null,
      "metadata": {
        "id": "P_ODqUbda29t"
      },
      "outputs": [],
      "source": [
        "train_ner_neg=[]\n",
        "for i in range(len(negative_data)):\n",
        "    start_index=negative_data.iloc[i]['text'].find(negative_data.iloc[i]['selected_text'])\n",
        "    end_index=start_index+len(negative_data.iloc[i]['selected_text'])\n",
        "    train_dt=(negative_data.iloc[i]['text'],              \n",
        "              {'entities':[[start_index,end_index,'ST']]})  \n",
        "    train_ner_neg.append(train_dt)\n",
        "\n",
        "test_ner_neg=[]\n",
        "for i in range(len(negative_data_test)):\n",
        "    start_index=negative_data_test.iloc[i]['text'].find(negative_data_test.iloc[i]['selected_text'])\n",
        "    end_index=start_index+len(negative_data_test.iloc[i]['selected_text'])\n",
        "    test_dt=(negative_data_test.iloc[i]['text'],              \n",
        "              {'entities':[[start_index,end_index,'ST']]})  \n",
        "    test_ner_neg.append(test_dt)"
      ]
    },
    {
      "cell_type": "code",
      "execution_count": null,
      "metadata": {
        "colab": {
          "base_uri": "https://localhost:8080/"
        },
        "id": "s1wNEm7C5sSJ",
        "outputId": "a59d038c-2d87-44b0-942d-a19ca74271b3"
      },
      "outputs": [
        {
          "output_type": "stream",
          "name": "stdout",
          "text": [
            "Sample data:\n",
            "('ah remember the days when you`d sleep in until noon? well guess who did that today? god i feel like a loser', {'entities': [[102, 107, 'ST']]})\n",
            "('  We don`t feel too comfortable using it. It`s not awful, but pretty icky.  Scurrying to find a deal...', {'entities': [[40, 73, 'ST']]})\n",
            "('everyone vote for  for the mtv movie awards coz my comp is mashed up and wont let me vote!  i will somehow!!!!!!', {'entities': [[59, 68, 'ST']]})\n",
            "(' SAME. its just not happening, and im going out too!. UH-OH.', {'entities': [[11, 30, 'ST']]})\n",
            "('It is so annoying when she starts typing on her computer in the middle of the night!', {'entities': [[9, 17, 'ST']]})\n"
          ]
        }
      ],
      "source": [
        "print('Sample data:')\n",
        "for i in range(5):\n",
        "  print(train_ner_neg[i])"
      ]
    },
    {
      "cell_type": "code",
      "execution_count": null,
      "metadata": {
        "colab": {
          "base_uri": "https://localhost:8080/"
        },
        "id": "WnWx_L8wUtUZ",
        "outputId": "09b16b45-2150-46c7-a6ae-45aa41455ffa"
      },
      "outputs": [
        {
          "output_type": "stream",
          "name": "stdout",
          "text": [
            "Created blank 'en' model\n"
          ]
        }
      ],
      "source": [
        "model = None\n",
        "if model is not None:\n",
        "    nlp_neg = spacy.load(model)  \n",
        "    print(\"Loaded model '%s'\" % model)\n",
        "else:\n",
        "    nlp_neg = spacy.blank('en')  \n",
        "    print(\"Created blank 'en' model\")\n",
        "\n",
        "#set up the pipeline\n",
        "\n",
        "if 'ner' not in nlp_neg.pipe_names:\n",
        "    ner = nlp_neg.add_pipe('ner')\n",
        "else:\n",
        "    ner = nlp_neg.get_pipe('ner')"
      ]
    },
    {
      "cell_type": "code",
      "execution_count": null,
      "metadata": {
        "colab": {
          "base_uri": "https://localhost:8080/"
        },
        "id": "Ff3G28-G5KFI",
        "outputId": "9195c6cb-5afb-442b-b28d-fa602b8cf647"
      },
      "outputs": [
        {
          "output_type": "stream",
          "name": "stderr",
          "text": [
            "100%|██████████| 6225/6225 [00:02<00:00, 2786.16it/s]\n",
            "  1%|          | 1/100 [00:15<25:46, 15.62s/it]"
          ]
        },
        {
          "output_type": "stream",
          "name": "stdout",
          "text": [
            "{'ner': 21869.79547660006}\n"
          ]
        },
        {
          "output_type": "stream",
          "name": "stderr",
          "text": [
            "\r  2%|▏         | 2/100 [00:33<27:17, 16.71s/it]"
          ]
        },
        {
          "output_type": "stream",
          "name": "stdout",
          "text": [
            "{'ner': 10095.784057349307}\n"
          ]
        },
        {
          "output_type": "stream",
          "name": "stderr",
          "text": [
            "\r  3%|▎         | 3/100 [00:48<26:09, 16.18s/it]"
          ]
        },
        {
          "output_type": "stream",
          "name": "stdout",
          "text": [
            "{'ner': 9023.606405206421}\n"
          ]
        },
        {
          "output_type": "stream",
          "name": "stderr",
          "text": [
            "\r  4%|▍         | 4/100 [01:04<25:28, 15.93s/it]"
          ]
        },
        {
          "output_type": "stream",
          "name": "stdout",
          "text": [
            "{'ner': 8461.203977367753}\n"
          ]
        },
        {
          "output_type": "stream",
          "name": "stderr",
          "text": [
            "\r  5%|▌         | 5/100 [01:19<24:54, 15.74s/it]"
          ]
        },
        {
          "output_type": "stream",
          "name": "stdout",
          "text": [
            "{'ner': 8172.061028290289}\n"
          ]
        },
        {
          "output_type": "stream",
          "name": "stderr",
          "text": [
            "\r  6%|▌         | 6/100 [01:35<24:38, 15.73s/it]"
          ]
        },
        {
          "output_type": "stream",
          "name": "stdout",
          "text": [
            "{'ner': 7945.305305096994}\n"
          ]
        },
        {
          "output_type": "stream",
          "name": "stderr",
          "text": [
            "\r  7%|▋         | 7/100 [01:50<24:15, 15.65s/it]"
          ]
        },
        {
          "output_type": "stream",
          "name": "stdout",
          "text": [
            "{'ner': 7784.204316521917}\n"
          ]
        },
        {
          "output_type": "stream",
          "name": "stderr",
          "text": [
            "\r  8%|▊         | 8/100 [02:06<24:02, 15.68s/it]"
          ]
        },
        {
          "output_type": "stream",
          "name": "stdout",
          "text": [
            "{'ner': 7545.245957795933}\n"
          ]
        },
        {
          "output_type": "stream",
          "name": "stderr",
          "text": [
            "\r  9%|▉         | 9/100 [02:22<23:42, 15.63s/it]"
          ]
        },
        {
          "output_type": "stream",
          "name": "stdout",
          "text": [
            "{'ner': 7374.961272874293}\n"
          ]
        },
        {
          "output_type": "stream",
          "name": "stderr",
          "text": [
            "\r 10%|█         | 10/100 [02:38<23:37, 15.75s/it]"
          ]
        },
        {
          "output_type": "stream",
          "name": "stdout",
          "text": [
            "{'ner': 7205.587797173009}\n"
          ]
        },
        {
          "output_type": "stream",
          "name": "stderr",
          "text": [
            "\r 11%|█         | 11/100 [02:55<24:17, 16.37s/it]"
          ]
        },
        {
          "output_type": "stream",
          "name": "stdout",
          "text": [
            "{'ner': 7054.537019465835}\n"
          ]
        },
        {
          "output_type": "stream",
          "name": "stderr",
          "text": [
            "\r 12%|█▏        | 12/100 [03:13<24:22, 16.61s/it]"
          ]
        },
        {
          "output_type": "stream",
          "name": "stdout",
          "text": [
            "{'ner': 6797.399293389366}\n"
          ]
        },
        {
          "output_type": "stream",
          "name": "stderr",
          "text": [
            "\r 13%|█▎        | 13/100 [03:30<24:33, 16.94s/it]"
          ]
        },
        {
          "output_type": "stream",
          "name": "stdout",
          "text": [
            "{'ner': 6711.042839135418}\n"
          ]
        },
        {
          "output_type": "stream",
          "name": "stderr",
          "text": [
            "\r 14%|█▍        | 14/100 [03:48<24:33, 17.13s/it]"
          ]
        },
        {
          "output_type": "stream",
          "name": "stdout",
          "text": [
            "{'ner': 6492.15965360203}\n"
          ]
        },
        {
          "output_type": "stream",
          "name": "stderr",
          "text": [
            "\r 15%|█▌        | 15/100 [04:05<24:28, 17.28s/it]"
          ]
        },
        {
          "output_type": "stream",
          "name": "stdout",
          "text": [
            "{'ner': 6335.237439871144}\n"
          ]
        },
        {
          "output_type": "stream",
          "name": "stderr",
          "text": [
            "\r 16%|█▌        | 16/100 [04:22<23:54, 17.08s/it]"
          ]
        },
        {
          "output_type": "stream",
          "name": "stdout",
          "text": [
            "{'ner': 6275.667530562289}\n"
          ]
        },
        {
          "output_type": "stream",
          "name": "stderr",
          "text": [
            "\r 17%|█▋        | 17/100 [04:41<24:23, 17.64s/it]"
          ]
        },
        {
          "output_type": "stream",
          "name": "stdout",
          "text": [
            "{'ner': 6060.3277682452845}\n"
          ]
        },
        {
          "output_type": "stream",
          "name": "stderr",
          "text": [
            "\r 18%|█▊        | 18/100 [05:00<24:38, 18.02s/it]"
          ]
        },
        {
          "output_type": "stream",
          "name": "stdout",
          "text": [
            "{'ner': 5859.74271790318}\n"
          ]
        },
        {
          "output_type": "stream",
          "name": "stderr",
          "text": [
            "\r 19%|█▉        | 19/100 [05:20<25:09, 18.64s/it]"
          ]
        },
        {
          "output_type": "stream",
          "name": "stdout",
          "text": [
            "{'ner': 5710.937301048749}\n"
          ]
        },
        {
          "output_type": "stream",
          "name": "stderr",
          "text": [
            "\r 20%|██        | 20/100 [05:39<25:05, 18.82s/it]"
          ]
        },
        {
          "output_type": "stream",
          "name": "stdout",
          "text": [
            "{'ner': 5683.171084643929}\n"
          ]
        },
        {
          "output_type": "stream",
          "name": "stderr",
          "text": [
            "\r 21%|██        | 21/100 [05:58<24:38, 18.71s/it]"
          ]
        },
        {
          "output_type": "stream",
          "name": "stdout",
          "text": [
            "{'ner': 5580.032445502155}\n"
          ]
        },
        {
          "output_type": "stream",
          "name": "stderr",
          "text": [
            "\r 22%|██▏       | 22/100 [06:17<24:23, 18.76s/it]"
          ]
        },
        {
          "output_type": "stream",
          "name": "stdout",
          "text": [
            "{'ner': 5335.919100421727}\n"
          ]
        },
        {
          "output_type": "stream",
          "name": "stderr",
          "text": [
            "\r 23%|██▎       | 23/100 [06:37<24:55, 19.42s/it]"
          ]
        },
        {
          "output_type": "stream",
          "name": "stdout",
          "text": [
            "{'ner': 5290.000881529184}\n"
          ]
        },
        {
          "output_type": "stream",
          "name": "stderr",
          "text": [
            "\r 24%|██▍       | 24/100 [06:57<24:32, 19.38s/it]"
          ]
        },
        {
          "output_type": "stream",
          "name": "stdout",
          "text": [
            "{'ner': 5167.36757169958}\n"
          ]
        },
        {
          "output_type": "stream",
          "name": "stderr",
          "text": [
            "\r 25%|██▌       | 25/100 [07:15<23:49, 19.06s/it]"
          ]
        },
        {
          "output_type": "stream",
          "name": "stdout",
          "text": [
            "{'ner': 5038.781813380684}\n"
          ]
        },
        {
          "output_type": "stream",
          "name": "stderr",
          "text": [
            "\r 26%|██▌       | 26/100 [07:33<23:05, 18.72s/it]"
          ]
        },
        {
          "output_type": "stream",
          "name": "stdout",
          "text": [
            "{'ner': 4999.645763569434}\n"
          ]
        },
        {
          "output_type": "stream",
          "name": "stderr",
          "text": [
            "\r 27%|██▋       | 27/100 [07:49<21:55, 18.02s/it]"
          ]
        },
        {
          "output_type": "stream",
          "name": "stdout",
          "text": [
            "{'ner': 4780.183950950817}\n"
          ]
        },
        {
          "output_type": "stream",
          "name": "stderr",
          "text": [
            "\r 28%|██▊       | 28/100 [08:06<21:07, 17.60s/it]"
          ]
        },
        {
          "output_type": "stream",
          "name": "stdout",
          "text": [
            "{'ner': 4818.799800917473}\n"
          ]
        },
        {
          "output_type": "stream",
          "name": "stderr",
          "text": [
            "\r 29%|██▉       | 29/100 [08:22<20:23, 17.23s/it]"
          ]
        },
        {
          "output_type": "stream",
          "name": "stdout",
          "text": [
            "{'ner': 4632.914646228562}\n"
          ]
        },
        {
          "output_type": "stream",
          "name": "stderr",
          "text": [
            "\r 30%|███       | 30/100 [08:39<19:48, 16.98s/it]"
          ]
        },
        {
          "output_type": "stream",
          "name": "stdout",
          "text": [
            "{'ner': 4516.395301487927}\n"
          ]
        },
        {
          "output_type": "stream",
          "name": "stderr",
          "text": [
            "\r 31%|███       | 31/100 [08:55<19:14, 16.73s/it]"
          ]
        },
        {
          "output_type": "stream",
          "name": "stdout",
          "text": [
            "{'ner': 4386.450435620206}\n"
          ]
        },
        {
          "output_type": "stream",
          "name": "stderr",
          "text": [
            "\r 32%|███▏      | 32/100 [09:12<18:58, 16.75s/it]"
          ]
        },
        {
          "output_type": "stream",
          "name": "stdout",
          "text": [
            "{'ner': 4380.496251935321}\n"
          ]
        },
        {
          "output_type": "stream",
          "name": "stderr",
          "text": [
            "\r 33%|███▎      | 33/100 [09:29<18:49, 16.86s/it]"
          ]
        },
        {
          "output_type": "stream",
          "name": "stdout",
          "text": [
            "{'ner': 4181.121142678985}\n"
          ]
        },
        {
          "output_type": "stream",
          "name": "stderr",
          "text": [
            "\r 34%|███▍      | 34/100 [09:46<18:29, 16.81s/it]"
          ]
        },
        {
          "output_type": "stream",
          "name": "stdout",
          "text": [
            "{'ner': 4254.042523381158}\n"
          ]
        },
        {
          "output_type": "stream",
          "name": "stderr",
          "text": [
            "\r 35%|███▌      | 35/100 [10:04<18:36, 17.17s/it]"
          ]
        },
        {
          "output_type": "stream",
          "name": "stdout",
          "text": [
            "{'ner': 4101.262577342928}\n"
          ]
        },
        {
          "output_type": "stream",
          "name": "stderr",
          "text": [
            "\r 36%|███▌      | 36/100 [10:20<17:56, 16.83s/it]"
          ]
        },
        {
          "output_type": "stream",
          "name": "stdout",
          "text": [
            "{'ner': 4059.0670434710682}\n"
          ]
        },
        {
          "output_type": "stream",
          "name": "stderr",
          "text": [
            "\r 37%|███▋      | 37/100 [10:36<17:34, 16.73s/it]"
          ]
        },
        {
          "output_type": "stream",
          "name": "stdout",
          "text": [
            "{'ner': 3965.982366298762}\n"
          ]
        },
        {
          "output_type": "stream",
          "name": "stderr",
          "text": [
            "\r 38%|███▊      | 38/100 [10:52<17:10, 16.62s/it]"
          ]
        },
        {
          "output_type": "stream",
          "name": "stdout",
          "text": [
            "{'ner': 3838.7262611308292}\n"
          ]
        },
        {
          "output_type": "stream",
          "name": "stderr",
          "text": [
            "\r 39%|███▉      | 39/100 [11:09<16:47, 16.51s/it]"
          ]
        },
        {
          "output_type": "stream",
          "name": "stdout",
          "text": [
            "{'ner': 3822.8556346724718}\n"
          ]
        },
        {
          "output_type": "stream",
          "name": "stderr",
          "text": [
            "\r 40%|████      | 40/100 [11:25<16:22, 16.37s/it]"
          ]
        },
        {
          "output_type": "stream",
          "name": "stdout",
          "text": [
            "{'ner': 3698.9904657212714}\n"
          ]
        },
        {
          "output_type": "stream",
          "name": "stderr",
          "text": [
            "\r 41%|████      | 41/100 [11:41<16:01, 16.30s/it]"
          ]
        },
        {
          "output_type": "stream",
          "name": "stdout",
          "text": [
            "{'ner': 3703.959883670631}\n"
          ]
        },
        {
          "output_type": "stream",
          "name": "stderr",
          "text": [
            "\r 42%|████▏     | 42/100 [11:57<15:42, 16.25s/it]"
          ]
        },
        {
          "output_type": "stream",
          "name": "stdout",
          "text": [
            "{'ner': 3662.5623337930665}\n"
          ]
        },
        {
          "output_type": "stream",
          "name": "stderr",
          "text": [
            "\r 43%|████▎     | 43/100 [12:13<15:26, 16.26s/it]"
          ]
        },
        {
          "output_type": "stream",
          "name": "stdout",
          "text": [
            "{'ner': 3501.58268726489}\n"
          ]
        },
        {
          "output_type": "stream",
          "name": "stderr",
          "text": [
            "\r 44%|████▍     | 44/100 [12:30<15:10, 16.25s/it]"
          ]
        },
        {
          "output_type": "stream",
          "name": "stdout",
          "text": [
            "{'ner': 3530.7684455866747}\n"
          ]
        },
        {
          "output_type": "stream",
          "name": "stderr",
          "text": [
            "\r 45%|████▌     | 45/100 [12:46<14:57, 16.32s/it]"
          ]
        },
        {
          "output_type": "stream",
          "name": "stdout",
          "text": [
            "{'ner': 3397.9012338941857}\n"
          ]
        },
        {
          "output_type": "stream",
          "name": "stderr",
          "text": [
            "\r 46%|████▌     | 46/100 [13:02<14:38, 16.27s/it]"
          ]
        },
        {
          "output_type": "stream",
          "name": "stdout",
          "text": [
            "{'ner': 3339.029720069233}\n"
          ]
        },
        {
          "output_type": "stream",
          "name": "stderr",
          "text": [
            "\r 47%|████▋     | 47/100 [13:18<14:19, 16.22s/it]"
          ]
        },
        {
          "output_type": "stream",
          "name": "stdout",
          "text": [
            "{'ner': 3267.2256675814956}\n"
          ]
        },
        {
          "output_type": "stream",
          "name": "stderr",
          "text": [
            "\r 48%|████▊     | 48/100 [13:36<14:31, 16.76s/it]"
          ]
        },
        {
          "output_type": "stream",
          "name": "stdout",
          "text": [
            "{'ner': 3182.2198190878967}\n"
          ]
        },
        {
          "output_type": "stream",
          "name": "stderr",
          "text": [
            "\r 49%|████▉     | 49/100 [13:53<14:07, 16.62s/it]"
          ]
        },
        {
          "output_type": "stream",
          "name": "stdout",
          "text": [
            "{'ner': 3138.0403892050417}\n"
          ]
        },
        {
          "output_type": "stream",
          "name": "stderr",
          "text": [
            "\r 50%|█████     | 50/100 [14:10<13:57, 16.76s/it]"
          ]
        },
        {
          "output_type": "stream",
          "name": "stdout",
          "text": [
            "{'ner': 3204.458767186289}\n"
          ]
        },
        {
          "output_type": "stream",
          "name": "stderr",
          "text": [
            "\r 51%|█████     | 51/100 [14:26<13:39, 16.72s/it]"
          ]
        },
        {
          "output_type": "stream",
          "name": "stdout",
          "text": [
            "{'ner': 3010.1627741527177}\n"
          ]
        },
        {
          "output_type": "stream",
          "name": "stderr",
          "text": [
            "\r 52%|█████▏    | 52/100 [14:42<13:13, 16.53s/it]"
          ]
        },
        {
          "output_type": "stream",
          "name": "stdout",
          "text": [
            "{'ner': 3042.4042806585103}\n"
          ]
        },
        {
          "output_type": "stream",
          "name": "stderr",
          "text": [
            "\r 53%|█████▎    | 53/100 [14:59<12:54, 16.49s/it]"
          ]
        },
        {
          "output_type": "stream",
          "name": "stdout",
          "text": [
            "{'ner': 2967.4943622170304}\n"
          ]
        },
        {
          "output_type": "stream",
          "name": "stderr",
          "text": [
            "\r 54%|█████▍    | 54/100 [15:15<12:30, 16.31s/it]"
          ]
        },
        {
          "output_type": "stream",
          "name": "stdout",
          "text": [
            "{'ner': 2885.0816615352614}\n"
          ]
        },
        {
          "output_type": "stream",
          "name": "stderr",
          "text": [
            "\r 55%|█████▌    | 55/100 [15:31<12:09, 16.22s/it]"
          ]
        },
        {
          "output_type": "stream",
          "name": "stdout",
          "text": [
            "{'ner': 2877.862588390659}\n"
          ]
        },
        {
          "output_type": "stream",
          "name": "stderr",
          "text": [
            "\r 56%|█████▌    | 56/100 [15:47<11:49, 16.14s/it]"
          ]
        },
        {
          "output_type": "stream",
          "name": "stdout",
          "text": [
            "{'ner': 2761.1058722572056}\n"
          ]
        },
        {
          "output_type": "stream",
          "name": "stderr",
          "text": [
            "\r 57%|█████▋    | 57/100 [16:03<11:41, 16.32s/it]"
          ]
        },
        {
          "output_type": "stream",
          "name": "stdout",
          "text": [
            "{'ner': 2801.7863697692114}\n"
          ]
        },
        {
          "output_type": "stream",
          "name": "stderr",
          "text": [
            "\r 58%|█████▊    | 58/100 [16:19<11:22, 16.25s/it]"
          ]
        },
        {
          "output_type": "stream",
          "name": "stdout",
          "text": [
            "{'ner': 2833.9641898163222}\n"
          ]
        },
        {
          "output_type": "stream",
          "name": "stderr",
          "text": [
            "\r 59%|█████▉    | 59/100 [16:36<11:06, 16.24s/it]"
          ]
        },
        {
          "output_type": "stream",
          "name": "stdout",
          "text": [
            "{'ner': 2691.1416370929046}\n"
          ]
        },
        {
          "output_type": "stream",
          "name": "stderr",
          "text": [
            "\r 60%|██████    | 60/100 [16:52<10:45, 16.13s/it]"
          ]
        },
        {
          "output_type": "stream",
          "name": "stdout",
          "text": [
            "{'ner': 2713.188705857823}\n"
          ]
        },
        {
          "output_type": "stream",
          "name": "stderr",
          "text": [
            "\r 61%|██████    | 61/100 [17:11<11:02, 16.99s/it]"
          ]
        },
        {
          "output_type": "stream",
          "name": "stdout",
          "text": [
            "{'ner': 2577.4556291937597}\n"
          ]
        },
        {
          "output_type": "stream",
          "name": "stderr",
          "text": [
            "\r 62%|██████▏   | 62/100 [17:29<10:58, 17.33s/it]"
          ]
        },
        {
          "output_type": "stream",
          "name": "stdout",
          "text": [
            "{'ner': 2494.2796344045514}\n"
          ]
        },
        {
          "output_type": "stream",
          "name": "stderr",
          "text": [
            "\r 63%|██████▎   | 63/100 [17:46<10:43, 17.40s/it]"
          ]
        },
        {
          "output_type": "stream",
          "name": "stdout",
          "text": [
            "{'ner': 2473.6649574913977}\n"
          ]
        },
        {
          "output_type": "stream",
          "name": "stderr",
          "text": [
            "\r 64%|██████▍   | 64/100 [18:03<10:23, 17.31s/it]"
          ]
        },
        {
          "output_type": "stream",
          "name": "stdout",
          "text": [
            "{'ner': 2481.4045945148005}\n"
          ]
        },
        {
          "output_type": "stream",
          "name": "stderr",
          "text": [
            "\r 65%|██████▌   | 65/100 [18:19<09:53, 16.95s/it]"
          ]
        },
        {
          "output_type": "stream",
          "name": "stdout",
          "text": [
            "{'ner': 2400.867391027567}\n"
          ]
        },
        {
          "output_type": "stream",
          "name": "stderr",
          "text": [
            "\r 66%|██████▌   | 66/100 [18:36<09:32, 16.85s/it]"
          ]
        },
        {
          "output_type": "stream",
          "name": "stdout",
          "text": [
            "{'ner': 2454.4350803764855}\n"
          ]
        },
        {
          "output_type": "stream",
          "name": "stderr",
          "text": [
            "\r 67%|██████▋   | 67/100 [18:52<09:06, 16.55s/it]"
          ]
        },
        {
          "output_type": "stream",
          "name": "stdout",
          "text": [
            "{'ner': 2446.960066438877}\n"
          ]
        },
        {
          "output_type": "stream",
          "name": "stderr",
          "text": [
            "\r 68%|██████▊   | 68/100 [19:08<08:48, 16.53s/it]"
          ]
        },
        {
          "output_type": "stream",
          "name": "stdout",
          "text": [
            "{'ner': 2370.7036325232643}\n"
          ]
        },
        {
          "output_type": "stream",
          "name": "stderr",
          "text": [
            "\r 69%|██████▉   | 69/100 [19:26<08:38, 16.72s/it]"
          ]
        },
        {
          "output_type": "stream",
          "name": "stdout",
          "text": [
            "{'ner': 2273.283984287391}\n"
          ]
        },
        {
          "output_type": "stream",
          "name": "stderr",
          "text": [
            "\r 70%|███████   | 70/100 [19:43<08:30, 17.02s/it]"
          ]
        },
        {
          "output_type": "stream",
          "name": "stdout",
          "text": [
            "{'ner': 2279.3197316869346}\n"
          ]
        },
        {
          "output_type": "stream",
          "name": "stderr",
          "text": [
            "\r 71%|███████   | 71/100 [20:01<08:16, 17.14s/it]"
          ]
        },
        {
          "output_type": "stream",
          "name": "stdout",
          "text": [
            "{'ner': 2314.730306599568}\n"
          ]
        },
        {
          "output_type": "stream",
          "name": "stderr",
          "text": [
            "\r 72%|███████▏  | 72/100 [20:17<07:53, 16.92s/it]"
          ]
        },
        {
          "output_type": "stream",
          "name": "stdout",
          "text": [
            "{'ner': 2192.7055282702195}\n"
          ]
        },
        {
          "output_type": "stream",
          "name": "stderr",
          "text": [
            "\r 73%|███████▎  | 73/100 [20:35<07:47, 17.32s/it]"
          ]
        },
        {
          "output_type": "stream",
          "name": "stdout",
          "text": [
            "{'ner': 2135.2256719406464}\n"
          ]
        },
        {
          "output_type": "stream",
          "name": "stderr",
          "text": [
            "\r 74%|███████▍  | 74/100 [20:51<07:20, 16.96s/it]"
          ]
        },
        {
          "output_type": "stream",
          "name": "stdout",
          "text": [
            "{'ner': 2232.90040673649}\n"
          ]
        },
        {
          "output_type": "stream",
          "name": "stderr",
          "text": [
            "\r 75%|███████▌  | 75/100 [21:08<07:00, 16.81s/it]"
          ]
        },
        {
          "output_type": "stream",
          "name": "stdout",
          "text": [
            "{'ner': 2122.35346084472}\n"
          ]
        },
        {
          "output_type": "stream",
          "name": "stderr",
          "text": [
            "\r 76%|███████▌  | 76/100 [21:24<06:35, 16.48s/it]"
          ]
        },
        {
          "output_type": "stream",
          "name": "stdout",
          "text": [
            "{'ner': 2168.650309554888}\n"
          ]
        },
        {
          "output_type": "stream",
          "name": "stderr",
          "text": [
            "\r 77%|███████▋  | 77/100 [21:40<06:16, 16.38s/it]"
          ]
        },
        {
          "output_type": "stream",
          "name": "stdout",
          "text": [
            "{'ner': 2162.138184017812}\n"
          ]
        },
        {
          "output_type": "stream",
          "name": "stderr",
          "text": [
            "\r 78%|███████▊  | 78/100 [21:55<05:55, 16.15s/it]"
          ]
        },
        {
          "output_type": "stream",
          "name": "stdout",
          "text": [
            "{'ner': 2021.4856203337354}\n"
          ]
        },
        {
          "output_type": "stream",
          "name": "stderr",
          "text": [
            "\r 79%|███████▉  | 79/100 [22:11<05:36, 16.02s/it]"
          ]
        },
        {
          "output_type": "stream",
          "name": "stdout",
          "text": [
            "{'ner': 2057.128198325403}\n"
          ]
        },
        {
          "output_type": "stream",
          "name": "stderr",
          "text": [
            "\r 80%|████████  | 80/100 [22:27<05:17, 15.88s/it]"
          ]
        },
        {
          "output_type": "stream",
          "name": "stdout",
          "text": [
            "{'ner': 1924.7195563056364}\n"
          ]
        },
        {
          "output_type": "stream",
          "name": "stderr",
          "text": [
            "\r 81%|████████  | 81/100 [22:43<05:03, 15.96s/it]"
          ]
        },
        {
          "output_type": "stream",
          "name": "stdout",
          "text": [
            "{'ner': 2063.12800544545}\n"
          ]
        },
        {
          "output_type": "stream",
          "name": "stderr",
          "text": [
            "\r 82%|████████▏ | 82/100 [22:58<04:45, 15.86s/it]"
          ]
        },
        {
          "output_type": "stream",
          "name": "stdout",
          "text": [
            "{'ner': 1982.5031562160004}\n"
          ]
        },
        {
          "output_type": "stream",
          "name": "stderr",
          "text": [
            "\r 83%|████████▎ | 83/100 [23:14<04:30, 15.89s/it]"
          ]
        },
        {
          "output_type": "stream",
          "name": "stdout",
          "text": [
            "{'ner': 1900.3900611713523}\n"
          ]
        },
        {
          "output_type": "stream",
          "name": "stderr",
          "text": [
            "\r 84%|████████▍ | 84/100 [23:31<04:17, 16.09s/it]"
          ]
        },
        {
          "output_type": "stream",
          "name": "stdout",
          "text": [
            "{'ner': 1852.50872010021}\n"
          ]
        },
        {
          "output_type": "stream",
          "name": "stderr",
          "text": [
            "\r 85%|████████▌ | 85/100 [23:48<04:05, 16.37s/it]"
          ]
        },
        {
          "output_type": "stream",
          "name": "stdout",
          "text": [
            "{'ner': 1915.003724283764}\n"
          ]
        },
        {
          "output_type": "stream",
          "name": "stderr",
          "text": [
            "\r 86%|████████▌ | 86/100 [24:05<03:52, 16.58s/it]"
          ]
        },
        {
          "output_type": "stream",
          "name": "stdout",
          "text": [
            "{'ner': 1928.8566673990456}\n"
          ]
        },
        {
          "output_type": "stream",
          "name": "stderr",
          "text": [
            "\r 87%|████████▋ | 87/100 [24:21<03:34, 16.50s/it]"
          ]
        },
        {
          "output_type": "stream",
          "name": "stdout",
          "text": [
            "{'ner': 1830.7507238859712}\n"
          ]
        },
        {
          "output_type": "stream",
          "name": "stderr",
          "text": [
            "\r 88%|████████▊ | 88/100 [24:37<03:16, 16.36s/it]"
          ]
        },
        {
          "output_type": "stream",
          "name": "stdout",
          "text": [
            "{'ner': 1799.061135690831}\n"
          ]
        },
        {
          "output_type": "stream",
          "name": "stderr",
          "text": [
            "\r 89%|████████▉ | 89/100 [24:55<03:04, 16.76s/it]"
          ]
        },
        {
          "output_type": "stream",
          "name": "stdout",
          "text": [
            "{'ner': 1704.9020712335036}\n"
          ]
        },
        {
          "output_type": "stream",
          "name": "stderr",
          "text": [
            "\r 90%|█████████ | 90/100 [25:14<02:54, 17.43s/it]"
          ]
        },
        {
          "output_type": "stream",
          "name": "stdout",
          "text": [
            "{'ner': 1754.3770670793258}\n"
          ]
        },
        {
          "output_type": "stream",
          "name": "stderr",
          "text": [
            "\r 91%|█████████ | 91/100 [25:33<02:41, 17.89s/it]"
          ]
        },
        {
          "output_type": "stream",
          "name": "stdout",
          "text": [
            "{'ner': 1808.0215677114738}\n"
          ]
        },
        {
          "output_type": "stream",
          "name": "stderr",
          "text": [
            "\r 92%|█████████▏| 92/100 [25:52<02:24, 18.12s/it]"
          ]
        },
        {
          "output_type": "stream",
          "name": "stdout",
          "text": [
            "{'ner': 1708.316405251117}\n"
          ]
        },
        {
          "output_type": "stream",
          "name": "stderr",
          "text": [
            "\r 93%|█████████▎| 93/100 [26:11<02:09, 18.48s/it]"
          ]
        },
        {
          "output_type": "stream",
          "name": "stdout",
          "text": [
            "{'ner': 1664.4395507273719}\n"
          ]
        },
        {
          "output_type": "stream",
          "name": "stderr",
          "text": [
            "\r 94%|█████████▍| 94/100 [26:30<01:51, 18.60s/it]"
          ]
        },
        {
          "output_type": "stream",
          "name": "stdout",
          "text": [
            "{'ner': 1845.9692865846016}\n"
          ]
        },
        {
          "output_type": "stream",
          "name": "stderr",
          "text": [
            "\r 95%|█████████▌| 95/100 [26:50<01:35, 19.08s/it]"
          ]
        },
        {
          "output_type": "stream",
          "name": "stdout",
          "text": [
            "{'ner': 1706.8385138299054}\n"
          ]
        },
        {
          "output_type": "stream",
          "name": "stderr",
          "text": [
            "\r 96%|█████████▌| 96/100 [27:08<01:14, 18.65s/it]"
          ]
        },
        {
          "output_type": "stream",
          "name": "stdout",
          "text": [
            "{'ner': 1643.5826812237726}\n"
          ]
        },
        {
          "output_type": "stream",
          "name": "stderr",
          "text": [
            "\r 97%|█████████▋| 97/100 [27:25<00:54, 18.23s/it]"
          ]
        },
        {
          "output_type": "stream",
          "name": "stdout",
          "text": [
            "{'ner': 1675.974234394793}\n"
          ]
        },
        {
          "output_type": "stream",
          "name": "stderr",
          "text": [
            "\r 98%|█████████▊| 98/100 [27:43<00:36, 18.30s/it]"
          ]
        },
        {
          "output_type": "stream",
          "name": "stdout",
          "text": [
            "{'ner': 1647.083512233179}\n"
          ]
        },
        {
          "output_type": "stream",
          "name": "stderr",
          "text": [
            "\r 99%|█████████▉| 99/100 [28:00<00:17, 17.90s/it]"
          ]
        },
        {
          "output_type": "stream",
          "name": "stdout",
          "text": [
            "{'ner': 1644.4588730113019}\n"
          ]
        },
        {
          "output_type": "stream",
          "name": "stderr",
          "text": [
            "100%|██████████| 100/100 [28:17<00:00, 16.97s/it]"
          ]
        },
        {
          "output_type": "stream",
          "name": "stdout",
          "text": [
            "{'ner': 1603.670458810325}\n"
          ]
        },
        {
          "output_type": "stream",
          "name": "stderr",
          "text": [
            "\n"
          ]
        }
      ],
      "source": [
        "import warnings\n",
        "warnings.filterwarnings('ignore')\n",
        "from spacy.training.example import Example\n",
        "from spacy.util import minibatch\n",
        "for _, annotations in train_ner_neg:\n",
        "    for ent in annotations.get('entities'):\n",
        "        ner.add_label(ent[2])\n",
        "\n",
        "n_iter=100\n",
        "other_pipes = [pipe for pipe in nlp_neg.pipe_names if pipe != 'ner']\n",
        "with nlp_neg.disable_pipes(*other_pipes):  # only train NER\n",
        "    optimizer = nlp_neg.begin_training()\n",
        "    example=[]\n",
        "    for text, annotations in tqdm(train_ner_neg):\n",
        "        doc = nlp_neg.make_doc(text)\n",
        "        example.append(Example.from_dict(doc, annotations))\n",
        "    nlp_neg.initialize(lambda: example)\n",
        "    for i in tqdm(range(n_iter)):\n",
        "        losses={}\n",
        "        random.shuffle(example)\n",
        "        for batch in minibatch(example, size=128):\n",
        "            nlp_neg.update(batch,drop=0.2,  \n",
        "                      losses=losses)\n",
        "        print(losses)"
      ]
    },
    {
      "cell_type": "code",
      "execution_count": null,
      "metadata": {
        "colab": {
          "base_uri": "https://localhost:8080/"
        },
        "id": "lHOKpynao8uQ",
        "outputId": "c3accb57-3eee-459a-eceb-6335f7377bc4"
      },
      "outputs": [
        {
          "output_type": "stream",
          "name": "stdout",
          "text": [
            "Saved model to /content/drive/MyDrive/case_study_2_new/ner_model/negative_model_rev_new\n"
          ]
        }
      ],
      "source": [
        "output_dir='/content/drive/MyDrive/case_study_2_new/ner_model/negative_model_rev_new'\n",
        "if output_dir is not None:\n",
        "    output_dir = Path(output_dir)\n",
        "    if not output_dir.exists():\n",
        "        output_dir.mkdir()\n",
        "    nlp_neg.to_disk(output_dir)\n",
        "    print(\"Saved model to\", output_dir)"
      ]
    },
    {
      "cell_type": "markdown",
      "source": [
        "####For neutral####"
      ],
      "metadata": {
        "id": "LCPN2lgq1Eni"
      }
    },
    {
      "cell_type": "code",
      "source": [
        "train_ner_neut=[]\n",
        "for i in range(len(neutral_data)):\n",
        "    start_index=neutral_data.iloc[i]['text'].find(neutral_data.iloc[i]['selected_text'])\n",
        "    end_index=start_index+len(neutral_data.iloc[i]['selected_text'])\n",
        "    train_dt=(neutral_data.iloc[i]['text'],              \n",
        "              {'entities':[[start_index,end_index,'ST']]})  \n",
        "    train_ner_neut.append(train_dt)\n",
        "\n",
        "test_ner_neut=[]\n",
        "for i in range(len(neutral_data_test)):\n",
        "    start_index=neutral_data_test.iloc[i]['text'].find(neutral_data_test.iloc[i]['selected_text'])\n",
        "    end_index=start_index+len(neutral_data_test.iloc[i]['selected_text'])\n",
        "    test_dt=(neutral_data_test.iloc[i]['text'],              \n",
        "              {'entities':[[start_index,end_index,'ST']]})  \n",
        "    test_ner_neut.append(test_dt)"
      ],
      "metadata": {
        "id": "zvjzsDQxyDku"
      },
      "execution_count": null,
      "outputs": []
    },
    {
      "cell_type": "code",
      "source": [
        "print('Sample data:')\n",
        "for i in range(5):\n",
        "  print(train_ner_neut[i])"
      ],
      "metadata": {
        "colab": {
          "base_uri": "https://localhost:8080/"
        },
        "id": "_AHc5oVxzf2H",
        "outputId": "06faeef6-ce0e-4a42-e4fa-95827dccabbd"
      },
      "execution_count": null,
      "outputs": [
        {
          "output_type": "stream",
          "name": "stdout",
          "text": [
            "Sample data:\n",
            "(' Press `Ctrl` on bottom right. It`s there.  KY', {'entities': [[1, 46, 'ST']]})\n",
            "(' I do that all the time', {'entities': [[1, 23, 'ST']]})\n",
            "('getttin ready.', {'entities': [[0, 14, 'ST']]})\n",
            "('working until10', {'entities': [[0, 15, 'ST']]})\n",
            "(' Happy Birthday Mel. We miss you in the UK', {'entities': [[1, 42, 'ST']]})\n"
          ]
        }
      ]
    },
    {
      "cell_type": "code",
      "source": [
        "model = None\n",
        "if model is not None:\n",
        "    nlp_neut = spacy.load(model)  \n",
        "    print(\"Loaded model '%s'\" % model)\n",
        "else:\n",
        "    nlp_neut = spacy.blank('en')  \n",
        "    print(\"Created blank 'en' model\")\n",
        "\n",
        "#set up the pipeline\n",
        "\n",
        "if 'ner' not in nlp_neut.pipe_names:\n",
        "    ner = nlp_neut.add_pipe('ner')\n",
        "else:\n",
        "    ner = nlp_neut.get_pipe('ner')"
      ],
      "metadata": {
        "colab": {
          "base_uri": "https://localhost:8080/"
        },
        "id": "-E0ChUVJzwk3",
        "outputId": "5229e425-d2cd-409d-e8d8-3fa97abbc97e"
      },
      "execution_count": null,
      "outputs": [
        {
          "output_type": "stream",
          "name": "stdout",
          "text": [
            "Created blank 'en' model\n"
          ]
        }
      ]
    },
    {
      "cell_type": "code",
      "source": [
        "import warnings\n",
        "warnings.filterwarnings('ignore')\n",
        "from spacy.training.example import Example\n",
        "from spacy.util import minibatch\n",
        "for _, annotations in train_ner_neut:\n",
        "    for ent in annotations.get('entities'):\n",
        "        ner.add_label(ent[2])\n",
        "\n",
        "n_iter=100\n",
        "other_pipes = [pipe for pipe in nlp_neut.pipe_names if pipe != 'ner']\n",
        "with nlp_neut.disable_pipes(*other_pipes):  # only train NER\n",
        "    optimizer = nlp_neut.begin_training()\n",
        "    example=[]\n",
        "    for text, annotations in tqdm(train_ner_neut):\n",
        "        doc = nlp_neut.make_doc(text)\n",
        "        example.append(Example.from_dict(doc, annotations))\n",
        "    nlp_neut.initialize(lambda: example)\n",
        "    for i in tqdm(range(n_iter)):\n",
        "        losses={}\n",
        "        random.shuffle(example)\n",
        "        for batch in minibatch(example, size=128):\n",
        "            nlp_neut.update(batch,drop=0.2,  \n",
        "                      losses=losses)\n",
        "        print(losses)"
      ],
      "metadata": {
        "colab": {
          "base_uri": "https://localhost:8080/"
        },
        "id": "rStVcx-80C-x",
        "outputId": "e47683e3-4f0b-46a7-e90b-31a93efcfcfa"
      },
      "execution_count": null,
      "outputs": [
        {
          "output_type": "stream",
          "name": "stderr",
          "text": [
            "100%|██████████| 8894/8894 [00:03<00:00, 2664.99it/s]\n",
            "  1%|          | 1/100 [00:21<35:30, 21.52s/it]"
          ]
        },
        {
          "output_type": "stream",
          "name": "stdout",
          "text": [
            "{'ner': 19236.941743615633}\n"
          ]
        },
        {
          "output_type": "stream",
          "name": "stderr",
          "text": [
            "\r  2%|▏         | 2/100 [00:46<38:47, 23.75s/it]"
          ]
        },
        {
          "output_type": "stream",
          "name": "stdout",
          "text": [
            "{'ner': 2121.9747692270084}\n"
          ]
        },
        {
          "output_type": "stream",
          "name": "stderr",
          "text": [
            "\r  3%|▎         | 3/100 [01:08<36:57, 22.86s/it]"
          ]
        },
        {
          "output_type": "stream",
          "name": "stdout",
          "text": [
            "{'ner': 1942.1589478169858}\n"
          ]
        },
        {
          "output_type": "stream",
          "name": "stderr",
          "text": [
            "\r  4%|▍         | 4/100 [01:30<35:41, 22.31s/it]"
          ]
        },
        {
          "output_type": "stream",
          "name": "stdout",
          "text": [
            "{'ner': 1698.7808745033087}\n"
          ]
        },
        {
          "output_type": "stream",
          "name": "stderr",
          "text": [
            "\r  5%|▌         | 5/100 [01:54<36:37, 23.13s/it]"
          ]
        },
        {
          "output_type": "stream",
          "name": "stdout",
          "text": [
            "{'ner': 1467.354088125585}\n"
          ]
        },
        {
          "output_type": "stream",
          "name": "stderr",
          "text": [
            "\r  6%|▌         | 6/100 [02:19<36:53, 23.55s/it]"
          ]
        },
        {
          "output_type": "stream",
          "name": "stdout",
          "text": [
            "{'ner': 1337.2704847799957}\n"
          ]
        },
        {
          "output_type": "stream",
          "name": "stderr",
          "text": [
            "\r  7%|▋         | 7/100 [02:41<36:07, 23.31s/it]"
          ]
        },
        {
          "output_type": "stream",
          "name": "stdout",
          "text": [
            "{'ner': 1160.7187311495395}\n"
          ]
        },
        {
          "output_type": "stream",
          "name": "stderr",
          "text": [
            "\r  8%|▊         | 8/100 [03:07<36:45, 23.97s/it]"
          ]
        },
        {
          "output_type": "stream",
          "name": "stdout",
          "text": [
            "{'ner': 1094.1527351091604}\n"
          ]
        },
        {
          "output_type": "stream",
          "name": "stderr",
          "text": [
            "\r  9%|▉         | 9/100 [03:30<36:06, 23.81s/it]"
          ]
        },
        {
          "output_type": "stream",
          "name": "stdout",
          "text": [
            "{'ner': 1027.9438767218676}\n"
          ]
        },
        {
          "output_type": "stream",
          "name": "stderr",
          "text": [
            "\r 10%|█         | 10/100 [03:52<34:33, 23.04s/it]"
          ]
        },
        {
          "output_type": "stream",
          "name": "stdout",
          "text": [
            "{'ner': 928.8017766627911}\n"
          ]
        },
        {
          "output_type": "stream",
          "name": "stderr",
          "text": [
            "\r 11%|█         | 11/100 [04:13<33:15, 22.42s/it]"
          ]
        },
        {
          "output_type": "stream",
          "name": "stdout",
          "text": [
            "{'ner': 863.0804719818333}\n"
          ]
        },
        {
          "output_type": "stream",
          "name": "stderr",
          "text": [
            "\r 12%|█▏        | 12/100 [04:34<32:14, 21.98s/it]"
          ]
        },
        {
          "output_type": "stream",
          "name": "stdout",
          "text": [
            "{'ner': 820.2747223885248}\n"
          ]
        },
        {
          "output_type": "stream",
          "name": "stderr",
          "text": [
            "\r 13%|█▎        | 13/100 [04:55<31:49, 21.95s/it]"
          ]
        },
        {
          "output_type": "stream",
          "name": "stdout",
          "text": [
            "{'ner': 763.4412665265605}\n"
          ]
        },
        {
          "output_type": "stream",
          "name": "stderr",
          "text": [
            "\r 14%|█▍        | 14/100 [05:17<31:28, 21.96s/it]"
          ]
        },
        {
          "output_type": "stream",
          "name": "stdout",
          "text": [
            "{'ner': 730.5579006710328}\n"
          ]
        },
        {
          "output_type": "stream",
          "name": "stderr",
          "text": [
            "\r 15%|█▌        | 15/100 [05:39<30:48, 21.74s/it]"
          ]
        },
        {
          "output_type": "stream",
          "name": "stdout",
          "text": [
            "{'ner': 674.6403402359167}\n"
          ]
        },
        {
          "output_type": "stream",
          "name": "stderr",
          "text": [
            "\r 16%|█▌        | 16/100 [06:00<30:11, 21.57s/it]"
          ]
        },
        {
          "output_type": "stream",
          "name": "stdout",
          "text": [
            "{'ner': 592.6365276179044}\n"
          ]
        },
        {
          "output_type": "stream",
          "name": "stderr",
          "text": [
            "\r 17%|█▋        | 17/100 [06:21<29:41, 21.46s/it]"
          ]
        },
        {
          "output_type": "stream",
          "name": "stdout",
          "text": [
            "{'ner': 611.3631997748168}\n"
          ]
        },
        {
          "output_type": "stream",
          "name": "stderr",
          "text": [
            "\r 18%|█▊        | 18/100 [06:43<29:37, 21.67s/it]"
          ]
        },
        {
          "output_type": "stream",
          "name": "stdout",
          "text": [
            "{'ner': 536.8282336757578}\n"
          ]
        },
        {
          "output_type": "stream",
          "name": "stderr",
          "text": [
            "\r 19%|█▉        | 19/100 [07:06<29:38, 21.95s/it]"
          ]
        },
        {
          "output_type": "stream",
          "name": "stdout",
          "text": [
            "{'ner': 538.0539392786808}\n"
          ]
        },
        {
          "output_type": "stream",
          "name": "stderr",
          "text": [
            "\r 20%|██        | 20/100 [07:27<29:02, 21.78s/it]"
          ]
        },
        {
          "output_type": "stream",
          "name": "stdout",
          "text": [
            "{'ner': 502.52148261994165}\n"
          ]
        },
        {
          "output_type": "stream",
          "name": "stderr",
          "text": [
            "\r 21%|██        | 21/100 [07:49<28:47, 21.87s/it]"
          ]
        },
        {
          "output_type": "stream",
          "name": "stdout",
          "text": [
            "{'ner': 484.3024714912458}\n"
          ]
        },
        {
          "output_type": "stream",
          "name": "stderr",
          "text": [
            "\r 22%|██▏       | 22/100 [08:10<28:11, 21.69s/it]"
          ]
        },
        {
          "output_type": "stream",
          "name": "stdout",
          "text": [
            "{'ner': 455.5336896142729}\n"
          ]
        },
        {
          "output_type": "stream",
          "name": "stderr",
          "text": [
            "\r 23%|██▎       | 23/100 [08:32<27:45, 21.63s/it]"
          ]
        },
        {
          "output_type": "stream",
          "name": "stdout",
          "text": [
            "{'ner': 436.5271078732284}\n"
          ]
        },
        {
          "output_type": "stream",
          "name": "stderr",
          "text": [
            "\r 24%|██▍       | 24/100 [08:53<27:14, 21.51s/it]"
          ]
        },
        {
          "output_type": "stream",
          "name": "stdout",
          "text": [
            "{'ner': 415.12183272723706}\n"
          ]
        },
        {
          "output_type": "stream",
          "name": "stderr",
          "text": [
            "\r 25%|██▌       | 25/100 [09:14<26:45, 21.41s/it]"
          ]
        },
        {
          "output_type": "stream",
          "name": "stdout",
          "text": [
            "{'ner': 387.8633758225806}\n"
          ]
        },
        {
          "output_type": "stream",
          "name": "stderr",
          "text": [
            "\r 26%|██▌       | 26/100 [09:36<26:19, 21.35s/it]"
          ]
        },
        {
          "output_type": "stream",
          "name": "stdout",
          "text": [
            "{'ner': 393.5312987488997}\n"
          ]
        },
        {
          "output_type": "stream",
          "name": "stderr",
          "text": [
            "\r 27%|██▋       | 27/100 [09:57<26:04, 21.43s/it]"
          ]
        },
        {
          "output_type": "stream",
          "name": "stdout",
          "text": [
            "{'ner': 367.1624359945897}\n"
          ]
        },
        {
          "output_type": "stream",
          "name": "stderr",
          "text": [
            "\r 28%|██▊       | 28/100 [10:20<26:11, 21.83s/it]"
          ]
        },
        {
          "output_type": "stream",
          "name": "stdout",
          "text": [
            "{'ner': 343.8323840891271}\n"
          ]
        },
        {
          "output_type": "stream",
          "name": "stderr",
          "text": [
            "\r 29%|██▉       | 29/100 [10:41<25:36, 21.64s/it]"
          ]
        },
        {
          "output_type": "stream",
          "name": "stdout",
          "text": [
            "{'ner': 306.21247445158207}\n"
          ]
        },
        {
          "output_type": "stream",
          "name": "stderr",
          "text": [
            "\r 30%|███       | 30/100 [11:02<25:05, 21.51s/it]"
          ]
        },
        {
          "output_type": "stream",
          "name": "stdout",
          "text": [
            "{'ner': 370.4835745381221}\n"
          ]
        },
        {
          "output_type": "stream",
          "name": "stderr",
          "text": [
            "\r 31%|███       | 31/100 [11:24<24:37, 21.41s/it]"
          ]
        },
        {
          "output_type": "stream",
          "name": "stdout",
          "text": [
            "{'ner': 334.68848717948447}\n"
          ]
        },
        {
          "output_type": "stream",
          "name": "stderr",
          "text": [
            "\r 32%|███▏      | 32/100 [11:45<24:19, 21.47s/it]"
          ]
        },
        {
          "output_type": "stream",
          "name": "stdout",
          "text": [
            "{'ner': 324.26609294623927}\n"
          ]
        },
        {
          "output_type": "stream",
          "name": "stderr",
          "text": [
            "\r 33%|███▎      | 33/100 [12:06<23:52, 21.38s/it]"
          ]
        },
        {
          "output_type": "stream",
          "name": "stdout",
          "text": [
            "{'ner': 299.5894220690954}\n"
          ]
        },
        {
          "output_type": "stream",
          "name": "stderr",
          "text": [
            "\r 34%|███▍      | 34/100 [12:28<23:29, 21.36s/it]"
          ]
        },
        {
          "output_type": "stream",
          "name": "stdout",
          "text": [
            "{'ner': 311.8529244712174}\n"
          ]
        },
        {
          "output_type": "stream",
          "name": "stderr",
          "text": [
            "\r 35%|███▌      | 35/100 [12:49<23:10, 21.39s/it]"
          ]
        },
        {
          "output_type": "stream",
          "name": "stdout",
          "text": [
            "{'ner': 265.24194198907213}\n"
          ]
        },
        {
          "output_type": "stream",
          "name": "stderr",
          "text": [
            "\r 36%|███▌      | 36/100 [13:11<23:06, 21.66s/it]"
          ]
        },
        {
          "output_type": "stream",
          "name": "stdout",
          "text": [
            "{'ner': 297.55463482342833}\n"
          ]
        },
        {
          "output_type": "stream",
          "name": "stderr",
          "text": [
            "\r 37%|███▋      | 37/100 [13:35<23:14, 22.14s/it]"
          ]
        },
        {
          "output_type": "stream",
          "name": "stdout",
          "text": [
            "{'ner': 252.37937786268736}\n"
          ]
        },
        {
          "output_type": "stream",
          "name": "stderr",
          "text": [
            "\r 38%|███▊      | 38/100 [14:00<23:55, 23.16s/it]"
          ]
        },
        {
          "output_type": "stream",
          "name": "stdout",
          "text": [
            "{'ner': 284.5969078998097}\n"
          ]
        },
        {
          "output_type": "stream",
          "name": "stderr",
          "text": [
            "\r 39%|███▉      | 39/100 [14:25<23:55, 23.53s/it]"
          ]
        },
        {
          "output_type": "stream",
          "name": "stdout",
          "text": [
            "{'ner': 260.7100838814683}\n"
          ]
        },
        {
          "output_type": "stream",
          "name": "stderr",
          "text": [
            "\r 40%|████      | 40/100 [14:48<23:28, 23.47s/it]"
          ]
        },
        {
          "output_type": "stream",
          "name": "stdout",
          "text": [
            "{'ner': 251.2433369439099}\n"
          ]
        },
        {
          "output_type": "stream",
          "name": "stderr",
          "text": [
            "\r 41%|████      | 41/100 [15:11<22:52, 23.27s/it]"
          ]
        },
        {
          "output_type": "stream",
          "name": "stdout",
          "text": [
            "{'ner': 252.31922624891712}\n"
          ]
        },
        {
          "output_type": "stream",
          "name": "stderr",
          "text": [
            "\r 42%|████▏     | 42/100 [15:32<22:01, 22.79s/it]"
          ]
        },
        {
          "output_type": "stream",
          "name": "stdout",
          "text": [
            "{'ner': 264.80195539588516}\n"
          ]
        },
        {
          "output_type": "stream",
          "name": "stderr",
          "text": [
            "\r 43%|████▎     | 43/100 [15:53<21:09, 22.28s/it]"
          ]
        },
        {
          "output_type": "stream",
          "name": "stdout",
          "text": [
            "{'ner': 206.44842941536155}\n"
          ]
        },
        {
          "output_type": "stream",
          "name": "stderr",
          "text": [
            "\r 44%|████▍     | 44/100 [16:15<20:30, 21.98s/it]"
          ]
        },
        {
          "output_type": "stream",
          "name": "stdout",
          "text": [
            "{'ner': 224.52176720924876}\n"
          ]
        },
        {
          "output_type": "stream",
          "name": "stderr",
          "text": [
            "\r 45%|████▌     | 45/100 [16:36<19:53, 21.70s/it]"
          ]
        },
        {
          "output_type": "stream",
          "name": "stdout",
          "text": [
            "{'ner': 220.624756985761}\n"
          ]
        },
        {
          "output_type": "stream",
          "name": "stderr",
          "text": [
            "\r 46%|████▌     | 46/100 [16:57<19:26, 21.60s/it]"
          ]
        },
        {
          "output_type": "stream",
          "name": "stdout",
          "text": [
            "{'ner': 209.90540659004571}\n"
          ]
        },
        {
          "output_type": "stream",
          "name": "stderr",
          "text": [
            "\r 47%|████▋     | 47/100 [17:19<19:10, 21.71s/it]"
          ]
        },
        {
          "output_type": "stream",
          "name": "stdout",
          "text": [
            "{'ner': 230.5122495891006}\n"
          ]
        },
        {
          "output_type": "stream",
          "name": "stderr",
          "text": [
            "\r 48%|████▊     | 48/100 [17:41<18:47, 21.69s/it]"
          ]
        },
        {
          "output_type": "stream",
          "name": "stdout",
          "text": [
            "{'ner': 205.62792970113597}\n"
          ]
        },
        {
          "output_type": "stream",
          "name": "stderr",
          "text": [
            "\r 49%|████▉     | 49/100 [18:02<18:14, 21.45s/it]"
          ]
        },
        {
          "output_type": "stream",
          "name": "stdout",
          "text": [
            "{'ner': 196.22096142993007}\n"
          ]
        },
        {
          "output_type": "stream",
          "name": "stderr",
          "text": [
            "\r 50%|█████     | 50/100 [18:23<17:46, 21.33s/it]"
          ]
        },
        {
          "output_type": "stream",
          "name": "stdout",
          "text": [
            "{'ner': 183.93199150081225}\n"
          ]
        },
        {
          "output_type": "stream",
          "name": "stderr",
          "text": [
            "\r 51%|█████     | 51/100 [18:44<17:25, 21.34s/it]"
          ]
        },
        {
          "output_type": "stream",
          "name": "stdout",
          "text": [
            "{'ner': 187.8210771642424}\n"
          ]
        },
        {
          "output_type": "stream",
          "name": "stderr",
          "text": [
            "\r 52%|█████▏    | 52/100 [19:05<16:57, 21.20s/it]"
          ]
        },
        {
          "output_type": "stream",
          "name": "stdout",
          "text": [
            "{'ner': 156.84474226978227}\n"
          ]
        },
        {
          "output_type": "stream",
          "name": "stderr",
          "text": [
            "\r 53%|█████▎    | 53/100 [19:26<16:32, 21.11s/it]"
          ]
        },
        {
          "output_type": "stream",
          "name": "stdout",
          "text": [
            "{'ner': 182.88957077149678}\n"
          ]
        },
        {
          "output_type": "stream",
          "name": "stderr",
          "text": [
            "\r 54%|█████▍    | 54/100 [19:47<16:09, 21.07s/it]"
          ]
        },
        {
          "output_type": "stream",
          "name": "stdout",
          "text": [
            "{'ner': 198.39628006850776}\n"
          ]
        },
        {
          "output_type": "stream",
          "name": "stderr",
          "text": [
            "\r 55%|█████▌    | 55/100 [20:08<15:48, 21.08s/it]"
          ]
        },
        {
          "output_type": "stream",
          "name": "stdout",
          "text": [
            "{'ner': 217.2473729213787}\n"
          ]
        },
        {
          "output_type": "stream",
          "name": "stderr",
          "text": [
            "\r 56%|█████▌    | 56/100 [20:29<15:29, 21.12s/it]"
          ]
        },
        {
          "output_type": "stream",
          "name": "stdout",
          "text": [
            "{'ner': 192.60622889944526}\n"
          ]
        },
        {
          "output_type": "stream",
          "name": "stderr",
          "text": [
            "\r 57%|█████▋    | 57/100 [20:51<15:22, 21.45s/it]"
          ]
        },
        {
          "output_type": "stream",
          "name": "stdout",
          "text": [
            "{'ner': 162.9374321664183}\n"
          ]
        },
        {
          "output_type": "stream",
          "name": "stderr",
          "text": [
            "\r 58%|█████▊    | 58/100 [21:13<14:59, 21.42s/it]"
          ]
        },
        {
          "output_type": "stream",
          "name": "stdout",
          "text": [
            "{'ner': 147.3553945335168}\n"
          ]
        },
        {
          "output_type": "stream",
          "name": "stderr",
          "text": [
            "\r 59%|█████▉    | 59/100 [21:34<14:31, 21.25s/it]"
          ]
        },
        {
          "output_type": "stream",
          "name": "stdout",
          "text": [
            "{'ner': 185.4894318995917}\n"
          ]
        },
        {
          "output_type": "stream",
          "name": "stderr",
          "text": [
            "\r 60%|██████    | 60/100 [21:54<14:03, 21.09s/it]"
          ]
        },
        {
          "output_type": "stream",
          "name": "stdout",
          "text": [
            "{'ner': 161.05192496722833}\n"
          ]
        },
        {
          "output_type": "stream",
          "name": "stderr",
          "text": [
            "\r 61%|██████    | 61/100 [22:15<13:42, 21.10s/it]"
          ]
        },
        {
          "output_type": "stream",
          "name": "stdout",
          "text": [
            "{'ner': 181.64116993154218}\n"
          ]
        },
        {
          "output_type": "stream",
          "name": "stderr",
          "text": [
            "\r 62%|██████▏   | 62/100 [22:36<13:17, 20.99s/it]"
          ]
        },
        {
          "output_type": "stream",
          "name": "stdout",
          "text": [
            "{'ner': 184.7167430549101}\n"
          ]
        },
        {
          "output_type": "stream",
          "name": "stderr",
          "text": [
            "\r 63%|██████▎   | 63/100 [22:57<12:53, 20.90s/it]"
          ]
        },
        {
          "output_type": "stream",
          "name": "stdout",
          "text": [
            "{'ner': 162.41676002743262}\n"
          ]
        },
        {
          "output_type": "stream",
          "name": "stderr",
          "text": [
            "\r 64%|██████▍   | 64/100 [23:18<12:31, 20.88s/it]"
          ]
        },
        {
          "output_type": "stream",
          "name": "stdout",
          "text": [
            "{'ner': 151.14085501105262}\n"
          ]
        },
        {
          "output_type": "stream",
          "name": "stderr",
          "text": [
            "\r 65%|██████▌   | 65/100 [23:39<12:13, 20.97s/it]"
          ]
        },
        {
          "output_type": "stream",
          "name": "stdout",
          "text": [
            "{'ner': 141.0893969719784}\n"
          ]
        },
        {
          "output_type": "stream",
          "name": "stderr",
          "text": [
            "\r 66%|██████▌   | 66/100 [23:59<11:49, 20.88s/it]"
          ]
        },
        {
          "output_type": "stream",
          "name": "stdout",
          "text": [
            "{'ner': 158.77979533091016}\n"
          ]
        },
        {
          "output_type": "stream",
          "name": "stderr",
          "text": [
            "\r 67%|██████▋   | 67/100 [24:21<11:36, 21.12s/it]"
          ]
        },
        {
          "output_type": "stream",
          "name": "stdout",
          "text": [
            "{'ner': 131.10059025041474}\n"
          ]
        },
        {
          "output_type": "stream",
          "name": "stderr",
          "text": [
            "\r 68%|██████▊   | 68/100 [24:42<11:16, 21.15s/it]"
          ]
        },
        {
          "output_type": "stream",
          "name": "stdout",
          "text": [
            "{'ner': 128.56739144436114}\n"
          ]
        },
        {
          "output_type": "stream",
          "name": "stderr",
          "text": [
            "\r 69%|██████▉   | 69/100 [25:03<10:52, 21.06s/it]"
          ]
        },
        {
          "output_type": "stream",
          "name": "stdout",
          "text": [
            "{'ner': 130.72958971001415}\n"
          ]
        },
        {
          "output_type": "stream",
          "name": "stderr",
          "text": [
            "\r 70%|███████   | 70/100 [25:25<10:35, 21.19s/it]"
          ]
        },
        {
          "output_type": "stream",
          "name": "stdout",
          "text": [
            "{'ner': 126.8883340015983}\n"
          ]
        },
        {
          "output_type": "stream",
          "name": "stderr",
          "text": [
            "\r 71%|███████   | 71/100 [25:46<10:14, 21.19s/it]"
          ]
        },
        {
          "output_type": "stream",
          "name": "stdout",
          "text": [
            "{'ner': 133.05841715276912}\n"
          ]
        },
        {
          "output_type": "stream",
          "name": "stderr",
          "text": [
            "\r 72%|███████▏  | 72/100 [26:07<09:49, 21.04s/it]"
          ]
        },
        {
          "output_type": "stream",
          "name": "stdout",
          "text": [
            "{'ner': 143.74965829699912}\n"
          ]
        },
        {
          "output_type": "stream",
          "name": "stderr",
          "text": [
            "\r 73%|███████▎  | 73/100 [26:27<09:26, 20.99s/it]"
          ]
        },
        {
          "output_type": "stream",
          "name": "stdout",
          "text": [
            "{'ner': 126.6115516530761}\n"
          ]
        },
        {
          "output_type": "stream",
          "name": "stderr",
          "text": [
            "\r 74%|███████▍  | 74/100 [26:48<09:02, 20.86s/it]"
          ]
        },
        {
          "output_type": "stream",
          "name": "stdout",
          "text": [
            "{'ner': 135.56481135199368}\n"
          ]
        },
        {
          "output_type": "stream",
          "name": "stderr",
          "text": [
            "\r 75%|███████▌  | 75/100 [27:09<08:42, 20.91s/it]"
          ]
        },
        {
          "output_type": "stream",
          "name": "stdout",
          "text": [
            "{'ner': 134.63381045474668}\n"
          ]
        },
        {
          "output_type": "stream",
          "name": "stderr",
          "text": [
            "\r 76%|███████▌  | 76/100 [27:30<08:22, 20.94s/it]"
          ]
        },
        {
          "output_type": "stream",
          "name": "stdout",
          "text": [
            "{'ner': 128.25396575335748}\n"
          ]
        },
        {
          "output_type": "stream",
          "name": "stderr",
          "text": [
            "\r 77%|███████▋  | 77/100 [27:52<08:10, 21.34s/it]"
          ]
        },
        {
          "output_type": "stream",
          "name": "stdout",
          "text": [
            "{'ner': 103.26500041663402}\n"
          ]
        },
        {
          "output_type": "stream",
          "name": "stderr",
          "text": [
            "\r 78%|███████▊  | 78/100 [28:15<07:59, 21.82s/it]"
          ]
        },
        {
          "output_type": "stream",
          "name": "stdout",
          "text": [
            "{'ner': 120.40540435887624}\n"
          ]
        },
        {
          "output_type": "stream",
          "name": "stderr",
          "text": [
            "\r 79%|███████▉  | 79/100 [28:38<07:45, 22.15s/it]"
          ]
        },
        {
          "output_type": "stream",
          "name": "stdout",
          "text": [
            "{'ner': 131.46806525911532}\n"
          ]
        },
        {
          "output_type": "stream",
          "name": "stderr",
          "text": [
            "\r 80%|████████  | 80/100 [29:01<07:27, 22.40s/it]"
          ]
        },
        {
          "output_type": "stream",
          "name": "stdout",
          "text": [
            "{'ner': 129.66855636575238}\n"
          ]
        },
        {
          "output_type": "stream",
          "name": "stderr",
          "text": [
            "\r 81%|████████  | 81/100 [29:24<07:06, 22.46s/it]"
          ]
        },
        {
          "output_type": "stream",
          "name": "stdout",
          "text": [
            "{'ner': 126.36713692015438}\n"
          ]
        },
        {
          "output_type": "stream",
          "name": "stderr",
          "text": [
            "\r 82%|████████▏ | 82/100 [29:45<06:39, 22.20s/it]"
          ]
        },
        {
          "output_type": "stream",
          "name": "stdout",
          "text": [
            "{'ner': 125.70473877100748}\n"
          ]
        },
        {
          "output_type": "stream",
          "name": "stderr",
          "text": [
            "\r 83%|████████▎ | 83/100 [30:07<06:13, 21.99s/it]"
          ]
        },
        {
          "output_type": "stream",
          "name": "stdout",
          "text": [
            "{'ner': 132.03007091238163}\n"
          ]
        },
        {
          "output_type": "stream",
          "name": "stderr",
          "text": [
            "\r 84%|████████▍ | 84/100 [30:28<05:48, 21.81s/it]"
          ]
        },
        {
          "output_type": "stream",
          "name": "stdout",
          "text": [
            "{'ner': 127.16877385183422}\n"
          ]
        },
        {
          "output_type": "stream",
          "name": "stderr",
          "text": [
            "\r 85%|████████▌ | 85/100 [30:50<05:26, 21.76s/it]"
          ]
        },
        {
          "output_type": "stream",
          "name": "stdout",
          "text": [
            "{'ner': 108.18774399600913}\n"
          ]
        },
        {
          "output_type": "stream",
          "name": "stderr",
          "text": [
            "\r 86%|████████▌ | 86/100 [31:11<05:01, 21.57s/it]"
          ]
        },
        {
          "output_type": "stream",
          "name": "stdout",
          "text": [
            "{'ner': 109.02346320450955}\n"
          ]
        },
        {
          "output_type": "stream",
          "name": "stderr",
          "text": [
            "\r 87%|████████▋ | 87/100 [31:34<04:45, 21.99s/it]"
          ]
        },
        {
          "output_type": "stream",
          "name": "stdout",
          "text": [
            "{'ner': 126.2517771552853}\n"
          ]
        },
        {
          "output_type": "stream",
          "name": "stderr",
          "text": [
            "\r 88%|████████▊ | 88/100 [31:55<04:20, 21.72s/it]"
          ]
        },
        {
          "output_type": "stream",
          "name": "stdout",
          "text": [
            "{'ner': 155.82103291990515}\n"
          ]
        },
        {
          "output_type": "stream",
          "name": "stderr",
          "text": [
            "\r 89%|████████▉ | 89/100 [32:17<03:58, 21.64s/it]"
          ]
        },
        {
          "output_type": "stream",
          "name": "stdout",
          "text": [
            "{'ner': 138.62160496119728}\n"
          ]
        },
        {
          "output_type": "stream",
          "name": "stderr",
          "text": [
            "\r 90%|█████████ | 90/100 [32:38<03:35, 21.60s/it]"
          ]
        },
        {
          "output_type": "stream",
          "name": "stdout",
          "text": [
            "{'ner': 91.92021382939907}\n"
          ]
        },
        {
          "output_type": "stream",
          "name": "stderr",
          "text": [
            "\r 91%|█████████ | 91/100 [32:59<03:13, 21.49s/it]"
          ]
        },
        {
          "output_type": "stream",
          "name": "stdout",
          "text": [
            "{'ner': 99.51058193032634}\n"
          ]
        },
        {
          "output_type": "stream",
          "name": "stderr",
          "text": [
            "\r 92%|█████████▏| 92/100 [33:20<02:51, 21.39s/it]"
          ]
        },
        {
          "output_type": "stream",
          "name": "stdout",
          "text": [
            "{'ner': 120.23895972138867}\n"
          ]
        },
        {
          "output_type": "stream",
          "name": "stderr",
          "text": [
            "\r 93%|█████████▎| 93/100 [33:42<02:29, 21.32s/it]"
          ]
        },
        {
          "output_type": "stream",
          "name": "stdout",
          "text": [
            "{'ner': 91.00341637746757}\n"
          ]
        },
        {
          "output_type": "stream",
          "name": "stderr",
          "text": [
            "\r 94%|█████████▍| 94/100 [34:03<02:08, 21.44s/it]"
          ]
        },
        {
          "output_type": "stream",
          "name": "stdout",
          "text": [
            "{'ner': 107.98935525635017}\n"
          ]
        },
        {
          "output_type": "stream",
          "name": "stderr",
          "text": [
            "\r 95%|█████████▌| 95/100 [34:25<01:46, 21.40s/it]"
          ]
        },
        {
          "output_type": "stream",
          "name": "stdout",
          "text": [
            "{'ner': 132.13487216673485}\n"
          ]
        },
        {
          "output_type": "stream",
          "name": "stderr",
          "text": [
            "\r 96%|█████████▌| 96/100 [34:51<01:31, 22.93s/it]"
          ]
        },
        {
          "output_type": "stream",
          "name": "stdout",
          "text": [
            "{'ner': 110.84102347906274}\n"
          ]
        },
        {
          "output_type": "stream",
          "name": "stderr",
          "text": [
            "\r 97%|█████████▋| 97/100 [35:18<01:12, 24.04s/it]"
          ]
        },
        {
          "output_type": "stream",
          "name": "stdout",
          "text": [
            "{'ner': 83.74277702087925}\n"
          ]
        },
        {
          "output_type": "stream",
          "name": "stderr",
          "text": [
            "\r 98%|█████████▊| 98/100 [35:41<00:47, 23.94s/it]"
          ]
        },
        {
          "output_type": "stream",
          "name": "stdout",
          "text": [
            "{'ner': 104.34263333284436}\n"
          ]
        },
        {
          "output_type": "stream",
          "name": "stderr",
          "text": [
            "\r 99%|█████████▉| 99/100 [36:03<00:23, 23.11s/it]"
          ]
        },
        {
          "output_type": "stream",
          "name": "stdout",
          "text": [
            "{'ner': 96.99388749748347}\n"
          ]
        },
        {
          "output_type": "stream",
          "name": "stderr",
          "text": [
            "100%|██████████| 100/100 [36:24<00:00, 21.84s/it]"
          ]
        },
        {
          "output_type": "stream",
          "name": "stdout",
          "text": [
            "{'ner': 105.94328449461642}\n"
          ]
        },
        {
          "output_type": "stream",
          "name": "stderr",
          "text": [
            "\n"
          ]
        }
      ]
    },
    {
      "cell_type": "code",
      "source": [
        "output_dir='/content/drive/MyDrive/case_study_2_new/ner_model/neutral_model_rev_new'\n",
        "if output_dir is not None:\n",
        "    output_dir = Path(output_dir)\n",
        "    if not output_dir.exists():\n",
        "        output_dir.mkdir()\n",
        "    nlp_neut.to_disk(output_dir)\n",
        "    print(\"Saved model to\", output_dir)"
      ],
      "metadata": {
        "colab": {
          "base_uri": "https://localhost:8080/"
        },
        "id": "XhhLzld5z9QU",
        "outputId": "f6121c8e-d9b4-4e43-dac6-e3c8d603356b"
      },
      "execution_count": null,
      "outputs": [
        {
          "output_type": "stream",
          "name": "stdout",
          "text": [
            "Saved model to /content/drive/MyDrive/case_study_2_new/ner_model/neutral_model_rev_new\n"
          ]
        }
      ]
    },
    {
      "cell_type": "markdown",
      "source": [
        "####Jaccard score####"
      ],
      "metadata": {
        "id": "R6kAIZ-i1IKE"
      }
    },
    {
      "cell_type": "code",
      "execution_count": null,
      "metadata": {
        "id": "GPjX0T92yV9d"
      },
      "outputs": [],
      "source": [
        "nlp_1=spacy.load('/content/drive/MyDrive/case_study_2_new/ner_model/positive_model_rev_new')\n",
        "nlp_neg_2=spacy.load('/content/drive/MyDrive/case_study_2_new/ner_model/negative_model_rev_new')\n",
        "nlp_neut_3=spacy.load('/content/drive/MyDrive/case_study_2_new/ner_model/neutral_model_rev_new')"
      ]
    },
    {
      "cell_type": "code",
      "execution_count": null,
      "metadata": {
        "id": "c8d7QEIjwMpX"
      },
      "outputs": [],
      "source": [
        "def jaccard(x,y):\n",
        "    str1=x\n",
        "    str2=y \n",
        "    a = set(str1.lower().split()) \n",
        "    b = set(str2.lower().split())\n",
        "    if (len(a)==0) & (len(b)==0):\n",
        "        return 0.5\n",
        "    c = a.intersection(b)\n",
        "    \n",
        "    return float(len(c)) / (len(a) + len(b) - len(c))"
      ]
    },
    {
      "cell_type": "code",
      "execution_count": null,
      "metadata": {
        "id": "FG2DlxMe2ko0"
      },
      "outputs": [],
      "source": [
        "jaccard_score=[]\n",
        "uncounted=0\n",
        "for text, entities in test_ner_pos:\n",
        "    doc = nlp(text)\n",
        "    actual_sel_text=text[entities['entities'][0][0]:entities['entities'][0][1]]\n",
        "    if len(doc.ents)>=1:\n",
        "      pred_text=doc.ents[0].text\n",
        "      jaccard_score.append(jaccard(actual_sel_text,pred_text))\n",
        "    else:\n",
        "      uncounted+=1"
      ]
    },
    {
      "cell_type": "code",
      "source": [
        "print(\"Jaccard score for positive texts\",np.array(jaccard_score).mean())\n",
        "print('Number of docs where entities recognised',len(jaccard_score))\n",
        "print('Number of docs where entities not recognised',uncounted)"
      ],
      "metadata": {
        "colab": {
          "base_uri": "https://localhost:8080/"
        },
        "id": "MfYOUJVboHbf",
        "outputId": "d43d75e4-662d-446e-e41a-3da1584d8e2a"
      },
      "execution_count": null,
      "outputs": [
        {
          "output_type": "stream",
          "name": "stdout",
          "text": [
            "Jaccard score for positive texts 0.4431179022721471\n",
            "Number of docs where entities recognised 1206\n",
            "Number of docs where entities not recognised 511\n"
          ]
        }
      ]
    },
    {
      "cell_type": "markdown",
      "metadata": {
        "id": "W8l5uozKlQgr"
      },
      "source": [
        "From the above result we can see that for positive sentences the model could predict 1206 sentences out of 1717 which is roughly 70.23% of positive test data with the jaccard scorer of 0.4431."
      ]
    },
    {
      "cell_type": "code",
      "execution_count": null,
      "metadata": {
        "id": "or458WJIwMmw"
      },
      "outputs": [],
      "source": [
        "uncounted_neg=0\n",
        "jaccard_score_neg=[]\n",
        "for text, entities in test_ner_neg:\n",
        "    doc = nlp_neg(text)\n",
        "    actual_sel_text=text[entities['entities'][0][0]:entities['entities'][0][1]]\n",
        "    if len(doc.ents)>=1:\n",
        "      pred_text=doc.ents[0].text\n",
        "      jaccard_score_neg.append(jaccard(actual_sel_text,pred_text))\n",
        "      jaccard_score.append(jaccard(actual_sel_text,pred_text))\n",
        "    else:\n",
        "      uncounted_neg+=1"
      ]
    },
    {
      "cell_type": "code",
      "source": [
        "print(\"Jaccard score for negative texts\",np.array(jaccard_score_neg).mean())\n",
        "print('Number of docs where entities recognised',len(jaccard_score_neg))\n",
        "print('Number of docs where entities not recognised',uncounted_neg)"
      ],
      "metadata": {
        "colab": {
          "base_uri": "https://localhost:8080/"
        },
        "id": "Y-qk44Hdxei6",
        "outputId": "183f1761-233b-43c3-c156-4602ca1d0606"
      },
      "execution_count": null,
      "outputs": [
        {
          "output_type": "stream",
          "name": "stdout",
          "text": [
            "Jaccard score for negative texts 0.4131026416693031\n",
            "Number of docs where entities recognised 1084\n",
            "Number of docs where entities not recognised 472\n"
          ]
        }
      ]
    },
    {
      "cell_type": "markdown",
      "metadata": {
        "id": "gJIotEiZ5ys2"
      },
      "source": [
        "From the above result we can see that for negative sentences the model could predict 1084 sentences out of 1556 which is roughly 69.66% of negative test data with the jaccard score of 0.4131."
      ]
    },
    {
      "cell_type": "code",
      "source": [
        "uncounted_neut=0\n",
        "jaccard_score_neut=[]\n",
        "for text, entities in test_ner_neut:\n",
        "    doc = nlp_neut(text)\n",
        "    actual_sel_text=text[entities['entities'][0][0]:entities['entities'][0][1]]\n",
        "    if len(doc.ents)>=1:\n",
        "      pred_text=doc.ents[0].text\n",
        "      jaccard_score_neut.append(jaccard(actual_sel_text,pred_text))\n",
        "      jaccard_score.append(jaccard(actual_sel_text,pred_text))\n",
        "    else:\n",
        "      uncounted_neg+=1"
      ],
      "metadata": {
        "id": "HMqLfJuT8Ybo"
      },
      "execution_count": null,
      "outputs": []
    },
    {
      "cell_type": "code",
      "source": [
        "print(\"Jaccard score for negative texts\",np.array(jaccard_score_neut).mean())\n",
        "print('Number of docs where entities recognised',len(jaccard_score_neut))\n",
        "print('Number of docs where entities not recognised',uncounted_neut)"
      ],
      "metadata": {
        "colab": {
          "base_uri": "https://localhost:8080/"
        },
        "id": "gi8rGPRq8iwg",
        "outputId": "0fc0e416-bbf1-4e16-906b-a8171ad75906"
      },
      "execution_count": null,
      "outputs": [
        {
          "output_type": "stream",
          "name": "stdout",
          "text": [
            "Jaccard score for negative texts 0.9725785550431671\n",
            "Number of docs where entities recognised 2213\n",
            "Number of docs where entities not recognised 0\n"
          ]
        }
      ]
    },
    {
      "cell_type": "markdown",
      "metadata": {
        "id": "whidm4EFdkeU"
      },
      "source": [
        "From the above result we can see that for neutral sentences the model could predict for all sentences with the jaccard score of 0.9725."
      ]
    },
    {
      "cell_type": "code",
      "execution_count": null,
      "metadata": {
        "colab": {
          "base_uri": "https://localhost:8080/"
        },
        "id": "F8OFN1UOB1JB",
        "outputId": "67fc8523-ae66-43a4-f224-0be200fd33cb"
      },
      "outputs": [
        {
          "output_type": "stream",
          "name": "stdout",
          "text": [
            "Overall jaccard score: 0.6960958907440069\n"
          ]
        }
      ],
      "source": [
        "print('Overall jaccard score:',np.array(jaccard_score).mean())"
      ]
    },
    {
      "cell_type": "markdown",
      "metadata": {
        "id": "chwkxjJS6IJT"
      },
      "source": [
        "This is the overall jaccard score for is 0.6960 for 4503 text data out of 5496 which is 81.93% of the data. NER has done a significant work on predicting the labels for almost 82% of the data. "
      ]
    },
    {
      "cell_type": "code",
      "execution_count": null,
      "metadata": {
        "colab": {
          "base_uri": "https://localhost:8080/"
        },
        "id": "Oy2iIVJx_Ej8",
        "outputId": "d167bb4f-a78e-4f75-91e6-e6ae6f2bb15e"
      },
      "outputs": [
        {
          "output_type": "stream",
          "name": "stdout",
          "text": [
            "Sample positive sentiment sentence prediction\n",
            "Text:\n",
            "wow this morning 8.15 hrs ding dong breakfastservice, was a surprise of Marjoleine, Guido and Dirk for mothersday.Mother hapy, father too\n",
            "Entity Recognised:\n",
            "[('wow', 'ST')]\n",
            "************************************************************\n",
            "Text:\n",
            "i`m just sooo in love....i think\n",
            "Entity Recognised:\n",
            "[]\n",
            "************************************************************\n",
            "Text:\n",
            " yum. Do you do home delivery\n",
            "Entity Recognised:\n",
            "[('yum.', 'ST')]\n",
            "************************************************************\n",
            "Text:\n",
            "Having a wonderful piece of cake for lunch - what else could I want???\n",
            "Entity Recognised:\n",
            "[('Having a wonderful piece of cake for lunch - what else could I want???', 'ST')]\n",
            "************************************************************\n",
            "Text:\n",
            " Don`t worry, you`ll get your stamina back soon  What kind of distances do you run usually?\n",
            "Entity Recognised:\n",
            "[('Don`t worry,', 'ST')]\n",
            "************************************************************\n",
            "Text:\n",
            "MIT bookstore has best book selection, but it`s the one bookstore I have no coupons or discounts for\n",
            "Entity Recognised:\n",
            "[]\n",
            "************************************************************\n",
            "Text:\n",
            "when living in Spain..you can NEVER take a hot shower for granted..luckily I have nice friends across the street\n",
            "Entity Recognised:\n",
            "[('nice', 'ST')]\n",
            "************************************************************\n",
            "Text:\n",
            " hay naku!!madaya ka talaga ah hehe ..hey happy mothers day to your mom nga pala   and to your mom also\n",
            "Entity Recognised:\n",
            "[('hey happy mothers day', 'ST')]\n",
            "************************************************************\n",
            "Text:\n",
            "_Jamie I guess  ! I was really suprised..\n",
            "Entity Recognised:\n",
            "[]\n",
            "************************************************************\n",
            "Text:\n",
            "Rachel Allens date bars, so easy to make   http://twitpic.com/4jas7\n",
            "Entity Recognised:\n",
            "[]\n",
            "************************************************************\n",
            "Sample negative sentiment sentence prediction\n",
            "Text:\n",
            "Reading and taking notes but undertanding none of it  ... HELP!\n",
            "Entity Recognised:\n",
            "[]\n",
            "************************************************************\n",
            "Text:\n",
            " so sad emma  u sad to be leaving the show? ****\n",
            "Entity Recognised:\n",
            "[('sad', 'ST'), ('sad', 'ST'), ('****', 'ST')]\n",
            "************************************************************\n",
            "Text:\n",
            "Freakin` frustrated why can`t my coach realize that times are hard ain`t nobody got the money to buy cookie dough for no new uniforms\n",
            "Entity Recognised:\n",
            "[('hard', 'ST')]\n",
            "************************************************************\n",
            "Text:\n",
            "is feeling so bored... i miss school time\n",
            "Entity Recognised:\n",
            "[]\n",
            "************************************************************\n",
            "Text:\n",
            "I am sad... Tanner wasn`t invited to the Panthers development camp this year  Poor (other) Glassers. But Calla was, so good on him.\n",
            "Entity Recognised:\n",
            "[('I am sad... Tanner wasn`t invited to the Panthers development camp this year  Poor (other) Glassers. But Calla was, so good on him.', 'ST')]\n",
            "************************************************************\n",
            "Text:\n",
            "so hot in the office as air con been broken for weeks, fans on all round office but they just push hot air around really and not helping\n",
            "Entity Recognised:\n",
            "[('broken', 'ST')]\n",
            "************************************************************\n",
            "Text:\n",
            "For _inLaPush because she misses Quil so...  Far Away ~Nickleback ? http://blip.fm/~5z639\n",
            "Entity Recognised:\n",
            "[]\n",
            "************************************************************\n",
            "Text:\n",
            "my teeth and head hurts\n",
            "Entity Recognised:\n",
            "[('hurts', 'ST')]\n",
            "************************************************************\n",
            "Text:\n",
            " Awww, *hugs* I wish I could help.\n",
            "Entity Recognised:\n",
            "[('Awww, *hugs* I wish I could help.', 'ST')]\n",
            "************************************************************\n",
            "Text:\n",
            "2 hours after teleconference. but can`t go back to sleep. got some work to do. sigh sigh\n",
            "Entity Recognised:\n",
            "[]\n",
            "************************************************************\n",
            "Sample neutral sentiment sentence prediction\n",
            "Text:\n",
            "Why must Jay Leno leave his own show\n",
            "Entity Recognised:\n",
            "[('Why must Jay Leno leave his own show', 'ST')]\n",
            "************************************************************\n",
            "Text:\n",
            "Hoping that this will just heal on it`s own because anything I put on it just makes it worse. Owww\n",
            "Entity Recognised:\n",
            "[('Hoping that this will just heal on it`s own because anything I put on it just makes it worse. Owww', 'ST')]\n",
            "************************************************************\n",
            "Text:\n",
            " did you get fired?  *hugs*\n",
            "Entity Recognised:\n",
            "[('did you get fired?  *hugs*', 'ST')]\n",
            "************************************************************\n",
            "Text:\n",
            " ur taking tease lessons from the guys! No fair   LOL, oh well, we`ll wait as patiently as we can!\n",
            "Entity Recognised:\n",
            "[('ur taking tease lessons from the guys! No fair   LOL, oh well, we`ll wait as patiently as we can!', 'ST')]\n",
            "************************************************************\n",
            "Text:\n",
            "shack idol today(: can`t wait. it`s gonna be funnn poor cameron. he fell ON A BAR in speech today. i felt so bad for him\n",
            "Entity Recognised:\n",
            "[('shack idol today(: can`t wait. it`s gonna be funnn poor cameron. he fell ON A BAR in speech today. i felt so bad for him', 'ST')]\n",
            "************************************************************\n",
            "Text:\n",
            " she interviewed us on books. I was gonna say something, but she was all 'Wait, I have something to say!'\n",
            "Entity Recognised:\n",
            "[(\"she interviewed us on books. I was gonna say something, but she was all 'Wait, I have something to say!'\", 'ST')]\n",
            "************************************************************\n",
            "Text:\n",
            "i don`t know the guys on radio disney have so much energy. i wouldn`t be able to do it  <3\n",
            "Entity Recognised:\n",
            "[('i don`t know the guys on radio disney have so much energy. i wouldn`t be able to do it  <3', 'ST')]\n",
            "************************************************************\n",
            "Text:\n",
            " **** Frat - that`s too bad...  Should be a good show (at least I`m hoping so) esp. since it`s in BK...\n",
            "Entity Recognised:\n",
            "[('**** Frat - that`s too bad...  Should be a good show (at least I`m hoping so) esp. since it`s in BK...', 'ST')]\n",
            "************************************************************\n",
            "Text:\n",
            "And it`s starting to get cold\n",
            "Entity Recognised:\n",
            "[('And it`s starting to get cold', 'ST')]\n",
            "************************************************************\n",
            "Text:\n",
            " hasn`t shipped yet  I won`t get over there until at least 7. I`ll call you.\n",
            "Entity Recognised:\n",
            "[('hasn`t shipped yet  I won`t get over there until at least 7. I`ll call you.', 'ST')]\n",
            "************************************************************\n"
          ]
        }
      ],
      "source": [
        "print(\"Sample positive sentiment sentence prediction\")\n",
        "for text, entities in test_ner_pos[:10]:\n",
        "    doc = nlp(text)\n",
        "    print(\"Text:\")\n",
        "    print(text)\n",
        "    print(\"Entity Recognised:\")\n",
        "    print([(docs.text,docs.label_) for docs in doc.ents])\n",
        "    print('******'*10)\n",
        "print(\"Sample negative sentiment sentence prediction\")\n",
        "for text, entities in test_ner_neg[:10]:\n",
        "    doc = nlp_neg(text)\n",
        "    print(\"Text:\")\n",
        "    print(text)\n",
        "    print(\"Entity Recognised:\")\n",
        "    print([(docs.text,docs.label_) for docs in doc.ents])\n",
        "    print('******'*10)\n",
        "print(\"Sample neutral sentiment sentence prediction\")\n",
        "for text, entities in test_ner_neut[:10]:\n",
        "    doc = nlp_neut(text)\n",
        "    print(\"Text:\")\n",
        "    print(text)\n",
        "    print(\"Entity Recognised:\")\n",
        "    print([(docs.text,docs.label_) for docs in doc.ents])\n",
        "    print('******'*10)"
      ]
    },
    {
      "cell_type": "markdown",
      "metadata": {
        "id": "cD1Xgm-j6U2p"
      },
      "source": [
        "From the above sample we can see for many entries the model couldn't predict the label and for some entries it has made more than one labeling."
      ]
    },
    {
      "cell_type": "markdown",
      "metadata": {
        "id": "hbobGYRWt_0T"
      },
      "source": [
        "Reference:\n",
        "\n",
        "https://stackoverflow.com/questions/66675261/how-can-i-work-with-example-for-nlp-update-problem-with-spacy3-0#:~:text=You%20didn%27t%20provide%20your%20TRAIN_DATA%2C%20so%20I%20cannot%20reproduce%20it.%20However%2C%20you%20should%20try%20something%20like%20this%3A"
      ]
    },
    {
      "cell_type": "markdown",
      "metadata": {
        "id": "9J05vo5y1BZh"
      },
      "source": [
        "Now Let us try collaborating the NER model with that of the previous deep learning model wherein the entries for which NER model could not find the label will be sent to deep learning model for prediction.\n",
        "\n",
        "For the text that cannot be recognised by the NER we will use the previous base model approach and predict the selected sentence from it."
      ]
    },
    {
      "cell_type": "code",
      "execution_count": null,
      "metadata": {
        "id": "eDCYXgAwHTuY"
      },
      "outputs": [],
      "source": [
        "def prob_to_binary(x,threshold=0.8):\n",
        "  lst=[]\n",
        "  for i in x:\n",
        "    if i>=threshold:\n",
        "      lst.append(1)\n",
        "    else:\n",
        "      lst.append(0)\n",
        "  return lst\n",
        "\n",
        "def pred_text(x):\n",
        "    pred_array=x[0]\n",
        "    text=x[1]\n",
        "    text_list=x[1].split()\n",
        "    max_len_list=len(text_list)\n",
        "    indices=np.where(pred_array==1)[0]\n",
        "    indices=[ind for ind in indices if ind<max_len_list]\n",
        "    pred_text_list=np.array(text_list)[indices]\n",
        "    pred_text=' '.join(pred_text_list)\n",
        "    return pred_text"
      ]
    },
    {
      "cell_type": "code",
      "execution_count": null,
      "metadata": {
        "id": "cro_dnCv96oY"
      },
      "outputs": [],
      "source": [
        "vocab_size_text=38689\n",
        "max_length=33\n",
        "max_length_sentiment=1\n",
        "vocab_size_sentiment=5"
      ]
    },
    {
      "cell_type": "code",
      "execution_count": null,
      "metadata": {
        "id": "ebTLS-wD9i90"
      },
      "outputs": [],
      "source": [
        "import tensorflow as tf\n",
        "import keras\n",
        "from tensorflow.keras.layers import Input,Embedding,GRU,Dense,Flatten,Concatenate,Dropout,LayerNormalization\n",
        "from tensorflow.keras.regularizers import l2\n",
        "from tensorflow.keras import Model\n",
        "\n",
        "tf.keras.backend.clear_session()\n",
        "input1=Input(shape=(max_length,),name='input_text')\n",
        "embed = Embedding(vocab_size_text,200,input_length=max_length,name='embedding',\n",
        "                      trainable=False)(input1)\n",
        "\n",
        "input2=Input(shape=(max_length_sentiment,),name='input_sentiment')\n",
        "embed2=Embedding(vocab_size_sentiment,200,input_length=max_length_sentiment,trainable=False,\n",
        "                 name='embedding_sentiment')(input2)\n",
        "concat1=Concatenate(axis=1)([embed,embed2])\n",
        "gru_1=GRU(100,name='GRU_1',return_sequences=True)(concat1)\n",
        "gru_2=GRU(32,name='GRU_2',return_sequences=True)(gru_1)\n",
        "gru_3=GRU(16,name='GRU_3',return_sequences=True)(gru_2)\n",
        "f1=Flatten()(gru_3)\n",
        "\n",
        "f1=tf.expand_dims(f1,1)\n",
        "dense2=Dense(256,activation='relu',kernel_regularizer=l2(0.0001))(f1)\n",
        "drop1 = Dropout(0.2)(dense2)\n",
        "ln1= LayerNormalization()(drop1)\n",
        "dense3=Dense(128,activation='relu',kernel_regularizer=l2(0.0001))(ln1)\n",
        "drop2 = Dropout(0.2)(dense3)\n",
        "ln2= LayerNormalization()(drop2)\n",
        "dense4=Dense(64,activation='relu',kernel_regularizer=l2(0.0001))(ln1)\n",
        "output=Dense(33,activation='sigmoid',name='output')(dense4)\n",
        "\n",
        "model=Model(inputs=[input1,input2],outputs=[output])\n",
        "model.load_weights('/content/drive/MyDrive/case_study_2_new/base_model_weights/dl_model.h5')"
      ]
    },
    {
      "cell_type": "code",
      "execution_count": null,
      "metadata": {
        "colab": {
          "base_uri": "https://localhost:8080/"
        },
        "id": "iJV5KupE2wPN",
        "outputId": "889d457d-9dcc-46f7-c631-3c4ec6b40384"
      },
      "outputs": [
        {
          "output_type": "execute_result",
          "data": {
            "text/plain": [
              "array(['negative', 'neutral', 'positive'], dtype=object)"
            ]
          },
          "metadata": {},
          "execution_count": 66
        }
      ],
      "source": [
        "np.unique(test_data['sentiment'])"
      ]
    },
    {
      "cell_type": "code",
      "execution_count": null,
      "metadata": {
        "colab": {
          "base_uri": "https://localhost:8080/"
        },
        "id": "niAXsO4jqtIU",
        "outputId": "d6f119f6-4836-4d28-b035-d6cb89c7bd83"
      },
      "outputs": [
        {
          "output_type": "stream",
          "name": "stdout",
          "text": [
            "1/1 [==============================] - 0s 26ms/step\n",
            "1/1 [==============================] - 0s 26ms/step\n",
            "1/1 [==============================] - 0s 106ms/step\n",
            "1/1 [==============================] - 0s 125ms/step\n",
            "1/1 [==============================] - 0s 43ms/step\n",
            "1/1 [==============================] - 0s 101ms/step\n",
            "1/1 [==============================] - 0s 47ms/step\n",
            "1/1 [==============================] - 0s 60ms/step\n",
            "1/1 [==============================] - 0s 58ms/step\n",
            "1/1 [==============================] - 0s 41ms/step\n",
            "1/1 [==============================] - 0s 41ms/step\n",
            "1/1 [==============================] - 0s 28ms/step\n",
            "1/1 [==============================] - 0s 31ms/step\n",
            "1/1 [==============================] - 0s 25ms/step\n",
            "1/1 [==============================] - 0s 27ms/step\n",
            "1/1 [==============================] - 0s 25ms/step\n",
            "1/1 [==============================] - 0s 25ms/step\n",
            "1/1 [==============================] - 0s 35ms/step\n",
            "1/1 [==============================] - 0s 30ms/step\n",
            "1/1 [==============================] - 0s 30ms/step\n",
            "1/1 [==============================] - 0s 26ms/step\n",
            "1/1 [==============================] - 0s 26ms/step\n",
            "1/1 [==============================] - 0s 27ms/step\n",
            "1/1 [==============================] - 0s 25ms/step\n",
            "1/1 [==============================] - 0s 25ms/step\n",
            "1/1 [==============================] - 0s 30ms/step\n",
            "1/1 [==============================] - 0s 26ms/step\n",
            "1/1 [==============================] - 0s 29ms/step\n",
            "1/1 [==============================] - 0s 25ms/step\n",
            "1/1 [==============================] - 0s 35ms/step\n",
            "1/1 [==============================] - 0s 24ms/step\n",
            "1/1 [==============================] - 0s 25ms/step\n",
            "1/1 [==============================] - 0s 28ms/step\n",
            "1/1 [==============================] - 0s 24ms/step\n",
            "1/1 [==============================] - 0s 25ms/step\n",
            "1/1 [==============================] - 0s 24ms/step\n",
            "1/1 [==============================] - 0s 26ms/step\n",
            "1/1 [==============================] - 0s 27ms/step\n",
            "1/1 [==============================] - 0s 27ms/step\n",
            "1/1 [==============================] - 0s 26ms/step\n",
            "1/1 [==============================] - 0s 27ms/step\n",
            "1/1 [==============================] - 0s 28ms/step\n",
            "1/1 [==============================] - 0s 26ms/step\n",
            "1/1 [==============================] - 0s 32ms/step\n",
            "1/1 [==============================] - 0s 25ms/step\n",
            "1/1 [==============================] - 0s 29ms/step\n",
            "1/1 [==============================] - 0s 26ms/step\n",
            "1/1 [==============================] - 0s 26ms/step\n",
            "1/1 [==============================] - 0s 26ms/step\n",
            "1/1 [==============================] - 0s 26ms/step\n",
            "1/1 [==============================] - 0s 23ms/step\n",
            "1/1 [==============================] - 0s 25ms/step\n",
            "1/1 [==============================] - 0s 26ms/step\n",
            "1/1 [==============================] - 0s 27ms/step\n",
            "1/1 [==============================] - 0s 28ms/step\n",
            "1/1 [==============================] - 0s 25ms/step\n",
            "1/1 [==============================] - 0s 24ms/step\n",
            "1/1 [==============================] - 0s 27ms/step\n",
            "1/1 [==============================] - 0s 29ms/step\n",
            "1/1 [==============================] - 0s 26ms/step\n",
            "1/1 [==============================] - 0s 26ms/step\n",
            "1/1 [==============================] - 0s 30ms/step\n",
            "1/1 [==============================] - 0s 26ms/step\n",
            "1/1 [==============================] - 0s 28ms/step\n",
            "1/1 [==============================] - 0s 25ms/step\n",
            "1/1 [==============================] - 0s 25ms/step\n",
            "1/1 [==============================] - 0s 29ms/step\n",
            "1/1 [==============================] - 0s 32ms/step\n",
            "1/1 [==============================] - 0s 26ms/step\n",
            "1/1 [==============================] - 0s 26ms/step\n",
            "1/1 [==============================] - 0s 29ms/step\n",
            "1/1 [==============================] - 0s 27ms/step\n",
            "1/1 [==============================] - 0s 26ms/step\n",
            "1/1 [==============================] - 0s 33ms/step\n",
            "1/1 [==============================] - 0s 25ms/step\n",
            "1/1 [==============================] - 0s 26ms/step\n",
            "1/1 [==============================] - 0s 31ms/step\n",
            "1/1 [==============================] - 0s 27ms/step\n",
            "1/1 [==============================] - 0s 29ms/step\n",
            "1/1 [==============================] - 0s 25ms/step\n",
            "1/1 [==============================] - 0s 31ms/step\n",
            "1/1 [==============================] - 0s 26ms/step\n",
            "1/1 [==============================] - 0s 28ms/step\n",
            "1/1 [==============================] - 0s 26ms/step\n",
            "1/1 [==============================] - 0s 28ms/step\n",
            "1/1 [==============================] - 0s 28ms/step\n",
            "1/1 [==============================] - 0s 26ms/step\n",
            "1/1 [==============================] - 0s 28ms/step\n",
            "1/1 [==============================] - 0s 26ms/step\n",
            "1/1 [==============================] - 0s 28ms/step\n",
            "1/1 [==============================] - 0s 31ms/step\n",
            "1/1 [==============================] - 0s 29ms/step\n",
            "1/1 [==============================] - 0s 26ms/step\n",
            "1/1 [==============================] - 0s 30ms/step\n",
            "1/1 [==============================] - 0s 33ms/step\n",
            "1/1 [==============================] - 0s 28ms/step\n",
            "1/1 [==============================] - 0s 26ms/step\n",
            "1/1 [==============================] - 0s 28ms/step\n",
            "1/1 [==============================] - 0s 26ms/step\n",
            "1/1 [==============================] - 0s 27ms/step\n",
            "1/1 [==============================] - 0s 26ms/step\n",
            "1/1 [==============================] - 0s 26ms/step\n",
            "1/1 [==============================] - 0s 26ms/step\n",
            "1/1 [==============================] - 0s 26ms/step\n",
            "1/1 [==============================] - 0s 28ms/step\n",
            "1/1 [==============================] - 0s 31ms/step\n",
            "1/1 [==============================] - 0s 27ms/step\n",
            "1/1 [==============================] - 0s 26ms/step\n",
            "1/1 [==============================] - 0s 25ms/step\n",
            "1/1 [==============================] - 0s 28ms/step\n",
            "1/1 [==============================] - 0s 25ms/step\n",
            "1/1 [==============================] - 0s 25ms/step\n",
            "1/1 [==============================] - 0s 26ms/step\n",
            "1/1 [==============================] - 0s 26ms/step\n",
            "1/1 [==============================] - 0s 36ms/step\n",
            "1/1 [==============================] - 0s 30ms/step\n",
            "1/1 [==============================] - 0s 25ms/step\n",
            "1/1 [==============================] - 0s 26ms/step\n",
            "1/1 [==============================] - 0s 27ms/step\n",
            "1/1 [==============================] - 0s 25ms/step\n",
            "1/1 [==============================] - 0s 26ms/step\n",
            "1/1 [==============================] - 0s 28ms/step\n",
            "1/1 [==============================] - 0s 25ms/step\n",
            "1/1 [==============================] - 0s 30ms/step\n",
            "1/1 [==============================] - 0s 26ms/step\n",
            "1/1 [==============================] - 0s 25ms/step\n",
            "1/1 [==============================] - 0s 26ms/step\n",
            "1/1 [==============================] - 0s 25ms/step\n",
            "1/1 [==============================] - 0s 25ms/step\n",
            "1/1 [==============================] - 0s 27ms/step\n",
            "1/1 [==============================] - 0s 25ms/step\n",
            "1/1 [==============================] - 0s 25ms/step\n",
            "1/1 [==============================] - 0s 27ms/step\n",
            "1/1 [==============================] - 0s 28ms/step\n",
            "1/1 [==============================] - 0s 28ms/step\n",
            "1/1 [==============================] - 0s 36ms/step\n",
            "1/1 [==============================] - 0s 28ms/step\n",
            "1/1 [==============================] - 0s 26ms/step\n",
            "1/1 [==============================] - 0s 26ms/step\n",
            "1/1 [==============================] - 0s 28ms/step\n",
            "1/1 [==============================] - 0s 26ms/step\n",
            "1/1 [==============================] - 0s 26ms/step\n",
            "1/1 [==============================] - 0s 24ms/step\n",
            "1/1 [==============================] - 0s 30ms/step\n",
            "1/1 [==============================] - 0s 24ms/step\n",
            "1/1 [==============================] - 0s 25ms/step\n",
            "1/1 [==============================] - 0s 30ms/step\n",
            "1/1 [==============================] - 0s 27ms/step\n",
            "1/1 [==============================] - 0s 25ms/step\n",
            "1/1 [==============================] - 0s 29ms/step\n",
            "1/1 [==============================] - 0s 25ms/step\n",
            "1/1 [==============================] - 0s 28ms/step\n",
            "1/1 [==============================] - 0s 29ms/step\n",
            "1/1 [==============================] - 0s 26ms/step\n",
            "1/1 [==============================] - 0s 27ms/step\n",
            "1/1 [==============================] - 0s 25ms/step\n",
            "1/1 [==============================] - 0s 35ms/step\n",
            "1/1 [==============================] - 0s 24ms/step\n",
            "1/1 [==============================] - 0s 25ms/step\n",
            "1/1 [==============================] - 0s 27ms/step\n",
            "1/1 [==============================] - 0s 32ms/step\n",
            "1/1 [==============================] - 0s 28ms/step\n",
            "1/1 [==============================] - 0s 29ms/step\n",
            "1/1 [==============================] - 0s 26ms/step\n",
            "1/1 [==============================] - 0s 24ms/step\n",
            "1/1 [==============================] - 0s 29ms/step\n",
            "1/1 [==============================] - 0s 25ms/step\n",
            "1/1 [==============================] - 0s 28ms/step\n",
            "1/1 [==============================] - 0s 34ms/step\n",
            "1/1 [==============================] - 0s 26ms/step\n",
            "1/1 [==============================] - 0s 29ms/step\n",
            "1/1 [==============================] - 0s 27ms/step\n",
            "1/1 [==============================] - 0s 32ms/step\n",
            "1/1 [==============================] - 0s 31ms/step\n",
            "1/1 [==============================] - 0s 25ms/step\n",
            "1/1 [==============================] - 0s 31ms/step\n",
            "1/1 [==============================] - 0s 28ms/step\n",
            "1/1 [==============================] - 0s 29ms/step\n",
            "1/1 [==============================] - 0s 36ms/step\n",
            "1/1 [==============================] - 0s 24ms/step\n",
            "1/1 [==============================] - 0s 31ms/step\n",
            "1/1 [==============================] - 0s 25ms/step\n",
            "1/1 [==============================] - 0s 26ms/step\n",
            "1/1 [==============================] - 0s 28ms/step\n",
            "1/1 [==============================] - 0s 31ms/step\n",
            "1/1 [==============================] - 0s 26ms/step\n",
            "1/1 [==============================] - 0s 27ms/step\n",
            "1/1 [==============================] - 0s 26ms/step\n",
            "1/1 [==============================] - 0s 32ms/step\n",
            "1/1 [==============================] - 0s 25ms/step\n",
            "1/1 [==============================] - 0s 25ms/step\n",
            "1/1 [==============================] - 0s 28ms/step\n",
            "1/1 [==============================] - 0s 25ms/step\n",
            "1/1 [==============================] - 0s 25ms/step\n",
            "1/1 [==============================] - 0s 26ms/step\n",
            "1/1 [==============================] - 0s 29ms/step\n",
            "1/1 [==============================] - 0s 25ms/step\n",
            "1/1 [==============================] - 0s 26ms/step\n",
            "1/1 [==============================] - 0s 26ms/step\n",
            "1/1 [==============================] - 0s 25ms/step\n",
            "1/1 [==============================] - 0s 24ms/step\n",
            "1/1 [==============================] - 0s 27ms/step\n",
            "1/1 [==============================] - 0s 32ms/step\n",
            "1/1 [==============================] - 0s 26ms/step\n",
            "1/1 [==============================] - 0s 24ms/step\n",
            "1/1 [==============================] - 0s 25ms/step\n",
            "1/1 [==============================] - 0s 25ms/step\n",
            "1/1 [==============================] - 0s 26ms/step\n",
            "1/1 [==============================] - 0s 25ms/step\n",
            "1/1 [==============================] - 0s 25ms/step\n",
            "1/1 [==============================] - 0s 27ms/step\n",
            "1/1 [==============================] - 0s 28ms/step\n",
            "1/1 [==============================] - 0s 24ms/step\n",
            "1/1 [==============================] - 0s 25ms/step\n",
            "1/1 [==============================] - 0s 26ms/step\n",
            "1/1 [==============================] - 0s 23ms/step\n",
            "1/1 [==============================] - 0s 27ms/step\n",
            "1/1 [==============================] - 0s 22ms/step\n",
            "1/1 [==============================] - 0s 24ms/step\n",
            "1/1 [==============================] - 0s 24ms/step\n",
            "1/1 [==============================] - 0s 27ms/step\n",
            "1/1 [==============================] - 0s 38ms/step\n",
            "1/1 [==============================] - 0s 26ms/step\n",
            "1/1 [==============================] - 0s 26ms/step\n",
            "1/1 [==============================] - 0s 26ms/step\n",
            "1/1 [==============================] - 0s 25ms/step\n",
            "1/1 [==============================] - 0s 24ms/step\n",
            "1/1 [==============================] - 0s 26ms/step\n",
            "1/1 [==============================] - 0s 26ms/step\n",
            "1/1 [==============================] - 0s 26ms/step\n",
            "1/1 [==============================] - 0s 26ms/step\n",
            "1/1 [==============================] - 0s 26ms/step\n",
            "1/1 [==============================] - 0s 29ms/step\n",
            "1/1 [==============================] - 0s 26ms/step\n",
            "1/1 [==============================] - 0s 25ms/step\n",
            "1/1 [==============================] - 0s 25ms/step\n",
            "1/1 [==============================] - 0s 31ms/step\n",
            "1/1 [==============================] - 0s 26ms/step\n",
            "1/1 [==============================] - 0s 26ms/step\n",
            "1/1 [==============================] - 0s 25ms/step\n",
            "1/1 [==============================] - 0s 28ms/step\n",
            "1/1 [==============================] - 0s 27ms/step\n",
            "1/1 [==============================] - 0s 27ms/step\n",
            "1/1 [==============================] - 0s 29ms/step\n",
            "1/1 [==============================] - 0s 25ms/step\n",
            "1/1 [==============================] - 0s 25ms/step\n",
            "1/1 [==============================] - 0s 33ms/step\n",
            "1/1 [==============================] - 0s 26ms/step\n",
            "1/1 [==============================] - 0s 30ms/step\n",
            "1/1 [==============================] - 0s 26ms/step\n",
            "1/1 [==============================] - 0s 31ms/step\n",
            "1/1 [==============================] - 0s 25ms/step\n",
            "1/1 [==============================] - 0s 24ms/step\n",
            "1/1 [==============================] - 0s 27ms/step\n",
            "1/1 [==============================] - 0s 34ms/step\n",
            "1/1 [==============================] - 0s 26ms/step\n",
            "1/1 [==============================] - 0s 25ms/step\n",
            "1/1 [==============================] - 0s 24ms/step\n",
            "1/1 [==============================] - 0s 25ms/step\n",
            "1/1 [==============================] - 0s 28ms/step\n",
            "1/1 [==============================] - 0s 24ms/step\n",
            "1/1 [==============================] - 0s 26ms/step\n",
            "1/1 [==============================] - 0s 25ms/step\n",
            "1/1 [==============================] - 0s 24ms/step\n",
            "1/1 [==============================] - 0s 26ms/step\n",
            "1/1 [==============================] - 0s 26ms/step\n",
            "1/1 [==============================] - 0s 26ms/step\n",
            "1/1 [==============================] - 0s 26ms/step\n",
            "1/1 [==============================] - 0s 29ms/step\n",
            "1/1 [==============================] - 0s 27ms/step\n",
            "1/1 [==============================] - 0s 26ms/step\n",
            "1/1 [==============================] - 0s 25ms/step\n",
            "1/1 [==============================] - 0s 31ms/step\n",
            "1/1 [==============================] - 0s 26ms/step\n",
            "1/1 [==============================] - 0s 25ms/step\n",
            "1/1 [==============================] - 0s 23ms/step\n",
            "1/1 [==============================] - 0s 26ms/step\n",
            "1/1 [==============================] - 0s 27ms/step\n",
            "1/1 [==============================] - 0s 25ms/step\n",
            "1/1 [==============================] - 0s 26ms/step\n",
            "1/1 [==============================] - 0s 26ms/step\n",
            "1/1 [==============================] - 0s 26ms/step\n",
            "1/1 [==============================] - 0s 27ms/step\n",
            "1/1 [==============================] - 0s 27ms/step\n",
            "1/1 [==============================] - 0s 26ms/step\n",
            "1/1 [==============================] - 0s 25ms/step\n",
            "1/1 [==============================] - 0s 25ms/step\n",
            "1/1 [==============================] - 0s 28ms/step\n",
            "1/1 [==============================] - 0s 27ms/step\n",
            "1/1 [==============================] - 0s 26ms/step\n",
            "1/1 [==============================] - 0s 27ms/step\n",
            "1/1 [==============================] - 0s 26ms/step\n",
            "1/1 [==============================] - 0s 27ms/step\n",
            "1/1 [==============================] - 0s 24ms/step\n",
            "1/1 [==============================] - 0s 25ms/step\n",
            "1/1 [==============================] - 0s 28ms/step\n",
            "1/1 [==============================] - 0s 25ms/step\n",
            "1/1 [==============================] - 0s 26ms/step\n",
            "1/1 [==============================] - 0s 25ms/step\n",
            "1/1 [==============================] - 0s 25ms/step\n",
            "1/1 [==============================] - 0s 24ms/step\n",
            "1/1 [==============================] - 0s 25ms/step\n",
            "1/1 [==============================] - 0s 24ms/step\n",
            "1/1 [==============================] - 0s 41ms/step\n",
            "1/1 [==============================] - 0s 50ms/step\n",
            "1/1 [==============================] - 0s 46ms/step\n",
            "1/1 [==============================] - 0s 54ms/step\n",
            "1/1 [==============================] - 0s 51ms/step\n",
            "1/1 [==============================] - 0s 42ms/step\n",
            "1/1 [==============================] - 0s 67ms/step\n",
            "1/1 [==============================] - 0s 50ms/step\n",
            "1/1 [==============================] - 0s 55ms/step\n",
            "1/1 [==============================] - 0s 33ms/step\n",
            "1/1 [==============================] - 0s 35ms/step\n",
            "1/1 [==============================] - 0s 26ms/step\n",
            "1/1 [==============================] - 0s 55ms/step\n",
            "1/1 [==============================] - 0s 38ms/step\n",
            "1/1 [==============================] - 0s 58ms/step\n",
            "1/1 [==============================] - 0s 59ms/step\n",
            "1/1 [==============================] - 0s 52ms/step\n",
            "1/1 [==============================] - 0s 38ms/step\n",
            "1/1 [==============================] - 0s 44ms/step\n",
            "1/1 [==============================] - 0s 49ms/step\n",
            "1/1 [==============================] - 0s 76ms/step\n",
            "1/1 [==============================] - 0s 48ms/step\n",
            "1/1 [==============================] - 0s 42ms/step\n",
            "1/1 [==============================] - 0s 43ms/step\n",
            "1/1 [==============================] - 0s 37ms/step\n",
            "1/1 [==============================] - 0s 40ms/step\n",
            "1/1 [==============================] - 0s 39ms/step\n",
            "1/1 [==============================] - 0s 36ms/step\n",
            "1/1 [==============================] - 0s 41ms/step\n",
            "1/1 [==============================] - 0s 41ms/step\n",
            "1/1 [==============================] - 0s 38ms/step\n",
            "1/1 [==============================] - 0s 40ms/step\n",
            "1/1 [==============================] - 0s 41ms/step\n",
            "1/1 [==============================] - 0s 35ms/step\n",
            "1/1 [==============================] - 0s 36ms/step\n",
            "1/1 [==============================] - 0s 37ms/step\n",
            "1/1 [==============================] - 0s 37ms/step\n",
            "1/1 [==============================] - 0s 41ms/step\n",
            "1/1 [==============================] - 0s 41ms/step\n",
            "1/1 [==============================] - 0s 48ms/step\n",
            "1/1 [==============================] - 0s 37ms/step\n",
            "1/1 [==============================] - 0s 36ms/step\n",
            "1/1 [==============================] - 0s 45ms/step\n",
            "1/1 [==============================] - 0s 42ms/step\n",
            "1/1 [==============================] - 0s 32ms/step\n",
            "1/1 [==============================] - 0s 24ms/step\n",
            "1/1 [==============================] - 0s 29ms/step\n",
            "1/1 [==============================] - 0s 24ms/step\n",
            "1/1 [==============================] - 0s 24ms/step\n",
            "1/1 [==============================] - 0s 29ms/step\n",
            "1/1 [==============================] - 0s 26ms/step\n",
            "1/1 [==============================] - 0s 27ms/step\n",
            "1/1 [==============================] - 0s 25ms/step\n",
            "1/1 [==============================] - 0s 25ms/step\n",
            "1/1 [==============================] - 0s 25ms/step\n",
            "1/1 [==============================] - 0s 24ms/step\n",
            "1/1 [==============================] - 0s 28ms/step\n",
            "1/1 [==============================] - 0s 25ms/step\n",
            "1/1 [==============================] - 0s 29ms/step\n",
            "1/1 [==============================] - 0s 23ms/step\n",
            "1/1 [==============================] - 0s 25ms/step\n",
            "1/1 [==============================] - 0s 24ms/step\n",
            "1/1 [==============================] - 0s 24ms/step\n",
            "1/1 [==============================] - 0s 25ms/step\n",
            "1/1 [==============================] - 0s 25ms/step\n",
            "1/1 [==============================] - 0s 23ms/step\n",
            "1/1 [==============================] - 0s 29ms/step\n",
            "1/1 [==============================] - 0s 30ms/step\n",
            "1/1 [==============================] - 0s 26ms/step\n",
            "1/1 [==============================] - 0s 29ms/step\n",
            "1/1 [==============================] - 0s 25ms/step\n",
            "1/1 [==============================] - 0s 30ms/step\n",
            "1/1 [==============================] - 0s 25ms/step\n",
            "1/1 [==============================] - 0s 25ms/step\n",
            "1/1 [==============================] - 0s 28ms/step\n",
            "1/1 [==============================] - 0s 25ms/step\n",
            "1/1 [==============================] - 0s 28ms/step\n",
            "1/1 [==============================] - 0s 26ms/step\n",
            "1/1 [==============================] - 0s 26ms/step\n",
            "1/1 [==============================] - 0s 25ms/step\n",
            "1/1 [==============================] - 0s 26ms/step\n",
            "1/1 [==============================] - 0s 27ms/step\n",
            "1/1 [==============================] - 0s 32ms/step\n",
            "1/1 [==============================] - 0s 25ms/step\n",
            "1/1 [==============================] - 0s 31ms/step\n",
            "1/1 [==============================] - 0s 25ms/step\n",
            "1/1 [==============================] - 0s 30ms/step\n",
            "1/1 [==============================] - 0s 26ms/step\n",
            "1/1 [==============================] - 0s 28ms/step\n",
            "1/1 [==============================] - 0s 25ms/step\n",
            "1/1 [==============================] - 0s 24ms/step\n",
            "1/1 [==============================] - 0s 29ms/step\n",
            "1/1 [==============================] - 0s 26ms/step\n",
            "1/1 [==============================] - 0s 24ms/step\n",
            "1/1 [==============================] - 0s 25ms/step\n",
            "1/1 [==============================] - 0s 31ms/step\n",
            "1/1 [==============================] - 0s 29ms/step\n",
            "1/1 [==============================] - 0s 24ms/step\n",
            "1/1 [==============================] - 0s 24ms/step\n",
            "1/1 [==============================] - 0s 23ms/step\n",
            "1/1 [==============================] - 0s 28ms/step\n",
            "1/1 [==============================] - 0s 30ms/step\n",
            "1/1 [==============================] - 0s 30ms/step\n",
            "1/1 [==============================] - 0s 27ms/step\n",
            "1/1 [==============================] - 0s 32ms/step\n",
            "1/1 [==============================] - 0s 26ms/step\n",
            "1/1 [==============================] - 0s 26ms/step\n",
            "1/1 [==============================] - 0s 25ms/step\n",
            "1/1 [==============================] - 0s 26ms/step\n",
            "1/1 [==============================] - 0s 26ms/step\n",
            "1/1 [==============================] - 0s 29ms/step\n",
            "1/1 [==============================] - 0s 38ms/step\n",
            "1/1 [==============================] - 0s 24ms/step\n",
            "1/1 [==============================] - 0s 23ms/step\n",
            "1/1 [==============================] - 0s 29ms/step\n",
            "1/1 [==============================] - 0s 27ms/step\n",
            "1/1 [==============================] - 0s 25ms/step\n",
            "1/1 [==============================] - 0s 25ms/step\n",
            "1/1 [==============================] - 0s 31ms/step\n",
            "1/1 [==============================] - 0s 27ms/step\n",
            "1/1 [==============================] - 0s 27ms/step\n",
            "1/1 [==============================] - 0s 33ms/step\n",
            "1/1 [==============================] - 0s 26ms/step\n",
            "1/1 [==============================] - 0s 26ms/step\n",
            "1/1 [==============================] - 0s 24ms/step\n",
            "1/1 [==============================] - 0s 24ms/step\n",
            "1/1 [==============================] - 0s 24ms/step\n",
            "1/1 [==============================] - 0s 25ms/step\n",
            "1/1 [==============================] - 0s 25ms/step\n",
            "1/1 [==============================] - 0s 28ms/step\n",
            "1/1 [==============================] - 0s 24ms/step\n",
            "1/1 [==============================] - 0s 26ms/step\n",
            "1/1 [==============================] - 0s 31ms/step\n",
            "1/1 [==============================] - 0s 24ms/step\n",
            "1/1 [==============================] - 0s 26ms/step\n",
            "1/1 [==============================] - 0s 29ms/step\n",
            "1/1 [==============================] - 0s 24ms/step\n",
            "1/1 [==============================] - 0s 26ms/step\n",
            "1/1 [==============================] - 0s 25ms/step\n",
            "1/1 [==============================] - 0s 26ms/step\n",
            "1/1 [==============================] - 0s 23ms/step\n",
            "1/1 [==============================] - 0s 30ms/step\n",
            "1/1 [==============================] - 0s 30ms/step\n",
            "1/1 [==============================] - 0s 25ms/step\n",
            "1/1 [==============================] - 0s 26ms/step\n",
            "1/1 [==============================] - 0s 30ms/step\n",
            "1/1 [==============================] - 0s 31ms/step\n",
            "1/1 [==============================] - 0s 33ms/step\n",
            "1/1 [==============================] - 0s 28ms/step\n",
            "1/1 [==============================] - 0s 27ms/step\n",
            "1/1 [==============================] - 0s 25ms/step\n",
            "1/1 [==============================] - 0s 25ms/step\n",
            "1/1 [==============================] - 0s 25ms/step\n",
            "1/1 [==============================] - 0s 25ms/step\n",
            "1/1 [==============================] - 0s 27ms/step\n",
            "1/1 [==============================] - 0s 27ms/step\n",
            "1/1 [==============================] - 0s 28ms/step\n",
            "1/1 [==============================] - 0s 40ms/step\n",
            "1/1 [==============================] - 0s 24ms/step\n",
            "1/1 [==============================] - 0s 25ms/step\n",
            "1/1 [==============================] - 0s 24ms/step\n",
            "1/1 [==============================] - 0s 32ms/step\n",
            "1/1 [==============================] - 0s 26ms/step\n",
            "1/1 [==============================] - 0s 29ms/step\n",
            "1/1 [==============================] - 0s 22ms/step\n",
            "1/1 [==============================] - 0s 25ms/step\n",
            "1/1 [==============================] - 0s 24ms/step\n",
            "1/1 [==============================] - 0s 23ms/step\n",
            "1/1 [==============================] - 0s 22ms/step\n",
            "1/1 [==============================] - 0s 21ms/step\n",
            "1/1 [==============================] - 0s 24ms/step\n",
            "1/1 [==============================] - 0s 22ms/step\n",
            "1/1 [==============================] - 0s 29ms/step\n",
            "1/1 [==============================] - 0s 23ms/step\n",
            "1/1 [==============================] - 0s 25ms/step\n",
            "1/1 [==============================] - 0s 29ms/step\n",
            "1/1 [==============================] - 0s 28ms/step\n",
            "1/1 [==============================] - 0s 26ms/step\n",
            "1/1 [==============================] - 0s 24ms/step\n",
            "1/1 [==============================] - 0s 30ms/step\n",
            "1/1 [==============================] - 0s 26ms/step\n",
            "1/1 [==============================] - 0s 27ms/step\n",
            "1/1 [==============================] - 0s 29ms/step\n",
            "1/1 [==============================] - 0s 37ms/step\n",
            "1/1 [==============================] - 0s 27ms/step\n",
            "1/1 [==============================] - 0s 28ms/step\n",
            "1/1 [==============================] - 0s 25ms/step\n",
            "1/1 [==============================] - 0s 24ms/step\n",
            "1/1 [==============================] - 0s 23ms/step\n",
            "1/1 [==============================] - 0s 26ms/step\n",
            "1/1 [==============================] - 0s 23ms/step\n",
            "1/1 [==============================] - 0s 29ms/step\n",
            "1/1 [==============================] - 0s 35ms/step\n",
            "1/1 [==============================] - 0s 25ms/step\n",
            "1/1 [==============================] - 0s 25ms/step\n",
            "1/1 [==============================] - 0s 23ms/step\n",
            "1/1 [==============================] - 0s 26ms/step\n",
            "1/1 [==============================] - 0s 24ms/step\n",
            "1/1 [==============================] - 0s 27ms/step\n",
            "1/1 [==============================] - 0s 25ms/step\n",
            "1/1 [==============================] - 0s 24ms/step\n",
            "1/1 [==============================] - 0s 25ms/step\n",
            "1/1 [==============================] - 0s 24ms/step\n",
            "1/1 [==============================] - 0s 27ms/step\n",
            "1/1 [==============================] - 0s 28ms/step\n",
            "1/1 [==============================] - 0s 29ms/step\n",
            "1/1 [==============================] - 0s 24ms/step\n",
            "1/1 [==============================] - 0s 25ms/step\n",
            "1/1 [==============================] - 0s 23ms/step\n",
            "1/1 [==============================] - 0s 25ms/step\n",
            "1/1 [==============================] - 0s 26ms/step\n",
            "1/1 [==============================] - 0s 27ms/step\n",
            "1/1 [==============================] - 0s 25ms/step\n",
            "1/1 [==============================] - 0s 26ms/step\n",
            "1/1 [==============================] - 0s 28ms/step\n",
            "1/1 [==============================] - 0s 26ms/step\n",
            "1/1 [==============================] - 0s 31ms/step\n",
            "1/1 [==============================] - 0s 24ms/step\n",
            "1/1 [==============================] - 0s 25ms/step\n",
            "1/1 [==============================] - 0s 28ms/step\n",
            "1/1 [==============================] - 0s 29ms/step\n",
            "1/1 [==============================] - 0s 25ms/step\n",
            "1/1 [==============================] - 0s 27ms/step\n",
            "1/1 [==============================] - 0s 24ms/step\n",
            "1/1 [==============================] - 0s 25ms/step\n",
            "1/1 [==============================] - 0s 29ms/step\n",
            "1/1 [==============================] - 0s 23ms/step\n",
            "1/1 [==============================] - 0s 24ms/step\n",
            "1/1 [==============================] - 0s 24ms/step\n",
            "1/1 [==============================] - 0s 27ms/step\n",
            "1/1 [==============================] - 0s 25ms/step\n",
            "1/1 [==============================] - 0s 25ms/step\n",
            "1/1 [==============================] - 0s 24ms/step\n",
            "1/1 [==============================] - 0s 22ms/step\n",
            "1/1 [==============================] - 0s 25ms/step\n",
            "1/1 [==============================] - 0s 24ms/step\n",
            "1/1 [==============================] - 0s 27ms/step\n",
            "1/1 [==============================] - 0s 25ms/step\n",
            "1/1 [==============================] - 0s 23ms/step\n",
            "1/1 [==============================] - 0s 25ms/step\n",
            "1/1 [==============================] - 0s 34ms/step\n",
            "1/1 [==============================] - 0s 25ms/step\n",
            "1/1 [==============================] - 0s 29ms/step\n",
            "1/1 [==============================] - 0s 28ms/step\n",
            "1/1 [==============================] - 0s 23ms/step\n",
            "1/1 [==============================] - 0s 26ms/step\n",
            "1/1 [==============================] - 0s 23ms/step\n",
            "1/1 [==============================] - 0s 31ms/step\n",
            "1/1 [==============================] - 0s 27ms/step\n",
            "1/1 [==============================] - 0s 25ms/step\n",
            "1/1 [==============================] - 0s 24ms/step\n",
            "1/1 [==============================] - 0s 27ms/step\n",
            "1/1 [==============================] - 0s 25ms/step\n",
            "1/1 [==============================] - 0s 29ms/step\n",
            "1/1 [==============================] - 0s 25ms/step\n",
            "1/1 [==============================] - 0s 27ms/step\n",
            "1/1 [==============================] - 0s 23ms/step\n",
            "1/1 [==============================] - 0s 29ms/step\n",
            "1/1 [==============================] - 0s 25ms/step\n",
            "1/1 [==============================] - 0s 24ms/step\n",
            "1/1 [==============================] - 0s 26ms/step\n",
            "1/1 [==============================] - 0s 24ms/step\n",
            "1/1 [==============================] - 0s 24ms/step\n",
            "1/1 [==============================] - 0s 24ms/step\n",
            "1/1 [==============================] - 0s 29ms/step\n",
            "1/1 [==============================] - 0s 24ms/step\n",
            "1/1 [==============================] - 0s 28ms/step\n",
            "1/1 [==============================] - 0s 28ms/step\n",
            "1/1 [==============================] - 0s 25ms/step\n",
            "1/1 [==============================] - 0s 28ms/step\n",
            "1/1 [==============================] - 0s 28ms/step\n",
            "1/1 [==============================] - 0s 25ms/step\n",
            "1/1 [==============================] - 0s 24ms/step\n",
            "1/1 [==============================] - 0s 26ms/step\n",
            "1/1 [==============================] - 0s 25ms/step\n",
            "1/1 [==============================] - 0s 26ms/step\n",
            "1/1 [==============================] - 0s 23ms/step\n",
            "1/1 [==============================] - 0s 26ms/step\n",
            "1/1 [==============================] - 0s 32ms/step\n",
            "1/1 [==============================] - 0s 26ms/step\n",
            "1/1 [==============================] - 0s 24ms/step\n",
            "1/1 [==============================] - 0s 25ms/step\n",
            "1/1 [==============================] - 0s 24ms/step\n",
            "1/1 [==============================] - 0s 31ms/step\n",
            "1/1 [==============================] - 0s 35ms/step\n",
            "1/1 [==============================] - 0s 24ms/step\n",
            "1/1 [==============================] - 0s 26ms/step\n",
            "1/1 [==============================] - 0s 31ms/step\n",
            "1/1 [==============================] - 0s 25ms/step\n",
            "1/1 [==============================] - 0s 24ms/step\n",
            "1/1 [==============================] - 0s 25ms/step\n",
            "1/1 [==============================] - 0s 30ms/step\n",
            "1/1 [==============================] - 0s 28ms/step\n",
            "1/1 [==============================] - 0s 25ms/step\n",
            "1/1 [==============================] - 0s 36ms/step\n",
            "1/1 [==============================] - 0s 26ms/step\n",
            "1/1 [==============================] - 0s 27ms/step\n",
            "1/1 [==============================] - 0s 23ms/step\n",
            "1/1 [==============================] - 0s 24ms/step\n",
            "1/1 [==============================] - 0s 24ms/step\n",
            "1/1 [==============================] - 0s 27ms/step\n",
            "1/1 [==============================] - 0s 25ms/step\n",
            "1/1 [==============================] - 0s 24ms/step\n",
            "1/1 [==============================] - 0s 25ms/step\n",
            "1/1 [==============================] - 0s 24ms/step\n",
            "1/1 [==============================] - 0s 24ms/step\n",
            "1/1 [==============================] - 0s 28ms/step\n",
            "1/1 [==============================] - 0s 25ms/step\n",
            "1/1 [==============================] - 0s 25ms/step\n",
            "1/1 [==============================] - 0s 24ms/step\n",
            "1/1 [==============================] - 0s 24ms/step\n",
            "1/1 [==============================] - 0s 24ms/step\n",
            "1/1 [==============================] - 0s 28ms/step\n",
            "1/1 [==============================] - 0s 25ms/step\n",
            "1/1 [==============================] - 0s 25ms/step\n",
            "1/1 [==============================] - 0s 27ms/step\n",
            "1/1 [==============================] - 0s 24ms/step\n",
            "1/1 [==============================] - 0s 25ms/step\n",
            "1/1 [==============================] - 0s 23ms/step\n",
            "1/1 [==============================] - 0s 24ms/step\n",
            "1/1 [==============================] - 0s 24ms/step\n",
            "1/1 [==============================] - 0s 25ms/step\n",
            "1/1 [==============================] - 0s 27ms/step\n",
            "1/1 [==============================] - 0s 25ms/step\n",
            "1/1 [==============================] - 0s 36ms/step\n",
            "1/1 [==============================] - 0s 27ms/step\n",
            "1/1 [==============================] - 0s 25ms/step\n",
            "1/1 [==============================] - 0s 24ms/step\n",
            "1/1 [==============================] - 0s 24ms/step\n",
            "1/1 [==============================] - 0s 24ms/step\n",
            "1/1 [==============================] - 0s 25ms/step\n",
            "1/1 [==============================] - 0s 30ms/step\n",
            "1/1 [==============================] - 0s 23ms/step\n",
            "1/1 [==============================] - 0s 25ms/step\n",
            "1/1 [==============================] - 0s 24ms/step\n",
            "1/1 [==============================] - 0s 26ms/step\n",
            "1/1 [==============================] - 0s 24ms/step\n",
            "1/1 [==============================] - 0s 25ms/step\n",
            "1/1 [==============================] - 0s 24ms/step\n",
            "1/1 [==============================] - 0s 23ms/step\n",
            "1/1 [==============================] - 0s 28ms/step\n",
            "1/1 [==============================] - 0s 24ms/step\n",
            "1/1 [==============================] - 0s 25ms/step\n",
            "1/1 [==============================] - 0s 24ms/step\n",
            "1/1 [==============================] - 0s 24ms/step\n",
            "1/1 [==============================] - 0s 28ms/step\n",
            "1/1 [==============================] - 0s 25ms/step\n",
            "1/1 [==============================] - 0s 25ms/step\n",
            "1/1 [==============================] - 0s 25ms/step\n",
            "1/1 [==============================] - 0s 27ms/step\n",
            "1/1 [==============================] - 0s 25ms/step\n",
            "1/1 [==============================] - 0s 26ms/step\n",
            "1/1 [==============================] - 0s 26ms/step\n",
            "1/1 [==============================] - 0s 27ms/step\n",
            "1/1 [==============================] - 0s 29ms/step\n",
            "1/1 [==============================] - 0s 28ms/step\n",
            "1/1 [==============================] - 0s 24ms/step\n",
            "1/1 [==============================] - 0s 26ms/step\n",
            "1/1 [==============================] - 0s 26ms/step\n",
            "1/1 [==============================] - 0s 24ms/step\n",
            "1/1 [==============================] - 0s 24ms/step\n",
            "1/1 [==============================] - 0s 25ms/step\n",
            "1/1 [==============================] - 0s 24ms/step\n",
            "1/1 [==============================] - 0s 28ms/step\n",
            "1/1 [==============================] - 0s 34ms/step\n",
            "1/1 [==============================] - 0s 24ms/step\n",
            "1/1 [==============================] - 0s 25ms/step\n",
            "1/1 [==============================] - 0s 26ms/step\n",
            "1/1 [==============================] - 0s 26ms/step\n",
            "1/1 [==============================] - 0s 25ms/step\n",
            "1/1 [==============================] - 0s 24ms/step\n",
            "1/1 [==============================] - 0s 24ms/step\n",
            "1/1 [==============================] - 0s 25ms/step\n",
            "1/1 [==============================] - 0s 23ms/step\n",
            "1/1 [==============================] - 0s 27ms/step\n",
            "1/1 [==============================] - 0s 35ms/step\n",
            "1/1 [==============================] - 0s 25ms/step\n",
            "1/1 [==============================] - 0s 25ms/step\n",
            "1/1 [==============================] - 0s 27ms/step\n",
            "1/1 [==============================] - 0s 26ms/step\n",
            "1/1 [==============================] - 0s 28ms/step\n",
            "1/1 [==============================] - 0s 27ms/step\n",
            "1/1 [==============================] - 0s 28ms/step\n",
            "1/1 [==============================] - 0s 26ms/step\n",
            "1/1 [==============================] - 0s 23ms/step\n",
            "1/1 [==============================] - 0s 25ms/step\n",
            "1/1 [==============================] - 0s 25ms/step\n",
            "1/1 [==============================] - 0s 29ms/step\n",
            "1/1 [==============================] - 0s 26ms/step\n",
            "1/1 [==============================] - 0s 26ms/step\n",
            "1/1 [==============================] - 0s 24ms/step\n",
            "1/1 [==============================] - 0s 25ms/step\n",
            "1/1 [==============================] - 0s 25ms/step\n",
            "1/1 [==============================] - 0s 25ms/step\n",
            "1/1 [==============================] - 0s 26ms/step\n",
            "1/1 [==============================] - 0s 27ms/step\n",
            "1/1 [==============================] - 0s 28ms/step\n",
            "1/1 [==============================] - 0s 24ms/step\n",
            "1/1 [==============================] - 0s 25ms/step\n",
            "1/1 [==============================] - 0s 23ms/step\n",
            "1/1 [==============================] - 0s 33ms/step\n",
            "1/1 [==============================] - 0s 25ms/step\n",
            "1/1 [==============================] - 0s 25ms/step\n",
            "1/1 [==============================] - 0s 24ms/step\n",
            "1/1 [==============================] - 0s 28ms/step\n",
            "1/1 [==============================] - 0s 31ms/step\n",
            "1/1 [==============================] - 0s 28ms/step\n",
            "1/1 [==============================] - 0s 23ms/step\n",
            "1/1 [==============================] - 0s 24ms/step\n",
            "1/1 [==============================] - 0s 26ms/step\n",
            "1/1 [==============================] - 0s 29ms/step\n",
            "1/1 [==============================] - 0s 24ms/step\n",
            "1/1 [==============================] - 0s 25ms/step\n",
            "1/1 [==============================] - 0s 24ms/step\n",
            "1/1 [==============================] - 0s 24ms/step\n",
            "1/1 [==============================] - 0s 32ms/step\n",
            "1/1 [==============================] - 0s 24ms/step\n",
            "1/1 [==============================] - 0s 24ms/step\n",
            "1/1 [==============================] - 0s 30ms/step\n",
            "1/1 [==============================] - 0s 26ms/step\n",
            "1/1 [==============================] - 0s 24ms/step\n",
            "1/1 [==============================] - 0s 23ms/step\n",
            "1/1 [==============================] - 0s 27ms/step\n",
            "1/1 [==============================] - 0s 24ms/step\n",
            "1/1 [==============================] - 0s 26ms/step\n",
            "1/1 [==============================] - 0s 33ms/step\n",
            "1/1 [==============================] - 0s 25ms/step\n",
            "1/1 [==============================] - 0s 24ms/step\n",
            "1/1 [==============================] - 0s 26ms/step\n",
            "1/1 [==============================] - 0s 25ms/step\n",
            "1/1 [==============================] - 0s 25ms/step\n",
            "1/1 [==============================] - 0s 25ms/step\n",
            "1/1 [==============================] - 0s 25ms/step\n",
            "1/1 [==============================] - 0s 31ms/step\n",
            "1/1 [==============================] - 0s 25ms/step\n",
            "1/1 [==============================] - 0s 25ms/step\n",
            "1/1 [==============================] - 0s 25ms/step\n",
            "1/1 [==============================] - 0s 30ms/step\n",
            "1/1 [==============================] - 0s 27ms/step\n",
            "1/1 [==============================] - 0s 27ms/step\n",
            "1/1 [==============================] - 0s 27ms/step\n",
            "1/1 [==============================] - 0s 33ms/step\n",
            "1/1 [==============================] - 0s 27ms/step\n",
            "1/1 [==============================] - 0s 25ms/step\n",
            "1/1 [==============================] - 0s 26ms/step\n",
            "1/1 [==============================] - 0s 31ms/step\n",
            "1/1 [==============================] - 0s 38ms/step\n",
            "1/1 [==============================] - 0s 25ms/step\n",
            "1/1 [==============================] - 0s 29ms/step\n",
            "1/1 [==============================] - 0s 27ms/step\n",
            "1/1 [==============================] - 0s 31ms/step\n",
            "1/1 [==============================] - 0s 25ms/step\n",
            "1/1 [==============================] - 0s 24ms/step\n",
            "1/1 [==============================] - 0s 26ms/step\n",
            "1/1 [==============================] - 0s 31ms/step\n",
            "1/1 [==============================] - 0s 27ms/step\n",
            "1/1 [==============================] - 0s 24ms/step\n",
            "1/1 [==============================] - 0s 24ms/step\n",
            "1/1 [==============================] - 0s 28ms/step\n",
            "1/1 [==============================] - 0s 31ms/step\n",
            "1/1 [==============================] - 0s 32ms/step\n",
            "1/1 [==============================] - 0s 26ms/step\n",
            "1/1 [==============================] - 0s 26ms/step\n",
            "1/1 [==============================] - 0s 35ms/step\n",
            "1/1 [==============================] - 0s 26ms/step\n",
            "1/1 [==============================] - 0s 32ms/step\n",
            "1/1 [==============================] - 0s 26ms/step\n",
            "1/1 [==============================] - 0s 27ms/step\n",
            "1/1 [==============================] - 0s 25ms/step\n",
            "1/1 [==============================] - 0s 26ms/step\n",
            "1/1 [==============================] - 0s 25ms/step\n",
            "1/1 [==============================] - 0s 24ms/step\n",
            "1/1 [==============================] - 0s 24ms/step\n",
            "1/1 [==============================] - 0s 36ms/step\n",
            "1/1 [==============================] - 0s 26ms/step\n",
            "1/1 [==============================] - 0s 24ms/step\n",
            "1/1 [==============================] - 0s 26ms/step\n",
            "1/1 [==============================] - 0s 27ms/step\n",
            "1/1 [==============================] - 0s 24ms/step\n",
            "1/1 [==============================] - 0s 28ms/step\n",
            "1/1 [==============================] - 0s 26ms/step\n",
            "1/1 [==============================] - 0s 28ms/step\n",
            "1/1 [==============================] - 0s 24ms/step\n",
            "1/1 [==============================] - 0s 24ms/step\n",
            "1/1 [==============================] - 0s 26ms/step\n",
            "1/1 [==============================] - 0s 28ms/step\n",
            "1/1 [==============================] - 0s 25ms/step\n",
            "1/1 [==============================] - 0s 25ms/step\n",
            "1/1 [==============================] - 0s 25ms/step\n",
            "1/1 [==============================] - 0s 26ms/step\n",
            "1/1 [==============================] - 0s 26ms/step\n",
            "1/1 [==============================] - 0s 25ms/step\n",
            "1/1 [==============================] - 0s 24ms/step\n",
            "1/1 [==============================] - 0s 27ms/step\n",
            "1/1 [==============================] - 0s 29ms/step\n",
            "1/1 [==============================] - 0s 32ms/step\n",
            "1/1 [==============================] - 0s 28ms/step\n",
            "1/1 [==============================] - 0s 24ms/step\n",
            "1/1 [==============================] - 0s 23ms/step\n",
            "1/1 [==============================] - 0s 28ms/step\n",
            "1/1 [==============================] - 0s 24ms/step\n",
            "1/1 [==============================] - 0s 29ms/step\n",
            "1/1 [==============================] - 0s 25ms/step\n",
            "1/1 [==============================] - 0s 31ms/step\n",
            "1/1 [==============================] - 0s 26ms/step\n",
            "1/1 [==============================] - 0s 29ms/step\n",
            "1/1 [==============================] - 0s 24ms/step\n",
            "1/1 [==============================] - 0s 26ms/step\n",
            "1/1 [==============================] - 0s 28ms/step\n",
            "1/1 [==============================] - 0s 27ms/step\n",
            "1/1 [==============================] - 0s 24ms/step\n",
            "1/1 [==============================] - 0s 27ms/step\n",
            "1/1 [==============================] - 0s 30ms/step\n",
            "1/1 [==============================] - 0s 25ms/step\n",
            "1/1 [==============================] - 0s 26ms/step\n",
            "1/1 [==============================] - 0s 24ms/step\n",
            "1/1 [==============================] - 0s 24ms/step\n",
            "1/1 [==============================] - 0s 27ms/step\n",
            "1/1 [==============================] - 0s 25ms/step\n",
            "1/1 [==============================] - 0s 26ms/step\n",
            "1/1 [==============================] - 0s 26ms/step\n",
            "1/1 [==============================] - 0s 28ms/step\n",
            "1/1 [==============================] - 0s 28ms/step\n",
            "1/1 [==============================] - 0s 26ms/step\n",
            "1/1 [==============================] - 0s 25ms/step\n",
            "1/1 [==============================] - 0s 27ms/step\n",
            "1/1 [==============================] - 0s 28ms/step\n",
            "1/1 [==============================] - 0s 26ms/step\n",
            "1/1 [==============================] - 0s 23ms/step\n",
            "1/1 [==============================] - 0s 25ms/step\n",
            "1/1 [==============================] - 0s 24ms/step\n",
            "1/1 [==============================] - 0s 23ms/step\n",
            "1/1 [==============================] - 0s 23ms/step\n",
            "1/1 [==============================] - 0s 24ms/step\n",
            "1/1 [==============================] - 0s 23ms/step\n",
            "1/1 [==============================] - 0s 24ms/step\n",
            "1/1 [==============================] - 0s 26ms/step\n",
            "1/1 [==============================] - 0s 24ms/step\n",
            "1/1 [==============================] - 0s 27ms/step\n",
            "1/1 [==============================] - 0s 25ms/step\n",
            "1/1 [==============================] - 0s 25ms/step\n",
            "1/1 [==============================] - 0s 26ms/step\n",
            "1/1 [==============================] - 0s 29ms/step\n",
            "1/1 [==============================] - 0s 25ms/step\n",
            "1/1 [==============================] - 0s 25ms/step\n",
            "1/1 [==============================] - 0s 24ms/step\n",
            "1/1 [==============================] - 0s 26ms/step\n",
            "1/1 [==============================] - 0s 29ms/step\n",
            "1/1 [==============================] - 0s 25ms/step\n",
            "1/1 [==============================] - 0s 25ms/step\n",
            "1/1 [==============================] - 0s 24ms/step\n",
            "1/1 [==============================] - 0s 25ms/step\n",
            "1/1 [==============================] - 0s 25ms/step\n",
            "1/1 [==============================] - 0s 38ms/step\n",
            "1/1 [==============================] - 0s 25ms/step\n",
            "1/1 [==============================] - 0s 28ms/step\n",
            "1/1 [==============================] - 0s 32ms/step\n",
            "1/1 [==============================] - 0s 26ms/step\n",
            "1/1 [==============================] - 0s 26ms/step\n",
            "1/1 [==============================] - 0s 24ms/step\n",
            "1/1 [==============================] - 0s 26ms/step\n",
            "1/1 [==============================] - 0s 28ms/step\n",
            "1/1 [==============================] - 0s 25ms/step\n",
            "1/1 [==============================] - 0s 26ms/step\n",
            "1/1 [==============================] - 0s 27ms/step\n",
            "1/1 [==============================] - 0s 25ms/step\n",
            "1/1 [==============================] - 0s 25ms/step\n",
            "1/1 [==============================] - 0s 25ms/step\n",
            "1/1 [==============================] - 0s 27ms/step\n",
            "1/1 [==============================] - 0s 26ms/step\n",
            "1/1 [==============================] - 0s 27ms/step\n",
            "1/1 [==============================] - 0s 36ms/step\n",
            "1/1 [==============================] - 0s 26ms/step\n",
            "1/1 [==============================] - 0s 27ms/step\n",
            "1/1 [==============================] - 0s 25ms/step\n",
            "1/1 [==============================] - 0s 25ms/step\n",
            "1/1 [==============================] - 0s 32ms/step\n",
            "1/1 [==============================] - 0s 26ms/step\n",
            "1/1 [==============================] - 0s 28ms/step\n",
            "1/1 [==============================] - 0s 24ms/step\n",
            "1/1 [==============================] - 0s 38ms/step\n",
            "1/1 [==============================] - 0s 24ms/step\n",
            "1/1 [==============================] - 0s 26ms/step\n",
            "1/1 [==============================] - 0s 28ms/step\n",
            "1/1 [==============================] - 0s 29ms/step\n",
            "1/1 [==============================] - 0s 29ms/step\n",
            "1/1 [==============================] - 0s 30ms/step\n",
            "1/1 [==============================] - 0s 24ms/step\n",
            "1/1 [==============================] - 0s 24ms/step\n",
            "1/1 [==============================] - 0s 24ms/step\n",
            "1/1 [==============================] - 0s 24ms/step\n",
            "1/1 [==============================] - 0s 24ms/step\n",
            "1/1 [==============================] - 0s 24ms/step\n",
            "1/1 [==============================] - 0s 23ms/step\n",
            "1/1 [==============================] - 0s 24ms/step\n",
            "1/1 [==============================] - 0s 24ms/step\n",
            "1/1 [==============================] - 0s 33ms/step\n",
            "1/1 [==============================] - 0s 24ms/step\n",
            "1/1 [==============================] - 0s 28ms/step\n",
            "1/1 [==============================] - 0s 27ms/step\n",
            "1/1 [==============================] - 0s 25ms/step\n",
            "1/1 [==============================] - 0s 29ms/step\n",
            "1/1 [==============================] - 0s 26ms/step\n",
            "1/1 [==============================] - 0s 25ms/step\n",
            "1/1 [==============================] - 0s 34ms/step\n",
            "1/1 [==============================] - 0s 24ms/step\n",
            "1/1 [==============================] - 0s 29ms/step\n",
            "1/1 [==============================] - 0s 28ms/step\n",
            "1/1 [==============================] - 0s 24ms/step\n",
            "1/1 [==============================] - 0s 24ms/step\n",
            "1/1 [==============================] - 0s 27ms/step\n",
            "1/1 [==============================] - 0s 26ms/step\n",
            "1/1 [==============================] - 0s 25ms/step\n",
            "1/1 [==============================] - 0s 23ms/step\n",
            "1/1 [==============================] - 0s 29ms/step\n",
            "1/1 [==============================] - 0s 24ms/step\n",
            "1/1 [==============================] - 0s 29ms/step\n",
            "1/1 [==============================] - 0s 27ms/step\n",
            "1/1 [==============================] - 0s 34ms/step\n",
            "1/1 [==============================] - 0s 27ms/step\n",
            "1/1 [==============================] - 0s 25ms/step\n",
            "1/1 [==============================] - 0s 24ms/step\n",
            "1/1 [==============================] - 0s 25ms/step\n",
            "1/1 [==============================] - 0s 25ms/step\n",
            "1/1 [==============================] - 0s 24ms/step\n",
            "1/1 [==============================] - 0s 35ms/step\n",
            "1/1 [==============================] - 0s 30ms/step\n",
            "1/1 [==============================] - 0s 27ms/step\n",
            "1/1 [==============================] - 0s 25ms/step\n",
            "1/1 [==============================] - 0s 29ms/step\n",
            "1/1 [==============================] - 0s 26ms/step\n",
            "1/1 [==============================] - 0s 25ms/step\n",
            "1/1 [==============================] - 0s 23ms/step\n",
            "1/1 [==============================] - 0s 25ms/step\n",
            "1/1 [==============================] - 0s 24ms/step\n",
            "1/1 [==============================] - 0s 25ms/step\n",
            "1/1 [==============================] - 0s 27ms/step\n",
            "1/1 [==============================] - 0s 28ms/step\n",
            "1/1 [==============================] - 0s 26ms/step\n",
            "1/1 [==============================] - 0s 27ms/step\n",
            "1/1 [==============================] - 0s 26ms/step\n",
            "1/1 [==============================] - 0s 25ms/step\n",
            "1/1 [==============================] - 0s 24ms/step\n",
            "1/1 [==============================] - 0s 29ms/step\n",
            "1/1 [==============================] - 0s 34ms/step\n",
            "1/1 [==============================] - 0s 25ms/step\n",
            "1/1 [==============================] - 0s 24ms/step\n",
            "1/1 [==============================] - 0s 34ms/step\n",
            "1/1 [==============================] - 0s 24ms/step\n",
            "1/1 [==============================] - 0s 28ms/step\n",
            "1/1 [==============================] - 0s 28ms/step\n",
            "1/1 [==============================] - 0s 23ms/step\n",
            "1/1 [==============================] - 0s 94ms/step\n",
            "1/1 [==============================] - 0s 115ms/step\n",
            "1/1 [==============================] - 0s 24ms/step\n",
            "1/1 [==============================] - 0s 29ms/step\n",
            "1/1 [==============================] - 0s 30ms/step\n",
            "1/1 [==============================] - 0s 26ms/step\n",
            "1/1 [==============================] - 0s 26ms/step\n",
            "1/1 [==============================] - 0s 24ms/step\n",
            "1/1 [==============================] - 0s 32ms/step\n",
            "1/1 [==============================] - 0s 27ms/step\n",
            "1/1 [==============================] - 0s 33ms/step\n",
            "1/1 [==============================] - 0s 32ms/step\n",
            "1/1 [==============================] - 0s 35ms/step\n",
            "1/1 [==============================] - 0s 29ms/step\n",
            "1/1 [==============================] - 0s 28ms/step\n",
            "1/1 [==============================] - 0s 27ms/step\n",
            "1/1 [==============================] - 0s 29ms/step\n",
            "1/1 [==============================] - 0s 26ms/step\n",
            "1/1 [==============================] - 0s 28ms/step\n",
            "1/1 [==============================] - 0s 24ms/step\n",
            "1/1 [==============================] - 0s 24ms/step\n",
            "1/1 [==============================] - 0s 25ms/step\n",
            "1/1 [==============================] - 0s 27ms/step\n",
            "1/1 [==============================] - 0s 29ms/step\n",
            "1/1 [==============================] - 0s 25ms/step\n",
            "1/1 [==============================] - 0s 25ms/step\n",
            "1/1 [==============================] - 0s 27ms/step\n",
            "1/1 [==============================] - 0s 24ms/step\n",
            "1/1 [==============================] - 0s 25ms/step\n",
            "1/1 [==============================] - 0s 25ms/step\n",
            "1/1 [==============================] - 0s 26ms/step\n",
            "1/1 [==============================] - 0s 33ms/step\n",
            "1/1 [==============================] - 0s 24ms/step\n",
            "1/1 [==============================] - 0s 28ms/step\n",
            "1/1 [==============================] - 0s 30ms/step\n",
            "1/1 [==============================] - 0s 26ms/step\n",
            "1/1 [==============================] - 0s 27ms/step\n",
            "1/1 [==============================] - 0s 28ms/step\n"
          ]
        }
      ],
      "source": [
        "import joblib\n",
        "from tensorflow.keras.preprocessing.sequence import pad_sequences\n",
        "\n",
        "tokenizer_text=joblib.load('/content/drive/MyDrive/case_study_2_new/base_model_tokenizer/tokenizer_text.pkl')\n",
        "tokenizer_sentiment=joblib.load('/content/drive/MyDrive/case_study_2_new/base_model_tokenizer/tokenizer_sentiment.pkl')\n",
        "\n",
        "max_length=33\n",
        "\n",
        "actual_selected_text_list=[]\n",
        "pred_selected_text_list=[]\n",
        "neutral_jaccard_score=[]\n",
        "positive_jaccard_score=[]\n",
        "negative_jaccard_score=[]\n",
        "jaccard_score=[]\n",
        "\n",
        "for i in range(len(test_data)):\n",
        "  actual_sel_text_indiv=test_data.iloc[i]['selected_text']\n",
        "  if test_data.iloc[i]['sentiment']=='neutral':\n",
        "    text=test_data.iloc[i]['text']\n",
        "    doc=nlp_neut(text)\n",
        "    if len(doc.ents)>=1:\n",
        "      pred_text_indiv=doc.ents[0].text\n",
        "      jaccard_indiv=jaccard(actual_sel_text_indiv,pred_text_indiv)\n",
        "      jaccard_score.append(jaccard_indiv)\n",
        "      neutral_jaccard_score.append(jaccard_indiv)\n",
        "    else:\n",
        "      sentiment=test_data.iloc[i]['sentiment']\n",
        "      text_token=tokenizer_text.texts_to_sequences([text])\n",
        "      text_padding=pad_sequences(text_token,max_length,padding='post')\n",
        "      sentiment_token=tokenizer_sentiment.texts_to_sequences([sentiment])\n",
        "      prediction=model.predict((text_padding,np.array(sentiment_token)))\n",
        "      prediction=np.squeeze(prediction,1)\n",
        "      prediction=np.array(prob_to_binary(prediction[0]))\n",
        "      pred_text_indiv=pred_text((prediction,text))\n",
        "      jaccard_indiv=jaccard(actual_sel_text_indiv,pred_text_indiv)\n",
        "      jaccard_score.append(jaccard_indiv)\n",
        "      neutral_jaccard_score.append(jaccard_indiv)\n",
        "  else:\n",
        "    if test_data.iloc[i]['sentiment']=='positive':\n",
        "      text=test_data.iloc[i]['text']\n",
        "      doc=nlp(text)\n",
        "      if len(doc.ents)>=1:\n",
        "        pred_text_indiv=doc.ents[0].text\n",
        "        jaccard_indiv=jaccard(actual_sel_text_indiv,pred_text_indiv)\n",
        "        jaccard_score.append(jaccard_indiv)\n",
        "        positive_jaccard_score.append(jaccard_indiv)\n",
        "      else:\n",
        "        sentiment=test_data.iloc[i]['sentiment']\n",
        "        text_token=tokenizer_text.texts_to_sequences([text])\n",
        "        text_padding=pad_sequences(text_token,max_length,padding='post')\n",
        "        sentiment_token=tokenizer_sentiment.texts_to_sequences([sentiment])\n",
        "        prediction=model.predict((text_padding,np.array(sentiment_token)))\n",
        "        prediction=np.squeeze(prediction,1)\n",
        "        prediction=np.array(prob_to_binary(prediction[0]))\n",
        "        pred_text_indiv=pred_text((prediction,text))\n",
        "        jaccard_indiv=jaccard(actual_sel_text_indiv,pred_text_indiv)\n",
        "        jaccard_score.append(jaccard_indiv)\n",
        "        positive_jaccard_score.append(jaccard_indiv)\n",
        "    else:\n",
        "      text=test_data.iloc[i]['text']\n",
        "      doc=nlp_neg(text)\n",
        "      if len(doc.ents)>=1:\n",
        "        pred_text_indiv=doc.ents[0].text\n",
        "        jaccard_indiv=jaccard(actual_sel_text_indiv,pred_text_indiv)\n",
        "        jaccard_score.append(jaccard_indiv)\n",
        "        negative_jaccard_score.append(jaccard_indiv)\n",
        "      else:\n",
        "        sentiment=test_data.iloc[i]['sentiment']\n",
        "        text_token=tokenizer_text.texts_to_sequences([text])\n",
        "        text_padding=pad_sequences(text_token,max_length,padding='post')\n",
        "        sentiment_token=tokenizer_sentiment.texts_to_sequences([sentiment])\n",
        "        prediction=model.predict((text_padding,np.array(sentiment_token)))\n",
        "        prediction=np.squeeze(prediction,1)\n",
        "        prediction=np.array(prob_to_binary(prediction[0]))\n",
        "        pred_text_indiv=pred_text((prediction,text))\n",
        "        jaccard_indiv=jaccard(actual_sel_text_indiv,pred_text_indiv)\n",
        "        jaccard_score.append(jaccard_indiv)\n",
        "        negative_jaccard_score.append(jaccard_indiv)\n"
      ]
    },
    {
      "cell_type": "code",
      "execution_count": null,
      "metadata": {
        "colab": {
          "base_uri": "https://localhost:8080/"
        },
        "id": "zXXxi1gZ-60P",
        "outputId": "e53dc409-20f0-40e4-a955-74c2493b3e1f"
      },
      "outputs": [
        {
          "output_type": "stream",
          "name": "stdout",
          "text": [
            "Overall jaccard score:  0.6328545382985566\n"
          ]
        }
      ],
      "source": [
        "print(\"Overall jaccard score: \",np.array(jaccard_score).mean())"
      ]
    },
    {
      "cell_type": "code",
      "execution_count": null,
      "metadata": {
        "colab": {
          "base_uri": "https://localhost:8080/"
        },
        "id": "QtibFWiS2edV",
        "outputId": "5089de2f-2e74-4f29-b55f-88485a0d0c8b"
      },
      "outputs": [
        {
          "output_type": "stream",
          "name": "stdout",
          "text": [
            "Jaccard score of negative sentences: 0.3932447425277765\n"
          ]
        }
      ],
      "source": [
        "print(\"Jaccard score of negative sentences:\",np.array(negative_jaccard_score).mean())"
      ]
    },
    {
      "cell_type": "code",
      "execution_count": null,
      "metadata": {
        "colab": {
          "base_uri": "https://localhost:8080/"
        },
        "id": "3KMdS0Te_WLm",
        "outputId": "251145c2-7d9d-4c4a-ac16-94ee9327acad"
      },
      "outputs": [
        {
          "output_type": "stream",
          "name": "stdout",
          "text": [
            "Jaccard score of positive sentences: 0.4101417477024566\n"
          ]
        }
      ],
      "source": [
        "print(\"Jaccard score of positive sentences:\",np.array(positive_jaccard_score).mean())"
      ]
    },
    {
      "cell_type": "code",
      "execution_count": null,
      "metadata": {
        "colab": {
          "base_uri": "https://localhost:8080/"
        },
        "id": "TUqeZDPSA5MD",
        "outputId": "96978ef1-6e43-4ca3-fb09-f30533cc0ae5"
      },
      "outputs": [
        {
          "output_type": "stream",
          "name": "stdout",
          "text": [
            "Jaccard score of neutral sentences: 0.9725894477330315\n"
          ]
        }
      ],
      "source": [
        "print(\"Jaccard score of neutral sentences:\",np.array(neutral_jaccard_score).mean())"
      ]
    },
    {
      "cell_type": "markdown",
      "metadata": {
        "id": "_aHpgE9SBVpI"
      },
      "source": [
        "From the above we can see that base deep learning model along with NER model is much better compared to base deep learning model."
      ]
    },
    {
      "cell_type": "markdown",
      "metadata": {
        "id": "s9KR7H9wB0Bs"
      },
      "source": [
        "Future Works:\n",
        "\n",
        "  1. In case of NER training if we train even more longer tha the current epochs then the number of uncounted (i.e th sentences for which labels could not be found) decreses considerably. As a future work a long time training has to be done to increase the performance of the model even more.\n",
        "  2.Try using various other task other than NER model. "
      ]
    }
  ]
}