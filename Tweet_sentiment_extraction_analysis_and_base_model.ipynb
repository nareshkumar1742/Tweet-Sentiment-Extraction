{
  "cells": [
    {
      "cell_type": "markdown",
      "metadata": {
        "id": "5Ln44JsDhGJv"
      },
      "source": [
        "#Tweet Sentiment Extraction#"
      ]
    },
    {
      "cell_type": "markdown",
      "metadata": {
        "id": "ue4qUr-whOL7"
      },
      "source": [
        "##Problem Statement:##\n",
        "\n",
        "  With all of the tweets circulating every second it is hard to tell whether the sentiment \n",
        "behind a specific tweet will impact a company, or a person's, brand for being viral (positive), or \n",
        "devastate profit because it strikes a negative tone. Capturing sentiment in language is important \n",
        "in these times where decisions and reactions are created and updated in seconds. But, which \n",
        "words actually lead to the sentiment description? In this competition we will need to pick out the \n",
        "part of the tweet (word or phrase) that reflects the sentiment. The main objective of this study is \n",
        "to figure out which phrase or word determines the sentiment of the tweet.\n",
        "  "
      ]
    },
    {
      "cell_type": "markdown",
      "metadata": {
        "id": "r0ACt0mChOQN"
      },
      "source": [
        "##Metric:##\n",
        "Jaccard Score. As we need to find the correct selected text we shall use jaccard score \n",
        "which calculates intersection over union. This metric is suggested by kaggle."
      ]
    },
    {
      "cell_type": "markdown",
      "metadata": {
        "id": "pLa06Gzs3zhC"
      },
      "source": [
        "##Code##"
      ]
    },
    {
      "cell_type": "code",
      "execution_count": null,
      "metadata": {
        "id": "HnwV4cwj4pe-"
      },
      "outputs": [],
      "source": [
        "!pip install -q kaggle\n",
        "!mkdir ~/.kaggle\n",
        "!cp kaggle.json ~/.kaggle/\n",
        "!chmod 600 ~/.kaggle/kaggle.json"
      ]
    },
    {
      "cell_type": "code",
      "execution_count": null,
      "metadata": {
        "colab": {
          "base_uri": "https://localhost:8080/"
        },
        "id": "AazVQhkX8zXO",
        "outputId": "eccad21d-19f0-4851-b0e4-85ed99ac95a2"
      },
      "outputs": [
        {
          "output_type": "stream",
          "name": "stdout",
          "text": [
            "Downloading tweet-sentiment-extraction.zip to /content\n",
            "\r  0% 0.00/1.39M [00:00<?, ?B/s]\n",
            "\r100% 1.39M/1.39M [00:00<00:00, 132MB/s]\n"
          ]
        }
      ],
      "source": [
        "!kaggle competitions download -c tweet-sentiment-extraction"
      ]
    },
    {
      "cell_type": "code",
      "execution_count": null,
      "metadata": {
        "id": "YEuFnY2F85-j"
      },
      "outputs": [],
      "source": [
        "import zipfile\n",
        "with zipfile.ZipFile('/content/tweet-sentiment-extraction.zip', 'r') as zipref:\n",
        "  zipref.extract('train.csv')\n",
        "  zipref.extract('test.csv')\n",
        "  zipref.extract('sample_submission.csv')"
      ]
    },
    {
      "cell_type": "code",
      "execution_count": null,
      "metadata": {
        "id": "JosQdR_z9YjN"
      },
      "outputs": [],
      "source": [
        "import pandas as pd\n",
        "import numpy as np\n",
        "import matplotlib.pyplot as plt\n",
        "import seaborn as sns"
      ]
    },
    {
      "cell_type": "code",
      "execution_count": null,
      "metadata": {
        "id": "COzFkrOL91Qp"
      },
      "outputs": [],
      "source": [
        "train_data=pd.read_csv('/content/train.csv')"
      ]
    },
    {
      "cell_type": "code",
      "execution_count": null,
      "metadata": {
        "colab": {
          "base_uri": "https://localhost:8080/",
          "height": 206
        },
        "id": "j0BlcXAY-CXn",
        "outputId": "28d0e052-7710-4ec5-fd07-6beb52f71dc9"
      },
      "outputs": [
        {
          "output_type": "execute_result",
          "data": {
            "text/plain": [
              "       textID                                               text  \\\n",
              "0  cb774db0d1                I`d have responded, if I were going   \n",
              "1  549e992a42      Sooo SAD I will miss you here in San Diego!!!   \n",
              "2  088c60f138                          my boss is bullying me...   \n",
              "3  9642c003ef                     what interview! leave me alone   \n",
              "4  358bd9e861   Sons of ****, why couldn`t they put them on t...   \n",
              "\n",
              "                         selected_text sentiment  \n",
              "0  I`d have responded, if I were going   neutral  \n",
              "1                             Sooo SAD  negative  \n",
              "2                          bullying me  negative  \n",
              "3                       leave me alone  negative  \n",
              "4                        Sons of ****,  negative  "
            ],
            "text/html": [
              "\n",
              "  <div id=\"df-ce66f6b2-546f-46bc-8b8f-daf18339df18\">\n",
              "    <div class=\"colab-df-container\">\n",
              "      <div>\n",
              "<style scoped>\n",
              "    .dataframe tbody tr th:only-of-type {\n",
              "        vertical-align: middle;\n",
              "    }\n",
              "\n",
              "    .dataframe tbody tr th {\n",
              "        vertical-align: top;\n",
              "    }\n",
              "\n",
              "    .dataframe thead th {\n",
              "        text-align: right;\n",
              "    }\n",
              "</style>\n",
              "<table border=\"1\" class=\"dataframe\">\n",
              "  <thead>\n",
              "    <tr style=\"text-align: right;\">\n",
              "      <th></th>\n",
              "      <th>textID</th>\n",
              "      <th>text</th>\n",
              "      <th>selected_text</th>\n",
              "      <th>sentiment</th>\n",
              "    </tr>\n",
              "  </thead>\n",
              "  <tbody>\n",
              "    <tr>\n",
              "      <th>0</th>\n",
              "      <td>cb774db0d1</td>\n",
              "      <td>I`d have responded, if I were going</td>\n",
              "      <td>I`d have responded, if I were going</td>\n",
              "      <td>neutral</td>\n",
              "    </tr>\n",
              "    <tr>\n",
              "      <th>1</th>\n",
              "      <td>549e992a42</td>\n",
              "      <td>Sooo SAD I will miss you here in San Diego!!!</td>\n",
              "      <td>Sooo SAD</td>\n",
              "      <td>negative</td>\n",
              "    </tr>\n",
              "    <tr>\n",
              "      <th>2</th>\n",
              "      <td>088c60f138</td>\n",
              "      <td>my boss is bullying me...</td>\n",
              "      <td>bullying me</td>\n",
              "      <td>negative</td>\n",
              "    </tr>\n",
              "    <tr>\n",
              "      <th>3</th>\n",
              "      <td>9642c003ef</td>\n",
              "      <td>what interview! leave me alone</td>\n",
              "      <td>leave me alone</td>\n",
              "      <td>negative</td>\n",
              "    </tr>\n",
              "    <tr>\n",
              "      <th>4</th>\n",
              "      <td>358bd9e861</td>\n",
              "      <td>Sons of ****, why couldn`t they put them on t...</td>\n",
              "      <td>Sons of ****,</td>\n",
              "      <td>negative</td>\n",
              "    </tr>\n",
              "  </tbody>\n",
              "</table>\n",
              "</div>\n",
              "      <button class=\"colab-df-convert\" onclick=\"convertToInteractive('df-ce66f6b2-546f-46bc-8b8f-daf18339df18')\"\n",
              "              title=\"Convert this dataframe to an interactive table.\"\n",
              "              style=\"display:none;\">\n",
              "        \n",
              "  <svg xmlns=\"http://www.w3.org/2000/svg\" height=\"24px\"viewBox=\"0 0 24 24\"\n",
              "       width=\"24px\">\n",
              "    <path d=\"M0 0h24v24H0V0z\" fill=\"none\"/>\n",
              "    <path d=\"M18.56 5.44l.94 2.06.94-2.06 2.06-.94-2.06-.94-.94-2.06-.94 2.06-2.06.94zm-11 1L8.5 8.5l.94-2.06 2.06-.94-2.06-.94L8.5 2.5l-.94 2.06-2.06.94zm10 10l.94 2.06.94-2.06 2.06-.94-2.06-.94-.94-2.06-.94 2.06-2.06.94z\"/><path d=\"M17.41 7.96l-1.37-1.37c-.4-.4-.92-.59-1.43-.59-.52 0-1.04.2-1.43.59L10.3 9.45l-7.72 7.72c-.78.78-.78 2.05 0 2.83L4 21.41c.39.39.9.59 1.41.59.51 0 1.02-.2 1.41-.59l7.78-7.78 2.81-2.81c.8-.78.8-2.07 0-2.86zM5.41 20L4 18.59l7.72-7.72 1.47 1.35L5.41 20z\"/>\n",
              "  </svg>\n",
              "      </button>\n",
              "      \n",
              "  <style>\n",
              "    .colab-df-container {\n",
              "      display:flex;\n",
              "      flex-wrap:wrap;\n",
              "      gap: 12px;\n",
              "    }\n",
              "\n",
              "    .colab-df-convert {\n",
              "      background-color: #E8F0FE;\n",
              "      border: none;\n",
              "      border-radius: 50%;\n",
              "      cursor: pointer;\n",
              "      display: none;\n",
              "      fill: #1967D2;\n",
              "      height: 32px;\n",
              "      padding: 0 0 0 0;\n",
              "      width: 32px;\n",
              "    }\n",
              "\n",
              "    .colab-df-convert:hover {\n",
              "      background-color: #E2EBFA;\n",
              "      box-shadow: 0px 1px 2px rgba(60, 64, 67, 0.3), 0px 1px 3px 1px rgba(60, 64, 67, 0.15);\n",
              "      fill: #174EA6;\n",
              "    }\n",
              "\n",
              "    [theme=dark] .colab-df-convert {\n",
              "      background-color: #3B4455;\n",
              "      fill: #D2E3FC;\n",
              "    }\n",
              "\n",
              "    [theme=dark] .colab-df-convert:hover {\n",
              "      background-color: #434B5C;\n",
              "      box-shadow: 0px 1px 3px 1px rgba(0, 0, 0, 0.15);\n",
              "      filter: drop-shadow(0px 1px 2px rgba(0, 0, 0, 0.3));\n",
              "      fill: #FFFFFF;\n",
              "    }\n",
              "  </style>\n",
              "\n",
              "      <script>\n",
              "        const buttonEl =\n",
              "          document.querySelector('#df-ce66f6b2-546f-46bc-8b8f-daf18339df18 button.colab-df-convert');\n",
              "        buttonEl.style.display =\n",
              "          google.colab.kernel.accessAllowed ? 'block' : 'none';\n",
              "\n",
              "        async function convertToInteractive(key) {\n",
              "          const element = document.querySelector('#df-ce66f6b2-546f-46bc-8b8f-daf18339df18');\n",
              "          const dataTable =\n",
              "            await google.colab.kernel.invokeFunction('convertToInteractive',\n",
              "                                                     [key], {});\n",
              "          if (!dataTable) return;\n",
              "\n",
              "          const docLinkHtml = 'Like what you see? Visit the ' +\n",
              "            '<a target=\"_blank\" href=https://colab.research.google.com/notebooks/data_table.ipynb>data table notebook</a>'\n",
              "            + ' to learn more about interactive tables.';\n",
              "          element.innerHTML = '';\n",
              "          dataTable['output_type'] = 'display_data';\n",
              "          await google.colab.output.renderOutput(dataTable, element);\n",
              "          const docLink = document.createElement('div');\n",
              "          docLink.innerHTML = docLinkHtml;\n",
              "          element.appendChild(docLink);\n",
              "        }\n",
              "      </script>\n",
              "    </div>\n",
              "  </div>\n",
              "  "
            ]
          },
          "metadata": {},
          "execution_count": 6
        }
      ],
      "source": [
        "train_data.head(5)"
      ]
    },
    {
      "cell_type": "markdown",
      "metadata": {
        "id": "TGUvUYFMXPAN"
      },
      "source": [
        "##Exploratory Data Analysis##"
      ]
    },
    {
      "cell_type": "code",
      "execution_count": null,
      "metadata": {
        "colab": {
          "base_uri": "https://localhost:8080/",
          "height": 175
        },
        "id": "-4jrrpECXTk8",
        "outputId": "1c9097a9-fd70-46c5-85d0-b74a508680a4"
      },
      "outputs": [
        {
          "output_type": "execute_result",
          "data": {
            "text/plain": [
              "            textID                                  text selected_text  \\\n",
              "count        27481                                 27480         27480   \n",
              "unique       27481                                 27480         22463   \n",
              "top     cb774db0d1   I`d have responded, if I were going          good   \n",
              "freq             1                                     1           199   \n",
              "\n",
              "       sentiment  \n",
              "count      27481  \n",
              "unique         3  \n",
              "top      neutral  \n",
              "freq       11118  "
            ],
            "text/html": [
              "\n",
              "  <div id=\"df-a5326d57-9e98-46b0-8e1a-d63ae76225b5\">\n",
              "    <div class=\"colab-df-container\">\n",
              "      <div>\n",
              "<style scoped>\n",
              "    .dataframe tbody tr th:only-of-type {\n",
              "        vertical-align: middle;\n",
              "    }\n",
              "\n",
              "    .dataframe tbody tr th {\n",
              "        vertical-align: top;\n",
              "    }\n",
              "\n",
              "    .dataframe thead th {\n",
              "        text-align: right;\n",
              "    }\n",
              "</style>\n",
              "<table border=\"1\" class=\"dataframe\">\n",
              "  <thead>\n",
              "    <tr style=\"text-align: right;\">\n",
              "      <th></th>\n",
              "      <th>textID</th>\n",
              "      <th>text</th>\n",
              "      <th>selected_text</th>\n",
              "      <th>sentiment</th>\n",
              "    </tr>\n",
              "  </thead>\n",
              "  <tbody>\n",
              "    <tr>\n",
              "      <th>count</th>\n",
              "      <td>27481</td>\n",
              "      <td>27480</td>\n",
              "      <td>27480</td>\n",
              "      <td>27481</td>\n",
              "    </tr>\n",
              "    <tr>\n",
              "      <th>unique</th>\n",
              "      <td>27481</td>\n",
              "      <td>27480</td>\n",
              "      <td>22463</td>\n",
              "      <td>3</td>\n",
              "    </tr>\n",
              "    <tr>\n",
              "      <th>top</th>\n",
              "      <td>cb774db0d1</td>\n",
              "      <td>I`d have responded, if I were going</td>\n",
              "      <td>good</td>\n",
              "      <td>neutral</td>\n",
              "    </tr>\n",
              "    <tr>\n",
              "      <th>freq</th>\n",
              "      <td>1</td>\n",
              "      <td>1</td>\n",
              "      <td>199</td>\n",
              "      <td>11118</td>\n",
              "    </tr>\n",
              "  </tbody>\n",
              "</table>\n",
              "</div>\n",
              "      <button class=\"colab-df-convert\" onclick=\"convertToInteractive('df-a5326d57-9e98-46b0-8e1a-d63ae76225b5')\"\n",
              "              title=\"Convert this dataframe to an interactive table.\"\n",
              "              style=\"display:none;\">\n",
              "        \n",
              "  <svg xmlns=\"http://www.w3.org/2000/svg\" height=\"24px\"viewBox=\"0 0 24 24\"\n",
              "       width=\"24px\">\n",
              "    <path d=\"M0 0h24v24H0V0z\" fill=\"none\"/>\n",
              "    <path d=\"M18.56 5.44l.94 2.06.94-2.06 2.06-.94-2.06-.94-.94-2.06-.94 2.06-2.06.94zm-11 1L8.5 8.5l.94-2.06 2.06-.94-2.06-.94L8.5 2.5l-.94 2.06-2.06.94zm10 10l.94 2.06.94-2.06 2.06-.94-2.06-.94-.94-2.06-.94 2.06-2.06.94z\"/><path d=\"M17.41 7.96l-1.37-1.37c-.4-.4-.92-.59-1.43-.59-.52 0-1.04.2-1.43.59L10.3 9.45l-7.72 7.72c-.78.78-.78 2.05 0 2.83L4 21.41c.39.39.9.59 1.41.59.51 0 1.02-.2 1.41-.59l7.78-7.78 2.81-2.81c.8-.78.8-2.07 0-2.86zM5.41 20L4 18.59l7.72-7.72 1.47 1.35L5.41 20z\"/>\n",
              "  </svg>\n",
              "      </button>\n",
              "      \n",
              "  <style>\n",
              "    .colab-df-container {\n",
              "      display:flex;\n",
              "      flex-wrap:wrap;\n",
              "      gap: 12px;\n",
              "    }\n",
              "\n",
              "    .colab-df-convert {\n",
              "      background-color: #E8F0FE;\n",
              "      border: none;\n",
              "      border-radius: 50%;\n",
              "      cursor: pointer;\n",
              "      display: none;\n",
              "      fill: #1967D2;\n",
              "      height: 32px;\n",
              "      padding: 0 0 0 0;\n",
              "      width: 32px;\n",
              "    }\n",
              "\n",
              "    .colab-df-convert:hover {\n",
              "      background-color: #E2EBFA;\n",
              "      box-shadow: 0px 1px 2px rgba(60, 64, 67, 0.3), 0px 1px 3px 1px rgba(60, 64, 67, 0.15);\n",
              "      fill: #174EA6;\n",
              "    }\n",
              "\n",
              "    [theme=dark] .colab-df-convert {\n",
              "      background-color: #3B4455;\n",
              "      fill: #D2E3FC;\n",
              "    }\n",
              "\n",
              "    [theme=dark] .colab-df-convert:hover {\n",
              "      background-color: #434B5C;\n",
              "      box-shadow: 0px 1px 3px 1px rgba(0, 0, 0, 0.15);\n",
              "      filter: drop-shadow(0px 1px 2px rgba(0, 0, 0, 0.3));\n",
              "      fill: #FFFFFF;\n",
              "    }\n",
              "  </style>\n",
              "\n",
              "      <script>\n",
              "        const buttonEl =\n",
              "          document.querySelector('#df-a5326d57-9e98-46b0-8e1a-d63ae76225b5 button.colab-df-convert');\n",
              "        buttonEl.style.display =\n",
              "          google.colab.kernel.accessAllowed ? 'block' : 'none';\n",
              "\n",
              "        async function convertToInteractive(key) {\n",
              "          const element = document.querySelector('#df-a5326d57-9e98-46b0-8e1a-d63ae76225b5');\n",
              "          const dataTable =\n",
              "            await google.colab.kernel.invokeFunction('convertToInteractive',\n",
              "                                                     [key], {});\n",
              "          if (!dataTable) return;\n",
              "\n",
              "          const docLinkHtml = 'Like what you see? Visit the ' +\n",
              "            '<a target=\"_blank\" href=https://colab.research.google.com/notebooks/data_table.ipynb>data table notebook</a>'\n",
              "            + ' to learn more about interactive tables.';\n",
              "          element.innerHTML = '';\n",
              "          dataTable['output_type'] = 'display_data';\n",
              "          await google.colab.output.renderOutput(dataTable, element);\n",
              "          const docLink = document.createElement('div');\n",
              "          docLink.innerHTML = docLinkHtml;\n",
              "          element.appendChild(docLink);\n",
              "        }\n",
              "      </script>\n",
              "    </div>\n",
              "  </div>\n",
              "  "
            ]
          },
          "metadata": {},
          "execution_count": 7
        }
      ],
      "source": [
        "train_data.describe()"
      ]
    },
    {
      "cell_type": "code",
      "execution_count": null,
      "metadata": {
        "colab": {
          "base_uri": "https://localhost:8080/"
        },
        "id": "2b6MNkMsJRgw",
        "outputId": "5de098b3-b10b-42a9-d455-4321cfab323a"
      },
      "outputs": [
        {
          "output_type": "stream",
          "name": "stdout",
          "text": [
            "Missing values:\n",
            " textID           0\n",
            "text             1\n",
            "selected_text    1\n",
            "sentiment        0\n",
            "dtype: int64\n"
          ]
        }
      ],
      "source": [
        "print(\"Missing values:\\n\",train_data.isna().sum())"
      ]
    },
    {
      "cell_type": "markdown",
      "metadata": {
        "id": "ImRMnBd3XV7z"
      },
      "source": [
        "Here there is one data point with missing values. So we will delete the missing data."
      ]
    },
    {
      "cell_type": "code",
      "execution_count": null,
      "metadata": {
        "colab": {
          "base_uri": "https://localhost:8080/"
        },
        "id": "LK4P54TgJkl5",
        "outputId": "5fb8655b-a744-4aa6-fd41-06c6495b95f5"
      },
      "outputs": [
        {
          "output_type": "stream",
          "name": "stdout",
          "text": [
            "(27481, 4)\n",
            "(27480, 4)\n"
          ]
        }
      ],
      "source": [
        "print(train_data.shape)\n",
        "train_data.dropna(inplace=True)\n",
        "print(train_data.shape)"
      ]
    },
    {
      "cell_type": "markdown",
      "metadata": {
        "id": "1z_K0OsoXuRN"
      },
      "source": [
        "####Distribution of sentiments####"
      ]
    },
    {
      "cell_type": "code",
      "execution_count": null,
      "metadata": {
        "colab": {
          "base_uri": "https://localhost:8080/",
          "height": 354
        },
        "id": "1kmlODEyXtyG",
        "outputId": "3c2aeeb1-612e-4bee-eb4f-f8da53b2358d"
      },
      "outputs": [
        {
          "output_type": "stream",
          "name": "stderr",
          "text": [
            "/usr/local/lib/python3.7/dist-packages/seaborn/_decorators.py:43: FutureWarning: Pass the following variable as a keyword arg: x. From version 0.12, the only valid positional argument will be `data`, and passing other arguments without an explicit keyword will result in an error or misinterpretation.\n",
            "  FutureWarning\n"
          ]
        },
        {
          "output_type": "execute_result",
          "data": {
            "text/plain": [
              "<matplotlib.axes._subplots.AxesSubplot at 0x7fd545c24c90>"
            ]
          },
          "metadata": {},
          "execution_count": 10
        },
        {
          "output_type": "display_data",
          "data": {
            "text/plain": [
              "<Figure size 432x288 with 1 Axes>"
            ],
            "image/png": "[encoded data removed]"
          },
          "metadata": {
            "needs_background": "light"
          }
        }
      ],
      "source": [
        "sns.countplot('sentiment',data=train_data)"
      ]
    },
    {
      "cell_type": "markdown",
      "metadata": {
        "id": "ukm7OKfLXu92"
      },
      "source": [
        "We can see that neutral sentences are higher in than the positive and negative sentences. Now lets deep dive into analysis of these sentences."
      ]
    },
    {
      "cell_type": "markdown",
      "metadata": {
        "id": "Lz9LzJiyaGNm"
      },
      "source": [
        "Before Going to preprocessing we need to do certain analysis on the selected texts(i.e output). This is because usually in preprocessing we will remove stopwords, punctuations, URLS etc. But here if we observe some of the selected text have punctuation, URL. So it is necessary to find whether do we need to have punctuations, URL and so on."
      ]
    },
    {
      "cell_type": "code",
      "execution_count": null,
      "metadata": {
        "id": "csdWMuAi7tSW"
      },
      "outputs": [],
      "source": [
        "#NWT-Number of Words in Text\n",
        "train_data['NWT']=train_data['text'].apply(lambda x:len(str(x).split()))\n",
        "#NWST-Number of Words in Selected Text\n",
        "train_data['NWST']=train_data['selected_text'].apply(lambda x:len(str(x).split()))\n",
        "#NDW-Number of Differing Words between text and selected text\n",
        "train_data['NDW']=train_data['NWT']-train_data['NWST']"
      ]
    },
    {
      "cell_type": "code",
      "execution_count": null,
      "metadata": {
        "id": "P_3mFLBOn2-D"
      },
      "outputs": [],
      "source": [
        "import re\n",
        "def no_url(string):\n",
        "  urls=re.findall(r'(https?://[^\\s]+)', string)\n",
        "  return len(urls)"
      ]
    },
    {
      "cell_type": "code",
      "execution_count": null,
      "metadata": {
        "id": "sycR8pu7outx"
      },
      "outputs": [],
      "source": [
        "#Number of URL in text\n",
        "train_data['number_of_url']=train_data['text'].apply(lambda x:no_url(x))\n",
        "#Number of URL in selected text\n",
        "train_data['number_of_url_st']=train_data['selected_text'].apply(lambda x:no_url(x))"
      ]
    },
    {
      "cell_type": "code",
      "execution_count": null,
      "metadata": {
        "id": "i4Ok-PtH093b"
      },
      "outputs": [],
      "source": [
        "def is_spl_char(string):\n",
        "  if len(re.findall('[^A-Za-z]+',string))>=2:\n",
        "    return 1\n",
        "  else:\n",
        "    return 0"
      ]
    },
    {
      "cell_type": "code",
      "execution_count": null,
      "metadata": {
        "id": "D9K9Ngq74glH"
      },
      "outputs": [],
      "source": [
        "# Here spl_char represents the punctuations like *,!,_ etc.\n",
        "train_data['is_spl_char_st']=train_data['selected_text'].apply(lambda x:is_spl_char(x))"
      ]
    },
    {
      "cell_type": "code",
      "execution_count": null,
      "metadata": {
        "colab": {
          "base_uri": "https://localhost:8080/",
          "height": 206
        },
        "id": "RiLqfAe8S9q3",
        "outputId": "d4722c83-7d32-44d3-e03c-ea7884fd0236"
      },
      "outputs": [
        {
          "output_type": "execute_result",
          "data": {
            "text/plain": [
              "       textID                                               text  \\\n",
              "0  cb774db0d1                I`d have responded, if I were going   \n",
              "1  549e992a42      Sooo SAD I will miss you here in San Diego!!!   \n",
              "2  088c60f138                          my boss is bullying me...   \n",
              "3  9642c003ef                     what interview! leave me alone   \n",
              "4  358bd9e861   Sons of ****, why couldn`t they put them on t...   \n",
              "\n",
              "                         selected_text sentiment  NWT  NWST  NDW  \\\n",
              "0  I`d have responded, if I were going   neutral    7     7    0   \n",
              "1                             Sooo SAD  negative   10     2    8   \n",
              "2                          bullying me  negative    5     2    3   \n",
              "3                       leave me alone  negative    5     3    2   \n",
              "4                        Sons of ****,  negative   14     3   11   \n",
              "\n",
              "   number_of_url  number_of_url_st  is_spl_char_st  \n",
              "0              0                 0               1  \n",
              "1              0                 0               0  \n",
              "2              0                 0               0  \n",
              "3              0                 0               1  \n",
              "4              0                 0               1  "
            ],
            "text/html": [
              "\n",
              "  <div id=\"df-b19a4ad7-79aa-4f7c-a195-2dbc142b6a7a\">\n",
              "    <div class=\"colab-df-container\">\n",
              "      <div>\n",
              "<style scoped>\n",
              "    .dataframe tbody tr th:only-of-type {\n",
              "        vertical-align: middle;\n",
              "    }\n",
              "\n",
              "    .dataframe tbody tr th {\n",
              "        vertical-align: top;\n",
              "    }\n",
              "\n",
              "    .dataframe thead th {\n",
              "        text-align: right;\n",
              "    }\n",
              "</style>\n",
              "<table border=\"1\" class=\"dataframe\">\n",
              "  <thead>\n",
              "    <tr style=\"text-align: right;\">\n",
              "      <th></th>\n",
              "      <th>textID</th>\n",
              "      <th>text</th>\n",
              "      <th>selected_text</th>\n",
              "      <th>sentiment</th>\n",
              "      <th>NWT</th>\n",
              "      <th>NWST</th>\n",
              "      <th>NDW</th>\n",
              "      <th>number_of_url</th>\n",
              "      <th>number_of_url_st</th>\n",
              "      <th>is_spl_char_st</th>\n",
              "    </tr>\n",
              "  </thead>\n",
              "  <tbody>\n",
              "    <tr>\n",
              "      <th>0</th>\n",
              "      <td>cb774db0d1</td>\n",
              "      <td>I`d have responded, if I were going</td>\n",
              "      <td>I`d have responded, if I were going</td>\n",
              "      <td>neutral</td>\n",
              "      <td>7</td>\n",
              "      <td>7</td>\n",
              "      <td>0</td>\n",
              "      <td>0</td>\n",
              "      <td>0</td>\n",
              "      <td>1</td>\n",
              "    </tr>\n",
              "    <tr>\n",
              "      <th>1</th>\n",
              "      <td>549e992a42</td>\n",
              "      <td>Sooo SAD I will miss you here in San Diego!!!</td>\n",
              "      <td>Sooo SAD</td>\n",
              "      <td>negative</td>\n",
              "      <td>10</td>\n",
              "      <td>2</td>\n",
              "      <td>8</td>\n",
              "      <td>0</td>\n",
              "      <td>0</td>\n",
              "      <td>0</td>\n",
              "    </tr>\n",
              "    <tr>\n",
              "      <th>2</th>\n",
              "      <td>088c60f138</td>\n",
              "      <td>my boss is bullying me...</td>\n",
              "      <td>bullying me</td>\n",
              "      <td>negative</td>\n",
              "      <td>5</td>\n",
              "      <td>2</td>\n",
              "      <td>3</td>\n",
              "      <td>0</td>\n",
              "      <td>0</td>\n",
              "      <td>0</td>\n",
              "    </tr>\n",
              "    <tr>\n",
              "      <th>3</th>\n",
              "      <td>9642c003ef</td>\n",
              "      <td>what interview! leave me alone</td>\n",
              "      <td>leave me alone</td>\n",
              "      <td>negative</td>\n",
              "      <td>5</td>\n",
              "      <td>3</td>\n",
              "      <td>2</td>\n",
              "      <td>0</td>\n",
              "      <td>0</td>\n",
              "      <td>1</td>\n",
              "    </tr>\n",
              "    <tr>\n",
              "      <th>4</th>\n",
              "      <td>358bd9e861</td>\n",
              "      <td>Sons of ****, why couldn`t they put them on t...</td>\n",
              "      <td>Sons of ****,</td>\n",
              "      <td>negative</td>\n",
              "      <td>14</td>\n",
              "      <td>3</td>\n",
              "      <td>11</td>\n",
              "      <td>0</td>\n",
              "      <td>0</td>\n",
              "      <td>1</td>\n",
              "    </tr>\n",
              "  </tbody>\n",
              "</table>\n",
              "</div>\n",
              "      <button class=\"colab-df-convert\" onclick=\"convertToInteractive('df-b19a4ad7-79aa-4f7c-a195-2dbc142b6a7a')\"\n",
              "              title=\"Convert this dataframe to an interactive table.\"\n",
              "              style=\"display:none;\">\n",
              "        \n",
              "  <svg xmlns=\"http://www.w3.org/2000/svg\" height=\"24px\"viewBox=\"0 0 24 24\"\n",
              "       width=\"24px\">\n",
              "    <path d=\"M0 0h24v24H0V0z\" fill=\"none\"/>\n",
              "    <path d=\"M18.56 5.44l.94 2.06.94-2.06 2.06-.94-2.06-.94-.94-2.06-.94 2.06-2.06.94zm-11 1L8.5 8.5l.94-2.06 2.06-.94-2.06-.94L8.5 2.5l-.94 2.06-2.06.94zm10 10l.94 2.06.94-2.06 2.06-.94-2.06-.94-.94-2.06-.94 2.06-2.06.94z\"/><path d=\"M17.41 7.96l-1.37-1.37c-.4-.4-.92-.59-1.43-.59-.52 0-1.04.2-1.43.59L10.3 9.45l-7.72 7.72c-.78.78-.78 2.05 0 2.83L4 21.41c.39.39.9.59 1.41.59.51 0 1.02-.2 1.41-.59l7.78-7.78 2.81-2.81c.8-.78.8-2.07 0-2.86zM5.41 20L4 18.59l7.72-7.72 1.47 1.35L5.41 20z\"/>\n",
              "  </svg>\n",
              "      </button>\n",
              "      \n",
              "  <style>\n",
              "    .colab-df-container {\n",
              "      display:flex;\n",
              "      flex-wrap:wrap;\n",
              "      gap: 12px;\n",
              "    }\n",
              "\n",
              "    .colab-df-convert {\n",
              "      background-color: #E8F0FE;\n",
              "      border: none;\n",
              "      border-radius: 50%;\n",
              "      cursor: pointer;\n",
              "      display: none;\n",
              "      fill: #1967D2;\n",
              "      height: 32px;\n",
              "      padding: 0 0 0 0;\n",
              "      width: 32px;\n",
              "    }\n",
              "\n",
              "    .colab-df-convert:hover {\n",
              "      background-color: #E2EBFA;\n",
              "      box-shadow: 0px 1px 2px rgba(60, 64, 67, 0.3), 0px 1px 3px 1px rgba(60, 64, 67, 0.15);\n",
              "      fill: #174EA6;\n",
              "    }\n",
              "\n",
              "    [theme=dark] .colab-df-convert {\n",
              "      background-color: #3B4455;\n",
              "      fill: #D2E3FC;\n",
              "    }\n",
              "\n",
              "    [theme=dark] .colab-df-convert:hover {\n",
              "      background-color: #434B5C;\n",
              "      box-shadow: 0px 1px 3px 1px rgba(0, 0, 0, 0.15);\n",
              "      filter: drop-shadow(0px 1px 2px rgba(0, 0, 0, 0.3));\n",
              "      fill: #FFFFFF;\n",
              "    }\n",
              "  </style>\n",
              "\n",
              "      <script>\n",
              "        const buttonEl =\n",
              "          document.querySelector('#df-b19a4ad7-79aa-4f7c-a195-2dbc142b6a7a button.colab-df-convert');\n",
              "        buttonEl.style.display =\n",
              "          google.colab.kernel.accessAllowed ? 'block' : 'none';\n",
              "\n",
              "        async function convertToInteractive(key) {\n",
              "          const element = document.querySelector('#df-b19a4ad7-79aa-4f7c-a195-2dbc142b6a7a');\n",
              "          const dataTable =\n",
              "            await google.colab.kernel.invokeFunction('convertToInteractive',\n",
              "                                                     [key], {});\n",
              "          if (!dataTable) return;\n",
              "\n",
              "          const docLinkHtml = 'Like what you see? Visit the ' +\n",
              "            '<a target=\"_blank\" href=https://colab.research.google.com/notebooks/data_table.ipynb>data table notebook</a>'\n",
              "            + ' to learn more about interactive tables.';\n",
              "          element.innerHTML = '';\n",
              "          dataTable['output_type'] = 'display_data';\n",
              "          await google.colab.output.renderOutput(dataTable, element);\n",
              "          const docLink = document.createElement('div');\n",
              "          docLink.innerHTML = docLinkHtml;\n",
              "          element.appendChild(docLink);\n",
              "        }\n",
              "      </script>\n",
              "    </div>\n",
              "  </div>\n",
              "  "
            ]
          },
          "metadata": {},
          "execution_count": 16
        }
      ],
      "source": [
        "train_data.head()"
      ]
    },
    {
      "cell_type": "markdown",
      "metadata": {
        "id": "-zsI1hC-pSbX"
      },
      "source": [
        "####Number of urls analysis####"
      ]
    },
    {
      "cell_type": "code",
      "execution_count": null,
      "metadata": {
        "colab": {
          "base_uri": "https://localhost:8080/",
          "height": 624
        },
        "id": "1785xZFApV1s",
        "outputId": "32bbfc6c-1e27-491d-f15d-400806386ec9"
      },
      "outputs": [
        {
          "output_type": "execute_result",
          "data": {
            "text/plain": [
              "<matplotlib.axes._subplots.AxesSubplot at 0x7fd5455e7990>"
            ]
          },
          "metadata": {},
          "execution_count": 17
        },
        {
          "output_type": "display_data",
          "data": {
            "text/plain": [
              "<Figure size 1296x720 with 3 Axes>"
            ],
            "image/png": "[encoded data removed]"
          },
          "metadata": {
            "needs_background": "light"
          }
        }
      ],
      "source": [
        "fig, axes = plt.subplots(1, 3, figsize=(18, 10))\n",
        "sns.histplot(ax=axes[0],data=train_data[train_data['sentiment']=='positive'],x='number_of_url_st',kde=True)\n",
        "sns.histplot(ax=axes[1],data=train_data[train_data['sentiment']=='negative'],x='number_of_url_st',kde=True)\n",
        "sns.histplot(ax=axes[2],data=train_data[train_data['sentiment']=='neutral'],x='number_of_url_st',kde=True)"
      ]
    },
    {
      "cell_type": "markdown",
      "metadata": {
        "id": "6bi-8t8yYbMb"
      },
      "source": [
        "This graph shows number of urls in selected text(i.e output) for each of the positive, negative and neutral sentiments. We can see that for both positive and negative sentences we don't have any URL but for neutral sentences there are certain data that have URL."
      ]
    },
    {
      "cell_type": "markdown",
      "metadata": {
        "id": "y9qOxikw5TDG"
      },
      "source": [
        "####Special characters in selected text Analysis####"
      ]
    },
    {
      "cell_type": "code",
      "execution_count": null,
      "metadata": {
        "colab": {
          "base_uri": "https://localhost:8080/",
          "height": 624
        },
        "id": "milFvB-a01cL",
        "outputId": "3af3e032-15dd-4484-d92f-302115082dc5"
      },
      "outputs": [
        {
          "output_type": "execute_result",
          "data": {
            "text/plain": [
              "<matplotlib.axes._subplots.AxesSubplot at 0x7fd542c00b10>"
            ]
          },
          "metadata": {},
          "execution_count": 18
        },
        {
          "output_type": "display_data",
          "data": {
            "text/plain": [
              "<Figure size 1296x720 with 3 Axes>"
            ],
            "image/png": "[encoded data removed]"
          },
          "metadata": {
            "needs_background": "light"
          }
        }
      ],
      "source": [
        "fig, axes = plt.subplots(1, 3, figsize=(18, 10))\n",
        "sns.histplot(ax=axes[0],data=train_data[train_data['sentiment']=='positive'],x='is_spl_char_st',kde=True)\n",
        "sns.histplot(ax=axes[1],data=train_data[train_data['sentiment']=='negative'],x='is_spl_char_st',kde=True)\n",
        "sns.histplot(ax=axes[2],data=train_data[train_data['sentiment']=='neutral'],x='is_spl_char_st',kde=True)"
      ]
    },
    {
      "cell_type": "markdown",
      "metadata": {
        "id": "GQGHaRNzbEWx"
      },
      "source": [
        "From the above graph we can see that punctuations have a resonable presence in the selected text for all sentiments."
      ]
    },
    {
      "cell_type": "markdown",
      "metadata": {
        "id": "oIQzrqUkHq_b"
      },
      "source": [
        "####Analysis on positive sentiments####"
      ]
    },
    {
      "cell_type": "code",
      "execution_count": null,
      "metadata": {
        "colab": {
          "base_uri": "https://localhost:8080/"
        },
        "id": "fCoKh2OIIDad",
        "outputId": "77bd65f8-5dce-47b0-f3df-8d9c0586c8ea"
      },
      "outputs": [
        {
          "output_type": "execute_result",
          "data": {
            "text/plain": [
              "array(['neutral', 'negative', 'positive'], dtype=object)"
            ]
          },
          "metadata": {},
          "execution_count": 19
        }
      ],
      "source": [
        "train_data['sentiment'].unique()"
      ]
    },
    {
      "cell_type": "code",
      "execution_count": null,
      "metadata": {
        "colab": {
          "base_uri": "https://localhost:8080/",
          "height": 313
        },
        "id": "xn_SkfrNEOuC",
        "outputId": "7da79db7-fc32-46dc-f5df-10eff87611a3"
      },
      "outputs": [
        {
          "output_type": "execute_result",
          "data": {
            "text/plain": [
              "Text(0.5, 1.0, 'Distribution of number of words in positive texts')"
            ]
          },
          "metadata": {},
          "execution_count": 20
        },
        {
          "output_type": "display_data",
          "data": {
            "text/plain": [
              "<Figure size 432x288 with 1 Axes>"
            ],
            "image/png": "[encoded data removed]"
          },
          "metadata": {
            "needs_background": "light"
          }
        }
      ],
      "source": [
        "sns.histplot(data=train_data[train_data['sentiment']=='positive'],x='NWT',kde=True).set_title('Distribution of number of words in positive texts')"
      ]
    },
    {
      "cell_type": "markdown",
      "metadata": {
        "id": "CXEh0a8-gaEl"
      },
      "source": [
        "The above graph shows the how number of dataset having how number of words in the text."
      ]
    },
    {
      "cell_type": "code",
      "execution_count": null,
      "metadata": {
        "colab": {
          "base_uri": "https://localhost:8080/",
          "height": 313
        },
        "id": "DtCrf3h8Gq4h",
        "outputId": "d6380e04-5ed7-47cd-896b-918910735f50"
      },
      "outputs": [
        {
          "output_type": "execute_result",
          "data": {
            "text/plain": [
              "Text(0.5, 1.0, 'Distribution of number of words in positive selected text')"
            ]
          },
          "metadata": {},
          "execution_count": 21
        },
        {
          "output_type": "display_data",
          "data": {
            "text/plain": [
              "<Figure size 432x288 with 1 Axes>"
            ],
            "image/png": "[encoded data removed]"
          },
          "metadata": {
            "needs_background": "light"
          }
        }
      ],
      "source": [
        "sns.histplot(data=train_data[train_data['sentiment']=='positive'],x='NWST',kde=True).set_title('Distribution of number of words in positive selected text')"
      ]
    },
    {
      "cell_type": "markdown",
      "metadata": {
        "id": "k7_tQ3QChAmh"
      },
      "source": [
        "The above graph shows number of words present in selected text corpus. We can see that more than 3500 data have just one word as selected text and almost many of the corpus have have less than 5 to 6 words as their selected text."
      ]
    },
    {
      "cell_type": "code",
      "execution_count": null,
      "metadata": {
        "colab": {
          "base_uri": "https://localhost:8080/",
          "height": 313
        },
        "id": "mu6H_RsqGuEN",
        "outputId": "02022b2b-8b2d-4b5b-c989-1e68e864e731"
      },
      "outputs": [
        {
          "output_type": "execute_result",
          "data": {
            "text/plain": [
              "Text(0.5, 1.0, 'Distribution of number of differing words for positive texts')"
            ]
          },
          "metadata": {},
          "execution_count": 22
        },
        {
          "output_type": "display_data",
          "data": {
            "text/plain": [
              "<Figure size 432x288 with 1 Axes>"
            ],
            "image/png": "[encoded data removed]"
          },
          "metadata": {
            "needs_background": "light"
          }
        }
      ],
      "source": [
        "sns.histplot(data=train_data[train_data['sentiment']=='positive'],x='NDW',kde=True).set_title('Distribution of number of differing words for positive texts')"
      ]
    },
    {
      "cell_type": "markdown",
      "metadata": {
        "id": "v2WHJ3V9hg1w"
      },
      "source": [
        "Number of differing words represents the number of words in text that are not in selected text. We can observe that there are almost 1400 dataset where only one word in text is not there in selected text. Also there are lot of dataset where many words in text is not present in selected dataset."
      ]
    },
    {
      "cell_type": "code",
      "execution_count": null,
      "metadata": {
        "id": "03Aj9mJiXQU2"
      },
      "outputs": [],
      "source": [
        "positive_data=train_data[train_data['sentiment']=='positive']"
      ]
    },
    {
      "cell_type": "markdown",
      "metadata": {
        "id": "-_LcFOscIgv1"
      },
      "source": [
        "####Analysis on negative sentences####"
      ]
    },
    {
      "cell_type": "code",
      "execution_count": null,
      "metadata": {
        "colab": {
          "base_uri": "https://localhost:8080/",
          "height": 313
        },
        "id": "x6oT967VCHVK",
        "outputId": "efe081f4-07e5-46e9-df1d-33ada80be69a"
      },
      "outputs": [
        {
          "output_type": "execute_result",
          "data": {
            "text/plain": [
              "Text(0.5, 1.0, 'Distribution of number of words in negative texts')"
            ]
          },
          "metadata": {},
          "execution_count": 24
        },
        {
          "output_type": "display_data",
          "data": {
            "text/plain": [
              "<Figure size 432x288 with 1 Axes>"
            ],
            "image/png": "[encoded data removed]"
          },
          "metadata": {
            "needs_background": "light"
          }
        }
      ],
      "source": [
        "sns.histplot(data=train_data[train_data['sentiment']=='negative'],x='NWT',kde=True).set_title('Distribution of number of words in negative texts')"
      ]
    },
    {
      "cell_type": "markdown",
      "metadata": {
        "id": "WmWuh11Li9DC"
      },
      "source": [
        "From the above histogram we can see that there are majority(ie nearly 700) of sentences which have 11 words. "
      ]
    },
    {
      "cell_type": "code",
      "execution_count": null,
      "metadata": {
        "colab": {
          "base_uri": "https://localhost:8080/",
          "height": 313
        },
        "id": "C8Z0DNHdIyKL",
        "outputId": "7ea1bff4-380a-4234-d497-1e35ef56b419"
      },
      "outputs": [
        {
          "output_type": "execute_result",
          "data": {
            "text/plain": [
              "Text(0.5, 1.0, 'Distribution of number of words in negative selected text')"
            ]
          },
          "metadata": {},
          "execution_count": 25
        },
        {
          "output_type": "display_data",
          "data": {
            "text/plain": [
              "<Figure size 432x288 with 1 Axes>"
            ],
            "image/png": "[encoded data removed]"
          },
          "metadata": {
            "needs_background": "light"
          }
        }
      ],
      "source": [
        "sns.histplot(data=train_data[train_data['sentiment']=='negative'],x='NWST',kde=True).set_title('Distribution of number of words in negative selected text')"
      ]
    },
    {
      "cell_type": "markdown",
      "metadata": {
        "id": "edQ1IHFLjV8y"
      },
      "source": [
        "Similar to positive texts we can observe that majority of selected text have 1 word as their selceted text and almost many dataset have fewer than 10 words as their selected text."
      ]
    },
    {
      "cell_type": "code",
      "execution_count": null,
      "metadata": {
        "colab": {
          "base_uri": "https://localhost:8080/",
          "height": 313
        },
        "id": "E0EWNXO1I5Oy",
        "outputId": "07bf61c1-9884-4522-8d8e-073a27a8d21a"
      },
      "outputs": [
        {
          "output_type": "execute_result",
          "data": {
            "text/plain": [
              "Text(0.5, 1.0, 'Distribution of number of differing words for negative texts')"
            ]
          },
          "metadata": {},
          "execution_count": 26
        },
        {
          "output_type": "display_data",
          "data": {
            "text/plain": [
              "<Figure size 432x288 with 1 Axes>"
            ],
            "image/png": "[encoded data removed]"
          },
          "metadata": {
            "needs_background": "light"
          }
        }
      ],
      "source": [
        "sns.histplot(data=train_data[train_data['sentiment']=='negative'],x='NDW',kde=True).set_title('Distribution of number of differing words for negative texts')"
      ]
    },
    {
      "cell_type": "markdown",
      "metadata": {
        "id": "-u0UzavnkBrM"
      },
      "source": [
        "This is similar to the distribution of the positive text where majority have 1 word in text that are not in selected text."
      ]
    },
    {
      "cell_type": "markdown",
      "metadata": {
        "id": "lSSjI-TLI9hR"
      },
      "source": [
        "####Analysis on neutral sentences####"
      ]
    },
    {
      "cell_type": "code",
      "execution_count": null,
      "metadata": {
        "colab": {
          "base_uri": "https://localhost:8080/",
          "height": 313
        },
        "id": "lSMnnfHRJCte",
        "outputId": "57c84d10-b63a-46a4-f909-60510056f8b5"
      },
      "outputs": [
        {
          "output_type": "execute_result",
          "data": {
            "text/plain": [
              "Text(0.5, 1.0, 'Distribution of number of words in neutral texts')"
            ]
          },
          "metadata": {},
          "execution_count": 27
        },
        {
          "output_type": "display_data",
          "data": {
            "text/plain": [
              "<Figure size 432x288 with 1 Axes>"
            ],
            "image/png": "[encoded data removed]"
          },
          "metadata": {
            "needs_background": "light"
          }
        }
      ],
      "source": [
        "sns.histplot(data=train_data[train_data['sentiment']=='neutral'],x='NWT',kde=True).set_title('Distribution of number of words in neutral texts')"
      ]
    },
    {
      "cell_type": "code",
      "execution_count": null,
      "metadata": {
        "colab": {
          "base_uri": "https://localhost:8080/",
          "height": 313
        },
        "id": "kd33fyCUJIp0",
        "outputId": "156ea8ca-580a-4a5c-a3e3-84902bca255e"
      },
      "outputs": [
        {
          "output_type": "execute_result",
          "data": {
            "text/plain": [
              "Text(0.5, 1.0, 'Distribution of number of words in neutral selected text')"
            ]
          },
          "metadata": {},
          "execution_count": 28
        },
        {
          "output_type": "display_data",
          "data": {
            "text/plain": [
              "<Figure size 432x288 with 1 Axes>"
            ],
            "image/png": "[encoded data removed]"
          },
          "metadata": {
            "needs_background": "light"
          }
        }
      ],
      "source": [
        "sns.histplot(data=train_data[train_data['sentiment']=='neutral'],x='NWST',kde=True).set_title('Distribution of number of words in neutral selected text')"
      ]
    },
    {
      "cell_type": "markdown",
      "metadata": {
        "id": "vjpCR3o-kWE3"
      },
      "source": [
        "Unlike the posititve and negative sentences we can see that for neutral sentences the selected text contains a lot of words and also if we observe the above graph and this graph is almost same. This shows that the text for neutral sentences is same as selected text."
      ]
    },
    {
      "cell_type": "code",
      "execution_count": null,
      "metadata": {
        "colab": {
          "base_uri": "https://localhost:8080/",
          "height": 313
        },
        "id": "R01lOtQ3JO0l",
        "outputId": "8b13abb6-93e1-4760-dde8-c9ed376c5638"
      },
      "outputs": [
        {
          "output_type": "execute_result",
          "data": {
            "text/plain": [
              "Text(0.5, 1.0, 'Distribution of number of differing words for neutral texts')"
            ]
          },
          "metadata": {},
          "execution_count": 29
        },
        {
          "output_type": "display_data",
          "data": {
            "text/plain": [
              "<Figure size 432x288 with 1 Axes>"
            ],
            "image/png": "[encoded data removed]"
          },
          "metadata": {
            "needs_background": "light"
          }
        }
      ],
      "source": [
        "sns.histplot(data=train_data[train_data['sentiment']=='neutral'],x='NDW',kde=True,bins=100).set_title('Distribution of number of differing words for neutral texts')"
      ]
    },
    {
      "cell_type": "markdown",
      "metadata": {
        "id": "hkCuMrcvlMBs"
      },
      "source": [
        "This graph shows that for neutral sentences the seleceted text is same as the text except for very few sentences."
      ]
    },
    {
      "cell_type": "markdown",
      "metadata": {
        "id": "jLVgHJ--lZkN"
      },
      "source": [
        "From the above analysis here I will be modelling positive and negative sentences alone wherelse for neutral sentences the seleceted text will be the same as the text. Logically this would be correct because there are no words to confirm that the given sentence is neutral unlike positive and negative sentences which have words like good,love,like,hate,curse and so on. "
      ]
    },
    {
      "cell_type": "markdown",
      "metadata": {
        "id": "ZD713Vf87r3G"
      },
      "source": [
        "##Preprocessing##"
      ]
    },
    {
      "cell_type": "code",
      "execution_count": null,
      "metadata": {
        "id": "Bpvj_n77XIFV"
      },
      "outputs": [],
      "source": [
        "from bs4 import BeautifulSoup\n",
        "import re\n",
        "def preprocess(sentence):\n",
        "    sentence=sentence.replace('****',\"curse\")# changing bad words(marked as **** in text) to 'curse'\n",
        "    sentence=' '.join(e.lower() for e in sentence.split())\n",
        "    return sentence.strip()    "
      ]
    },
    {
      "cell_type": "code",
      "execution_count": null,
      "metadata": {
        "id": "whrtEyk9m7pY"
      },
      "outputs": [],
      "source": [
        "train_data['preprocessed_texts']=train_data['text'].apply(lambda x: preprocess(x))\n",
        "train_data['preprocessed_sel_texts']=train_data['selected_text'].apply(lambda x: preprocess(x))"
      ]
    },
    {
      "cell_type": "markdown",
      "metadata": {
        "id": "HUA_NK_lsuo1"
      },
      "source": [
        "Now we need to output for training the model. Here our output would be in the form of array with values 1 and 0. The array will be of length of the maximum length of the sentences and value 1 will be assigned to the particular index position for which that particular text is in selecetd text.\n",
        "\n",
        "eg: \n",
        "\n",
        "text: He is a good boy.\n",
        "\n",
        "selected text: good boy\n",
        "\n",
        "Output_array: [0,0,0,1,1]"
      ]
    },
    {
      "cell_type": "markdown",
      "metadata": {
        "id": "U4KBdLVSupr0"
      },
      "source": [
        "To start with it is necessary to exract the index position of the words. There were lot of complications in extracting it.\n",
        "\n",
        "eg:\n",
        "\n",
        "text: This is awesome\n",
        "\n",
        "selected text: s awesome\n",
        "\n",
        "\n",
        "text: pod...sad...i have\n",
        "\n",
        "selected text ..sad\n",
        "\n",
        "Below code is used to run these complications."
      ]
    },
    {
      "cell_type": "code",
      "execution_count": null,
      "metadata": {
        "id": "b3boP4yNo_9z"
      },
      "outputs": [],
      "source": [
        "import re\n",
        "def crct_start_ind_1(x):\n",
        "  '''\n",
        "  This function is used to retrive the text wherein the selected text is have few first words and rest missing in the real text.\n",
        "  Eg: Text: Jealously\n",
        "      Selceted text: Jealous\n",
        "  Returns: Jealously\n",
        "      In this case the function returns the word Jealously beacause with the exact word we can find the index position in the text.\n",
        "\n",
        "                                              (OR)\n",
        "                                          \n",
        "      Text: gonna\n",
        "      Selected text: onna\n",
        "  Returns: gonna\n",
        "  '''\n",
        "  tex=x[0]#List of words in text\n",
        "  sel_word=x[1]#string: selected text\n",
        "  len_sel_word=len(sel_word)\n",
        "  for wrd in tex:\n",
        "    if sel_word == wrd[:len_sel_word]:# This finds the words like Jealous \n",
        "      wrd_in_tex=wrd\n",
        "      break\n",
        "    elif sel_word == wrd[-len_sel_word:]:# This finds for the words like onna\n",
        "      wrd_in_tex=wrd\n",
        "      break\n",
        "  return wrd_in_tex\n",
        "\n",
        "def crct_start_ind_2(x):\n",
        "  \"\"\"\n",
        "  This function is used to retrive the text wherein the selected text has words in between the words in the text.\n",
        "  eg: Text: pod...sad...i\n",
        "      Selected text: ..sad\n",
        "\n",
        "  returns: pod...sad..i\n",
        "\n",
        "  \"\"\"\n",
        "  tex=x[0]\n",
        "  sel_word=x[1]\n",
        "  for wrd in tex:\n",
        "    if re.search(sel_word,wrd) != None:\n",
        "      wrd_in_tex=wrd\n",
        "      break\n",
        "  return wrd_in_tex"
      ]
    },
    {
      "cell_type": "code",
      "execution_count": null,
      "metadata": {
        "id": "Jrc-s0qVac63"
      },
      "outputs": [],
      "source": [
        "def start_indices(x):\n",
        "    text_str=x[0]\n",
        "    sel_text_str=x[1]\n",
        "    prepro_text=x[2]\n",
        "    text_list=text_str.split()#splitting the text\n",
        "    sel_text_list=sel_text_str.split()#spliting selected text\n",
        "    prepro_text_list=prepro_text.split()#spliting preprocessed text #no need\n",
        "    end=sel_text_list[0]\n",
        "    try:\n",
        "      #Finds whether the first word of selected text is in text.\n",
        "      index=text_list.index(end)\n",
        "    except:\n",
        "      if len(sel_text_list)==1:\n",
        "        try:\n",
        "          #if the 1st word is not in selected text and number of words in selected text is 1 then find the word using the crct_start_ind_1 function     \n",
        "          end_new=crct_start_ind_1((text_list,end))\n",
        "          index=text_list.index(end_new)\n",
        "        except:\n",
        "          #There are some words like in text 'pod...sad...i' but selected text it is '..sad'. The number of abnormal data like these are 15 data points. We can neglect those data points and give them the index value 0.\n",
        "          index=0\n",
        "      else:\n",
        "        try:\n",
        "          #There are some words like in the text 'this awesome' but selected text it is 's awesome'. Here we neglect those 's' and start from the other word.\n",
        "          end=sel_text_list[1]\n",
        "          index=text_list.index(end)\n",
        "        except:\n",
        "          #There are some words like in the text 'this awesome' but selected text it is 's awes'. Here we neglect 's' and take 'awes' and retrive 'awesome' from original text.\n",
        "          end_new=crct_start_ind_1((text_list,end))\n",
        "          index=text_list.index(end_new)\n",
        "    return index\n",
        "def end_indices(x):\n",
        "    text_str=x[0]\n",
        "    sel_text_str=x[1]\n",
        "    start_indices=x[2]\n",
        "    text_list = text_str.split()\n",
        "    sel_text_list = sel_text_str.split()\n",
        "    end = sel_text_list[-1]\n",
        "    try:\n",
        "        #if the end word is in the text in then we directly retrive the index of that word and declare it as end index\n",
        "        index = text_list.index(end,start_indices)\n",
        "    except:\n",
        "        #if the end word is not proper then we obtain the end index by adding the length of the words in selected text to the starting index to get the exactl end index\n",
        "        index = start_indices+(len(sel_text_list)-1)\n",
        "    return index\n"
      ]
    },
    {
      "cell_type": "code",
      "execution_count": null,
      "metadata": {
        "id": "fbm4y3ojcCVv"
      },
      "outputs": [],
      "source": [
        "train_data['start_index']=train_data[['text','selected_text','preprocessed_texts']].apply(lambda x: start_indices(x),axis=1)\n",
        "train_data['end_index']=train_data[['text','selected_text','start_index']].apply(lambda x: end_indices(x),axis=1)"
      ]
    },
    {
      "cell_type": "code",
      "execution_count": null,
      "metadata": {
        "id": "TcievN9u7nfR"
      },
      "outputs": [],
      "source": [
        "complete_data=train_data[['text','selected_text','preprocessed_texts','sentiment','start_index','end_index']]"
      ]
    },
    {
      "cell_type": "code",
      "execution_count": null,
      "metadata": {
        "id": "SKxG9zhKW_2y"
      },
      "outputs": [],
      "source": [
        "from sklearn.model_selection import train_test_split\n",
        "train,test=train_test_split(complete_data,stratify=complete_data['sentiment'],test_size=0.2,random_state=42)"
      ]
    },
    {
      "cell_type": "code",
      "execution_count": null,
      "metadata": {
        "colab": {
          "base_uri": "https://localhost:8080/"
        },
        "id": "-zYSPWOfbBZC",
        "outputId": "e41032b1-1449-472a-fec1-8b38c0c0cdf6"
      },
      "outputs": [
        {
          "output_type": "stream",
          "name": "stdout",
          "text": [
            "(21984, 6)\n",
            "(5496, 6)\n"
          ]
        }
      ],
      "source": [
        "print(train.shape)\n",
        "print(test.shape)"
      ]
    },
    {
      "cell_type": "code",
      "execution_count": null,
      "metadata": {
        "colab": {
          "base_uri": "https://localhost:8080/"
        },
        "id": "Bb40hZIQc-ZP",
        "outputId": "9d764b7f-d7a3-4bc2-8def-2ae4c078a5fa"
      },
      "outputs": [
        {
          "output_type": "stream",
          "name": "stdout",
          "text": [
            "Mounted at /content/drive\n"
          ]
        }
      ],
      "source": [
        "from google.colab import drive\n",
        "drive.mount('/content/drive')"
      ]
    },
    {
      "cell_type": "code",
      "execution_count": null,
      "metadata": {
        "id": "ULEVYZlYbreU"
      },
      "outputs": [],
      "source": [
        "train.to_csv('/content/drive/MyDrive/case_study_2_new/train_pos_neg_neu.csv')\n",
        "test.to_csv('/content/drive/MyDrive/case_study_2_new/test_pos_neg_neu.csv')"
      ]
    },
    {
      "cell_type": "code",
      "execution_count": null,
      "metadata": {
        "id": "FOMInNKyemIr",
        "colab": {
          "base_uri": "https://localhost:8080/",
          "height": 423
        },
        "outputId": "47447a06-cf69-4556-dc7a-565efa1c7d56"
      },
      "outputs": [
        {
          "output_type": "execute_result",
          "data": {
            "text/plain": [
              "                                                    text  \\\n",
              "16595      Press `Ctrl` on bottom right. It`s there.  KY   \n",
              "15039  ah remember the days when you`d sleep in until...   \n",
              "1804   my momma is comin 2night !  2morrow tennis day...   \n",
              "7302                              I do that all the time   \n",
              "27217    We don`t feel too comfortable using it. It`s...   \n",
              "...                                                  ...   \n",
              "25183   Should be drank with sugar and milk, not coff...   \n",
              "7595                      Thinks she`s getting sick.....   \n",
              "16318     Get Up, You are NOT old!  What did you do?! =O   \n",
              "7399    Ha Ha thanks Tom! I`m such a loser! Hopefully...   \n",
              "21790           they can`t be in their carriers anymore?   \n",
              "\n",
              "                                           selected_text  \\\n",
              "16595      Press `Ctrl` on bottom right. It`s there.  KY   \n",
              "15039                                              loser   \n",
              "1804                                              yuppie   \n",
              "7302                              I do that all the time   \n",
              "27217                  . It`s not awful, but pretty icky   \n",
              "...                                                  ...   \n",
              "25183  Should be drank with sugar and milk, not coffe...   \n",
              "7595                      Thinks she`s getting sick.....   \n",
              "16318     Get Up, You are NOT old!  What did you do?! =O   \n",
              "7399   Ha Ha thanks Tom! I`m such a loser! Hopefully ...   \n",
              "21790           they can`t be in their carriers anymore?   \n",
              "\n",
              "                                      preprocessed_texts sentiment  \\\n",
              "16595       press `ctrl` on bottom right. it`s there. ky   neutral   \n",
              "15039  ah remember the days when you`d sleep in until...  negative   \n",
              "1804   my momma is comin 2night ! 2morrow tennis day ...  positive   \n",
              "7302                              i do that all the time   neutral   \n",
              "27217  we don`t feel too comfortable using it. it`s n...  negative   \n",
              "...                                                  ...       ...   \n",
              "25183  should be drank with sugar and milk, not coffe...   neutral   \n",
              "7595                      thinks she`s getting sick.....  negative   \n",
              "16318      get up, you are not old! what did you do?! =o   neutral   \n",
              "7399   ha ha thanks tom! i`m such a loser! hopefully ...   neutral   \n",
              "21790           they can`t be in their carriers anymore?   neutral   \n",
              "\n",
              "       start_index  end_index  \n",
              "16595            0          7  \n",
              "15039           21         21  \n",
              "1804            11         11  \n",
              "7302             0          5  \n",
              "27217            7         13  \n",
              "...            ...        ...  \n",
              "25183            0         14  \n",
              "7595             0          3  \n",
              "16318            0         10  \n",
              "7399             0         23  \n",
              "21790            0          6  \n",
              "\n",
              "[21984 rows x 6 columns]"
            ],
            "text/html": [
              "\n",
              "  <div id=\"df-9cbfc403-e3b2-436e-a5dc-c4aab4a4308a\">\n",
              "    <div class=\"colab-df-container\">\n",
              "      <div>\n",
              "<style scoped>\n",
              "    .dataframe tbody tr th:only-of-type {\n",
              "        vertical-align: middle;\n",
              "    }\n",
              "\n",
              "    .dataframe tbody tr th {\n",
              "        vertical-align: top;\n",
              "    }\n",
              "\n",
              "    .dataframe thead th {\n",
              "        text-align: right;\n",
              "    }\n",
              "</style>\n",
              "<table border=\"1\" class=\"dataframe\">\n",
              "  <thead>\n",
              "    <tr style=\"text-align: right;\">\n",
              "      <th></th>\n",
              "      <th>text</th>\n",
              "      <th>selected_text</th>\n",
              "      <th>preprocessed_texts</th>\n",
              "      <th>sentiment</th>\n",
              "      <th>start_index</th>\n",
              "      <th>end_index</th>\n",
              "    </tr>\n",
              "  </thead>\n",
              "  <tbody>\n",
              "    <tr>\n",
              "      <th>16595</th>\n",
              "      <td>Press `Ctrl` on bottom right. It`s there.  KY</td>\n",
              "      <td>Press `Ctrl` on bottom right. It`s there.  KY</td>\n",
              "      <td>press `ctrl` on bottom right. it`s there. ky</td>\n",
              "      <td>neutral</td>\n",
              "      <td>0</td>\n",
              "      <td>7</td>\n",
              "    </tr>\n",
              "    <tr>\n",
              "      <th>15039</th>\n",
              "      <td>ah remember the days when you`d sleep in until...</td>\n",
              "      <td>loser</td>\n",
              "      <td>ah remember the days when you`d sleep in until...</td>\n",
              "      <td>negative</td>\n",
              "      <td>21</td>\n",
              "      <td>21</td>\n",
              "    </tr>\n",
              "    <tr>\n",
              "      <th>1804</th>\n",
              "      <td>my momma is comin 2night !  2morrow tennis day...</td>\n",
              "      <td>yuppie</td>\n",
              "      <td>my momma is comin 2night ! 2morrow tennis day ...</td>\n",
              "      <td>positive</td>\n",
              "      <td>11</td>\n",
              "      <td>11</td>\n",
              "    </tr>\n",
              "    <tr>\n",
              "      <th>7302</th>\n",
              "      <td>I do that all the time</td>\n",
              "      <td>I do that all the time</td>\n",
              "      <td>i do that all the time</td>\n",
              "      <td>neutral</td>\n",
              "      <td>0</td>\n",
              "      <td>5</td>\n",
              "    </tr>\n",
              "    <tr>\n",
              "      <th>27217</th>\n",
              "      <td>We don`t feel too comfortable using it. It`s...</td>\n",
              "      <td>. It`s not awful, but pretty icky</td>\n",
              "      <td>we don`t feel too comfortable using it. it`s n...</td>\n",
              "      <td>negative</td>\n",
              "      <td>7</td>\n",
              "      <td>13</td>\n",
              "    </tr>\n",
              "    <tr>\n",
              "      <th>...</th>\n",
              "      <td>...</td>\n",
              "      <td>...</td>\n",
              "      <td>...</td>\n",
              "      <td>...</td>\n",
              "      <td>...</td>\n",
              "      <td>...</td>\n",
              "    </tr>\n",
              "    <tr>\n",
              "      <th>25183</th>\n",
              "      <td>Should be drank with sugar and milk, not coff...</td>\n",
              "      <td>Should be drank with sugar and milk, not coffe...</td>\n",
              "      <td>should be drank with sugar and milk, not coffe...</td>\n",
              "      <td>neutral</td>\n",
              "      <td>0</td>\n",
              "      <td>14</td>\n",
              "    </tr>\n",
              "    <tr>\n",
              "      <th>7595</th>\n",
              "      <td>Thinks she`s getting sick.....</td>\n",
              "      <td>Thinks she`s getting sick.....</td>\n",
              "      <td>thinks she`s getting sick.....</td>\n",
              "      <td>negative</td>\n",
              "      <td>0</td>\n",
              "      <td>3</td>\n",
              "    </tr>\n",
              "    <tr>\n",
              "      <th>16318</th>\n",
              "      <td>Get Up, You are NOT old!  What did you do?! =O</td>\n",
              "      <td>Get Up, You are NOT old!  What did you do?! =O</td>\n",
              "      <td>get up, you are not old! what did you do?! =o</td>\n",
              "      <td>neutral</td>\n",
              "      <td>0</td>\n",
              "      <td>10</td>\n",
              "    </tr>\n",
              "    <tr>\n",
              "      <th>7399</th>\n",
              "      <td>Ha Ha thanks Tom! I`m such a loser! Hopefully...</td>\n",
              "      <td>Ha Ha thanks Tom! I`m such a loser! Hopefully ...</td>\n",
              "      <td>ha ha thanks tom! i`m such a loser! hopefully ...</td>\n",
              "      <td>neutral</td>\n",
              "      <td>0</td>\n",
              "      <td>23</td>\n",
              "    </tr>\n",
              "    <tr>\n",
              "      <th>21790</th>\n",
              "      <td>they can`t be in their carriers anymore?</td>\n",
              "      <td>they can`t be in their carriers anymore?</td>\n",
              "      <td>they can`t be in their carriers anymore?</td>\n",
              "      <td>neutral</td>\n",
              "      <td>0</td>\n",
              "      <td>6</td>\n",
              "    </tr>\n",
              "  </tbody>\n",
              "</table>\n",
              "<p>21984 rows × 6 columns</p>\n",
              "</div>\n",
              "      <button class=\"colab-df-convert\" onclick=\"convertToInteractive('df-9cbfc403-e3b2-436e-a5dc-c4aab4a4308a')\"\n",
              "              title=\"Convert this dataframe to an interactive table.\"\n",
              "              style=\"display:none;\">\n",
              "        \n",
              "  <svg xmlns=\"http://www.w3.org/2000/svg\" height=\"24px\"viewBox=\"0 0 24 24\"\n",
              "       width=\"24px\">\n",
              "    <path d=\"M0 0h24v24H0V0z\" fill=\"none\"/>\n",
              "    <path d=\"M18.56 5.44l.94 2.06.94-2.06 2.06-.94-2.06-.94-.94-2.06-.94 2.06-2.06.94zm-11 1L8.5 8.5l.94-2.06 2.06-.94-2.06-.94L8.5 2.5l-.94 2.06-2.06.94zm10 10l.94 2.06.94-2.06 2.06-.94-2.06-.94-.94-2.06-.94 2.06-2.06.94z\"/><path d=\"M17.41 7.96l-1.37-1.37c-.4-.4-.92-.59-1.43-.59-.52 0-1.04.2-1.43.59L10.3 9.45l-7.72 7.72c-.78.78-.78 2.05 0 2.83L4 21.41c.39.39.9.59 1.41.59.51 0 1.02-.2 1.41-.59l7.78-7.78 2.81-2.81c.8-.78.8-2.07 0-2.86zM5.41 20L4 18.59l7.72-7.72 1.47 1.35L5.41 20z\"/>\n",
              "  </svg>\n",
              "      </button>\n",
              "      \n",
              "  <style>\n",
              "    .colab-df-container {\n",
              "      display:flex;\n",
              "      flex-wrap:wrap;\n",
              "      gap: 12px;\n",
              "    }\n",
              "\n",
              "    .colab-df-convert {\n",
              "      background-color: #E8F0FE;\n",
              "      border: none;\n",
              "      border-radius: 50%;\n",
              "      cursor: pointer;\n",
              "      display: none;\n",
              "      fill: #1967D2;\n",
              "      height: 32px;\n",
              "      padding: 0 0 0 0;\n",
              "      width: 32px;\n",
              "    }\n",
              "\n",
              "    .colab-df-convert:hover {\n",
              "      background-color: #E2EBFA;\n",
              "      box-shadow: 0px 1px 2px rgba(60, 64, 67, 0.3), 0px 1px 3px 1px rgba(60, 64, 67, 0.15);\n",
              "      fill: #174EA6;\n",
              "    }\n",
              "\n",
              "    [theme=dark] .colab-df-convert {\n",
              "      background-color: #3B4455;\n",
              "      fill: #D2E3FC;\n",
              "    }\n",
              "\n",
              "    [theme=dark] .colab-df-convert:hover {\n",
              "      background-color: #434B5C;\n",
              "      box-shadow: 0px 1px 3px 1px rgba(0, 0, 0, 0.15);\n",
              "      filter: drop-shadow(0px 1px 2px rgba(0, 0, 0, 0.3));\n",
              "      fill: #FFFFFF;\n",
              "    }\n",
              "  </style>\n",
              "\n",
              "      <script>\n",
              "        const buttonEl =\n",
              "          document.querySelector('#df-9cbfc403-e3b2-436e-a5dc-c4aab4a4308a button.colab-df-convert');\n",
              "        buttonEl.style.display =\n",
              "          google.colab.kernel.accessAllowed ? 'block' : 'none';\n",
              "\n",
              "        async function convertToInteractive(key) {\n",
              "          const element = document.querySelector('#df-9cbfc403-e3b2-436e-a5dc-c4aab4a4308a');\n",
              "          const dataTable =\n",
              "            await google.colab.kernel.invokeFunction('convertToInteractive',\n",
              "                                                     [key], {});\n",
              "          if (!dataTable) return;\n",
              "\n",
              "          const docLinkHtml = 'Like what you see? Visit the ' +\n",
              "            '<a target=\"_blank\" href=https://colab.research.google.com/notebooks/data_table.ipynb>data table notebook</a>'\n",
              "            + ' to learn more about interactive tables.';\n",
              "          element.innerHTML = '';\n",
              "          dataTable['output_type'] = 'display_data';\n",
              "          await google.colab.output.renderOutput(dataTable, element);\n",
              "          const docLink = document.createElement('div');\n",
              "          docLink.innerHTML = docLinkHtml;\n",
              "          element.appendChild(docLink);\n",
              "        }\n",
              "      </script>\n",
              "    </div>\n",
              "  </div>\n",
              "  "
            ]
          },
          "metadata": {},
          "execution_count": 40
        }
      ],
      "source": [
        "train"
      ]
    },
    {
      "cell_type": "code",
      "execution_count": null,
      "metadata": {
        "id": "xPw9-QcPdytH"
      },
      "outputs": [],
      "source": [
        "X_train=train\n",
        "X_test=test"
      ]
    },
    {
      "cell_type": "code",
      "execution_count": null,
      "metadata": {
        "id": "w92YupCPJwO9"
      },
      "outputs": [],
      "source": [
        "sent_len=[]\n",
        "for i in X_train['preprocessed_texts']:\n",
        "  sent_len.append(len(i.split()))"
      ]
    },
    {
      "cell_type": "code",
      "execution_count": null,
      "metadata": {
        "id": "YZCMx-DgKOzz"
      },
      "outputs": [],
      "source": [
        "max_sent_len=max(sent_len)"
      ]
    },
    {
      "cell_type": "code",
      "execution_count": null,
      "metadata": {
        "colab": {
          "base_uri": "https://localhost:8080/"
        },
        "id": "H2dYdCOBKKA6",
        "outputId": "cafe6d14-f86f-4c50-8c15-940b6b78c785"
      },
      "outputs": [
        {
          "output_type": "stream",
          "name": "stdout",
          "text": [
            "33\n"
          ]
        }
      ],
      "source": [
        "print(max_sent_len)"
      ]
    },
    {
      "cell_type": "markdown",
      "metadata": {
        "id": "BNccSsxgvzwg"
      },
      "source": [
        "Here the maximum length of the sentence is 33."
      ]
    },
    {
      "cell_type": "code",
      "execution_count": null,
      "metadata": {
        "id": "43IO14X9K_Qf"
      },
      "outputs": [],
      "source": [
        "train_data=train_data.reset_index(drop=True)"
      ]
    },
    {
      "cell_type": "code",
      "execution_count": null,
      "metadata": {
        "id": "EocDDsc7Sa7y"
      },
      "outputs": [],
      "source": [
        "X_train=X_train.reset_index(drop=True)\n",
        "X_test=X_test.reset_index(drop=True)"
      ]
    },
    {
      "cell_type": "markdown",
      "metadata": {
        "id": "gOgygZkwv56H"
      },
      "source": [
        "Now let's create the output array with the start and end index that has been defined."
      ]
    },
    {
      "cell_type": "code",
      "execution_count": null,
      "metadata": {
        "id": "ZtekfixnJSXf"
      },
      "outputs": [],
      "source": [
        "y_train=np.zeros((len(X_train),max_sent_len))\n",
        "for i in range(len(X_train)):\n",
        "  s_ind=X_train['start_index'][i]\n",
        "  e_ind=X_train['end_index'][i]\n",
        "  y_train[i][s_ind:e_ind+1]=1\n",
        "\n",
        "y_test=np.zeros((len(X_test),max_sent_len))\n",
        "for i in range(len(X_test)):\n",
        "  s_ind=X_test['start_index'][i]\n",
        "  e_ind=X_test['end_index'][i]\n",
        "  y_test[i][s_ind:e_ind+1]=1"
      ]
    },
    {
      "cell_type": "code",
      "execution_count": null,
      "metadata": {
        "colab": {
          "base_uri": "https://localhost:8080/"
        },
        "id": "CWE-8n9sjKf8",
        "outputId": "6535e64f-354f-4c9c-8694-20d27e0fb9a4"
      },
      "outputs": [
        {
          "output_type": "stream",
          "name": "stdout",
          "text": [
            "(21984, 6)\n",
            "(21984, 33)\n",
            "(5496, 6)\n",
            "(5496, 33)\n"
          ]
        }
      ],
      "source": [
        "print(X_train.shape)\n",
        "print(y_train.shape)\n",
        "print(X_test.shape)\n",
        "print(y_test.shape)"
      ]
    },
    {
      "cell_type": "markdown",
      "metadata": {
        "id": "cmRENPwFA3e7"
      },
      "source": [
        "#####Tokenizing text#####"
      ]
    },
    {
      "cell_type": "markdown",
      "metadata": {
        "id": "4pcmzOKpw0pi"
      },
      "source": [
        "Now let's tokenizer the given text."
      ]
    },
    {
      "cell_type": "code",
      "execution_count": null,
      "metadata": {
        "colab": {
          "base_uri": "https://localhost:8080/"
        },
        "id": "9weN9qKdWCFT",
        "outputId": "aae894d1-3df0-4bcc-ba04-a313fc00bd79"
      },
      "outputs": [
        {
          "output_type": "stream",
          "name": "stdout",
          "text": [
            "21984 5496\n",
            "38689\n"
          ]
        }
      ],
      "source": [
        "import tensorflow as tf\n",
        "from tensorflow.keras.preprocessing.text import Tokenizer\n",
        "tokenizer_text = Tokenizer(lower=True,split=' ',oov_token='oov',filters='')\n",
        "tokenizer_text.fit_on_texts(X_train['preprocessed_texts'])\n",
        "train_text=tokenizer_text.texts_to_sequences(X_train['preprocessed_texts'])\n",
        "test_text=tokenizer_text.texts_to_sequences(X_test['preprocessed_texts'])\n",
        "print(len(train_text),len(test_text))\n",
        "vocab_size_text=len(tokenizer_text.word_index)+1\n",
        "print(vocab_size_text)"
      ]
    },
    {
      "cell_type": "code",
      "execution_count": null,
      "metadata": {
        "colab": {
          "base_uri": "https://localhost:8080/"
        },
        "id": "G1OGDIR8Zhcz",
        "outputId": "01a69e1f-3ad9-40c9-d538-2a912faf7b7e"
      },
      "outputs": [
        {
          "output_type": "stream",
          "name": "stdout",
          "text": [
            "Maximum length is  33\n"
          ]
        }
      ],
      "source": [
        "len_of_texts=[]\n",
        "for i in range(len(train_text)):\n",
        "  len_of_texts.append(len(train_text[i]))\n",
        "max_length=max(len_of_texts)\n",
        "print(\"Maximum length is \",max_length)"
      ]
    },
    {
      "cell_type": "code",
      "execution_count": null,
      "metadata": {
        "colab": {
          "base_uri": "https://localhost:8080/"
        },
        "id": "N27XY3tOabEx",
        "outputId": "ab1e4c6e-62ba-4b05-9f54-32db6dd0be02"
      },
      "outputs": [
        {
          "output_type": "stream",
          "name": "stdout",
          "text": [
            "(21984, 33) (5496, 33)\n"
          ]
        }
      ],
      "source": [
        "from tensorflow.keras.preprocessing.sequence import pad_sequences\n",
        "train_text = pad_sequences(train_text,maxlen=max_length,padding='post')\n",
        "test_text = pad_sequences(test_text,maxlen=max_length,padding='post')\n",
        "print(train_text.shape,test_text.shape)"
      ]
    },
    {
      "cell_type": "markdown",
      "metadata": {
        "id": "IAJ6HDKJy5o0"
      },
      "source": [
        "Importing the Glove Vectors for embedding"
      ]
    },
    {
      "cell_type": "code",
      "execution_count": null,
      "metadata": {
        "colab": {
          "base_uri": "https://localhost:8080/"
        },
        "id": "hMDnxAUFYD2z",
        "outputId": "29fa5645-965b-4a66-d63b-baec10d3a468"
      },
      "outputs": [
        {
          "output_type": "stream",
          "name": "stdout",
          "text": [
            "--2022-10-26 06:13:24--  https://cdn-lfs.huggingface.co/stanfordnlp/glove/3123e7f5c3f6a30095d413b12fc3284bbf717acd2a9bed63d1c7c13bf5223352?response-content-disposition=attachment%3B%20filename%3D%22glove.twitter.27B.zip%22&Expires=1666803394&Policy=eyJTdGF0ZW1lbnQiOlt7IlJlc291cmNlIjoiaHR0cHM6Ly9jZG4tbGZzLmh1Z2dpbmdmYWNlLmNvL3N0YW5mb3JkbmxwL2dsb3ZlLzMxMjNlN2Y1YzNmNmEzMDA5NWQ0MTNiMTJmYzMyODRiYmY3MTdhY2QyYTliZWQ2M2QxYzdjMTNiZjUyMjMzNTI~cmVzcG9uc2UtY29udGVudC1kaXNwb3NpdGlvbj1hdHRhY2htZW50JTNCJTIwZmlsZW5hbWUlM0QlMjJnbG92ZS50d2l0dGVyLjI3Qi56aXAlMjIiLCJDb25kaXRpb24iOnsiRGF0ZUxlc3NUaGFuIjp7IkFXUzpFcG9jaFRpbWUiOjE2NjY4MDMzOTR9fX1dfQ__&Signature=YfgTlEOy-Ec0PuSQg-iGmEZnZFs8eiYOkWOhVwxhZViRc~JWVKxJK9alQGY5a~G9PZsJsNuBsEtyqJHxAnp~aeJYsQ9O114HL0t9eDGFBkFyGFt1Hux93jyzTpx0sEV-Ik2aw27T1oLEF-YOUFbtOpMHAs~Piotm4Kw5VWos1UsDgI4dkFIThbA6bCuQa9UJWA4WYwB7HTrwMDmvo7Ov3HEUhlh5odZYL6~Qvv8Vrpo1SyoqSujctySm7QuOEbif2zvh-eZCILadoUgunkCDEBRCQ9W6bDYzzj4d7uXA10nuZfb9ewN9wb8N2PALtTGDCBrlBUMhpEDcgRomcTxdIw__&Key-Pair-Id=KVTP0A1DKRTAX\n",
            "Resolving cdn-lfs.huggingface.co (cdn-lfs.huggingface.co)... 13.227.254.47, 13.227.254.33, 13.227.254.52, ...\n",
            "Connecting to cdn-lfs.huggingface.co (cdn-lfs.huggingface.co)|13.227.254.47|:443... connected.\n",
            "HTTP request sent, awaiting response... 200 OK\n",
            "Length: 1520408741 (1.4G) [application/zip]\n",
            "Saving to: ‘glove.twitter.27B.zip’\n",
            "\n",
            "glove.twitter.27B.z 100%[===================>]   1.42G  81.0MB/s    in 18s     \n",
            "\n",
            "2022-10-26 06:13:42 (80.6 MB/s) - ‘glove.twitter.27B.zip’ saved [1520408741/1520408741]\n",
            "\n"
          ]
        }
      ],
      "source": [
        "!wget --header=\"Host: cdn-lfs.huggingface.co\" --header=\"User-Agent: Mozilla/5.0 (Windows NT 10.0; Win64; x64) AppleWebKit/537.36 (KHTML, like Gecko) Chrome/106.0.0.0 Safari/537.36\" --header=\"Accept: text/html,application/xhtml+xml,application/xml;q=0.9,image/avif,image/webp,image/apng,*/*;q=0.8,application/signed-exchange;v=b3;q=0.9\" --header=\"Accept-Language: en-US,en;q=0.9,ta;q=0.8\" --header=\"Referer: https://github.com/stanfordnlp/GloVe\" --header=\"Cookie: _ga=GA1.2.886028711.1663479450\" --header=\"Connection: keep-alive\" \"https://cdn-lfs.huggingface.co/stanfordnlp/glove/3123e7f5c3f6a30095d413b12fc3284bbf717acd2a9bed63d1c7c13bf5223352?response-content-disposition=attachment%3B%20filename%3D%22glove.twitter.27B.zip%22&Expires=1666803394&Policy=eyJTdGF0ZW1lbnQiOlt7IlJlc291cmNlIjoiaHR0cHM6Ly9jZG4tbGZzLmh1Z2dpbmdmYWNlLmNvL3N0YW5mb3JkbmxwL2dsb3ZlLzMxMjNlN2Y1YzNmNmEzMDA5NWQ0MTNiMTJmYzMyODRiYmY3MTdhY2QyYTliZWQ2M2QxYzdjMTNiZjUyMjMzNTI~cmVzcG9uc2UtY29udGVudC1kaXNwb3NpdGlvbj1hdHRhY2htZW50JTNCJTIwZmlsZW5hbWUlM0QlMjJnbG92ZS50d2l0dGVyLjI3Qi56aXAlMjIiLCJDb25kaXRpb24iOnsiRGF0ZUxlc3NUaGFuIjp7IkFXUzpFcG9jaFRpbWUiOjE2NjY4MDMzOTR9fX1dfQ__&Signature=YfgTlEOy-Ec0PuSQg-iGmEZnZFs8eiYOkWOhVwxhZViRc~JWVKxJK9alQGY5a~G9PZsJsNuBsEtyqJHxAnp~aeJYsQ9O114HL0t9eDGFBkFyGFt1Hux93jyzTpx0sEV-Ik2aw27T1oLEF-YOUFbtOpMHAs~Piotm4Kw5VWos1UsDgI4dkFIThbA6bCuQa9UJWA4WYwB7HTrwMDmvo7Ov3HEUhlh5odZYL6~Qvv8Vrpo1SyoqSujctySm7QuOEbif2zvh-eZCILadoUgunkCDEBRCQ9W6bDYzzj4d7uXA10nuZfb9ewN9wb8N2PALtTGDCBrlBUMhpEDcgRomcTxdIw__&Key-Pair-Id=KVTP0A1DKRTAX\" -c -O 'glove.twitter.27B.zip'"
      ]
    },
    {
      "cell_type": "code",
      "execution_count": null,
      "metadata": {
        "id": "MLvsFE73Vhcn"
      },
      "outputs": [],
      "source": [
        "import zipfile\n",
        "with zipfile.ZipFile('/content/glove.twitter.27B.zip', 'r') as zipref:\n",
        "  zipref.extractall('/content/')\n",
        "  zipref.close()"
      ]
    },
    {
      "cell_type": "code",
      "execution_count": null,
      "metadata": {
        "colab": {
          "base_uri": "https://localhost:8080/"
        },
        "id": "M-itAKFuVODh",
        "outputId": "3711b145-0be5-4907-abd7-db515b09f7cc"
      },
      "outputs": [
        {
          "output_type": "stream",
          "name": "stdout",
          "text": [
            "Loaded 1193515 word vectors.\n"
          ]
        }
      ],
      "source": [
        "embeddings_index = dict()\n",
        "f = open('/content/glove.twitter.27B.200d.txt')\n",
        "for line in f:\n",
        "\tvalues = line.split()\n",
        "\tword = values[0]\n",
        "\tcoefs = np.asarray(values[1:], dtype='float32')\n",
        "\tembeddings_index[word] = coefs\n",
        "f.close()\n",
        "print('Loaded %s word vectors.' % len(embeddings_index))"
      ]
    },
    {
      "cell_type": "code",
      "execution_count": null,
      "metadata": {
        "colab": {
          "base_uri": "https://localhost:8080/"
        },
        "id": "21zy6gv2DKtC",
        "outputId": "061ce896-69d1-4401-cad5-4639a6a233ad"
      },
      "outputs": [
        {
          "output_type": "execute_result",
          "data": {
            "text/plain": [
              "200"
            ]
          },
          "metadata": {},
          "execution_count": 55
        }
      ],
      "source": [
        "len(embeddings_index['fan'])"
      ]
    },
    {
      "cell_type": "markdown",
      "metadata": {
        "id": "eUncRtpqzExP"
      },
      "source": [
        "The embedding matrix is a 200 dimensional matrix."
      ]
    },
    {
      "cell_type": "code",
      "execution_count": null,
      "metadata": {
        "id": "cpDxlDpqWy3f"
      },
      "outputs": [],
      "source": [
        "# create a weight matrix for words in training docs\n",
        "embedding_matrix = np.zeros((vocab_size_text, 200))\n",
        "for word, i in tokenizer_text.word_index.items():\n",
        "\tembedding_vector = embeddings_index.get(word)\n",
        "\tif embedding_vector is not None:\n",
        "\t\tembedding_matrix[i] = embedding_vector"
      ]
    },
    {
      "cell_type": "code",
      "execution_count": null,
      "metadata": {
        "colab": {
          "base_uri": "https://localhost:8080/"
        },
        "id": "1WhDQXQwpYaK",
        "outputId": "fe9722c1-1a8b-4064-f0aa-e1cdd36df1fd"
      },
      "outputs": [
        {
          "output_type": "execute_result",
          "data": {
            "text/plain": [
              "38689"
            ]
          },
          "metadata": {},
          "execution_count": 57
        }
      ],
      "source": [
        "len(embedding_matrix)"
      ]
    },
    {
      "cell_type": "code",
      "execution_count": null,
      "metadata": {
        "colab": {
          "base_uri": "https://localhost:8080/"
        },
        "id": "rG7lmswwpDVv",
        "outputId": "7275e654-a3c6-4652-a567-15b679e865fb"
      },
      "outputs": [
        {
          "output_type": "stream",
          "name": "stdout",
          "text": [
            "21984 5496\n",
            "5\n"
          ]
        }
      ],
      "source": [
        "tokenizer_sentiment = Tokenizer(lower=True,split=' ',oov_token='oov')\n",
        "tokenizer_sentiment.fit_on_texts(X_train['sentiment'])\n",
        "train_sentiment=tokenizer_sentiment.texts_to_sequences(X_train['sentiment'])\n",
        "test_sentiment=tokenizer_sentiment.texts_to_sequences(X_test['sentiment'])\n",
        "print(len(train_sentiment),len(test_sentiment))\n",
        "vocab_size_sentiment=len(tokenizer_sentiment.word_index)+1\n",
        "print(vocab_size_sentiment)"
      ]
    },
    {
      "cell_type": "code",
      "execution_count": null,
      "metadata": {
        "colab": {
          "base_uri": "https://localhost:8080/"
        },
        "id": "9oDG0SR6yosq",
        "outputId": "8f8ad0de-ee37-4662-b99d-7d052452c1e4"
      },
      "outputs": [
        {
          "output_type": "execute_result",
          "data": {
            "text/plain": [
              "{'oov': 1, 'neutral': 2, 'positive': 3, 'negative': 4}"
            ]
          },
          "metadata": {},
          "execution_count": 59
        }
      ],
      "source": [
        "tokenizer_sentiment.word_index"
      ]
    },
    {
      "cell_type": "code",
      "execution_count": null,
      "metadata": {
        "colab": {
          "base_uri": "https://localhost:8080/"
        },
        "id": "1McZBjpBqqTX",
        "outputId": "232678f6-4380-4be4-88a0-6199a46c6cfe"
      },
      "outputs": [
        {
          "output_type": "stream",
          "name": "stdout",
          "text": [
            "Maximum length for sentiment is  1\n"
          ]
        }
      ],
      "source": [
        "len_of_sentiment=[]\n",
        "for i in range(len(train_sentiment)):\n",
        "  len_of_sentiment.append(len(train_sentiment[i]))\n",
        "max_length_sentiment=max(len_of_sentiment)\n",
        "print(\"Maximum length for sentiment is \",max_length_sentiment)"
      ]
    },
    {
      "cell_type": "code",
      "execution_count": null,
      "metadata": {
        "id": "i6cCVq67nFht"
      },
      "outputs": [],
      "source": [
        "embedding_matrix_sentiment = np.zeros((vocab_size_sentiment, 200))\n",
        "for word, i in tokenizer_sentiment.word_index.items():\n",
        "\tembedding_vector = embeddings_index.get(word)\n",
        "\tif embedding_vector is not None:\n",
        "\t\tembedding_matrix_sentiment[i] = embedding_vector"
      ]
    },
    {
      "cell_type": "code",
      "execution_count": null,
      "metadata": {
        "colab": {
          "base_uri": "https://localhost:8080/"
        },
        "id": "JinqpJ-FqB3W",
        "outputId": "47484ad9-e93d-46e4-9faf-08d2e943254d"
      },
      "outputs": [
        {
          "output_type": "execute_result",
          "data": {
            "text/plain": [
              "5"
            ]
          },
          "metadata": {},
          "execution_count": 62
        }
      ],
      "source": [
        "len(embedding_matrix_sentiment)"
      ]
    },
    {
      "cell_type": "code",
      "execution_count": null,
      "metadata": {
        "colab": {
          "base_uri": "https://localhost:8080/"
        },
        "id": "Jl2edwBM4emm",
        "outputId": "e4b8c29f-084a-4e65-dbe0-85c8b11ae570"
      },
      "outputs": [
        {
          "output_type": "execute_result",
          "data": {
            "text/plain": [
              "33"
            ]
          },
          "metadata": {},
          "execution_count": 63
        }
      ],
      "source": [
        "max_length"
      ]
    },
    {
      "cell_type": "markdown",
      "metadata": {
        "id": "Jzd7WsA034yD"
      },
      "source": [
        "##Modelling##"
      ]
    },
    {
      "cell_type": "code",
      "execution_count": null,
      "metadata": {
        "id": "STYFfnVqqB7Z"
      },
      "outputs": [],
      "source": [
        "import tensorflow as tf\n",
        "import keras\n",
        "from tensorflow.keras.layers import Input,Embedding,GRU,Dense,Flatten,Concatenate,Dropout,LayerNormalization\n",
        "from tensorflow.keras.regularizers import l2\n",
        "from tensorflow.keras import Model\n",
        "\n",
        "tf.keras.backend.clear_session()\n",
        "input1=Input(shape=(max_length,),name='input_text')\n",
        "embed = Embedding(vocab_size_text,200,input_length=max_length,name='embedding',\n",
        "                      trainable=False,weights=[embedding_matrix])(input1)\n",
        "\n",
        "input2=Input(shape=(max_length_sentiment,),name='input_sentiment')\n",
        "embed2=Embedding(vocab_size_sentiment,200,input_length=max_length_sentiment,trainable=False,\n",
        "                 weights=[embedding_matrix_sentiment],name='embedding_sentiment')(input2)\n",
        "concat1=Concatenate(axis=1)([embed,embed2])\n",
        "gru_1=GRU(100,name='GRU_1',return_sequences=True)(concat1)\n",
        "gru_2=GRU(32,name='GRU_2',return_sequences=True)(gru_1)\n",
        "gru_3=GRU(16,name='GRU_3',return_sequences=True)(gru_2)\n",
        "f1=Flatten()(gru_3)\n",
        "\n",
        "f1=tf.expand_dims(f1,1)\n",
        "dense2=Dense(256,activation='relu',kernel_regularizer=l2(0.0001))(f1)\n",
        "drop1 = Dropout(0.2)(dense2)\n",
        "ln1= LayerNormalization()(drop1)\n",
        "dense3=Dense(128,activation='relu',kernel_regularizer=l2(0.0001))(ln1)\n",
        "drop2 = Dropout(0.2)(dense3)\n",
        "ln2= LayerNormalization()(drop2)\n",
        "dense4=Dense(64,activation='relu',kernel_regularizer=l2(0.0001))(ln1)\n",
        "output=Dense(33,activation='sigmoid',name='output')(dense4)\n",
        "\n",
        "model=Model(inputs=[input1,input2],outputs=[output])\n"
      ]
    },
    {
      "cell_type": "code",
      "source": [
        "model1=Model(inputs=[input1,input2],outputs=[output])"
      ],
      "metadata": {
        "id": "mXqA6N86HwGd"
      },
      "execution_count": null,
      "outputs": []
    },
    {
      "cell_type": "code",
      "execution_count": null,
      "metadata": {
        "colab": {
          "base_uri": "https://localhost:8080/",
          "height": 1000
        },
        "id": "lEYitarwyVNd",
        "outputId": "a0eca281-826c-4461-f295-8e788c39aade"
      },
      "outputs": [
        {
          "output_type": "execute_result",
          "data": {
            "image/png": "[encoded data removed]",
            "text/plain": [
              "<IPython.core.display.Image object>"
            ]
          },
          "metadata": {},
          "execution_count": 72
        }
      ],
      "source": [
        "tf.keras.utils.plot_model(model,show_shapes=True)"
      ]
    },
    {
      "cell_type": "code",
      "execution_count": null,
      "metadata": {
        "colab": {
          "base_uri": "https://localhost:8080/"
        },
        "id": "yDc3sQ5gDV3M",
        "outputId": "c974fa4b-b199-4dbe-b097-8f605e9ba9d5"
      },
      "outputs": [
        {
          "output_type": "stream",
          "name": "stdout",
          "text": [
            "Looking in indexes: https://pypi.org/simple, https://us-python.pkg.dev/colab-wheels/public/simple/\n",
            "Collecting git+https://github.com/qubvel/segmentation_models\n",
            "  Cloning https://github.com/qubvel/segmentation_models to /tmp/pip-req-build-r8mbd3jc\n",
            "  Running command git clone -q https://github.com/qubvel/segmentation_models /tmp/pip-req-build-r8mbd3jc\n",
            "  Running command git submodule update --init --recursive -q\n",
            "Collecting keras_applications<=1.0.8,>=1.0.7\n",
            "  Downloading Keras_Applications-1.0.8-py3-none-any.whl (50 kB)\n",
            "\u001b[K     |████████████████████████████████| 50 kB 7.0 MB/s \n",
            "\u001b[?25hCollecting image-classifiers==1.0.0\n",
            "  Downloading image_classifiers-1.0.0-py3-none-any.whl (19 kB)\n",
            "Collecting efficientnet==1.0.0\n",
            "  Downloading efficientnet-1.0.0-py3-none-any.whl (17 kB)\n",
            "Requirement already satisfied: scikit-image in /usr/local/lib/python3.7/dist-packages (from efficientnet==1.0.0->segmentation-models==1.0.1) (0.18.3)\n",
            "Requirement already satisfied: h5py in /usr/local/lib/python3.7/dist-packages (from keras_applications<=1.0.8,>=1.0.7->segmentation-models==1.0.1) (3.1.0)\n",
            "Requirement already satisfied: numpy>=1.9.1 in /usr/local/lib/python3.7/dist-packages (from keras_applications<=1.0.8,>=1.0.7->segmentation-models==1.0.1) (1.21.6)\n",
            "Requirement already satisfied: cached-property in /usr/local/lib/python3.7/dist-packages (from h5py->keras_applications<=1.0.8,>=1.0.7->segmentation-models==1.0.1) (1.5.2)\n",
            "Requirement already satisfied: pillow!=7.1.0,!=7.1.1,>=4.3.0 in /usr/local/lib/python3.7/dist-packages (from scikit-image->efficientnet==1.0.0->segmentation-models==1.0.1) (7.1.2)\n",
            "Requirement already satisfied: networkx>=2.0 in /usr/local/lib/python3.7/dist-packages (from scikit-image->efficientnet==1.0.0->segmentation-models==1.0.1) (2.6.3)\n",
            "Requirement already satisfied: imageio>=2.3.0 in /usr/local/lib/python3.7/dist-packages (from scikit-image->efficientnet==1.0.0->segmentation-models==1.0.1) (2.9.0)\n",
            "Requirement already satisfied: matplotlib!=3.0.0,>=2.0.0 in /usr/local/lib/python3.7/dist-packages (from scikit-image->efficientnet==1.0.0->segmentation-models==1.0.1) (3.2.2)\n",
            "Requirement already satisfied: scipy>=1.0.1 in /usr/local/lib/python3.7/dist-packages (from scikit-image->efficientnet==1.0.0->segmentation-models==1.0.1) (1.7.3)\n",
            "Requirement already satisfied: tifffile>=2019.7.26 in /usr/local/lib/python3.7/dist-packages (from scikit-image->efficientnet==1.0.0->segmentation-models==1.0.1) (2021.11.2)\n",
            "Requirement already satisfied: PyWavelets>=1.1.1 in /usr/local/lib/python3.7/dist-packages (from scikit-image->efficientnet==1.0.0->segmentation-models==1.0.1) (1.3.0)\n",
            "Requirement already satisfied: kiwisolver>=1.0.1 in /usr/local/lib/python3.7/dist-packages (from matplotlib!=3.0.0,>=2.0.0->scikit-image->efficientnet==1.0.0->segmentation-models==1.0.1) (1.4.4)\n",
            "Requirement already satisfied: pyparsing!=2.0.4,!=2.1.2,!=2.1.6,>=2.0.1 in /usr/local/lib/python3.7/dist-packages (from matplotlib!=3.0.0,>=2.0.0->scikit-image->efficientnet==1.0.0->segmentation-models==1.0.1) (3.0.9)\n",
            "Requirement already satisfied: cycler>=0.10 in /usr/local/lib/python3.7/dist-packages (from matplotlib!=3.0.0,>=2.0.0->scikit-image->efficientnet==1.0.0->segmentation-models==1.0.1) (0.11.0)\n",
            "Requirement already satisfied: python-dateutil>=2.1 in /usr/local/lib/python3.7/dist-packages (from matplotlib!=3.0.0,>=2.0.0->scikit-image->efficientnet==1.0.0->segmentation-models==1.0.1) (2.8.2)\n",
            "Requirement already satisfied: typing-extensions in /usr/local/lib/python3.7/dist-packages (from kiwisolver>=1.0.1->matplotlib!=3.0.0,>=2.0.0->scikit-image->efficientnet==1.0.0->segmentation-models==1.0.1) (4.1.1)\n",
            "Requirement already satisfied: six>=1.5 in /usr/local/lib/python3.7/dist-packages (from python-dateutil>=2.1->matplotlib!=3.0.0,>=2.0.0->scikit-image->efficientnet==1.0.0->segmentation-models==1.0.1) (1.15.0)\n",
            "Building wheels for collected packages: segmentation-models\n",
            "  Building wheel for segmentation-models (setup.py) ... \u001b[?25l\u001b[?25hdone\n",
            "  Created wheel for segmentation-models: filename=segmentation_models-1.0.1-py3-none-any.whl size=33810 sha256=40f7011bde749902dbfc169f5b2eb8bcbc059b8d539da856f9ad7dc5a65a3ebc\n",
            "  Stored in directory: /tmp/pip-ephem-wheel-cache-6tw89nl8/wheels/02/cd/18/61c0bbb8766acfec68f9d20618886b7b38dfeeb95865b6ba00\n",
            "Successfully built segmentation-models\n",
            "Installing collected packages: keras-applications, image-classifiers, efficientnet, segmentation-models\n",
            "Successfully installed efficientnet-1.0.0 image-classifiers-1.0.0 keras-applications-1.0.8 segmentation-models-1.0.1\n"
          ]
        }
      ],
      "source": [
        "!pip install git+https://github.com/qubvel/segmentation_models"
      ]
    },
    {
      "cell_type": "code",
      "execution_count": null,
      "metadata": {
        "colab": {
          "base_uri": "https://localhost:8080/"
        },
        "id": "nxXmz57hqCDw",
        "outputId": "957eb71a-1032-47a0-f991-d2642f7b3fb4"
      },
      "outputs": [
        {
          "output_type": "stream",
          "name": "stdout",
          "text": [
            "The tensorboard extension is already loaded. To reload it, use:\n",
            "  %reload_ext tensorboard\n"
          ]
        }
      ],
      "source": [
        "%load_ext tensorboard\n",
        "tf.config.run_functions_eagerly(True)\n",
        "import datetime\n",
        "import os\n",
        "import segmentation_models as sm\n",
        "import math\n",
        "from tensorflow.keras.callbacks import LearningRateScheduler\n",
        "'''\n",
        "def step_decay(epoch):\n",
        "\tinitial_lrate = 0.0001\n",
        "\tdrop = 0.1\n",
        "\tepochs_drop = 3\n",
        "\tlrate = initial_lrate * math.pow(drop, math.floor((1+epoch)/epochs_drop))\n",
        "\treturn lrate\n",
        "\n",
        "lrate = LearningRateScheduler(step_decay)\n",
        "'''\n",
        "\n",
        "focal_loss=sm.losses.DiceLoss(per_image=True)\n",
        "iou_score=sm.metrics.IOUScore(threshold=0.5)\n",
        "\n",
        "log_dir= \"/content/drive/MyDrive/case_study_2_new/base_model_TBlog1\"\n",
        "tensorboard_callback = tf.keras.callbacks.TensorBoard(log_dir=log_dir,histogram_freq=1, write_graph=True)\n",
        "callbacks=[tensorboard_callback,\n",
        "          tf.keras.callbacks.ReduceLROnPlateau(monitor='val_loss',factor=0.1,patience=2,verbose=1,mode='min',min_lr=0.00001),\n",
        "\t\t\t\t\ttf.keras.callbacks.ModelCheckpoint('/content/drive/MyDrive/case_study_2_new/base_model_modelckpt1',monitor='val_loss',verbose=1,\n",
        "\t\t\t\t\t                                   save_best_only=True,save_weights_only=True)\n",
        "]\n",
        "model.compile(optimizer=tf.keras.optimizers.Adam(0.001),loss=focal_loss,metrics=[iou_score])"
      ]
    },
    {
      "cell_type": "code",
      "source": [
        "import warnings \n",
        "warnings.filterwarnings('ignore')"
      ],
      "metadata": {
        "id": "1DMsHKbo89eW"
      },
      "execution_count": null,
      "outputs": []
    },
    {
      "cell_type": "code",
      "source": [
        "train_input=(np.array(train_text),np.array(train_sentiment))\n",
        "train_output=y_train[:,np.newaxis,:]\n",
        "test_input=(np.array(test_text),np.array(test_sentiment))\n",
        "test_output=y_test[:,np.newaxis,:]\n",
        "validation=(test_input,test_output)\n",
        "model.fit(train_input,\n",
        "          train_output,epochs=40,\n",
        "          validation_data=validation,callbacks=callbacks)"
      ],
      "metadata": {
        "colab": {
          "base_uri": "https://localhost:8080/"
        },
        "id": "EALB_UAo82Ek",
        "outputId": "5ed59ff6-4ea7-4ec1-9f75-0e484f3c4e1d"
      },
      "execution_count": null,
      "outputs": [
        {
          "output_type": "stream",
          "name": "stdout",
          "text": [
            "Epoch 1/40\n",
            "687/687 [==============================] - ETA: 0s - loss: 0.4070 - iou_score: 0.5193\n",
            "Epoch 1: val_loss improved from inf to 0.36999, saving model to /content/drive/MyDrive/case_study_2_new/base_model_modelckpt1\n",
            "687/687 [==============================] - 56s 81ms/step - loss: 0.4070 - iou_score: 0.5193 - val_loss: 0.3700 - val_iou_score: 0.5404 - lr: 0.0010\n",
            "Epoch 2/40\n",
            "687/687 [==============================] - ETA: 0s - loss: 0.3744 - iou_score: 0.5351\n",
            "Epoch 2: val_loss improved from 0.36999 to 0.36246, saving model to /content/drive/MyDrive/case_study_2_new/base_model_modelckpt1\n",
            "687/687 [==============================] - 55s 80ms/step - loss: 0.3744 - iou_score: 0.5351 - val_loss: 0.3625 - val_iou_score: 0.5415 - lr: 0.0010\n",
            "Epoch 3/40\n",
            "687/687 [==============================] - ETA: 0s - loss: 0.3691 - iou_score: 0.5363\n",
            "Epoch 3: val_loss did not improve from 0.36246\n",
            "687/687 [==============================] - 50s 73ms/step - loss: 0.3691 - iou_score: 0.5363 - val_loss: 0.3630 - val_iou_score: 0.5400 - lr: 0.0010\n",
            "Epoch 4/40\n",
            "687/687 [==============================] - ETA: 0s - loss: 0.3679 - iou_score: 0.5397\n",
            "Epoch 4: val_loss improved from 0.36246 to 0.35877, saving model to /content/drive/MyDrive/case_study_2_new/base_model_modelckpt1\n",
            "687/687 [==============================] - 51s 74ms/step - loss: 0.3679 - iou_score: 0.5397 - val_loss: 0.3588 - val_iou_score: 0.5436 - lr: 0.0010\n",
            "Epoch 5/40\n",
            "687/687 [==============================] - ETA: 0s - loss: 0.3653 - iou_score: 0.5459\n",
            "Epoch 5: val_loss improved from 0.35877 to 0.35606, saving model to /content/drive/MyDrive/case_study_2_new/base_model_modelckpt1\n",
            "687/687 [==============================] - 50s 73ms/step - loss: 0.3653 - iou_score: 0.5459 - val_loss: 0.3561 - val_iou_score: 0.5685 - lr: 0.0010\n",
            "Epoch 6/40\n",
            "687/687 [==============================] - ETA: 0s - loss: 0.3611 - iou_score: 0.5552\n",
            "Epoch 6: val_loss improved from 0.35606 to 0.35117, saving model to /content/drive/MyDrive/case_study_2_new/base_model_modelckpt1\n",
            "687/687 [==============================] - 50s 72ms/step - loss: 0.3611 - iou_score: 0.5552 - val_loss: 0.3512 - val_iou_score: 0.5706 - lr: 0.0010\n",
            "Epoch 7/40\n",
            "687/687 [==============================] - ETA: 0s - loss: 0.3556 - iou_score: 0.5700\n",
            "Epoch 7: val_loss improved from 0.35117 to 0.34864, saving model to /content/drive/MyDrive/case_study_2_new/base_model_modelckpt1\n",
            "687/687 [==============================] - 50s 72ms/step - loss: 0.3556 - iou_score: 0.5700 - val_loss: 0.3486 - val_iou_score: 0.5629 - lr: 0.0010\n",
            "Epoch 8/40\n",
            "687/687 [==============================] - ETA: 0s - loss: 0.3511 - iou_score: 0.5787\n",
            "Epoch 8: val_loss improved from 0.34864 to 0.34667, saving model to /content/drive/MyDrive/case_study_2_new/base_model_modelckpt1\n",
            "687/687 [==============================] - 51s 74ms/step - loss: 0.3511 - iou_score: 0.5787 - val_loss: 0.3467 - val_iou_score: 0.5736 - lr: 0.0010\n",
            "Epoch 9/40\n",
            "687/687 [==============================] - ETA: 0s - loss: 0.3483 - iou_score: 0.5855\n",
            "Epoch 9: val_loss improved from 0.34667 to 0.34613, saving model to /content/drive/MyDrive/case_study_2_new/base_model_modelckpt1\n",
            "687/687 [==============================] - 50s 73ms/step - loss: 0.3483 - iou_score: 0.5855 - val_loss: 0.3461 - val_iou_score: 0.6020 - lr: 0.0010\n",
            "Epoch 10/40\n",
            "687/687 [==============================] - ETA: 0s - loss: 0.3439 - iou_score: 0.5998\n",
            "Epoch 10: val_loss improved from 0.34613 to 0.34303, saving model to /content/drive/MyDrive/case_study_2_new/base_model_modelckpt1\n",
            "687/687 [==============================] - 54s 79ms/step - loss: 0.3439 - iou_score: 0.5998 - val_loss: 0.3430 - val_iou_score: 0.5975 - lr: 0.0010\n",
            "Epoch 11/40\n",
            "687/687 [==============================] - ETA: 0s - loss: 0.3405 - iou_score: 0.6111\n",
            "Epoch 11: val_loss did not improve from 0.34303\n",
            "687/687 [==============================] - 51s 74ms/step - loss: 0.3405 - iou_score: 0.6111 - val_loss: 0.3433 - val_iou_score: 0.6109 - lr: 0.0010\n",
            "Epoch 12/40\n",
            "687/687 [==============================] - ETA: 0s - loss: 0.3372 - iou_score: 0.6182\n",
            "Epoch 12: ReduceLROnPlateau reducing learning rate to 0.00010000000474974513.\n",
            "\n",
            "Epoch 12: val_loss did not improve from 0.34303\n",
            "687/687 [==============================] - 54s 79ms/step - loss: 0.3372 - iou_score: 0.6182 - val_loss: 0.3469 - val_iou_score: 0.5962 - lr: 0.0010\n",
            "Epoch 13/40\n",
            "687/687 [==============================] - ETA: 0s - loss: 0.3311 - iou_score: 0.6255\n",
            "Epoch 13: val_loss improved from 0.34303 to 0.34061, saving model to /content/drive/MyDrive/case_study_2_new/base_model_modelckpt1\n",
            "687/687 [==============================] - 50s 72ms/step - loss: 0.3311 - iou_score: 0.6255 - val_loss: 0.3406 - val_iou_score: 0.6148 - lr: 1.0000e-04\n",
            "Epoch 14/40\n",
            "687/687 [==============================] - ETA: 0s - loss: 0.3265 - iou_score: 0.6348\n",
            "Epoch 14: val_loss improved from 0.34061 to 0.33922, saving model to /content/drive/MyDrive/case_study_2_new/base_model_modelckpt1\n",
            "687/687 [==============================] - 50s 73ms/step - loss: 0.3265 - iou_score: 0.6348 - val_loss: 0.3392 - val_iou_score: 0.6153 - lr: 1.0000e-04\n",
            "Epoch 15/40\n",
            "687/687 [==============================] - ETA: 0s - loss: 0.3241 - iou_score: 0.6375\n",
            "Epoch 15: val_loss improved from 0.33922 to 0.33869, saving model to /content/drive/MyDrive/case_study_2_new/base_model_modelckpt1\n",
            "687/687 [==============================] - 51s 74ms/step - loss: 0.3241 - iou_score: 0.6375 - val_loss: 0.3387 - val_iou_score: 0.6170 - lr: 1.0000e-04\n",
            "Epoch 16/40\n",
            "687/687 [==============================] - ETA: 0s - loss: 0.3221 - iou_score: 0.6418\n",
            "Epoch 16: val_loss improved from 0.33869 to 0.33822, saving model to /content/drive/MyDrive/case_study_2_new/base_model_modelckpt1\n",
            "687/687 [==============================] - 55s 80ms/step - loss: 0.3221 - iou_score: 0.6418 - val_loss: 0.3382 - val_iou_score: 0.6195 - lr: 1.0000e-04\n",
            "Epoch 17/40\n",
            "687/687 [==============================] - ETA: 0s - loss: 0.3204 - iou_score: 0.6439\n",
            "Epoch 17: val_loss improved from 0.33822 to 0.33645, saving model to /content/drive/MyDrive/case_study_2_new/base_model_modelckpt1\n",
            "687/687 [==============================] - 55s 80ms/step - loss: 0.3204 - iou_score: 0.6439 - val_loss: 0.3365 - val_iou_score: 0.6182 - lr: 1.0000e-04\n",
            "Epoch 18/40\n",
            "687/687 [==============================] - ETA: 0s - loss: 0.3181 - iou_score: 0.6484\n",
            "Epoch 18: val_loss improved from 0.33645 to 0.33586, saving model to /content/drive/MyDrive/case_study_2_new/base_model_modelckpt1\n",
            "687/687 [==============================] - 54s 79ms/step - loss: 0.3181 - iou_score: 0.6484 - val_loss: 0.3359 - val_iou_score: 0.6239 - lr: 1.0000e-04\n",
            "Epoch 19/40\n",
            "687/687 [==============================] - ETA: 0s - loss: 0.3159 - iou_score: 0.6536\n",
            "Epoch 19: val_loss improved from 0.33586 to 0.33542, saving model to /content/drive/MyDrive/case_study_2_new/base_model_modelckpt1\n",
            "687/687 [==============================] - 51s 74ms/step - loss: 0.3159 - iou_score: 0.6536 - val_loss: 0.3354 - val_iou_score: 0.6262 - lr: 1.0000e-04\n",
            "Epoch 20/40\n",
            "687/687 [==============================] - ETA: 0s - loss: 0.3138 - iou_score: 0.6559\n",
            "Epoch 20: val_loss improved from 0.33542 to 0.33531, saving model to /content/drive/MyDrive/case_study_2_new/base_model_modelckpt1\n",
            "687/687 [==============================] - 54s 79ms/step - loss: 0.3138 - iou_score: 0.6559 - val_loss: 0.3353 - val_iou_score: 0.6253 - lr: 1.0000e-04\n",
            "Epoch 21/40\n",
            "687/687 [==============================] - ETA: 0s - loss: 0.3124 - iou_score: 0.6591\n",
            "Epoch 21: val_loss improved from 0.33531 to 0.33515, saving model to /content/drive/MyDrive/case_study_2_new/base_model_modelckpt1\n",
            "687/687 [==============================] - 55s 80ms/step - loss: 0.3124 - iou_score: 0.6591 - val_loss: 0.3351 - val_iou_score: 0.6265 - lr: 1.0000e-04\n",
            "Epoch 22/40\n",
            "687/687 [==============================] - ETA: 0s - loss: 0.3114 - iou_score: 0.6609\n",
            "Epoch 22: val_loss did not improve from 0.33515\n",
            "687/687 [==============================] - 50s 72ms/step - loss: 0.3114 - iou_score: 0.6609 - val_loss: 0.3357 - val_iou_score: 0.6287 - lr: 1.0000e-04\n",
            "Epoch 23/40\n",
            "687/687 [==============================] - ETA: 0s - loss: 0.3100 - iou_score: 0.6630\n",
            "Epoch 23: val_loss improved from 0.33515 to 0.33455, saving model to /content/drive/MyDrive/case_study_2_new/base_model_modelckpt1\n",
            "687/687 [==============================] - 54s 78ms/step - loss: 0.3100 - iou_score: 0.6630 - val_loss: 0.3346 - val_iou_score: 0.6272 - lr: 1.0000e-04\n",
            "Epoch 24/40\n",
            "687/687 [==============================] - ETA: 0s - loss: 0.3089 - iou_score: 0.6646\n",
            "Epoch 24: val_loss did not improve from 0.33455\n",
            "687/687 [==============================] - 53s 77ms/step - loss: 0.3089 - iou_score: 0.6646 - val_loss: 0.3346 - val_iou_score: 0.6272 - lr: 1.0000e-04\n",
            "Epoch 25/40\n",
            "687/687 [==============================] - ETA: 0s - loss: 0.3077 - iou_score: 0.6672\n",
            "Epoch 25: val_loss improved from 0.33455 to 0.33423, saving model to /content/drive/MyDrive/case_study_2_new/base_model_modelckpt1\n",
            "687/687 [==============================] - 53s 78ms/step - loss: 0.3077 - iou_score: 0.6672 - val_loss: 0.3342 - val_iou_score: 0.6275 - lr: 1.0000e-04\n",
            "Epoch 26/40\n",
            "687/687 [==============================] - ETA: 0s - loss: 0.3062 - iou_score: 0.6693\n",
            "Epoch 26: val_loss improved from 0.33423 to 0.33412, saving model to /content/drive/MyDrive/case_study_2_new/base_model_modelckpt1\n",
            "687/687 [==============================] - 55s 80ms/step - loss: 0.3062 - iou_score: 0.6693 - val_loss: 0.3341 - val_iou_score: 0.6296 - lr: 1.0000e-04\n",
            "Epoch 27/40\n",
            "687/687 [==============================] - ETA: 0s - loss: 0.3053 - iou_score: 0.6715\n",
            "Epoch 27: val_loss did not improve from 0.33412\n",
            "687/687 [==============================] - 55s 80ms/step - loss: 0.3053 - iou_score: 0.6715 - val_loss: 0.3341 - val_iou_score: 0.6276 - lr: 1.0000e-04\n",
            "Epoch 28/40\n",
            "687/687 [==============================] - ETA: 0s - loss: 0.3044 - iou_score: 0.6732\n",
            "Epoch 28: val_loss improved from 0.33412 to 0.33341, saving model to /content/drive/MyDrive/case_study_2_new/base_model_modelckpt1\n",
            "687/687 [==============================] - 49s 72ms/step - loss: 0.3044 - iou_score: 0.6732 - val_loss: 0.3334 - val_iou_score: 0.6299 - lr: 1.0000e-04\n",
            "Epoch 29/40\n",
            "687/687 [==============================] - ETA: 0s - loss: 0.3033 - iou_score: 0.6761\n",
            "Epoch 29: val_loss did not improve from 0.33341\n",
            "687/687 [==============================] - 55s 80ms/step - loss: 0.3033 - iou_score: 0.6761 - val_loss: 0.3340 - val_iou_score: 0.6338 - lr: 1.0000e-04\n",
            "Epoch 30/40\n",
            "687/687 [==============================] - ETA: 0s - loss: 0.3021 - iou_score: 0.6774\n",
            "Epoch 30: ReduceLROnPlateau reducing learning rate to 1.0000000474974514e-05.\n",
            "\n",
            "Epoch 30: val_loss did not improve from 0.33341\n",
            "687/687 [==============================] - 50s 73ms/step - loss: 0.3021 - iou_score: 0.6774 - val_loss: 0.3340 - val_iou_score: 0.6321 - lr: 1.0000e-04\n",
            "Epoch 31/40\n",
            "687/687 [==============================] - ETA: 0s - loss: 0.3000 - iou_score: 0.6806\n",
            "Epoch 31: val_loss did not improve from 0.33341\n",
            "687/687 [==============================] - 49s 72ms/step - loss: 0.3000 - iou_score: 0.6806 - val_loss: 0.3342 - val_iou_score: 0.6326 - lr: 1.0000e-05\n",
            "Epoch 32/40\n",
            "687/687 [==============================] - ETA: 0s - loss: 0.2995 - iou_score: 0.6823\n",
            "Epoch 32: ReduceLROnPlateau reducing learning rate to 1e-05.\n",
            "\n",
            "Epoch 32: val_loss did not improve from 0.33341\n",
            "687/687 [==============================] - 50s 72ms/step - loss: 0.2995 - iou_score: 0.6823 - val_loss: 0.3344 - val_iou_score: 0.6334 - lr: 1.0000e-05\n",
            "Epoch 33/40\n",
            "687/687 [==============================] - ETA: 0s - loss: 0.2995 - iou_score: 0.6824\n",
            "Epoch 33: val_loss did not improve from 0.33341\n",
            "687/687 [==============================] - 54s 78ms/step - loss: 0.2995 - iou_score: 0.6824 - val_loss: 0.3343 - val_iou_score: 0.6332 - lr: 1.0000e-05\n",
            "Epoch 34/40\n",
            "687/687 [==============================] - ETA: 0s - loss: 0.2994 - iou_score: 0.6826\n",
            "Epoch 34: val_loss did not improve from 0.33341\n",
            "687/687 [==============================] - 55s 80ms/step - loss: 0.2994 - iou_score: 0.6826 - val_loss: 0.3344 - val_iou_score: 0.6340 - lr: 1.0000e-05\n",
            "Epoch 35/40\n",
            "687/687 [==============================] - ETA: 0s - loss: 0.2989 - iou_score: 0.6837\n",
            "Epoch 35: val_loss did not improve from 0.33341\n",
            "687/687 [==============================] - 49s 71ms/step - loss: 0.2989 - iou_score: 0.6837 - val_loss: 0.3341 - val_iou_score: 0.6330 - lr: 1.0000e-05\n",
            "Epoch 36/40\n",
            "687/687 [==============================] - ETA: 0s - loss: 0.2989 - iou_score: 0.6832\n",
            "Epoch 36: val_loss did not improve from 0.33341\n",
            "687/687 [==============================] - 54s 78ms/step - loss: 0.2989 - iou_score: 0.6832 - val_loss: 0.3342 - val_iou_score: 0.6336 - lr: 1.0000e-05\n",
            "Epoch 37/40\n",
            "687/687 [==============================] - ETA: 0s - loss: 0.2983 - iou_score: 0.6840\n",
            "Epoch 37: val_loss did not improve from 0.33341\n",
            "687/687 [==============================] - 54s 78ms/step - loss: 0.2983 - iou_score: 0.6840 - val_loss: 0.3342 - val_iou_score: 0.6339 - lr: 1.0000e-05\n",
            "Epoch 38/40\n",
            "687/687 [==============================] - ETA: 0s - loss: 0.2984 - iou_score: 0.6845\n",
            "Epoch 38: val_loss did not improve from 0.33341\n",
            "687/687 [==============================] - 55s 79ms/step - loss: 0.2984 - iou_score: 0.6845 - val_loss: 0.3341 - val_iou_score: 0.6333 - lr: 1.0000e-05\n",
            "Epoch 39/40\n",
            "687/687 [==============================] - ETA: 0s - loss: 0.2983 - iou_score: 0.6839\n",
            "Epoch 39: val_loss did not improve from 0.33341\n",
            "687/687 [==============================] - 54s 78ms/step - loss: 0.2983 - iou_score: 0.6839 - val_loss: 0.3341 - val_iou_score: 0.6336 - lr: 1.0000e-05\n",
            "Epoch 40/40\n",
            "687/687 [==============================] - ETA: 0s - loss: 0.2979 - iou_score: 0.6850\n",
            "Epoch 40: val_loss did not improve from 0.33341\n",
            "687/687 [==============================] - 54s 78ms/step - loss: 0.2979 - iou_score: 0.6850 - val_loss: 0.3342 - val_iou_score: 0.6336 - lr: 1.0000e-05\n"
          ]
        },
        {
          "output_type": "execute_result",
          "data": {
            "text/plain": [
              "<keras.callbacks.History at 0x7fd46d2df8d0>"
            ]
          },
          "metadata": {},
          "execution_count": 74
        }
      ]
    },
    {
      "cell_type": "code",
      "execution_count": null,
      "metadata": {
        "id": "fZwdD0xyVnDh"
      },
      "outputs": [],
      "source": [
        "model.save('/content/drive/MyDrive/case_study_2_new/base_model_weights/dl_model.h5')"
      ]
    },
    {
      "cell_type": "code",
      "execution_count": null,
      "metadata": {
        "id": "ppM47Y24jZEW"
      },
      "outputs": [],
      "source": [
        "model1.load_weights('/content/drive/MyDrive/case_study_2_new/base_model_weights/dl_model.h5')"
      ]
    },
    {
      "cell_type": "code",
      "execution_count": null,
      "metadata": {
        "colab": {
          "base_uri": "https://localhost:8080/",
          "height": 423
        },
        "id": "4EKPn4TsF382",
        "outputId": "9ced3311-1353-4023-9218-5ce2c1d8faf1"
      },
      "outputs": [
        {
          "data": {
            "text/html": [
              "\n",
              "  <div id=\"df-f8abe310-50db-4e60-8812-15d2aba545a3\">\n",
              "    <div class=\"colab-df-container\">\n",
              "      <div>\n",
              "<style scoped>\n",
              "    .dataframe tbody tr th:only-of-type {\n",
              "        vertical-align: middle;\n",
              "    }\n",
              "\n",
              "    .dataframe tbody tr th {\n",
              "        vertical-align: top;\n",
              "    }\n",
              "\n",
              "    .dataframe thead th {\n",
              "        text-align: right;\n",
              "    }\n",
              "</style>\n",
              "<table border=\"1\" class=\"dataframe\">\n",
              "  <thead>\n",
              "    <tr style=\"text-align: right;\">\n",
              "      <th></th>\n",
              "      <th>text</th>\n",
              "      <th>selected_text</th>\n",
              "      <th>start_index</th>\n",
              "      <th>end_index</th>\n",
              "    </tr>\n",
              "  </thead>\n",
              "  <tbody>\n",
              "    <tr>\n",
              "      <th>0</th>\n",
              "      <td>Press `Ctrl` on bottom right. It`s there.  KY</td>\n",
              "      <td>Press `Ctrl` on bottom right. It`s there.  KY</td>\n",
              "      <td>0</td>\n",
              "      <td>7</td>\n",
              "    </tr>\n",
              "    <tr>\n",
              "      <th>1</th>\n",
              "      <td>ah remember the days when you`d sleep in until...</td>\n",
              "      <td>loser</td>\n",
              "      <td>21</td>\n",
              "      <td>21</td>\n",
              "    </tr>\n",
              "    <tr>\n",
              "      <th>2</th>\n",
              "      <td>my momma is comin 2night !  2morrow tennis day...</td>\n",
              "      <td>yuppie</td>\n",
              "      <td>11</td>\n",
              "      <td>11</td>\n",
              "    </tr>\n",
              "    <tr>\n",
              "      <th>3</th>\n",
              "      <td>I do that all the time</td>\n",
              "      <td>I do that all the time</td>\n",
              "      <td>0</td>\n",
              "      <td>5</td>\n",
              "    </tr>\n",
              "    <tr>\n",
              "      <th>4</th>\n",
              "      <td>We don`t feel too comfortable using it. It`s...</td>\n",
              "      <td>. It`s not awful, but pretty icky</td>\n",
              "      <td>7</td>\n",
              "      <td>13</td>\n",
              "    </tr>\n",
              "    <tr>\n",
              "      <th>...</th>\n",
              "      <td>...</td>\n",
              "      <td>...</td>\n",
              "      <td>...</td>\n",
              "      <td>...</td>\n",
              "    </tr>\n",
              "    <tr>\n",
              "      <th>21979</th>\n",
              "      <td>Should be drank with sugar and milk, not coff...</td>\n",
              "      <td>Should be drank with sugar and milk, not coffe...</td>\n",
              "      <td>0</td>\n",
              "      <td>14</td>\n",
              "    </tr>\n",
              "    <tr>\n",
              "      <th>21980</th>\n",
              "      <td>Thinks she`s getting sick.....</td>\n",
              "      <td>Thinks she`s getting sick.....</td>\n",
              "      <td>0</td>\n",
              "      <td>3</td>\n",
              "    </tr>\n",
              "    <tr>\n",
              "      <th>21981</th>\n",
              "      <td>Get Up, You are NOT old!  What did you do?! =O</td>\n",
              "      <td>Get Up, You are NOT old!  What did you do?! =O</td>\n",
              "      <td>0</td>\n",
              "      <td>10</td>\n",
              "    </tr>\n",
              "    <tr>\n",
              "      <th>21982</th>\n",
              "      <td>Ha Ha thanks Tom! I`m such a loser! Hopefully...</td>\n",
              "      <td>Ha Ha thanks Tom! I`m such a loser! Hopefully ...</td>\n",
              "      <td>0</td>\n",
              "      <td>23</td>\n",
              "    </tr>\n",
              "    <tr>\n",
              "      <th>21983</th>\n",
              "      <td>they can`t be in their carriers anymore?</td>\n",
              "      <td>they can`t be in their carriers anymore?</td>\n",
              "      <td>0</td>\n",
              "      <td>6</td>\n",
              "    </tr>\n",
              "  </tbody>\n",
              "</table>\n",
              "<p>21984 rows × 4 columns</p>\n",
              "</div>\n",
              "      <button class=\"colab-df-convert\" onclick=\"convertToInteractive('df-f8abe310-50db-4e60-8812-15d2aba545a3')\"\n",
              "              title=\"Convert this dataframe to an interactive table.\"\n",
              "              style=\"display:none;\">\n",
              "        \n",
              "  <svg xmlns=\"http://www.w3.org/2000/svg\" height=\"24px\"viewBox=\"0 0 24 24\"\n",
              "       width=\"24px\">\n",
              "    <path d=\"M0 0h24v24H0V0z\" fill=\"none\"/>\n",
              "    <path d=\"M18.56 5.44l.94 2.06.94-2.06 2.06-.94-2.06-.94-.94-2.06-.94 2.06-2.06.94zm-11 1L8.5 8.5l.94-2.06 2.06-.94-2.06-.94L8.5 2.5l-.94 2.06-2.06.94zm10 10l.94 2.06.94-2.06 2.06-.94-2.06-.94-.94-2.06-.94 2.06-2.06.94z\"/><path d=\"M17.41 7.96l-1.37-1.37c-.4-.4-.92-.59-1.43-.59-.52 0-1.04.2-1.43.59L10.3 9.45l-7.72 7.72c-.78.78-.78 2.05 0 2.83L4 21.41c.39.39.9.59 1.41.59.51 0 1.02-.2 1.41-.59l7.78-7.78 2.81-2.81c.8-.78.8-2.07 0-2.86zM5.41 20L4 18.59l7.72-7.72 1.47 1.35L5.41 20z\"/>\n",
              "  </svg>\n",
              "      </button>\n",
              "      \n",
              "  <style>\n",
              "    .colab-df-container {\n",
              "      display:flex;\n",
              "      flex-wrap:wrap;\n",
              "      gap: 12px;\n",
              "    }\n",
              "\n",
              "    .colab-df-convert {\n",
              "      background-color: #E8F0FE;\n",
              "      border: none;\n",
              "      border-radius: 50%;\n",
              "      cursor: pointer;\n",
              "      display: none;\n",
              "      fill: #1967D2;\n",
              "      height: 32px;\n",
              "      padding: 0 0 0 0;\n",
              "      width: 32px;\n",
              "    }\n",
              "\n",
              "    .colab-df-convert:hover {\n",
              "      background-color: #E2EBFA;\n",
              "      box-shadow: 0px 1px 2px rgba(60, 64, 67, 0.3), 0px 1px 3px 1px rgba(60, 64, 67, 0.15);\n",
              "      fill: #174EA6;\n",
              "    }\n",
              "\n",
              "    [theme=dark] .colab-df-convert {\n",
              "      background-color: #3B4455;\n",
              "      fill: #D2E3FC;\n",
              "    }\n",
              "\n",
              "    [theme=dark] .colab-df-convert:hover {\n",
              "      background-color: #434B5C;\n",
              "      box-shadow: 0px 1px 3px 1px rgba(0, 0, 0, 0.15);\n",
              "      filter: drop-shadow(0px 1px 2px rgba(0, 0, 0, 0.3));\n",
              "      fill: #FFFFFF;\n",
              "    }\n",
              "  </style>\n",
              "\n",
              "      <script>\n",
              "        const buttonEl =\n",
              "          document.querySelector('#df-f8abe310-50db-4e60-8812-15d2aba545a3 button.colab-df-convert');\n",
              "        buttonEl.style.display =\n",
              "          google.colab.kernel.accessAllowed ? 'block' : 'none';\n",
              "\n",
              "        async function convertToInteractive(key) {\n",
              "          const element = document.querySelector('#df-f8abe310-50db-4e60-8812-15d2aba545a3');\n",
              "          const dataTable =\n",
              "            await google.colab.kernel.invokeFunction('convertToInteractive',\n",
              "                                                     [key], {});\n",
              "          if (!dataTable) return;\n",
              "\n",
              "          const docLinkHtml = 'Like what you see? Visit the ' +\n",
              "            '<a target=\"_blank\" href=https://colab.research.google.com/notebooks/data_table.ipynb>data table notebook</a>'\n",
              "            + ' to learn more about interactive tables.';\n",
              "          element.innerHTML = '';\n",
              "          dataTable['output_type'] = 'display_data';\n",
              "          await google.colab.output.renderOutput(dataTable, element);\n",
              "          const docLink = document.createElement('div');\n",
              "          docLink.innerHTML = docLinkHtml;\n",
              "          element.appendChild(docLink);\n",
              "        }\n",
              "      </script>\n",
              "    </div>\n",
              "  </div>\n",
              "  "
            ],
            "text/plain": [
              "                                                    text  \\\n",
              "0          Press `Ctrl` on bottom right. It`s there.  KY   \n",
              "1      ah remember the days when you`d sleep in until...   \n",
              "2      my momma is comin 2night !  2morrow tennis day...   \n",
              "3                                 I do that all the time   \n",
              "4        We don`t feel too comfortable using it. It`s...   \n",
              "...                                                  ...   \n",
              "21979   Should be drank with sugar and milk, not coff...   \n",
              "21980                     Thinks she`s getting sick.....   \n",
              "21981     Get Up, You are NOT old!  What did you do?! =O   \n",
              "21982   Ha Ha thanks Tom! I`m such a loser! Hopefully...   \n",
              "21983           they can`t be in their carriers anymore?   \n",
              "\n",
              "                                           selected_text  start_index  \\\n",
              "0          Press `Ctrl` on bottom right. It`s there.  KY            0   \n",
              "1                                                  loser           21   \n",
              "2                                                 yuppie           11   \n",
              "3                                 I do that all the time            0   \n",
              "4                      . It`s not awful, but pretty icky            7   \n",
              "...                                                  ...          ...   \n",
              "21979  Should be drank with sugar and milk, not coffe...            0   \n",
              "21980                     Thinks she`s getting sick.....            0   \n",
              "21981     Get Up, You are NOT old!  What did you do?! =O            0   \n",
              "21982  Ha Ha thanks Tom! I`m such a loser! Hopefully ...            0   \n",
              "21983           they can`t be in their carriers anymore?            0   \n",
              "\n",
              "       end_index  \n",
              "0              7  \n",
              "1             21  \n",
              "2             11  \n",
              "3              5  \n",
              "4             13  \n",
              "...          ...  \n",
              "21979         14  \n",
              "21980          3  \n",
              "21981         10  \n",
              "21982         23  \n",
              "21983          6  \n",
              "\n",
              "[21984 rows x 4 columns]"
            ]
          },
          "execution_count": 130,
          "metadata": {},
          "output_type": "execute_result"
        }
      ],
      "source": [
        "X_train[['text','selected_text','start_index','end_index']]"
      ]
    },
    {
      "cell_type": "markdown",
      "metadata": {
        "id": "gfJPtWkU4s94"
      },
      "source": [
        "###Saving necessary files###"
      ]
    },
    {
      "cell_type": "code",
      "execution_count": null,
      "metadata": {
        "colab": {
          "base_uri": "https://localhost:8080/"
        },
        "id": "LXLV72KP6pzU",
        "outputId": "fccf83f0-9383-49ed-908c-ac47a732dd70"
      },
      "outputs": [
        {
          "output_type": "execute_result",
          "data": {
            "text/plain": [
              "['/content/drive/MyDrive/case_study_2_new/base_model_tokenizer/tokenizer_sentiment.pkl']"
            ]
          },
          "metadata": {},
          "execution_count": 76
        }
      ],
      "source": [
        "import joblib\n",
        "joblib.dump(tokenizer_text,'/content/drive/MyDrive/case_study_2_new/base_model_tokenizer/tokenizer_text.pkl')\n",
        "joblib.dump(tokenizer_sentiment,'/content/drive/MyDrive/case_study_2_new/base_model_tokenizer/tokenizer_sentiment.pkl')"
      ]
    },
    {
      "cell_type": "code",
      "execution_count": null,
      "metadata": {
        "id": "6CAg3RKO-v3i"
      },
      "outputs": [],
      "source": [
        "import joblib\n",
        "tokenizer_text=joblib.load('/content/drive/MyDrive/case_study_2_new/base_model_tokenizer/tokenizer_text.pkl')\n",
        "tokenizer_sentiment=joblib.load('/content/drive/MyDrive/case_study_2_new/base_model_tokenizer/tokenizer_sentiment.pkl')"
      ]
    },
    {
      "cell_type": "markdown",
      "metadata": {
        "id": "pecmn0D407QP"
      },
      "source": [
        "###Jaccard score###"
      ]
    },
    {
      "cell_type": "code",
      "execution_count": null,
      "metadata": {
        "colab": {
          "base_uri": "https://localhost:8080/"
        },
        "id": "yBfbSoOcLjXu",
        "outputId": "ce94baf2-8e21-49a8-866f-78fa81d88336"
      },
      "outputs": [
        {
          "output_type": "stream",
          "name": "stdout",
          "text": [
            "687/687 [==============================] - 16s 23ms/step\n",
            "172/172 [==============================] - 4s 21ms/step\n"
          ]
        }
      ],
      "source": [
        "train_prediction=model.predict((np.array(train_text),np.array(train_sentiment)))\n",
        "test_prediction=model.predict((np.array(test_text),np.array(test_sentiment)))"
      ]
    },
    {
      "cell_type": "code",
      "execution_count": null,
      "metadata": {
        "id": "q6FFmEcAVkig"
      },
      "outputs": [],
      "source": [
        "tr_p=np.squeeze(train_prediction,1)\n",
        "te_p=np.squeeze(test_prediction,1)"
      ]
    },
    {
      "cell_type": "code",
      "execution_count": null,
      "metadata": {
        "colab": {
          "base_uri": "https://localhost:8080/"
        },
        "id": "Sufj1OiyIbRE",
        "outputId": "7e110bb5-ea2b-438b-806b-faf105835d52"
      },
      "outputs": [
        {
          "output_type": "execute_result",
          "data": {
            "text/plain": [
              "(21984, 33)"
            ]
          },
          "metadata": {},
          "execution_count": 79
        }
      ],
      "source": [
        "tr_p.shape"
      ]
    },
    {
      "cell_type": "code",
      "execution_count": null,
      "metadata": {
        "id": "NAWp1vBFHUJp"
      },
      "outputs": [],
      "source": [
        "def prob_to_binary(x,threshold=0.5):\n",
        "  lst=[]\n",
        "  for i in x:\n",
        "    if i>=threshold:\n",
        "      lst.append(1)\n",
        "    else:\n",
        "      lst.append(0)\n",
        "  return lst"
      ]
    },
    {
      "cell_type": "code",
      "execution_count": null,
      "metadata": {
        "id": "jVz9zW64Hw2y"
      },
      "outputs": [],
      "source": [
        "tr_pred=[]\n",
        "for j in tr_p:\n",
        "  tr_pred.append(prob_to_binary(j))\n",
        "tr_pred=np.array(tr_pred)"
      ]
    },
    {
      "cell_type": "code",
      "execution_count": null,
      "metadata": {
        "id": "fo75__QSJH_p"
      },
      "outputs": [],
      "source": [
        "te_pred=[]\n",
        "for j in te_p:\n",
        "  te_pred.append(prob_to_binary(j))\n",
        "te_pred=np.array(te_pred)"
      ]
    },
    {
      "cell_type": "code",
      "execution_count": null,
      "metadata": {
        "id": "WsZYBreILOOx"
      },
      "outputs": [],
      "source": [
        "def pred_text(x):\n",
        "    pred_array=x[0]\n",
        "    text=x[1]\n",
        "    text_list=x[1].split()\n",
        "    max_len_list=len(text_list)\n",
        "    indices=np.where(pred_array==1)[0]\n",
        "    indices=[ind for ind in indices if ind<max_len_list]\n",
        "    pred_text_list=np.array(text_list)[indices]\n",
        "    pred_text=' '.join(pred_text_list)\n",
        "    return pred_text"
      ]
    },
    {
      "cell_type": "code",
      "execution_count": null,
      "metadata": {
        "id": "YUOeBg92L83f"
      },
      "outputs": [],
      "source": [
        "train_pred_text=[]\n",
        "for i in range(len(tr_pred)):\n",
        "  txt=X_train['text'].iloc[i]\n",
        "  pred_arr=tr_pred[i]\n",
        "  pred_txt=pred_text((pred_arr,txt))\n",
        "  train_pred_text.append(pred_txt)"
      ]
    },
    {
      "cell_type": "code",
      "execution_count": null,
      "metadata": {
        "id": "eSfYg2xtOJcQ"
      },
      "outputs": [],
      "source": [
        "test_pred_text=[]\n",
        "for i in range(len(te_pred)):\n",
        "  txt=X_test['text'].iloc[i]\n",
        "  pred_arr=te_pred[i]\n",
        "  pred_txt=pred_text((pred_arr,txt))\n",
        "  test_pred_text.append(pred_txt)"
      ]
    },
    {
      "cell_type": "code",
      "execution_count": null,
      "metadata": {
        "id": "PjlpxjRsasLJ"
      },
      "outputs": [],
      "source": [
        "X_train['pred_text']=train_pred_text\n",
        "X_test['pred_text']=test_pred_text"
      ]
    },
    {
      "cell_type": "code",
      "execution_count": null,
      "metadata": {
        "id": "uhuomW71l201"
      },
      "outputs": [],
      "source": [
        "def jaccard(x):\n",
        "    str1=x[0]\n",
        "    str2=x[1] \n",
        "    a = set(str1.lower().split()) \n",
        "    b = set(str2.lower().split())\n",
        "    if (len(a)==0) & (len(b)==0):\n",
        "        return 0.5\n",
        "    c = a.intersection(b)\n",
        "    \n",
        "    return float(len(c)) / (len(a) + len(b) - len(c))"
      ]
    },
    {
      "cell_type": "code",
      "execution_count": null,
      "metadata": {
        "colab": {
          "base_uri": "https://localhost:8080/",
          "height": 606
        },
        "id": "8glj7Oq2s0sW",
        "outputId": "a29366a8-e10f-4dd7-fc07-1f529b6cb1ba"
      },
      "outputs": [
        {
          "output_type": "execute_result",
          "data": {
            "text/plain": [
              "                                                    text  \\\n",
              "0          Press `Ctrl` on bottom right. It`s there.  KY   \n",
              "1      ah remember the days when you`d sleep in until...   \n",
              "2      my momma is comin 2night !  2morrow tennis day...   \n",
              "3                                 I do that all the time   \n",
              "4        We don`t feel too comfortable using it. It`s...   \n",
              "...                                                  ...   \n",
              "21979   Should be drank with sugar and milk, not coff...   \n",
              "21980                     Thinks she`s getting sick.....   \n",
              "21981     Get Up, You are NOT old!  What did you do?! =O   \n",
              "21982   Ha Ha thanks Tom! I`m such a loser! Hopefully...   \n",
              "21983           they can`t be in their carriers anymore?   \n",
              "\n",
              "                                           selected_text  \\\n",
              "0          Press `Ctrl` on bottom right. It`s there.  KY   \n",
              "1                                                  loser   \n",
              "2                                                 yuppie   \n",
              "3                                 I do that all the time   \n",
              "4                      . It`s not awful, but pretty icky   \n",
              "...                                                  ...   \n",
              "21979  Should be drank with sugar and milk, not coffe...   \n",
              "21980                     Thinks she`s getting sick.....   \n",
              "21981     Get Up, You are NOT old!  What did you do?! =O   \n",
              "21982  Ha Ha thanks Tom! I`m such a loser! Hopefully ...   \n",
              "21983           they can`t be in their carriers anymore?   \n",
              "\n",
              "                                      preprocessed_texts sentiment  \\\n",
              "0           press `ctrl` on bottom right. it`s there. ky   neutral   \n",
              "1      ah remember the days when you`d sleep in until...  negative   \n",
              "2      my momma is comin 2night ! 2morrow tennis day ...  positive   \n",
              "3                                 i do that all the time   neutral   \n",
              "4      we don`t feel too comfortable using it. it`s n...  negative   \n",
              "...                                                  ...       ...   \n",
              "21979  should be drank with sugar and milk, not coffe...   neutral   \n",
              "21980                     thinks she`s getting sick.....  negative   \n",
              "21981      get up, you are not old! what did you do?! =o   neutral   \n",
              "21982  ha ha thanks tom! i`m such a loser! hopefully ...   neutral   \n",
              "21983           they can`t be in their carriers anymore?   neutral   \n",
              "\n",
              "       start_index  end_index  \\\n",
              "0                0          7   \n",
              "1               21         21   \n",
              "2               11         11   \n",
              "3                0          5   \n",
              "4                7         13   \n",
              "...            ...        ...   \n",
              "21979            0         14   \n",
              "21980            0          3   \n",
              "21981            0         10   \n",
              "21982            0         23   \n",
              "21983            0          6   \n",
              "\n",
              "                                               pred_text  \n",
              "0           Press `Ctrl` on bottom right. It`s there. KY  \n",
              "1                    ah remember god i feel like a loser  \n",
              "2                                my momma p?nar yuppie !  \n",
              "3                                 I do that all the time  \n",
              "4         We don`t not awful, but pretty icky. Scurrying  \n",
              "...                                                  ...  \n",
              "21979  Should be drank with sugar and milk, not coffe...  \n",
              "21980                     Thinks she`s getting sick.....  \n",
              "21981      Get Up, You are NOT old! What did you do?! =O  \n",
              "21982  Ha Ha thanks Tom! I`m such a loser! Hopefully ...  \n",
              "21983           they can`t be in their carriers anymore?  \n",
              "\n",
              "[21984 rows x 7 columns]"
            ],
            "text/html": [
              "\n",
              "  <div id=\"df-97255351-883a-47a0-bfbd-83c7e331675b\">\n",
              "    <div class=\"colab-df-container\">\n",
              "      <div>\n",
              "<style scoped>\n",
              "    .dataframe tbody tr th:only-of-type {\n",
              "        vertical-align: middle;\n",
              "    }\n",
              "\n",
              "    .dataframe tbody tr th {\n",
              "        vertical-align: top;\n",
              "    }\n",
              "\n",
              "    .dataframe thead th {\n",
              "        text-align: right;\n",
              "    }\n",
              "</style>\n",
              "<table border=\"1\" class=\"dataframe\">\n",
              "  <thead>\n",
              "    <tr style=\"text-align: right;\">\n",
              "      <th></th>\n",
              "      <th>text</th>\n",
              "      <th>selected_text</th>\n",
              "      <th>preprocessed_texts</th>\n",
              "      <th>sentiment</th>\n",
              "      <th>start_index</th>\n",
              "      <th>end_index</th>\n",
              "      <th>pred_text</th>\n",
              "    </tr>\n",
              "  </thead>\n",
              "  <tbody>\n",
              "    <tr>\n",
              "      <th>0</th>\n",
              "      <td>Press `Ctrl` on bottom right. It`s there.  KY</td>\n",
              "      <td>Press `Ctrl` on bottom right. It`s there.  KY</td>\n",
              "      <td>press `ctrl` on bottom right. it`s there. ky</td>\n",
              "      <td>neutral</td>\n",
              "      <td>0</td>\n",
              "      <td>7</td>\n",
              "      <td>Press `Ctrl` on bottom right. It`s there. KY</td>\n",
              "    </tr>\n",
              "    <tr>\n",
              "      <th>1</th>\n",
              "      <td>ah remember the days when you`d sleep in until...</td>\n",
              "      <td>loser</td>\n",
              "      <td>ah remember the days when you`d sleep in until...</td>\n",
              "      <td>negative</td>\n",
              "      <td>21</td>\n",
              "      <td>21</td>\n",
              "      <td>ah remember god i feel like a loser</td>\n",
              "    </tr>\n",
              "    <tr>\n",
              "      <th>2</th>\n",
              "      <td>my momma is comin 2night !  2morrow tennis day...</td>\n",
              "      <td>yuppie</td>\n",
              "      <td>my momma is comin 2night ! 2morrow tennis day ...</td>\n",
              "      <td>positive</td>\n",
              "      <td>11</td>\n",
              "      <td>11</td>\n",
              "      <td>my momma p?nar yuppie !</td>\n",
              "    </tr>\n",
              "    <tr>\n",
              "      <th>3</th>\n",
              "      <td>I do that all the time</td>\n",
              "      <td>I do that all the time</td>\n",
              "      <td>i do that all the time</td>\n",
              "      <td>neutral</td>\n",
              "      <td>0</td>\n",
              "      <td>5</td>\n",
              "      <td>I do that all the time</td>\n",
              "    </tr>\n",
              "    <tr>\n",
              "      <th>4</th>\n",
              "      <td>We don`t feel too comfortable using it. It`s...</td>\n",
              "      <td>. It`s not awful, but pretty icky</td>\n",
              "      <td>we don`t feel too comfortable using it. it`s n...</td>\n",
              "      <td>negative</td>\n",
              "      <td>7</td>\n",
              "      <td>13</td>\n",
              "      <td>We don`t not awful, but pretty icky. Scurrying</td>\n",
              "    </tr>\n",
              "    <tr>\n",
              "      <th>...</th>\n",
              "      <td>...</td>\n",
              "      <td>...</td>\n",
              "      <td>...</td>\n",
              "      <td>...</td>\n",
              "      <td>...</td>\n",
              "      <td>...</td>\n",
              "      <td>...</td>\n",
              "    </tr>\n",
              "    <tr>\n",
              "      <th>21979</th>\n",
              "      <td>Should be drank with sugar and milk, not coff...</td>\n",
              "      <td>Should be drank with sugar and milk, not coffe...</td>\n",
              "      <td>should be drank with sugar and milk, not coffe...</td>\n",
              "      <td>neutral</td>\n",
              "      <td>0</td>\n",
              "      <td>14</td>\n",
              "      <td>Should be drank with sugar and milk, not coffe...</td>\n",
              "    </tr>\n",
              "    <tr>\n",
              "      <th>21980</th>\n",
              "      <td>Thinks she`s getting sick.....</td>\n",
              "      <td>Thinks she`s getting sick.....</td>\n",
              "      <td>thinks she`s getting sick.....</td>\n",
              "      <td>negative</td>\n",
              "      <td>0</td>\n",
              "      <td>3</td>\n",
              "      <td>Thinks she`s getting sick.....</td>\n",
              "    </tr>\n",
              "    <tr>\n",
              "      <th>21981</th>\n",
              "      <td>Get Up, You are NOT old!  What did you do?! =O</td>\n",
              "      <td>Get Up, You are NOT old!  What did you do?! =O</td>\n",
              "      <td>get up, you are not old! what did you do?! =o</td>\n",
              "      <td>neutral</td>\n",
              "      <td>0</td>\n",
              "      <td>10</td>\n",
              "      <td>Get Up, You are NOT old! What did you do?! =O</td>\n",
              "    </tr>\n",
              "    <tr>\n",
              "      <th>21982</th>\n",
              "      <td>Ha Ha thanks Tom! I`m such a loser! Hopefully...</td>\n",
              "      <td>Ha Ha thanks Tom! I`m such a loser! Hopefully ...</td>\n",
              "      <td>ha ha thanks tom! i`m such a loser! hopefully ...</td>\n",
              "      <td>neutral</td>\n",
              "      <td>0</td>\n",
              "      <td>23</td>\n",
              "      <td>Ha Ha thanks Tom! I`m such a loser! Hopefully ...</td>\n",
              "    </tr>\n",
              "    <tr>\n",
              "      <th>21983</th>\n",
              "      <td>they can`t be in their carriers anymore?</td>\n",
              "      <td>they can`t be in their carriers anymore?</td>\n",
              "      <td>they can`t be in their carriers anymore?</td>\n",
              "      <td>neutral</td>\n",
              "      <td>0</td>\n",
              "      <td>6</td>\n",
              "      <td>they can`t be in their carriers anymore?</td>\n",
              "    </tr>\n",
              "  </tbody>\n",
              "</table>\n",
              "<p>21984 rows × 7 columns</p>\n",
              "</div>\n",
              "      <button class=\"colab-df-convert\" onclick=\"convertToInteractive('df-97255351-883a-47a0-bfbd-83c7e331675b')\"\n",
              "              title=\"Convert this dataframe to an interactive table.\"\n",
              "              style=\"display:none;\">\n",
              "        \n",
              "  <svg xmlns=\"http://www.w3.org/2000/svg\" height=\"24px\"viewBox=\"0 0 24 24\"\n",
              "       width=\"24px\">\n",
              "    <path d=\"M0 0h24v24H0V0z\" fill=\"none\"/>\n",
              "    <path d=\"M18.56 5.44l.94 2.06.94-2.06 2.06-.94-2.06-.94-.94-2.06-.94 2.06-2.06.94zm-11 1L8.5 8.5l.94-2.06 2.06-.94-2.06-.94L8.5 2.5l-.94 2.06-2.06.94zm10 10l.94 2.06.94-2.06 2.06-.94-2.06-.94-.94-2.06-.94 2.06-2.06.94z\"/><path d=\"M17.41 7.96l-1.37-1.37c-.4-.4-.92-.59-1.43-.59-.52 0-1.04.2-1.43.59L10.3 9.45l-7.72 7.72c-.78.78-.78 2.05 0 2.83L4 21.41c.39.39.9.59 1.41.59.51 0 1.02-.2 1.41-.59l7.78-7.78 2.81-2.81c.8-.78.8-2.07 0-2.86zM5.41 20L4 18.59l7.72-7.72 1.47 1.35L5.41 20z\"/>\n",
              "  </svg>\n",
              "      </button>\n",
              "      \n",
              "  <style>\n",
              "    .colab-df-container {\n",
              "      display:flex;\n",
              "      flex-wrap:wrap;\n",
              "      gap: 12px;\n",
              "    }\n",
              "\n",
              "    .colab-df-convert {\n",
              "      background-color: #E8F0FE;\n",
              "      border: none;\n",
              "      border-radius: 50%;\n",
              "      cursor: pointer;\n",
              "      display: none;\n",
              "      fill: #1967D2;\n",
              "      height: 32px;\n",
              "      padding: 0 0 0 0;\n",
              "      width: 32px;\n",
              "    }\n",
              "\n",
              "    .colab-df-convert:hover {\n",
              "      background-color: #E2EBFA;\n",
              "      box-shadow: 0px 1px 2px rgba(60, 64, 67, 0.3), 0px 1px 3px 1px rgba(60, 64, 67, 0.15);\n",
              "      fill: #174EA6;\n",
              "    }\n",
              "\n",
              "    [theme=dark] .colab-df-convert {\n",
              "      background-color: #3B4455;\n",
              "      fill: #D2E3FC;\n",
              "    }\n",
              "\n",
              "    [theme=dark] .colab-df-convert:hover {\n",
              "      background-color: #434B5C;\n",
              "      box-shadow: 0px 1px 3px 1px rgba(0, 0, 0, 0.15);\n",
              "      filter: drop-shadow(0px 1px 2px rgba(0, 0, 0, 0.3));\n",
              "      fill: #FFFFFF;\n",
              "    }\n",
              "  </style>\n",
              "\n",
              "      <script>\n",
              "        const buttonEl =\n",
              "          document.querySelector('#df-97255351-883a-47a0-bfbd-83c7e331675b button.colab-df-convert');\n",
              "        buttonEl.style.display =\n",
              "          google.colab.kernel.accessAllowed ? 'block' : 'none';\n",
              "\n",
              "        async function convertToInteractive(key) {\n",
              "          const element = document.querySelector('#df-97255351-883a-47a0-bfbd-83c7e331675b');\n",
              "          const dataTable =\n",
              "            await google.colab.kernel.invokeFunction('convertToInteractive',\n",
              "                                                     [key], {});\n",
              "          if (!dataTable) return;\n",
              "\n",
              "          const docLinkHtml = 'Like what you see? Visit the ' +\n",
              "            '<a target=\"_blank\" href=https://colab.research.google.com/notebooks/data_table.ipynb>data table notebook</a>'\n",
              "            + ' to learn more about interactive tables.';\n",
              "          element.innerHTML = '';\n",
              "          dataTable['output_type'] = 'display_data';\n",
              "          await google.colab.output.renderOutput(dataTable, element);\n",
              "          const docLink = document.createElement('div');\n",
              "          docLink.innerHTML = docLinkHtml;\n",
              "          element.appendChild(docLink);\n",
              "        }\n",
              "      </script>\n",
              "    </div>\n",
              "  </div>\n",
              "  "
            ]
          },
          "metadata": {},
          "execution_count": 88
        }
      ],
      "source": [
        "X_train"
      ]
    },
    {
      "cell_type": "code",
      "execution_count": null,
      "metadata": {
        "id": "5GP6ITgxZ1bb"
      },
      "outputs": [],
      "source": [
        "X_train['jaccard_score']=X_train[['selected_text','pred_text']].apply(lambda x: jaccard(x),axis=1)"
      ]
    },
    {
      "cell_type": "code",
      "execution_count": null,
      "metadata": {
        "id": "LFc7_0IuuZ8h"
      },
      "outputs": [],
      "source": [
        "X_test['jaccard_score']=X_test[['selected_text','pred_text']].apply(lambda x: jaccard(x),axis=1)"
      ]
    },
    {
      "cell_type": "code",
      "execution_count": null,
      "metadata": {
        "colab": {
          "base_uri": "https://localhost:8080/"
        },
        "id": "-n8I7lKrA-rA",
        "outputId": "6db1a89e-f26a-4a7a-d4eb-b0f3c55673ca"
      },
      "outputs": [
        {
          "output_type": "stream",
          "name": "stdout",
          "text": [
            "Jaccard score of positive and negative sentences for train data: 0.4170387329309261\n",
            "Jaccard score of positive and negative sentences for test data: 0.35966433494944866\n"
          ]
        }
      ],
      "source": [
        "jacc_pos_neg_train=X_train[X_train['sentiment']!='neutral']['jaccard_score']\n",
        "jacc_pos_neg_test=X_test[X_test['sentiment']!='neutral']['jaccard_score']\n",
        "print('Jaccard score of positive and negative sentences for train data:',np.array(jacc_pos_neg_train).mean())\n",
        "print('Jaccard score of positive and negative sentences for test data:',np.array(jacc_pos_neg_test).mean())\n"
      ]
    },
    {
      "cell_type": "code",
      "source": [
        "jacc_neut_train=X_train[X_train['sentiment']=='neutral']['jaccard_score']\n",
        "jacc_neut_test=X_test[X_test['sentiment']=='neutral']['jaccard_score']\n",
        "print('Jaccard score of neutral sentences for train data:',np.array(jacc_neut_train).mean())\n",
        "print('Jaccard score of neutral sentences for test data:',np.array(jacc_neut_test).mean())"
      ],
      "metadata": {
        "id": "u69TdhW-aKuw",
        "colab": {
          "base_uri": "https://localhost:8080/"
        },
        "outputId": "65cdf225-90a0-4e6e-b013-93607b982a04"
      },
      "execution_count": null,
      "outputs": [
        {
          "output_type": "stream",
          "name": "stdout",
          "text": [
            "Jaccard score of neutral sentences for train data: 0.9594261469409443\n",
            "Jaccard score of neutral sentences for test data: 0.9623107955588975\n"
          ]
        }
      ]
    },
    {
      "cell_type": "code",
      "source": [
        "print(\"Overall Train Jaccard Score\",np.array(X_train['jaccard_score']).mean())\n",
        "print(\"Overall Test Jaccard Score\",np.array(X_test['jaccard_score']).mean())"
      ],
      "metadata": {
        "colab": {
          "base_uri": "https://localhost:8080/"
        },
        "id": "nccdiokuHHBQ",
        "outputId": "dcc1bc8f-3b99-46e5-abe5-ef9e08087e3f"
      },
      "execution_count": null,
      "outputs": [
        {
          "output_type": "stream",
          "name": "stdout",
          "text": [
            "Overall Train Jaccard Score 0.6364707589591785\n",
            "Overall Test Jaccard Score 0.6034203542243404\n"
          ]
        }
      ]
    },
    {
      "cell_type": "code",
      "source": [
        "%load_ext tensorboard\n",
        "%tensorboard --logdir /content/drive/MyDrive/case_study_2_new/base_model_TBlog1"
      ],
      "metadata": {
        "id": "szq2QrdCJtCa"
      },
      "execution_count": null,
      "outputs": []
    },
    {
      "cell_type": "markdown",
      "metadata": {
        "id": "vhFb2H8VjAyg"
      },
      "source": [
        "Here the overall Jaccard score is 60.34 for test dataset."
      ]
    }
  ],
  "metadata": {
    "accelerator": "GPU",
    "colab": {
      "collapsed_sections": [
        "TGUvUYFMXPAN"
      ],
      "provenance": []
    },
    "gpuClass": "standard",
    "kernelspec": {
      "display_name": "Python 3",
      "name": "python3"
    },
    "language_info": {
      "name": "python"
    }
  },
  "nbformat": 4,
  "nbformat_minor": 0
}